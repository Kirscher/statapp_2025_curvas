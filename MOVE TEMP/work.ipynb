{
 "cells": [
  {
   "cell_type": "code",
   "execution_count": 1,
   "id": "407830d2-8f43-4138-995a-3950b684aec5",
   "metadata": {},
   "outputs": [],
   "source": [
    "import s3fs\n",
    "import os\n",
    "\n",
    "s3 = s3fs.S3FileSystem(\n",
    "    client_kwargs={'endpoint_url': 'https://minio.lab.sspcloud.fr'},\n",
    "    key=os.environ[\"AWS_ACCESS_KEY_ID\"],\n",
    "    secret=os.environ[\"AWS_SECRET_ACCESS_KEY\"],\n",
    "    token=os.environ[\"AWS_SESSION_TOKEN\"]\n",
    ")"
   ]
  },
  {
   "cell_type": "code",
   "execution_count": 2,
   "id": "71702ec1-ca99-405a-9420-93815e4b8b99",
   "metadata": {},
   "outputs": [
    {
     "data": {
      "text/plain": [
       "<s3fs.core.S3FileSystem at 0x7fe278158d40>"
      ]
     },
     "execution_count": 2,
     "metadata": {},
     "output_type": "execute_result"
    }
   ],
   "source": [
    "s3"
   ]
  },
  {
   "cell_type": "code",
   "execution_count": 3,
   "id": "7cc8aabe-bce2-4354-8708-050e5770a0af",
   "metadata": {},
   "outputs": [
    {
     "data": {
      "text/plain": [
       "['UKCHLL001',\n",
       " 'UKCHLL002',\n",
       " 'UKCHLL009',\n",
       " 'UKCHLL011',\n",
       " 'UKCHLL015',\n",
       " 'UKCHLL017',\n",
       " 'UKCHLL021',\n",
       " 'UKCHLL023',\n",
       " 'UKCHLL031',\n",
       " 'UKCHLL034',\n",
       " 'UKCHLL035',\n",
       " 'UKCHLL037',\n",
       " 'UKCHLL038',\n",
       " 'UKCHLL039',\n",
       " 'UKCHLL041',\n",
       " 'UKCHLL042',\n",
       " 'UKCHLL043',\n",
       " 'UKCHLL045',\n",
       " 'UKCHLL046',\n",
       " 'UKCHLL048']"
      ]
     },
     "execution_count": 3,
     "metadata": {},
     "output_type": "execute_result"
    }
   ],
   "source": [
    "root = \"leoacpr/diffusion/\"\n",
    "prefix = \"UKCHLL\"\n",
    "\n",
    "ids = []\n",
    "\n",
    "for path in s3.ls(root):\n",
    "    folder = path.split(root)[1]\n",
    "    if prefix in folder: ids.append(folder)\n",
    "\n",
    "ids"
   ]
  },
  {
   "cell_type": "code",
   "execution_count": null,
   "id": "0017be6c-cafd-4db6-9227-9927f57824a3",
   "metadata": {},
   "outputs": [],
   "source": []
  }
 ],
 "metadata": {
  "kernelspec": {
   "display_name": "Python 3 (ipykernel)",
   "language": "python",
   "name": "python3"
  },
  "language_info": {
   "codemirror_mode": {
    "name": "ipython",
    "version": 3
   },
   "file_extension": ".py",
   "mimetype": "text/x-python",
   "name": "python",
   "nbconvert_exporter": "python",
   "pygments_lexer": "ipython3",
   "version": "3.12.9"
  }
 },
 "nbformat": 4,
 "nbformat_minor": 5
}

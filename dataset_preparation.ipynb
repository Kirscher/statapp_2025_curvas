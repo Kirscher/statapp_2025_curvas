{
 "cells": [
  {
   "cell_type": "code",
   "execution_count": 1,
   "id": "320234bb-062c-4810-b795-07bd8f4b71b0",
   "metadata": {},
   "outputs": [],
   "source": [
    "import s3fs\n",
    "import os\n",
    "from nnunetv2.dataset_conversion.generate_dataset_json import generate_dataset_json\n",
    "from tqdm import tqdm\n",
    "\n",
    "s3 = s3fs.S3FileSystem(\n",
    "    client_kwargs={'endpoint_url': 'https://minio.lab.sspcloud.fr'},\n",
    "    key=os.environ[\"AWS_ACCESS_KEY_ID\"],\n",
    "    secret=os.environ[\"AWS_SECRET_ACCESS_KEY\"],\n",
    "    token=os.environ[\"AWS_SESSION_TOKEN\"]\n",
    ")"
   ]
  },
  {
   "cell_type": "code",
   "execution_count": 2,
   "id": "8bc10412-bbab-426e-921f-0cd444e3e37a",
   "metadata": {},
   "outputs": [
    {
     "data": {
      "text/plain": [
       "['UKCHLL001',\n",
       " 'UKCHLL002',\n",
       " 'UKCHLL009',\n",
       " 'UKCHLL011',\n",
       " 'UKCHLL015',\n",
       " 'UKCHLL017',\n",
       " 'UKCHLL021',\n",
       " 'UKCHLL023',\n",
       " 'UKCHLL031',\n",
       " 'UKCHLL034',\n",
       " 'UKCHLL035',\n",
       " 'UKCHLL037',\n",
       " 'UKCHLL038',\n",
       " 'UKCHLL039',\n",
       " 'UKCHLL041',\n",
       " 'UKCHLL042',\n",
       " 'UKCHLL043',\n",
       " 'UKCHLL045',\n",
       " 'UKCHLL046',\n",
       " 'UKCHLL048']"
      ]
     },
     "execution_count": 2,
     "metadata": {},
     "output_type": "execute_result"
    }
   ],
   "source": [
    "root = \"leoacpr/diffusion/\"\n",
    "prefix = \"UKCHLL\"\n",
    "\n",
    "ids = []\n",
    "\n",
    "for path in s3.ls(root):\n",
    "    folder = path.split(root)[1]\n",
    "    if prefix in folder: ids.append(folder)\n",
    "\n",
    "ids"
   ]
  },
  {
   "cell_type": "code",
   "execution_count": 8,
   "id": "9ac16f6f-9da7-4c20-855e-1f881420a1a3",
   "metadata": {},
   "outputs": [],
   "source": [
    "if not os.path.exists(\"nnUNet_raw\"): os.mkdir(\"nnUNet_raw\")\n",
    "if not os.path.exists(\"nnUNet_preprocessed\"): os.mkdir(\"nnUNet_preprocessed\")\n",
    "if not os.path.exists(\"nnUNet_results\"): os.mkdir(\"nnUNet_results\")\n",
    "    \n",
    "if not os.path.exists(\"nnUNet_raw/Dataset475_CURVAS\"): os.mkdir(\"nnUNet_raw/Dataset475_CURVAS\")\n",
    "if not os.path.exists(\"nnUNet_raw/Dataset475_CURVAS/labelsTr\"): os.mkdir(\"nnUNet_raw/Dataset475_CURVAS/labelsTr\")\n",
    "if not os.path.exists(\"nnUNet_raw/Dataset475_CURVAS/imagesTr\"): os.mkdir(\"nnUNet_raw/Dataset475_CURVAS/imagesTr\")"
   ]
  },
  {
   "cell_type": "code",
   "execution_count": 9,
   "id": "52d18bf7-c697-42ef-9ad0-8dd2e887ab91",
   "metadata": {},
   "outputs": [],
   "source": [
    "generate_dataset_json(\n",
    "    output_folder = \"nnUNet_raw/Dataset475_CURVAS\",\n",
    "    channel_names = {0: \"CT\"},\n",
    "    labels = {\n",
    "        \"background\": 0,\n",
    "        \"pancreas\": 1,\n",
    "        \"kidney\": 2,\n",
    "        \"liver\": 3\n",
    "    },\n",
    "    num_training_cases = len(ids),\n",
    "    file_ending = \".nii.gz\",\n",
    "    dataset_name = \"CURVAS\"\n",
    ")"
   ]
  },
  {
   "cell_type": "code",
   "execution_count": 22,
   "id": "565aa023-626d-440a-b00f-5e521f1d4faa",
   "metadata": {},
   "outputs": [
    {
     "name": "stderr",
     "output_type": "stream",
     "text": [
      "Téléchargement des images: 100%|██████████| 20/20 [00:52<00:00,  2.64s/it]\n"
     ]
    }
   ],
   "source": [
    "for i in tqdm(ids, desc=\"Téléchargement des images\"):\n",
    "    s3.get(root + i + \"/image.nii.gz\", \"nnUNet_raw/Dataset475_CURVAS/imagesTr/CURVAS_\" + i + \"_0000.nii.gz\")"
   ]
  },
  {
   "cell_type": "code",
   "execution_count": 23,
   "id": "6c2524f0-16f0-4b38-8557-515d109ffa0e",
   "metadata": {},
   "outputs": [
    {
     "name": "stderr",
     "output_type": "stream",
     "text": [
      "Téléchargement de la première anotation: 100%|██████████| 20/20 [00:02<00:00,  9.93it/s]\n"
     ]
    }
   ],
   "source": [
    "for i in tqdm(ids, desc=\"Téléchargement de la première anotation\"):\n",
    "    s3.get(root + i + \"/annotation_1.nii.gz\", \"nnUNet_raw/Dataset475_CURVAS/labelsTr/CURVAS_\" + i + \".nii.gz\")"
   ]
  },
  {
   "cell_type": "code",
   "execution_count": 5,
   "id": "354158d2-19e5-42ad-916e-2a9540d09f1f",
   "metadata": {},
   "outputs": [],
   "source": [
    "os.environ[\"test\"] = os.path.abspath(\"nnUNet_raw\")"
   ]
  },
  {
   "cell_type": "code",
   "execution_count": 6,
   "id": "2753bfa2-0253-4ab1-9540-c1fc36800f14",
   "metadata": {},
   "outputs": [
    {
     "data": {
      "text/plain": [
       "'/home/onyxia/work/statapp_2025_curvas/nnUNet_raw'"
      ]
     },
     "execution_count": 6,
     "metadata": {},
     "output_type": "execute_result"
    }
   ],
   "source": [
    "os.environ[\"test\"]"
   ]
  },
  {
   "cell_type": "code",
   "execution_count": null,
   "id": "1fb905e7-b64f-4393-9c3a-a09dcd69c0ac",
   "metadata": {},
   "outputs": [],
   "source": []
  }
 ],
 "metadata": {
  "kernelspec": {
   "display_name": "Python 3 (ipykernel)",
   "language": "python",
   "name": "python3"
  },
  "language_info": {
   "codemirror_mode": {
    "name": "ipython",
    "version": 3
   },
   "file_extension": ".py",
   "mimetype": "text/x-python",
   "name": "python",
   "nbconvert_exporter": "python",
   "pygments_lexer": "ipython3",
   "version": "3.12.7"
  }
 },
 "nbformat": 4,
 "nbformat_minor": 5
}

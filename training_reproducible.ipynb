{
 "cells": [
  {
   "cell_type": "markdown",
   "id": "0b00aecb",
   "metadata": {},
   "source": [
    "# Reproducible Training of nnU-Net"
   ]
  },
  {
   "cell_type": "markdown",
   "id": "bcdfa961",
   "metadata": {},
   "source": [
    "Here is the code to reproduce the training of nnU-Net according to the dataset you want and initialization (not yet available).\n",
    "This Jupyter Notebook is available on the branch test_leo (``git checkout test_leo``).\n",
    "\n",
    "Very Important: Before doing anything on this notebook, you should open a service Onyxia entitled \"Vscode-pytorch-gpu\"."
   ]
  },
  {
   "cell_type": "markdown",
   "id": "6fb9b536",
   "metadata": {},
   "source": [
    "**What is missing?**\n",
    "- Early stopping (heuristic: 80 epochs which lasts ~5h)\n",
    "- Different initializations"
   ]
  },
  {
   "cell_type": "markdown",
   "id": "dd4f7f49",
   "metadata": {},
   "source": [
    "## 1. Requirements\n"
   ]
  },
  {
   "cell_type": "markdown",
   "id": "19db46d5",
   "metadata": {},
   "source": [
    "Python libraries required to run training and handle document downloading / uploading:"
   ]
  },
  {
   "cell_type": "code",
   "execution_count": 1,
   "id": "e005d3b7",
   "metadata": {},
   "outputs": [
    {
     "name": "stdout",
     "output_type": "stream",
     "text": [
      "Collecting nnunetv2\n",
      "  Downloading nnunetv2-2.6.0.tar.gz (206 kB)\n",
      "  Installing build dependencies ... \u001b[?25ldone\n",
      "\u001b[?25h  Getting requirements to build wheel ... \u001b[?25ldone\n",
      "\u001b[?25h  Preparing metadata (pyproject.toml) ... \u001b[?25ldone\n",
      "\u001b[?25hCollecting tqdm\n",
      "  Downloading tqdm-4.67.1-py3-none-any.whl.metadata (57 kB)\n",
      "Requirement already satisfied: s3fs in /usr/local/lib/python3.12/site-packages (2025.3.2)\n",
      "Requirement already satisfied: torch>=2.1.2 in /usr/local/lib/python3.12/site-packages (from nnunetv2) (2.7.0)\n",
      "Collecting acvl-utils<0.3,>=0.2.3 (from nnunetv2)\n",
      "  Downloading acvl_utils-0.2.5.tar.gz (29 kB)\n",
      "  Installing build dependencies ... \u001b[?25ldone\n",
      "\u001b[?25h  Getting requirements to build wheel ... \u001b[?25ldone\n",
      "\u001b[?25h  Preparing metadata (pyproject.toml) ... \u001b[?25ldone\n",
      "\u001b[?25hCollecting dynamic-network-architectures<0.4,>=0.3.1 (from nnunetv2)\n",
      "  Downloading dynamic_network_architectures-0.3.1.tar.gz (20 kB)\n",
      "  Installing build dependencies ... \u001b[?25ldone\n",
      "\u001b[?25h  Getting requirements to build wheel ... \u001b[?25ldone\n",
      "\u001b[?25h  Preparing metadata (pyproject.toml) ... \u001b[?25ldone\n",
      "\u001b[?25hCollecting dicom2nifti (from nnunetv2)\n",
      "  Downloading dicom2nifti-2.6.1-py3-none-any.whl.metadata (1.5 kB)\n",
      "Collecting scipy (from nnunetv2)\n",
      "  Downloading scipy-1.15.2-cp312-cp312-manylinux_2_17_x86_64.manylinux2014_x86_64.whl.metadata (61 kB)\n",
      "Collecting batchgenerators>=0.25.1 (from nnunetv2)\n",
      "  Downloading batchgenerators-0.25.1.tar.gz (76 kB)\n",
      "  Installing build dependencies ... \u001b[?25ldone\n",
      "\u001b[?25h  Getting requirements to build wheel ... \u001b[?25ldone\n",
      "\u001b[?25h  Preparing metadata (pyproject.toml) ... \u001b[?25ldone\n",
      "\u001b[?25hRequirement already satisfied: numpy>=1.24 in /usr/local/lib/python3.12/site-packages (from nnunetv2) (2.2.5)\n",
      "Collecting scikit-learn (from nnunetv2)\n",
      "  Downloading scikit_learn-1.6.1-cp312-cp312-manylinux_2_17_x86_64.manylinux2014_x86_64.whl.metadata (18 kB)\n",
      "Collecting scikit-image>=0.19.3 (from nnunetv2)\n",
      "  Downloading scikit_image-0.25.2-cp312-cp312-manylinux_2_17_x86_64.manylinux2014_x86_64.whl.metadata (14 kB)\n",
      "Collecting SimpleITK>=2.2.1 (from nnunetv2)\n",
      "  Downloading simpleitk-2.5.0-cp311-abi3-manylinux_2_17_x86_64.manylinux2014_x86_64.whl.metadata (7.2 kB)\n",
      "Requirement already satisfied: pandas in /usr/local/lib/python3.12/site-packages (from nnunetv2) (2.2.3)\n",
      "Collecting graphviz (from nnunetv2)\n",
      "  Downloading graphviz-0.20.3-py3-none-any.whl.metadata (12 kB)\n",
      "Collecting tifffile (from nnunetv2)\n",
      "  Downloading tifffile-2025.3.30-py3-none-any.whl.metadata (32 kB)\n",
      "Requirement already satisfied: requests in /usr/local/lib/python3.12/site-packages (from nnunetv2) (2.32.3)\n",
      "Collecting nibabel (from nnunetv2)\n",
      "  Downloading nibabel-5.3.2-py3-none-any.whl.metadata (9.1 kB)\n",
      "Collecting matplotlib (from nnunetv2)\n",
      "  Downloading matplotlib-3.10.1-cp312-cp312-manylinux_2_17_x86_64.manylinux2014_x86_64.whl.metadata (11 kB)\n",
      "Collecting seaborn (from nnunetv2)\n",
      "  Downloading seaborn-0.13.2-py3-none-any.whl.metadata (5.4 kB)\n",
      "Collecting imagecodecs (from nnunetv2)\n",
      "  Downloading imagecodecs-2025.3.30-cp312-cp312-manylinux_2_17_x86_64.manylinux2014_x86_64.whl.metadata (20 kB)\n",
      "Collecting yacs (from nnunetv2)\n",
      "  Downloading yacs-0.1.8-py3-none-any.whl.metadata (639 bytes)\n",
      "Collecting batchgeneratorsv2>=0.2 (from nnunetv2)\n",
      "  Downloading batchgeneratorsv2-0.2.3.tar.gz (35 kB)\n",
      "  Installing build dependencies ... \u001b[?25ldone\n",
      "\u001b[?25h  Getting requirements to build wheel ... \u001b[?25ldone\n",
      "\u001b[?25h  Preparing metadata (pyproject.toml) ... \u001b[?25ldone\n",
      "\u001b[?25hCollecting einops (from nnunetv2)\n",
      "  Downloading einops-0.8.1-py3-none-any.whl.metadata (13 kB)\n",
      "Collecting blosc2>=3.0.0b1 (from nnunetv2)\n",
      "  Downloading blosc2-3.3.2-cp312-cp312-manylinux_2_17_x86_64.manylinux2014_x86_64.whl.metadata (6.9 kB)\n",
      "Collecting connected-components-3d (from acvl-utils<0.3,>=0.2.3->nnunetv2)\n",
      "  Downloading connected_components_3d-3.23.0-cp312-cp312-manylinux_2_17_x86_64.manylinux2014_x86_64.whl.metadata (32 kB)\n",
      "Requirement already satisfied: aiobotocore<3.0.0,>=2.5.4 in /usr/local/lib/python3.12/site-packages (from s3fs) (2.21.1)\n",
      "Requirement already satisfied: fsspec==2025.3.2.* in /usr/local/lib/python3.12/site-packages (from s3fs) (2025.3.2)\n",
      "Requirement already satisfied: aiohttp!=4.0.0a0,!=4.0.0a1 in /usr/local/lib/python3.12/site-packages (from s3fs) (3.11.18)\n",
      "Requirement already satisfied: aioitertools<1.0.0,>=0.5.1 in /usr/local/lib/python3.12/site-packages (from aiobotocore<3.0.0,>=2.5.4->s3fs) (0.12.0)\n",
      "Requirement already satisfied: botocore<1.37.2,>=1.37.0 in /usr/local/lib/python3.12/site-packages (from aiobotocore<3.0.0,>=2.5.4->s3fs) (1.37.1)\n",
      "Requirement already satisfied: python-dateutil<3.0.0,>=2.1 in /usr/local/lib/python3.12/site-packages (from aiobotocore<3.0.0,>=2.5.4->s3fs) (2.9.0.post0)\n",
      "Requirement already satisfied: jmespath<2.0.0,>=0.7.1 in /usr/local/lib/python3.12/site-packages (from aiobotocore<3.0.0,>=2.5.4->s3fs) (1.0.1)\n",
      "Requirement already satisfied: multidict<7.0.0,>=6.0.0 in /usr/local/lib/python3.12/site-packages (from aiobotocore<3.0.0,>=2.5.4->s3fs) (6.4.3)\n",
      "Requirement already satisfied: wrapt<2.0.0,>=1.10.10 in /usr/local/lib/python3.12/site-packages (from aiobotocore<3.0.0,>=2.5.4->s3fs) (1.17.2)\n",
      "Requirement already satisfied: aiohappyeyeballs>=2.3.0 in /usr/local/lib/python3.12/site-packages (from aiohttp!=4.0.0a0,!=4.0.0a1->s3fs) (2.6.1)\n",
      "Requirement already satisfied: aiosignal>=1.1.2 in /usr/local/lib/python3.12/site-packages (from aiohttp!=4.0.0a0,!=4.0.0a1->s3fs) (1.3.2)\n",
      "Requirement already satisfied: attrs>=17.3.0 in /usr/local/lib/python3.12/site-packages (from aiohttp!=4.0.0a0,!=4.0.0a1->s3fs) (25.3.0)\n",
      "Requirement already satisfied: frozenlist>=1.1.1 in /usr/local/lib/python3.12/site-packages (from aiohttp!=4.0.0a0,!=4.0.0a1->s3fs) (1.6.0)\n",
      "Requirement already satisfied: propcache>=0.2.0 in /usr/local/lib/python3.12/site-packages (from aiohttp!=4.0.0a0,!=4.0.0a1->s3fs) (0.3.1)\n",
      "Requirement already satisfied: yarl<2.0,>=1.17.0 in /usr/local/lib/python3.12/site-packages (from aiohttp!=4.0.0a0,!=4.0.0a1->s3fs) (1.20.0)\n",
      "Requirement already satisfied: urllib3!=2.2.0,<3,>=1.25.4 in /usr/local/lib/python3.12/site-packages (from botocore<1.37.2,>=1.37.0->aiobotocore<3.0.0,>=2.5.4->s3fs) (2.4.0)\n",
      "Requirement already satisfied: six>=1.5 in /usr/local/lib/python3.12/site-packages (from python-dateutil<3.0.0,>=2.1->aiobotocore<3.0.0,>=2.5.4->s3fs) (1.17.0)\n",
      "Requirement already satisfied: idna>=2.0 in /usr/local/lib/python3.12/site-packages (from yarl<2.0,>=1.17.0->aiohttp!=4.0.0a0,!=4.0.0a1->s3fs) (3.10)\n",
      "Requirement already satisfied: pillow>=7.1.2 in /usr/local/lib/python3.12/site-packages (from batchgenerators>=0.25.1->nnunetv2) (11.2.1)\n",
      "Collecting future (from batchgenerators>=0.25.1->nnunetv2)\n",
      "  Downloading future-1.0.0-py3-none-any.whl.metadata (4.0 kB)\n",
      "Collecting unittest2 (from batchgenerators>=0.25.1->nnunetv2)\n",
      "  Downloading unittest2-1.1.0-py2.py3-none-any.whl.metadata (15 kB)\n",
      "Collecting threadpoolctl (from batchgenerators>=0.25.1->nnunetv2)\n",
      "  Downloading threadpoolctl-3.6.0-py3-none-any.whl.metadata (13 kB)\n",
      "Collecting fft-conv-pytorch (from batchgeneratorsv2>=0.2->nnunetv2)\n",
      "  Downloading fft_conv_pytorch-1.2.0-py3-none-any.whl.metadata (2.8 kB)\n",
      "Collecting ndindex (from blosc2>=3.0.0b1->nnunetv2)\n",
      "  Downloading ndindex-1.9.2-cp312-cp312-manylinux_2_17_x86_64.manylinux2014_x86_64.whl.metadata (3.4 kB)\n",
      "Collecting msgpack (from blosc2>=3.0.0b1->nnunetv2)\n",
      "  Downloading msgpack-1.1.0-cp312-cp312-manylinux_2_17_x86_64.manylinux2014_x86_64.whl.metadata (8.4 kB)\n",
      "Requirement already satisfied: platformdirs in /usr/local/lib/python3.12/site-packages (from blosc2>=3.0.0b1->nnunetv2) (4.3.7)\n",
      "Collecting numexpr (from blosc2>=3.0.0b1->nnunetv2)\n",
      "  Downloading numexpr-2.10.2-cp312-cp312-manylinux_2_27_x86_64.manylinux_2_28_x86_64.whl.metadata (8.1 kB)\n",
      "Collecting py-cpuinfo (from blosc2>=3.0.0b1->nnunetv2)\n",
      "  Downloading py_cpuinfo-9.0.0-py3-none-any.whl.metadata (794 bytes)\n",
      "Requirement already satisfied: networkx>=3.0 in /usr/local/lib/python3.12/site-packages (from scikit-image>=0.19.3->nnunetv2) (3.4.2)\n",
      "Collecting imageio!=2.35.0,>=2.33 (from scikit-image>=0.19.3->nnunetv2)\n",
      "  Downloading imageio-2.37.0-py3-none-any.whl.metadata (5.2 kB)\n",
      "Requirement already satisfied: packaging>=21 in /usr/local/lib/python3.12/site-packages (from scikit-image>=0.19.3->nnunetv2) (25.0)\n",
      "Collecting lazy-loader>=0.4 (from scikit-image>=0.19.3->nnunetv2)\n",
      "  Downloading lazy_loader-0.4-py3-none-any.whl.metadata (7.6 kB)\n",
      "Requirement already satisfied: filelock in /usr/local/lib/python3.12/site-packages (from torch>=2.1.2->nnunetv2) (3.18.0)\n",
      "Requirement already satisfied: typing-extensions>=4.10.0 in /usr/local/lib/python3.12/site-packages (from torch>=2.1.2->nnunetv2) (4.13.2)\n",
      "Requirement already satisfied: setuptools in /usr/local/lib/python3.12/site-packages (from torch>=2.1.2->nnunetv2) (80.0.0)\n",
      "Requirement already satisfied: sympy>=1.13.3 in /usr/local/lib/python3.12/site-packages (from torch>=2.1.2->nnunetv2) (1.14.0)\n",
      "Requirement already satisfied: jinja2 in /usr/local/lib/python3.12/site-packages (from torch>=2.1.2->nnunetv2) (3.1.6)\n",
      "Requirement already satisfied: nvidia-cuda-nvrtc-cu12==12.6.77 in /usr/local/lib/python3.12/site-packages (from torch>=2.1.2->nnunetv2) (12.6.77)\n",
      "Requirement already satisfied: nvidia-cuda-runtime-cu12==12.6.77 in /usr/local/lib/python3.12/site-packages (from torch>=2.1.2->nnunetv2) (12.6.77)\n",
      "Requirement already satisfied: nvidia-cuda-cupti-cu12==12.6.80 in /usr/local/lib/python3.12/site-packages (from torch>=2.1.2->nnunetv2) (12.6.80)\n",
      "Requirement already satisfied: nvidia-cudnn-cu12==9.5.1.17 in /usr/local/lib/python3.12/site-packages (from torch>=2.1.2->nnunetv2) (9.5.1.17)\n",
      "Requirement already satisfied: nvidia-cublas-cu12==12.6.4.1 in /usr/local/lib/python3.12/site-packages (from torch>=2.1.2->nnunetv2) (12.6.4.1)\n",
      "Requirement already satisfied: nvidia-cufft-cu12==11.3.0.4 in /usr/local/lib/python3.12/site-packages (from torch>=2.1.2->nnunetv2) (11.3.0.4)\n",
      "Requirement already satisfied: nvidia-curand-cu12==10.3.7.77 in /usr/local/lib/python3.12/site-packages (from torch>=2.1.2->nnunetv2) (10.3.7.77)\n",
      "Requirement already satisfied: nvidia-cusolver-cu12==11.7.1.2 in /usr/local/lib/python3.12/site-packages (from torch>=2.1.2->nnunetv2) (11.7.1.2)\n",
      "Requirement already satisfied: nvidia-cusparse-cu12==12.5.4.2 in /usr/local/lib/python3.12/site-packages (from torch>=2.1.2->nnunetv2) (12.5.4.2)\n",
      "Requirement already satisfied: nvidia-cusparselt-cu12==0.6.3 in /usr/local/lib/python3.12/site-packages (from torch>=2.1.2->nnunetv2) (0.6.3)\n",
      "Requirement already satisfied: nvidia-nccl-cu12==2.26.2 in /usr/local/lib/python3.12/site-packages (from torch>=2.1.2->nnunetv2) (2.26.2)\n",
      "Requirement already satisfied: nvidia-nvtx-cu12==12.6.77 in /usr/local/lib/python3.12/site-packages (from torch>=2.1.2->nnunetv2) (12.6.77)\n",
      "Requirement already satisfied: nvidia-nvjitlink-cu12==12.6.85 in /usr/local/lib/python3.12/site-packages (from torch>=2.1.2->nnunetv2) (12.6.85)\n",
      "Requirement already satisfied: nvidia-cufile-cu12==1.11.1.6 in /usr/local/lib/python3.12/site-packages (from torch>=2.1.2->nnunetv2) (1.11.1.6)\n",
      "Requirement already satisfied: triton==3.3.0 in /usr/local/lib/python3.12/site-packages (from torch>=2.1.2->nnunetv2) (3.3.0)\n",
      "Requirement already satisfied: mpmath<1.4,>=1.1.0 in /usr/local/lib/python3.12/site-packages (from sympy>=1.13.3->torch>=2.1.2->nnunetv2) (1.3.0)\n",
      "Collecting pydicom>=3.0.0 (from dicom2nifti->nnunetv2)\n",
      "  Downloading pydicom-3.0.1-py3-none-any.whl.metadata (9.4 kB)\n",
      "Collecting python-gdcm (from dicom2nifti->nnunetv2)\n",
      "  Downloading python_gdcm-3.0.24.1-cp312-cp312-manylinux_2_17_x86_64.manylinux2014_x86_64.whl.metadata (3.7 kB)\n",
      "Requirement already satisfied: MarkupSafe>=2.0 in /usr/local/lib/python3.12/site-packages (from jinja2->torch>=2.1.2->nnunetv2) (3.0.2)\n",
      "Collecting contourpy>=1.0.1 (from matplotlib->nnunetv2)\n",
      "  Downloading contourpy-1.3.2-cp312-cp312-manylinux_2_17_x86_64.manylinux2014_x86_64.whl.metadata (5.5 kB)\n",
      "Collecting cycler>=0.10 (from matplotlib->nnunetv2)\n",
      "  Downloading cycler-0.12.1-py3-none-any.whl.metadata (3.8 kB)\n",
      "Collecting fonttools>=4.22.0 (from matplotlib->nnunetv2)\n",
      "  Downloading fonttools-4.57.0-cp312-cp312-manylinux_2_5_x86_64.manylinux1_x86_64.manylinux_2_17_x86_64.manylinux2014_x86_64.whl.metadata (102 kB)\n",
      "Collecting kiwisolver>=1.3.1 (from matplotlib->nnunetv2)\n",
      "  Downloading kiwisolver-1.4.8-cp312-cp312-manylinux_2_17_x86_64.manylinux2014_x86_64.whl.metadata (6.2 kB)\n",
      "Collecting pyparsing>=2.3.1 (from matplotlib->nnunetv2)\n",
      "  Downloading pyparsing-3.2.3-py3-none-any.whl.metadata (5.0 kB)\n",
      "Requirement already satisfied: pytz>=2020.1 in /usr/local/lib/python3.12/site-packages (from pandas->nnunetv2) (2025.2)\n",
      "Requirement already satisfied: tzdata>=2022.7 in /usr/local/lib/python3.12/site-packages (from pandas->nnunetv2) (2025.2)\n",
      "Requirement already satisfied: charset-normalizer<4,>=2 in /usr/local/lib/python3.12/site-packages (from requests->nnunetv2) (3.4.1)\n",
      "Requirement already satisfied: certifi>=2017.4.17 in /usr/local/lib/python3.12/site-packages (from requests->nnunetv2) (2025.4.26)\n",
      "Collecting joblib>=1.2.0 (from scikit-learn->nnunetv2)\n",
      "  Downloading joblib-1.4.2-py3-none-any.whl.metadata (5.4 kB)\n",
      "Collecting argparse (from unittest2->batchgenerators>=0.25.1->nnunetv2)\n",
      "  Downloading argparse-1.4.0-py2.py3-none-any.whl.metadata (2.8 kB)\n",
      "Collecting traceback2 (from unittest2->batchgenerators>=0.25.1->nnunetv2)\n",
      "  Downloading traceback2-1.4.0-py2.py3-none-any.whl.metadata (1.5 kB)\n",
      "Collecting linecache2 (from traceback2->unittest2->batchgenerators>=0.25.1->nnunetv2)\n",
      "  Downloading linecache2-1.0.0-py2.py3-none-any.whl.metadata (1000 bytes)\n",
      "Collecting PyYAML (from yacs->nnunetv2)\n",
      "  Downloading PyYAML-6.0.2-cp312-cp312-manylinux_2_17_x86_64.manylinux2014_x86_64.whl.metadata (2.1 kB)\n",
      "Downloading tqdm-4.67.1-py3-none-any.whl (78 kB)\n",
      "Downloading blosc2-3.3.2-cp312-cp312-manylinux_2_17_x86_64.manylinux2014_x86_64.whl (4.4 MB)\n",
      "\u001b[2K   \u001b[90m━━━━━━━━━━━━━━━━━━━━━━━━━━━━━━━━━━━━━━━━\u001b[0m \u001b[32m4.4/4.4 MB\u001b[0m \u001b[31m80.3 MB/s\u001b[0m eta \u001b[36m0:00:00\u001b[0m\n",
      "\u001b[?25hDownloading scikit_image-0.25.2-cp312-cp312-manylinux_2_17_x86_64.manylinux2014_x86_64.whl (15.0 MB)\n",
      "\u001b[2K   \u001b[90m━━━━━━━━━━━━━━━━━━━━━━━━━━━━━━━━━━━━━━━━\u001b[0m \u001b[32m15.0/15.0 MB\u001b[0m \u001b[31m93.9 MB/s\u001b[0m eta \u001b[36m0:00:00\u001b[0m\n",
      "\u001b[?25hDownloading imageio-2.37.0-py3-none-any.whl (315 kB)\n",
      "Downloading lazy_loader-0.4-py3-none-any.whl (12 kB)\n",
      "Downloading scipy-1.15.2-cp312-cp312-manylinux_2_17_x86_64.manylinux2014_x86_64.whl (37.3 MB)\n",
      "\u001b[2K   \u001b[90m━━━━━━━━━━━━━━━━━━━━━━━━━━━━━━━━━━━━━━━━\u001b[0m \u001b[32m37.3/37.3 MB\u001b[0m \u001b[31m94.2 MB/s\u001b[0m eta \u001b[36m0:00:00\u001b[0mta \u001b[36m0:00:01\u001b[0m\n",
      "\u001b[?25hDownloading simpleitk-2.5.0-cp311-abi3-manylinux_2_17_x86_64.manylinux2014_x86_64.whl (52.6 MB)\n",
      "\u001b[2K   \u001b[90m━━━━━━━━━━━━━━━━━━━━━━━━━━━━━━━━━━━━━━━━\u001b[0m \u001b[32m52.6/52.6 MB\u001b[0m \u001b[31m95.3 MB/s\u001b[0m eta \u001b[36m0:00:00\u001b[0mta \u001b[36m0:00:01\u001b[0m\n",
      "\u001b[?25hDownloading tifffile-2025.3.30-py3-none-any.whl (226 kB)\n",
      "Downloading connected_components_3d-3.23.0-cp312-cp312-manylinux_2_17_x86_64.manylinux2014_x86_64.whl (4.3 MB)\n",
      "\u001b[2K   \u001b[90m━━━━━━━━━━━━━━━━━━━━━━━━━━━━━━━━━━━━━━━━\u001b[0m \u001b[32m4.3/4.3 MB\u001b[0m \u001b[31m63.1 MB/s\u001b[0m eta \u001b[36m0:00:00\u001b[0m\n",
      "\u001b[?25hDownloading dicom2nifti-2.6.1-py3-none-any.whl (43 kB)\n",
      "Downloading pydicom-3.0.1-py3-none-any.whl (2.4 MB)\n",
      "\u001b[2K   \u001b[90m━━━━━━━━━━━━━━━━━━━━━━━━━━━━━━━━━━━━━━━━\u001b[0m \u001b[32m2.4/2.4 MB\u001b[0m \u001b[31m42.6 MB/s\u001b[0m eta \u001b[36m0:00:00\u001b[0m\n",
      "\u001b[?25hDownloading einops-0.8.1-py3-none-any.whl (64 kB)\n",
      "Downloading fft_conv_pytorch-1.2.0-py3-none-any.whl (6.8 kB)\n",
      "Downloading future-1.0.0-py3-none-any.whl (491 kB)\n",
      "Downloading graphviz-0.20.3-py3-none-any.whl (47 kB)\n",
      "Downloading imagecodecs-2025.3.30-cp312-cp312-manylinux_2_17_x86_64.manylinux2014_x86_64.whl (45.2 MB)\n",
      "\u001b[2K   \u001b[90m━━━━━━━━━━━━━━━━━━━━━━━━━━━━━━━━━━━━━━━━\u001b[0m \u001b[32m45.2/45.2 MB\u001b[0m \u001b[31m83.1 MB/s\u001b[0m eta \u001b[36m0:00:00\u001b[0ma \u001b[36m0:00:01\u001b[0m\n",
      "\u001b[?25hDownloading matplotlib-3.10.1-cp312-cp312-manylinux_2_17_x86_64.manylinux2014_x86_64.whl (8.6 MB)\n",
      "\u001b[2K   \u001b[90m━━━━━━━━━━━━━━━━━━━━━━━━━━━━━━━━━━━━━━━━\u001b[0m \u001b[32m8.6/8.6 MB\u001b[0m \u001b[31m93.3 MB/s\u001b[0m eta \u001b[36m0:00:00\u001b[0m\n",
      "\u001b[?25hDownloading contourpy-1.3.2-cp312-cp312-manylinux_2_17_x86_64.manylinux2014_x86_64.whl (323 kB)\n",
      "Downloading cycler-0.12.1-py3-none-any.whl (8.3 kB)\n",
      "Downloading fonttools-4.57.0-cp312-cp312-manylinux_2_5_x86_64.manylinux1_x86_64.manylinux_2_17_x86_64.manylinux2014_x86_64.whl (4.9 MB)\n",
      "\u001b[2K   \u001b[90m━━━━━━━━━━━━━━━━━━━━━━━━━━━━━━━━━━━━━━━━\u001b[0m \u001b[32m4.9/4.9 MB\u001b[0m \u001b[31m90.2 MB/s\u001b[0m eta \u001b[36m0:00:00\u001b[0m\n",
      "\u001b[?25hDownloading kiwisolver-1.4.8-cp312-cp312-manylinux_2_17_x86_64.manylinux2014_x86_64.whl (1.5 MB)\n",
      "\u001b[2K   \u001b[90m━━━━━━━━━━━━━━━━━━━━━━━━━━━━━━━━━━━━━━━━\u001b[0m \u001b[32m1.5/1.5 MB\u001b[0m \u001b[31m77.5 MB/s\u001b[0m eta \u001b[36m0:00:00\u001b[0m\n",
      "\u001b[?25hDownloading pyparsing-3.2.3-py3-none-any.whl (111 kB)\n",
      "Downloading msgpack-1.1.0-cp312-cp312-manylinux_2_17_x86_64.manylinux2014_x86_64.whl (401 kB)\n",
      "Downloading ndindex-1.9.2-cp312-cp312-manylinux_2_17_x86_64.manylinux2014_x86_64.whl (521 kB)\n",
      "Downloading nibabel-5.3.2-py3-none-any.whl (3.3 MB)\n",
      "\u001b[2K   \u001b[90m━━━━━━━━━━━━━━━━━━━━━━━━━━━━━━━━━━━━━━━━\u001b[0m \u001b[32m3.3/3.3 MB\u001b[0m \u001b[31m88.7 MB/s\u001b[0m eta \u001b[36m0:00:00\u001b[0m\n",
      "\u001b[?25hDownloading numexpr-2.10.2-cp312-cp312-manylinux_2_27_x86_64.manylinux_2_28_x86_64.whl (400 kB)\n",
      "Downloading py_cpuinfo-9.0.0-py3-none-any.whl (22 kB)\n",
      "Downloading python_gdcm-3.0.24.1-cp312-cp312-manylinux_2_17_x86_64.manylinux2014_x86_64.whl (13.1 MB)\n",
      "\u001b[2K   \u001b[90m━━━━━━━━━━━━━━━━━━━━━━━━━━━━━━━━━━━━━━━━\u001b[0m \u001b[32m13.1/13.1 MB\u001b[0m \u001b[31m94.9 MB/s\u001b[0m eta \u001b[36m0:00:00\u001b[0m\n",
      "\u001b[?25hDownloading scikit_learn-1.6.1-cp312-cp312-manylinux_2_17_x86_64.manylinux2014_x86_64.whl (13.1 MB)\n",
      "\u001b[2K   \u001b[90m━━━━━━━━━━━━━━━━━━━━━━━━━━━━━━━━━━━━━━━━\u001b[0m \u001b[32m13.1/13.1 MB\u001b[0m \u001b[31m95.3 MB/s\u001b[0m eta \u001b[36m0:00:00\u001b[0m\n",
      "\u001b[?25hDownloading joblib-1.4.2-py3-none-any.whl (301 kB)\n",
      "Downloading threadpoolctl-3.6.0-py3-none-any.whl (18 kB)\n",
      "Downloading seaborn-0.13.2-py3-none-any.whl (294 kB)\n",
      "Downloading unittest2-1.1.0-py2.py3-none-any.whl (96 kB)\n",
      "Downloading argparse-1.4.0-py2.py3-none-any.whl (23 kB)\n",
      "Downloading traceback2-1.4.0-py2.py3-none-any.whl (16 kB)\n",
      "Downloading linecache2-1.0.0-py2.py3-none-any.whl (12 kB)\n",
      "Downloading yacs-0.1.8-py3-none-any.whl (14 kB)\n",
      "Downloading PyYAML-6.0.2-cp312-cp312-manylinux_2_17_x86_64.manylinux2014_x86_64.whl (767 kB)\n",
      "\u001b[2K   \u001b[90m━━━━━━━━━━━━━━━━━━━━━━━━━━━━━━━━━━━━━━━━\u001b[0m \u001b[32m767.5/767.5 kB\u001b[0m \u001b[31m68.7 MB/s\u001b[0m eta \u001b[36m0:00:00\u001b[0m\n",
      "\u001b[?25hBuilding wheels for collected packages: nnunetv2, acvl-utils, dynamic-network-architectures, batchgenerators, batchgeneratorsv2\n",
      "  Building wheel for nnunetv2 (pyproject.toml) ... \u001b[?25ldone\n",
      "\u001b[?25h  Created wheel for nnunetv2: filename=nnunetv2-2.6.0-py3-none-any.whl size=277012 sha256=325d091a7100d740a9b1f2f69af535eb650fa018a7f1291b799a717f5143280c\n",
      "  Stored in directory: /home/onyxia/.cache/pip/wheels/7a/2a/8e/4a6e8b1ea9687bf2d37d914be42c6403a6c868d4ae547aafb4\n",
      "  Building wheel for acvl-utils (pyproject.toml) ... \u001b[?25ldone\n",
      "\u001b[?25h  Created wheel for acvl-utils: filename=acvl_utils-0.2.5-py3-none-any.whl size=27242 sha256=c45663ca9f6496cfea202810b6593f3b4b72df9f47a0a4b6f1ee8a84c9265979\n",
      "  Stored in directory: /home/onyxia/.cache/pip/wheels/70/c4/16/bae888b32a033f634d91a14256a8f8c8ec97db4e4dad8f0216\n",
      "  Building wheel for dynamic-network-architectures (pyproject.toml) ... \u001b[?25ldone\n",
      "\u001b[?25h  Created wheel for dynamic-network-architectures: filename=dynamic_network_architectures-0.3.1-py3-none-any.whl size=30108 sha256=1697b71631dccc14bfb3f77b3b6084035a72fbafb823fceb831b149665aceb46\n",
      "  Stored in directory: /home/onyxia/.cache/pip/wheels/e8/37/e3/40ba582bf18f88191f8700af0ca8bc0a1bff7f8c57b0ebb8df\n",
      "  Building wheel for batchgenerators (pyproject.toml) ... \u001b[?25ldone\n",
      "\u001b[?25h  Created wheel for batchgenerators: filename=batchgenerators-0.25.1-py3-none-any.whl size=93163 sha256=cef544b1005ef7c1187c6563574d15a08f26396a305bf3817f7fce4c8416acdb\n",
      "  Stored in directory: /home/onyxia/.cache/pip/wheels/28/21/2b/7b25080f9f5847e6c3162b89d859d7cec9f3093158e56bd008\n",
      "  Building wheel for batchgeneratorsv2 (pyproject.toml) ... \u001b[?25ldone\n",
      "\u001b[?25h  Created wheel for batchgeneratorsv2: filename=batchgeneratorsv2-0.2.3-py3-none-any.whl size=47565 sha256=7bda0e50c28523b3384409a1c1a2d119f6b80cfbdf6da756515d1730bce979d3\n",
      "  Stored in directory: /home/onyxia/.cache/pip/wheels/72/e2/e8/887e13951396f1ee072d29337e5cd59c637b4bff20d5e038e7\n",
      "Successfully built nnunetv2 acvl-utils dynamic-network-architectures batchgenerators batchgeneratorsv2\n",
      "Installing collected packages: SimpleITK, py-cpuinfo, linecache2, argparse, traceback2, tqdm, tifffile, threadpoolctl, scipy, PyYAML, python-gdcm, pyparsing, pydicom, numexpr, nibabel, ndindex, msgpack, lazy-loader, kiwisolver, joblib, imageio, imagecodecs, graphviz, future, fonttools, einops, cycler, contourpy, connected-components-3d, yacs, unittest2, scikit-learn, scikit-image, matplotlib, dicom2nifti, blosc2, seaborn, batchgenerators, fft-conv-pytorch, dynamic-network-architectures, acvl-utils, batchgeneratorsv2, nnunetv2\n",
      "\u001b[2K   \u001b[90m━━━━━━━━━━━━━━━━━━━━━━━━━━━━━━━━━━━━━━━━\u001b[0m \u001b[32m43/43\u001b[0m [nnunetv2]nnunetv2]batchgenerators]\n",
      "\u001b[1A\u001b[2KSuccessfully installed PyYAML-6.0.2 SimpleITK-2.5.0 acvl-utils-0.2.5 argparse-1.4.0 batchgenerators-0.25.1 batchgeneratorsv2-0.2.3 blosc2-3.3.2 connected-components-3d-3.23.0 contourpy-1.3.2 cycler-0.12.1 dicom2nifti-2.6.1 dynamic-network-architectures-0.3.1 einops-0.8.1 fft-conv-pytorch-1.2.0 fonttools-4.57.0 future-1.0.0 graphviz-0.20.3 imagecodecs-2025.3.30 imageio-2.37.0 joblib-1.4.2 kiwisolver-1.4.8 lazy-loader-0.4 linecache2-1.0.0 matplotlib-3.10.1 msgpack-1.1.0 ndindex-1.9.2 nibabel-5.3.2 nnunetv2-2.6.0 numexpr-2.10.2 py-cpuinfo-9.0.0 pydicom-3.0.1 pyparsing-3.2.3 python-gdcm-3.0.24.1 scikit-image-0.25.2 scikit-learn-1.6.1 scipy-1.15.2 seaborn-0.13.2 threadpoolctl-3.6.0 tifffile-2025.3.30 tqdm-4.67.1 traceback2-1.4.0 unittest2-1.1.0 yacs-0.1.8\n"
     ]
    }
   ],
   "source": [
    "!pip install nnunetv2 tqdm s3fs\n",
    "from tqdm import tqdm\n",
    "import torch\n",
    "import s3fs\n",
    "from pathlib import Path\n",
    "from tqdm import tqdm\n",
    "import subprocess\n",
    "import threading\n",
    "import time\n",
    "import os"
   ]
  },
  {
   "cell_type": "markdown",
   "id": "ff484b16",
   "metadata": {},
   "source": [
    "Before training the models, you need to enter your credentials. Example: email --> blabla.blabla@ensae.fr, name --> username Onyxia."
   ]
  },
  {
   "cell_type": "code",
   "execution_count": null,
   "id": "cc69f2cd",
   "metadata": {},
   "outputs": [
    {
     "name": "stdout",
     "output_type": "stream",
     "text": [
      "Git configured with email : leo.leroy@ensae.fr and username : leoacpr\n"
     ]
    }
   ],
   "source": [
    "email = input(\"Enter your email ENSAE: \")\n",
    "name = input(\"Enter your username Onyxia: \")\n",
    "\n",
    "subprocess.run([\"git\", \"config\", \"--global\", \"user.email\", email])\n",
    "subprocess.run([\"git\", \"config\", \"--global\", \"user.name\", name])\n",
    "\n",
    "print(f\"Git configured with email : {email} and username : {name}\")"
   ]
  },
  {
   "cell_type": "markdown",
   "id": "20327ed2",
   "metadata": {},
   "source": [
    "Now, you must enter your S3 private keys. They are available on Onyxia > Account > Connexion au stockage. "
   ]
  },
  {
   "cell_type": "code",
   "execution_count": 2,
   "id": "2ef67856",
   "metadata": {},
   "outputs": [
    {
     "name": "stdout",
     "output_type": "stream",
     "text": [
      "AWS keys configured as environment variables.\n"
     ]
    }
   ],
   "source": [
    "aws_access_key_id = input(\"Enter your AWS_ACCESS_KEY_ID: \")\n",
    "aws_secret_access_key = input(\"Enter your AWS_SECRET_ACCESS_KEY: \")\n",
    "aws_session_token = input(\"Enter your AWS_SESSION_TOKEN: \")\n",
    "\n",
    "# Environment variables\n",
    "os.environ[\"AWS_ACCESS_KEY_ID\"] = aws_access_key_id\n",
    "os.environ[\"AWS_SECRET_ACCESS_KEY\"] = aws_secret_access_key\n",
    "os.environ[\"AWS_SESSION_TOKEN\"] = aws_session_token\n",
    "\n",
    "print(\"AWS keys configured as environment variables.\")\n"
   ]
  },
  {
   "cell_type": "markdown",
   "id": "3897125b",
   "metadata": {},
   "source": [
    "## 2. Downloading files from S3"
   ]
  },
  {
   "cell_type": "markdown",
   "id": "bbfde054",
   "metadata": {},
   "source": [
    "The datasets are stored on the S3 service provided by Onyxia. The are available on the path   ``projet-statapp-segmedic/diffusion``. You need to download them locally by running the code below. Estimated time: 4 minutes."
   ]
  },
  {
   "cell_type": "code",
   "execution_count": 3,
   "id": "b74a21c4",
   "metadata": {},
   "outputs": [],
   "source": [
    "# Connexion to  MinIO S3 Onyxia\n",
    "s3 = s3fs.S3FileSystem(\n",
    "    client_kwargs={'endpoint_url': 'https://'+'minio.lab.sspcloud.fr'},\n",
    "    key=os.getenv(\"AWS_ACCESS_KEY_ID\"),\n",
    "    secret=os.getenv(\"AWS_SECRET_ACCESS_KEY\"),\n",
    "    token=os.getenv(\"AWS_SESSION_TOKEN\")\n",
    ")\n",
    "#print(len(s3.ls(\"projet-statapp-segmedic/diffusion/nnunet_dataset/nnUNet_raw/Dataset001_Annot1/labelsTr\")))"
   ]
  },
  {
   "cell_type": "code",
   "execution_count": 4,
   "id": "9254a8c0",
   "metadata": {},
   "outputs": [
    {
     "name": "stdout",
     "output_type": "stream",
     "text": [
      "\n",
      "Téléchargement du dossier nnUNet_raw...\n"
     ]
    },
    {
     "name": "stderr",
     "output_type": "stream",
     "text": [
      "Fichiers dans nnUNet_raw: 100%|██████████| 133/133 [01:49<00:00,  1.21it/s]\n"
     ]
    },
    {
     "name": "stdout",
     "output_type": "stream",
     "text": [
      "\n",
      "Téléchargement du dossier nnUNet_preprocessed...\n"
     ]
    },
    {
     "name": "stderr",
     "output_type": "stream",
     "text": [
      "Fichiers dans nnUNet_preprocessed: 100%|██████████| 253/253 [01:26<00:00,  2.93it/s]\n"
     ]
    },
    {
     "name": "stdout",
     "output_type": "stream",
     "text": [
      "\n",
      "Téléchargement du dossier nnUNet_results...\n"
     ]
    },
    {
     "name": "stderr",
     "output_type": "stream",
     "text": [
      "Fichiers dans nnUNet_results: 100%|██████████| 51/51 [00:15<00:00,  3.35it/s]\n"
     ]
    },
    {
     "name": "stdout",
     "output_type": "stream",
     "text": [
      "\n",
      "Configuration finished. Environment variables created:\n",
      "nnUNet_raw=/tmp/nnunet/nnUNet_raw\n",
      "nnUNet_preprocessed=/tmp/nnunet/nnUNet_preprocessed\n",
      "nnUNet_results=/tmp/nnunet/nnUNet_results\n"
     ]
    }
   ],
   "source": [
    "\n",
    "def download_s3_folder():\n",
    "    \n",
    "    # Defining paths\n",
    "    base_local_path = Path('/tmp/nnunet')\n",
    "    s3_base_path = \"projet-statapp-segmedic/diffusion/nnunet_dataset\"\n",
    "    folders = ['nnUNet_raw', 'nnUNet_preprocessed', 'nnUNet_results']\n",
    "    \n",
    "    # Creating local folders\n",
    "    for folder in folders:\n",
    "        local_folder = base_local_path / folder\n",
    "        local_folder.mkdir(parents=True, exist_ok=True)\n",
    "        \n",
    "        s3_path = f\"{s3_base_path}/{folder}\"\n",
    "        print(f\"\\nTéléchargement du dossier {folder}...\")\n",
    "        \n",
    "        # Recursive list of all files from S3\n",
    "        try:\n",
    "            files = s3.find(s3_path)\n",
    "            \n",
    "            # Progression bar (very nice!)\n",
    "            with tqdm(total=len(files), desc=f\"Fichiers dans {folder}\") as pbar:\n",
    "                for file_path in files:\n",
    "                    relative_path = file_path.replace(s3_path, '').lstrip('/')\n",
    "                    local_file_path = local_folder / relative_path\n",
    "                    \n",
    "                    # Creating local files if needed\n",
    "                    local_file_path.parent.mkdir(parents=True, exist_ok=True)\n",
    "                    \n",
    "                    # Dowloading files\n",
    "                    if not local_file_path.exists():\n",
    "                        try:\n",
    "                            s3.get(file_path, str(local_file_path))\n",
    "                        except Exception as e:\n",
    "                            print(f\"Error while downloading {file_path}: {e}\")\n",
    "                    \n",
    "                    pbar.update(1)\n",
    "        \n",
    "        except Exception as e:\n",
    "            print(f\"Error while reading {s3_path}: {e}\")\n",
    "            continue\n",
    "        \n",
    "        #ERROR CORRECTED: the nnU-Net dataset naming convention requires 4 digit for image case file, not 3. \n",
    "        for string in ['1', '2', '3']:\n",
    "            images = Path(f\"/tmp/nnunet/nnUNet_raw/Dataset00{string}_Annot{string}/imagesTr\")\n",
    "            for f in images.glob(\"*_000.nii.gz\"):\n",
    "                f.rename(f.with_name(f.name.replace(\"_000.nii.gz\", \"_0000.nii.gz\")))\n",
    "    \n",
    "    # Creating global variables for paths, needed for nnU-Net training. \n",
    "    env_vars = {\n",
    "        'nnUNet_raw': str(base_local_path / 'nnUNet_raw'),\n",
    "        'nnUNet_preprocessed': str(base_local_path / 'nnUNet_preprocessed'),\n",
    "        'nnUNet_results': str(base_local_path / 'nnUNet_results')\n",
    "    }\n",
    "    \n",
    "    for var_name, path in env_vars.items():\n",
    "        os.environ[var_name] = path\n",
    "    \n",
    "    # Adding to .bashrc\n",
    "    with open(os.path.expanduser('~/.bashrc'), 'a') as f:\n",
    "        f.write('\\n# nnUNet paths\\n')\n",
    "        for var_name, path in env_vars.items():\n",
    "            f.write(f'export {var_name}=\"{path}\"\\n')\n",
    "    \n",
    "    print(\"\\nConfiguration finished. Environment variables created:\")\n",
    "    for var_name, path in env_vars.items():\n",
    "        print(f\"{var_name}={path}\")\n",
    "\n",
    "    #To apply changes:\n",
    "    !source ~/.bashrc\n",
    "\n",
    "download_s3_folder()\n"
   ]
  },
  {
   "cell_type": "markdown",
   "id": "d1cd7a23",
   "metadata": {},
   "source": [
    "Verify if the downloading has been done successfully by running the following line. \n",
    "\n",
    "Expected output: _dataset_fingerprint.json gt_segmentations nnUNetPlans.json dataset.json nnUNetPlans_3d_fullres splits_final.json_"
   ]
  },
  {
   "cell_type": "code",
   "execution_count": 5,
   "id": "4d07893d",
   "metadata": {},
   "outputs": [
    {
     "name": "stdout",
     "output_type": "stream",
     "text": [
      "dataset_fingerprint.json  gt_segmentations\t  nnUNetPlans.json\n",
      "dataset.json\t\t  nnUNetPlans_3d_fullres  splits_final.json\n"
     ]
    }
   ],
   "source": [
    "!ls /tmp/nnunet/nnUNet_preprocessed/Dataset002_Annot2"
   ]
  },
  {
   "cell_type": "markdown",
   "id": "b986f4c7",
   "metadata": {},
   "source": [
    "If you wish to preprocess and verify the datasets integrity, copy-paste and run the following lines. **BE CAREFUL:** this might make Onyxia crash if you do not increase the CPU and RAM ressources! It also takes more than 20 min per line.The lines have already been run before. You normally do not need to run them. That is why the lines are not in a code cell.\n",
    "\n",
    "``!nnUNetv2_plan_and_preprocess -h``\n",
    "\n",
    "``!nnUNetv2_plan_and_preprocess -d 1_Annot1 -c 3d_fullres --verify_dataset_integrity -np 2 -npfp 2``\n",
    "\n",
    "``!nnUNetv2_plan_and_preprocess -d 2 -c 3d_fullres --verify_dataset_integrity -np 2 -npfp 2``\n",
    "\n",
    "``!nnUNetv2_plan_and_preprocess -d 3 -c 3d_fullres --verify_dataset_integrity -np 2 -npfp 2``\n"
   ]
  },
  {
   "cell_type": "code",
   "execution_count": null,
   "id": "49da6e5f",
   "metadata": {},
   "outputs": [
    {
     "name": "stdout",
     "output_type": "stream",
     "text": [
      "Fingerprint extraction...\n",
      "Dataset002_Annot2\n",
      "Using <class 'nnunetv2.imageio.simpleitk_reader_writer.SimpleITKIO'> as reader/writer\n"
     ]
    }
   ],
   "source": [
    "!nnUNetv2_plan_and_preprocess -d 2 -c 3d_fullres --verify_dataset_integrity -np 2 -npfp 2"
   ]
  },
  {
   "cell_type": "markdown",
   "id": "b85b1466",
   "metadata": {},
   "source": [
    "(**Optional**) If you wish to upload all the documents stored locally, you can run the following code. Select one folder among ``nnUNet_preprocessed`` or ``nnUNet_results`` (you normally do not need to upload files from nnUNet_raw). Estimated time: between 10s and 1min10s."
   ]
  },
  {
   "cell_type": "code",
   "execution_count": 6,
   "id": "af1b78d2",
   "metadata": {},
   "outputs": [],
   "source": [
    "def upload_to_s3(folder):\n",
    "    # Dossier local et distant\n",
    "    local_folder = Path(f'/tmp/nnunet/{folder}')\n",
    "    s3_folder = f\"projet-statapp-segmedic/diffusion/nnunet_dataset/{folder}\"\n",
    "    \n",
    "    # Lister tous les fichiers à uploader\n",
    "    files = list(local_folder.rglob(\"*\"))\n",
    "    \n",
    "    print(f\"\\nUploading {folder} to {s3_folder}...\")\n",
    "    with tqdm(total=len(files), desc=f\"Upload {folder}\") as pbar:\n",
    "        for file_path in files:\n",
    "            if file_path.is_file():\n",
    "                relative_path = file_path.relative_to(local_folder)\n",
    "                s3_path = f\"{s3_folder}/{relative_path.as_posix()}\"\n",
    "                try:\n",
    "                    s3.put(str(file_path), s3_path)\n",
    "                except Exception as e:\n",
    "                    print(f\"Erreur lors de l'upload de {file_path} → {s3_path}: {e}\")\n",
    "            pbar.update(1)\n",
    "\n",
    "#upload_to_s3(input(\"Enter nnUNet_preprocessed or nnUNet_results\"))"
   ]
  },
  {
   "cell_type": "markdown",
   "id": "40f83170",
   "metadata": {},
   "source": [
    "## 3. Training"
   ]
  },
  {
   "cell_type": "markdown",
   "id": "47c0b2f6",
   "metadata": {},
   "source": [
    "Training must be jointly done with file uploading: The training creates many documents to save progress. These documents are stored locally, but we need them on S3. Given that epochs take usually about 200s, I decided to set the time interval of uploading to 200s.\n",
    "\n",
    "Decide on which dataset (i.e. which set of annotations) you want to use: ``Dataset001_Annot1``, ``Dataset002_Annot2``, ``Dataset003_Annot3``. "
   ]
  },
  {
   "cell_type": "markdown",
   "id": "cebb6190",
   "metadata": {},
   "source": [
    "**CAREFUL**: The project isn't entirely done. For the moment, there is no early stopping. You should continuoulsy check if Onyxia hasn't crashed during the training (normally it shouldn't happen) and stop about 80 epochs. If you wish to resume training, you can enter this: ``nnUNetv2_train <dataset> 3d_fullres all --npz --c`` but it will only resume from a multiple of 50 epochs (nnU-Net automatically saves its results every 50 epochs). "
   ]
  },
  {
   "cell_type": "code",
   "execution_count": null,
   "id": "208da390",
   "metadata": {},
   "outputs": [
    {
     "name": "stdout",
     "output_type": "stream",
     "text": [
      "[Uploader] Starting S3 sync thread.\n",
      "[Trainer] Launching nnUNet training...\n",
      "\n",
      "Uploading nnUNet_results to projet-statapp-segmedic/diffusion/nnunet_dataset/nnUNet_results...\n"
     ]
    },
    {
     "name": "stderr",
     "output_type": "stream",
     "text": [
      "Upload nnUNet_results: 100%|██████████| 63/63 [00:14<00:00,  4.37it/s]\n"
     ]
    },
    {
     "name": "stdout",
     "output_type": "stream",
     "text": [
      "upload done\n",
      "\n",
      "############################\n",
      "INFO: You are using the old nnU-Net default plans. We have updated our recommendations. Please consider using those instead! Read more here: https://github.com/MIC-DKFZ/nnUNet/blob/master/documentation/resenc_presets.md\n",
      "############################\n",
      "\n",
      "Using device: cuda:0\n",
      "\n",
      "#######################################################################\n",
      "Please cite the following paper when using nnU-Net:\n",
      "Isensee, F., Jaeger, P. F., Kohl, S. A., Petersen, J., & Maier-Hein, K. H. (2021). nnU-Net: a self-configuring method for deep learning-based biomedical image segmentation. Nature methods, 18(2), 203-211.\n",
      "#######################################################################\n",
      "\n",
      "2025-05-02 04:38:53.320080: Using torch.compile...\n",
      "2025-05-02 04:38:56.448262: do_dummy_2d_data_aug: False\n",
      "using pin_memory on device 0\n",
      "using pin_memory on device 0\n",
      "\n",
      "This is the configuration used by this training:\n",
      "Configuration name: 3d_fullres\n",
      " {'data_identifier': 'nnUNetPlans_3d_fullres', 'preprocessor_name': 'DefaultPreprocessor', 'batch_size': 2, 'patch_size': [192, 112, 112], 'median_image_size_in_voxels': [943.0, 512.0, 512.0], 'spacing': [1.0, 0.9626015722751617, 0.9626015722751617], 'normalization_schemes': ['CTNormalization'], 'use_mask_for_norm': [False], 'resampling_fn_data': 'resample_data_or_seg_to_shape', 'resampling_fn_seg': 'resample_data_or_seg_to_shape', 'resampling_fn_data_kwargs': {'is_seg': False, 'order': 3, 'order_z': 0, 'force_separate_z': None}, 'resampling_fn_seg_kwargs': {'is_seg': True, 'order': 1, 'order_z': 0, 'force_separate_z': None}, 'resampling_fn_probabilities': 'resample_data_or_seg_to_shape', 'resampling_fn_probabilities_kwargs': {'is_seg': False, 'order': 1, 'order_z': 0, 'force_separate_z': None}, 'architecture': {'network_class_name': 'dynamic_network_architectures.architectures.unet.PlainConvUNet', 'arch_kwargs': {'n_stages': 6, 'features_per_stage': [32, 64, 128, 256, 320, 320], 'conv_op': 'torch.nn.modules.conv.Conv3d', 'kernel_sizes': [[3, 3, 3], [3, 3, 3], [3, 3, 3], [3, 3, 3], [3, 3, 3], [3, 3, 3]], 'strides': [[1, 1, 1], [2, 2, 2], [2, 2, 2], [2, 2, 2], [2, 2, 2], [2, 1, 1]], 'n_conv_per_stage': [2, 2, 2, 2, 2, 2], 'n_conv_per_stage_decoder': [2, 2, 2, 2, 2], 'conv_bias': True, 'norm_op': 'torch.nn.modules.instancenorm.InstanceNorm3d', 'norm_op_kwargs': {'eps': 1e-05, 'affine': True}, 'dropout_op': None, 'dropout_op_kwargs': None, 'nonlin': 'torch.nn.LeakyReLU', 'nonlin_kwargs': {'inplace': True}}, '_kw_requires_import': ['conv_op', 'norm_op', 'dropout_op', 'nonlin']}, 'batch_dice': True} \n",
      "\n",
      "These are the global plan.json settings:\n",
      " {'dataset_name': 'Dataset001_Annot1', 'plans_name': 'nnUNetPlans', 'original_median_spacing_after_transp': [1.0, 0.9626015722751617, 0.9626015722751617], 'original_median_shape_after_transp': [956, 512, 512], 'image_reader_writer': 'SimpleITKIO', 'transpose_forward': [0, 1, 2], 'transpose_backward': [0, 1, 2], 'experiment_planner_used': 'ExperimentPlanner', 'label_manager': 'LabelManager', 'foreground_intensity_properties_per_channel': {'0': {'max': 901.9999389648438, 'mean': 116.67008209228516, 'median': 113.99999237060547, 'min': -1036.0001220703125, 'percentile_00_5': -34.99999237060547, 'percentile_99_5': 255.0, 'std': 43.83061599731445}}} \n",
      "\n",
      "2025-05-02 04:39:00.762390: Unable to plot network architecture: nnUNet_compile is enabled!\n",
      "2025-05-02 04:39:00.970635: \n",
      "2025-05-02 04:39:00.971145: Epoch 50\n",
      "2025-05-02 04:39:00.971587: Current learning rate: 0.00955\n"
     ]
    },
    {
     "name": "stderr",
     "output_type": "stream",
     "text": [
      "W0502 04:39:11.419000 4487 site-packages/torch/_inductor/utils.py:1250] [0/0] Not enough SMs to use max_autotune_gemm mode\n",
      "/usr/local/lib/python3.12/site-packages/torch/_inductor/lowering.py:7007: UserWarning: \n",
      "Online softmax is disabled on the fly since Inductor decides to\n",
      "split the reduction. Cut an issue to PyTorch if this is an\n",
      "important use case and you want to speed it up with online\n",
      "softmax.\n",
      "\n",
      "  warnings.warn(\n",
      "/usr/local/lib/python3.12/site-packages/torch/_inductor/lowering.py:7007: UserWarning: \n",
      "Online softmax is disabled on the fly since Inductor decides to\n",
      "split the reduction. Cut an issue to PyTorch if this is an\n",
      "important use case and you want to speed it up with online\n",
      "softmax.\n",
      "\n",
      "  warnings.warn(\n",
      "/usr/local/lib/python3.12/site-packages/torch/_inductor/lowering.py:7007: UserWarning: \n",
      "Online softmax is disabled on the fly since Inductor decides to\n",
      "split the reduction. Cut an issue to PyTorch if this is an\n",
      "important use case and you want to speed it up with online\n",
      "softmax.\n",
      "\n",
      "  warnings.warn(\n",
      "/usr/local/lib/python3.12/site-packages/torch/_inductor/lowering.py:7007: UserWarning: \n",
      "Online softmax is disabled on the fly since Inductor decides to\n",
      "split the reduction. Cut an issue to PyTorch if this is an\n",
      "important use case and you want to speed it up with online\n",
      "softmax.\n",
      "\n",
      "  warnings.warn(\n"
     ]
    },
    {
     "name": "stdout",
     "output_type": "stream",
     "text": [
      "2025-05-02 04:43:25.510886: train_loss -0.6106\n",
      "2025-05-02 04:43:25.511634: val_loss -0.6668\n",
      "2025-05-02 04:43:25.511916: Pseudo dice [np.float32(0.8528), np.float32(0.951), np.float32(0.9416)]\n",
      "2025-05-02 04:43:25.512066: Epoch time: 264.54 s\n",
      "2025-05-02 04:43:25.512160: Yayy! New best EMA pseudo Dice: 0.8970000147819519\n",
      "2025-05-02 04:43:27.134436: \n",
      "2025-05-02 04:43:27.134883: Epoch 51\n",
      "2025-05-02 04:43:27.135161: Current learning rate: 0.00954\n",
      "\n",
      "Uploading nnUNet_results to projet-statapp-segmedic/diffusion/nnunet_dataset/nnUNet_results...\n"
     ]
    },
    {
     "name": "stderr",
     "output_type": "stream",
     "text": [
      "Upload nnUNet_results: 100%|██████████| 64/64 [00:12<00:00,  5.25it/s]\n"
     ]
    },
    {
     "name": "stdout",
     "output_type": "stream",
     "text": [
      "upload done\n",
      "2025-05-02 04:46:35.396739: train_loss -0.623\n",
      "2025-05-02 04:46:35.397451: val_loss -0.6588\n",
      "2025-05-02 04:46:35.397644: Pseudo dice [np.float32(0.8122), np.float32(0.9472), np.float32(0.9616)]\n",
      "2025-05-02 04:46:35.397747: Epoch time: 188.26 s\n",
      "2025-05-02 04:46:35.397943: Yayy! New best EMA pseudo Dice: 0.8980000019073486\n",
      "2025-05-02 04:46:36.965572: \n",
      "2025-05-02 04:46:36.966008: Epoch 52\n",
      "2025-05-02 04:46:36.966224: Current learning rate: 0.00953\n",
      "\n",
      "Uploading nnUNet_results to projet-statapp-segmedic/diffusion/nnunet_dataset/nnUNet_results...\n"
     ]
    },
    {
     "name": "stderr",
     "output_type": "stream",
     "text": [
      "Upload nnUNet_results: 100%|██████████| 64/64 [00:13<00:00,  4.88it/s]\n"
     ]
    },
    {
     "name": "stdout",
     "output_type": "stream",
     "text": [
      "upload done\n",
      "2025-05-02 04:49:44.636419: train_loss -0.6393\n",
      "2025-05-02 04:49:44.636957: val_loss -0.5971\n",
      "2025-05-02 04:49:44.637157: Pseudo dice [np.float32(0.8053), np.float32(0.9481), np.float32(0.9515)]\n",
      "2025-05-02 04:49:44.637269: Epoch time: 187.67 s\n",
      "2025-05-02 04:49:44.637339: Yayy! New best EMA pseudo Dice: 0.8984000086784363\n",
      "2025-05-02 04:49:46.318468: \n",
      "2025-05-02 04:49:46.318779: Epoch 53\n",
      "2025-05-02 04:49:46.319019: Current learning rate: 0.00952\n",
      "2025-05-02 04:52:53.651114: train_loss -0.639\n",
      "2025-05-02 04:52:53.651528: val_loss -0.6417\n",
      "2025-05-02 04:52:53.651713: Pseudo dice [np.float32(0.8211), np.float32(0.9496), np.float32(0.9455)]\n",
      "2025-05-02 04:52:53.651844: Epoch time: 187.33 s\n",
      "2025-05-02 04:52:53.651937: Yayy! New best EMA pseudo Dice: 0.8991000056266785\n",
      "2025-05-02 04:52:55.294084: \n",
      "2025-05-02 04:52:55.294542: Epoch 54\n",
      "2025-05-02 04:52:55.294850: Current learning rate: 0.00951\n",
      "\n",
      "Uploading nnUNet_results to projet-statapp-segmedic/diffusion/nnunet_dataset/nnUNet_results...\n"
     ]
    },
    {
     "name": "stderr",
     "output_type": "stream",
     "text": [
      "Upload nnUNet_results: 100%|██████████| 64/64 [00:28<00:00,  2.23it/s]\n"
     ]
    },
    {
     "name": "stdout",
     "output_type": "stream",
     "text": [
      "upload done\n",
      "2025-05-02 04:56:02.844813: train_loss -0.6289\n",
      "2025-05-02 04:56:02.845286: val_loss -0.6767\n",
      "2025-05-02 04:56:02.845515: Pseudo dice [np.float32(0.789), np.float32(0.9515), np.float32(0.9681)]\n",
      "2025-05-02 04:56:02.845624: Epoch time: 187.55 s\n",
      "2025-05-02 04:56:02.845700: Yayy! New best EMA pseudo Dice: 0.899399995803833\n",
      "2025-05-02 04:56:04.389359: \n",
      "2025-05-02 04:56:04.389744: Epoch 55\n",
      "2025-05-02 04:56:04.389973: Current learning rate: 0.0095\n",
      "2025-05-02 04:59:11.948512: train_loss -0.6588\n",
      "2025-05-02 04:59:11.948889: val_loss -0.7239\n",
      "2025-05-02 04:59:11.949192: Pseudo dice [np.float32(0.7996), np.float32(0.9482), np.float32(0.9639)]\n",
      "2025-05-02 04:59:11.949400: Epoch time: 187.56 s\n",
      "2025-05-02 04:59:11.949474: Yayy! New best EMA pseudo Dice: 0.8999000191688538\n",
      "2025-05-02 04:59:13.500183: \n",
      "2025-05-02 04:59:13.500627: Epoch 56\n",
      "2025-05-02 04:59:13.500874: Current learning rate: 0.00949\n",
      "\n",
      "Uploading nnUNet_results to projet-statapp-segmedic/diffusion/nnunet_dataset/nnUNet_results...\n"
     ]
    },
    {
     "name": "stderr",
     "output_type": "stream",
     "text": [
      "Upload nnUNet_results: 100%|██████████| 64/64 [00:26<00:00,  2.43it/s]\n"
     ]
    },
    {
     "name": "stdout",
     "output_type": "stream",
     "text": [
      "upload done\n",
      "2025-05-02 05:02:21.252630: train_loss -0.6678\n",
      "2025-05-02 05:02:21.252993: val_loss -0.6334\n",
      "2025-05-02 05:02:21.253135: Pseudo dice [np.float32(0.8402), np.float32(0.9515), np.float32(0.9471)]\n",
      "2025-05-02 05:02:21.253243: Epoch time: 187.75 s\n",
      "2025-05-02 05:02:21.253320: Yayy! New best EMA pseudo Dice: 0.901199996471405\n",
      "2025-05-02 05:02:22.875328: \n",
      "2025-05-02 05:02:22.875762: Epoch 57\n",
      "2025-05-02 05:02:22.876047: Current learning rate: 0.00949\n",
      "\n",
      "Uploading nnUNet_results to projet-statapp-segmedic/diffusion/nnunet_dataset/nnUNet_results...\n"
     ]
    },
    {
     "name": "stderr",
     "output_type": "stream",
     "text": [
      "Upload nnUNet_results:  89%|████████▉ | 57/64 [00:17<00:01,  3.63it/s]"
     ]
    },
    {
     "name": "stdout",
     "output_type": "stream",
     "text": [
      "2025-05-02 05:05:30.298740: train_loss -0.6609\n",
      "2025-05-02 05:05:30.299214: val_loss -0.6239\n",
      "2025-05-02 05:05:30.299442: Pseudo dice [np.float32(0.8462), np.float32(0.9356), np.float32(0.9648)]\n",
      "2025-05-02 05:05:30.299624: Epoch time: 187.42 s\n",
      "2025-05-02 05:05:30.299702: Yayy! New best EMA pseudo Dice: 0.9025999903678894\n"
     ]
    },
    {
     "name": "stderr",
     "output_type": "stream",
     "text": [
      "Upload nnUNet_results: 100%|██████████| 64/64 [00:19<00:00,  3.33it/s]\n"
     ]
    },
    {
     "name": "stdout",
     "output_type": "stream",
     "text": [
      "upload done\n",
      "2025-05-02 05:05:31.914888: \n",
      "2025-05-02 05:05:31.915422: Epoch 58\n",
      "2025-05-02 05:05:31.915649: Current learning rate: 0.00948\n",
      "2025-05-02 05:08:39.106910: train_loss -0.6446\n",
      "2025-05-02 05:08:39.107261: val_loss -0.6702\n",
      "2025-05-02 05:08:39.107501: Pseudo dice [np.float32(0.8224), np.float32(0.953), np.float32(0.9576)]\n",
      "2025-05-02 05:08:39.107600: Epoch time: 187.19 s\n",
      "2025-05-02 05:08:39.107669: Yayy! New best EMA pseudo Dice: 0.9035000205039978\n",
      "2025-05-02 05:08:40.619845: \n",
      "2025-05-02 05:08:40.620140: Epoch 59\n",
      "2025-05-02 05:08:40.620378: Current learning rate: 0.00947\n",
      "\n",
      "Uploading nnUNet_results to projet-statapp-segmedic/diffusion/nnunet_dataset/nnUNet_results...\n"
     ]
    },
    {
     "name": "stderr",
     "output_type": "stream",
     "text": [
      "Upload nnUNet_results: 100%|██████████| 64/64 [00:26<00:00,  2.41it/s]\n"
     ]
    },
    {
     "name": "stdout",
     "output_type": "stream",
     "text": [
      "upload done\n",
      "2025-05-02 05:11:48.098990: train_loss -0.6343\n",
      "2025-05-02 05:11:48.099506: val_loss -0.6721\n",
      "2025-05-02 05:11:48.099609: Pseudo dice [np.float32(0.8081), np.float32(0.9495), np.float32(0.9508)]\n",
      "2025-05-02 05:11:48.099842: Epoch time: 187.48 s\n",
      "2025-05-02 05:11:49.143862: \n",
      "2025-05-02 05:11:49.144177: Epoch 60\n",
      "2025-05-02 05:11:49.144534: Current learning rate: 0.00946\n",
      "2025-05-02 05:14:56.454997: train_loss -0.6353\n",
      "2025-05-02 05:14:56.455507: val_loss -0.6678\n",
      "2025-05-02 05:14:56.455831: Pseudo dice [np.float32(0.8192), np.float32(0.9581), np.float32(0.9594)]\n",
      "2025-05-02 05:14:56.456074: Epoch time: 187.31 s\n",
      "2025-05-02 05:14:56.456188: Yayy! New best EMA pseudo Dice: 0.9042999744415283\n",
      "2025-05-02 05:14:58.096995: \n",
      "2025-05-02 05:14:58.097370: Epoch 61\n",
      "2025-05-02 05:14:58.097667: Current learning rate: 0.00945\n",
      "\n",
      "Uploading nnUNet_results to projet-statapp-segmedic/diffusion/nnunet_dataset/nnUNet_results...\n"
     ]
    },
    {
     "name": "stderr",
     "output_type": "stream",
     "text": [
      "Upload nnUNet_results: 100%|██████████| 64/64 [00:12<00:00,  5.18it/s]\n"
     ]
    },
    {
     "name": "stdout",
     "output_type": "stream",
     "text": [
      "upload done\n",
      "2025-05-02 05:18:05.536904: train_loss -0.627\n",
      "2025-05-02 05:18:05.537495: val_loss -0.6232\n",
      "2025-05-02 05:18:05.537658: Pseudo dice [np.float32(0.841), np.float32(0.9259), np.float32(0.9581)]\n",
      "2025-05-02 05:18:05.537771: Epoch time: 187.44 s\n",
      "2025-05-02 05:18:05.537844: Yayy! New best EMA pseudo Dice: 0.904699981212616\n",
      "2025-05-02 05:18:07.166874: \n",
      "2025-05-02 05:18:07.167174: Epoch 62\n",
      "2025-05-02 05:18:07.167378: Current learning rate: 0.00944\n",
      "\n",
      "Uploading nnUNet_results to projet-statapp-segmedic/diffusion/nnunet_dataset/nnUNet_results...\n"
     ]
    },
    {
     "name": "stderr",
     "output_type": "stream",
     "text": [
      "Upload nnUNet_results:  44%|████▍     | 28/64 [00:03<00:03,  9.38it/s]"
     ]
    },
    {
     "name": "stdout",
     "output_type": "stream",
     "text": [
      "2025-05-02 05:21:14.174881: train_loss -0.6392\n",
      "2025-05-02 05:21:14.175267: val_loss -0.6869\n",
      "2025-05-02 05:21:14.175423: Pseudo dice [np.float32(0.8237), np.float32(0.9448), np.float32(0.9426)]\n",
      "2025-05-02 05:21:14.175525: Epoch time: 187.01 s\n"
     ]
    },
    {
     "name": "stderr",
     "output_type": "stream",
     "text": [
      "Upload nnUNet_results:  48%|████▊     | 31/64 [00:04<00:05,  6.08it/s]"
     ]
    },
    {
     "name": "stdout",
     "output_type": "stream",
     "text": [
      "2025-05-02 05:21:15.226977: \n",
      "2025-05-02 05:21:15.227391: Epoch 63\n",
      "2025-05-02 05:21:15.227678: Current learning rate: 0.00943\n"
     ]
    },
    {
     "name": "stderr",
     "output_type": "stream",
     "text": [
      "Upload nnUNet_results: 100%|██████████| 64/64 [00:11<00:00,  5.37it/s]\n"
     ]
    },
    {
     "name": "stdout",
     "output_type": "stream",
     "text": [
      "upload done\n",
      "2025-05-02 05:24:22.422565: train_loss -0.6331\n",
      "2025-05-02 05:24:22.422887: val_loss -0.6565\n",
      "2025-05-02 05:24:22.423046: Pseudo dice [np.float32(0.8387), np.float32(0.9565), np.float32(0.9412)]\n",
      "2025-05-02 05:24:22.423146: Epoch time: 187.2 s\n",
      "2025-05-02 05:24:22.423217: Yayy! New best EMA pseudo Dice: 0.9053000211715698\n",
      "2025-05-02 05:24:23.975677: \n",
      "2025-05-02 05:24:23.975974: Epoch 64\n",
      "2025-05-02 05:24:23.976298: Current learning rate: 0.00942\n",
      "\n",
      "Uploading nnUNet_results to projet-statapp-segmedic/diffusion/nnunet_dataset/nnUNet_results...\n"
     ]
    },
    {
     "name": "stderr",
     "output_type": "stream",
     "text": [
      "Upload nnUNet_results: 100%|██████████| 64/64 [00:11<00:00,  5.38it/s]\n"
     ]
    },
    {
     "name": "stdout",
     "output_type": "stream",
     "text": [
      "upload done\n",
      "2025-05-02 05:27:31.183168: train_loss -0.6695\n",
      "2025-05-02 05:27:31.183599: val_loss -0.6982\n",
      "2025-05-02 05:27:31.183770: Pseudo dice [np.float32(0.8422), np.float32(0.9531), np.float32(0.9417)]\n",
      "2025-05-02 05:27:31.183877: Epoch time: 187.21 s\n",
      "2025-05-02 05:27:31.183951: Yayy! New best EMA pseudo Dice: 0.906000018119812\n",
      "2025-05-02 05:27:32.755687: \n",
      "2025-05-02 05:27:32.756095: Epoch 65\n",
      "2025-05-02 05:27:32.756375: Current learning rate: 0.00941\n",
      "2025-05-02 05:30:39.999100: train_loss -0.6279\n",
      "2025-05-02 05:30:39.999629: val_loss -0.6531\n",
      "2025-05-02 05:30:39.999839: Pseudo dice [np.float32(0.8073), np.float32(0.9454), np.float32(0.9483)]\n",
      "2025-05-02 05:30:40.000016: Epoch time: 187.24 s\n",
      "2025-05-02 05:30:41.125565: \n",
      "2025-05-02 05:30:41.125968: Epoch 66\n",
      "2025-05-02 05:30:41.126208: Current learning rate: 0.0094\n",
      "\n",
      "Uploading nnUNet_results to projet-statapp-segmedic/diffusion/nnunet_dataset/nnUNet_results...\n"
     ]
    },
    {
     "name": "stderr",
     "output_type": "stream",
     "text": [
      "Upload nnUNet_results: 100%|██████████| 64/64 [00:12<00:00,  5.15it/s]\n"
     ]
    },
    {
     "name": "stdout",
     "output_type": "stream",
     "text": [
      "upload done\n",
      "2025-05-02 05:33:48.669465: train_loss -0.6358\n",
      "2025-05-02 05:33:48.670062: val_loss -0.66\n",
      "2025-05-02 05:33:48.670233: Pseudo dice [np.float32(0.8358), np.float32(0.9477), np.float32(0.9632)]\n",
      "2025-05-02 05:33:48.670342: Epoch time: 187.55 s\n",
      "2025-05-02 05:33:48.670415: Yayy! New best EMA pseudo Dice: 0.906499981880188\n",
      "2025-05-02 05:33:50.249158: \n",
      "2025-05-02 05:33:50.249656: Epoch 67\n",
      "2025-05-02 05:33:50.249828: Current learning rate: 0.00939\n",
      "\n",
      "Uploading nnUNet_results to projet-statapp-segmedic/diffusion/nnunet_dataset/nnUNet_results...\n"
     ]
    },
    {
     "name": "stderr",
     "output_type": "stream",
     "text": [
      "Upload nnUNet_results:  42%|████▏     | 27/64 [00:08<00:12,  3.02it/s]"
     ]
    },
    {
     "name": "stdout",
     "output_type": "stream",
     "text": [
      "2025-05-02 05:36:58.024016: train_loss -0.6678\n",
      "2025-05-02 05:36:58.024447: val_loss -0.6506\n",
      "2025-05-02 05:36:58.024559: Pseudo dice [np.float32(0.8397), np.float32(0.9296), np.float32(0.9475)]\n",
      "2025-05-02 05:36:58.024668: Epoch time: 187.78 s\n"
     ]
    },
    {
     "name": "stderr",
     "output_type": "stream",
     "text": [
      "Upload nnUNet_results:  48%|████▊     | 31/64 [00:12<00:18,  1.80it/s]"
     ]
    },
    {
     "name": "stdout",
     "output_type": "stream",
     "text": [
      "2025-05-02 05:36:59.090917: \n",
      "2025-05-02 05:36:59.091257: Epoch 68\n",
      "2025-05-02 05:36:59.091671: Current learning rate: 0.00939\n"
     ]
    },
    {
     "name": "stderr",
     "output_type": "stream",
     "text": [
      "Upload nnUNet_results: 100%|██████████| 64/64 [00:27<00:00,  2.30it/s]\n"
     ]
    },
    {
     "name": "stdout",
     "output_type": "stream",
     "text": [
      "upload done\n",
      "2025-05-02 05:40:06.701374: train_loss -0.6821\n",
      "2025-05-02 05:40:06.701744: val_loss -0.6994\n",
      "2025-05-02 05:40:06.701887: Pseudo dice [np.float32(0.8639), np.float32(0.9468), np.float32(0.9672)]\n",
      "2025-05-02 05:40:06.702210: Epoch time: 187.61 s\n",
      "2025-05-02 05:40:06.702285: Yayy! New best EMA pseudo Dice: 0.90829998254776\n",
      "2025-05-02 05:40:09.090488: \n",
      "2025-05-02 05:40:09.090907: Epoch 69\n",
      "2025-05-02 05:40:09.091118: Current learning rate: 0.00938\n",
      "\n",
      "Uploading nnUNet_results to projet-statapp-segmedic/diffusion/nnunet_dataset/nnUNet_results...\n"
     ]
    },
    {
     "name": "stderr",
     "output_type": "stream",
     "text": [
      "Upload nnUNet_results: 100%|██████████| 64/64 [00:31<00:00,  2.02it/s]\n"
     ]
    },
    {
     "name": "stdout",
     "output_type": "stream",
     "text": [
      "upload done\n",
      "2025-05-02 05:43:16.662950: train_loss -0.6563\n",
      "2025-05-02 05:43:16.663238: val_loss -0.6654\n",
      "2025-05-02 05:43:16.663451: Pseudo dice [np.float32(0.8395), np.float32(0.9536), np.float32(0.9434)]\n",
      "2025-05-02 05:43:16.663699: Epoch time: 187.57 s\n",
      "2025-05-02 05:43:16.663873: Yayy! New best EMA pseudo Dice: 0.9086999893188477\n",
      "2025-05-02 05:43:18.341132: \n",
      "2025-05-02 05:43:18.341581: Epoch 70\n",
      "2025-05-02 05:43:18.341717: Current learning rate: 0.00937\n",
      "2025-05-02 05:46:25.839676: train_loss -0.6539\n",
      "2025-05-02 05:46:25.840236: val_loss -0.7018\n",
      "2025-05-02 05:46:25.840464: Pseudo dice [np.float32(0.8579), np.float32(0.9512), np.float32(0.9693)]\n",
      "2025-05-02 05:46:25.840575: Epoch time: 187.5 s\n",
      "2025-05-02 05:46:25.840650: Yayy! New best EMA pseudo Dice: 0.9104999899864197\n",
      "2025-05-02 05:46:27.497644: \n",
      "2025-05-02 05:46:27.498057: Epoch 71\n",
      "2025-05-02 05:46:27.498301: Current learning rate: 0.00936\n",
      "\n",
      "Uploading nnUNet_results to projet-statapp-segmedic/diffusion/nnunet_dataset/nnUNet_results...\n"
     ]
    },
    {
     "name": "stderr",
     "output_type": "stream",
     "text": [
      "Upload nnUNet_results: 100%|██████████| 64/64 [00:19<00:00,  3.24it/s]\n"
     ]
    },
    {
     "name": "stdout",
     "output_type": "stream",
     "text": [
      "upload done\n",
      "2025-05-02 05:49:35.456534: train_loss -0.6291\n",
      "2025-05-02 05:49:35.456954: val_loss -0.6696\n",
      "2025-05-02 05:49:35.457091: Pseudo dice [np.float32(0.8434), np.float32(0.9482), np.float32(0.9518)]\n",
      "2025-05-02 05:49:35.457203: Epoch time: 187.96 s\n",
      "2025-05-02 05:49:35.457458: Yayy! New best EMA pseudo Dice: 0.9108999967575073\n",
      "2025-05-02 05:49:37.093163: \n",
      "2025-05-02 05:49:37.093595: Epoch 72\n",
      "2025-05-02 05:49:37.093756: Current learning rate: 0.00935\n",
      "2025-05-02 05:52:44.366667: train_loss -0.6706\n",
      "2025-05-02 05:52:44.367107: val_loss -0.6983\n",
      "2025-05-02 05:52:44.367275: Pseudo dice [np.float32(0.8312), np.float32(0.9456), np.float32(0.9681)]\n",
      "2025-05-02 05:52:44.367378: Epoch time: 187.28 s\n",
      "2025-05-02 05:52:44.367450: Yayy! New best EMA pseudo Dice: 0.911300003528595\n",
      "2025-05-02 05:52:45.953304: \n",
      "2025-05-02 05:52:45.953702: Epoch 73\n",
      "2025-05-02 05:52:45.953975: Current learning rate: 0.00934\n",
      "\n",
      "Uploading nnUNet_results to projet-statapp-segmedic/diffusion/nnunet_dataset/nnUNet_results...\n"
     ]
    },
    {
     "name": "stderr",
     "output_type": "stream",
     "text": [
      "Upload nnUNet_results: 100%|██████████| 64/64 [00:23<00:00,  2.71it/s]\n"
     ]
    },
    {
     "name": "stdout",
     "output_type": "stream",
     "text": [
      "upload done\n",
      "2025-05-02 05:55:52.635748: train_loss -0.68\n",
      "2025-05-02 05:55:52.636393: val_loss -0.6351\n",
      "2025-05-02 05:55:52.636520: Pseudo dice [np.float32(0.8273), np.float32(0.9589), np.float32(0.9449)]\n",
      "2025-05-02 05:55:52.636644: Epoch time: 186.68 s\n",
      "2025-05-02 05:55:53.754878: \n",
      "2025-05-02 05:55:53.755424: Epoch 74\n",
      "2025-05-02 05:55:53.755660: Current learning rate: 0.00933\n",
      "\n",
      "Uploading nnUNet_results to projet-statapp-segmedic/diffusion/nnunet_dataset/nnUNet_results...\n"
     ]
    },
    {
     "name": "stderr",
     "output_type": "stream",
     "text": [
      "Upload nnUNet_results: 100%|██████████| 64/64 [00:12<00:00,  5.27it/s]\n"
     ]
    },
    {
     "name": "stdout",
     "output_type": "stream",
     "text": [
      "upload done\n",
      "2025-05-02 05:59:00.585599: train_loss -0.6604\n",
      "2025-05-02 05:59:00.586014: val_loss -0.6822\n",
      "2025-05-02 05:59:00.586176: Pseudo dice [np.float32(0.8321), np.float32(0.9594), np.float32(0.9664)]\n",
      "2025-05-02 05:59:00.586280: Epoch time: 186.83 s\n",
      "2025-05-02 05:59:00.586349: Yayy! New best EMA pseudo Dice: 0.9120000004768372\n",
      "2025-05-02 05:59:02.139665: \n",
      "2025-05-02 05:59:02.140400: Epoch 75\n",
      "2025-05-02 05:59:02.140584: Current learning rate: 0.00932\n",
      "2025-05-02 06:02:09.414657: train_loss -0.6633\n",
      "2025-05-02 06:02:09.415124: val_loss -0.6982\n",
      "2025-05-02 06:02:09.415389: Pseudo dice [np.float32(0.8684), np.float32(0.9598), np.float32(0.9333)]\n",
      "2025-05-02 06:02:09.415655: Epoch time: 187.28 s\n",
      "2025-05-02 06:02:09.415769: Yayy! New best EMA pseudo Dice: 0.9128000140190125\n",
      "2025-05-02 06:02:11.005656: \n",
      "2025-05-02 06:02:11.006079: Epoch 76\n",
      "2025-05-02 06:02:11.006452: Current learning rate: 0.00931\n",
      "\n",
      "Uploading nnUNet_results to projet-statapp-segmedic/diffusion/nnunet_dataset/nnUNet_results...\n"
     ]
    },
    {
     "name": "stderr",
     "output_type": "stream",
     "text": [
      "Upload nnUNet_results: 100%|██████████| 64/64 [00:12<00:00,  5.13it/s]\n"
     ]
    },
    {
     "name": "stdout",
     "output_type": "stream",
     "text": [
      "upload done\n",
      "2025-05-02 06:05:18.390062: train_loss -0.6354\n",
      "2025-05-02 06:05:18.390653: val_loss -0.635\n",
      "2025-05-02 06:05:18.390809: Pseudo dice [np.float32(0.8086), np.float32(0.9334), np.float32(0.9646)]\n",
      "2025-05-02 06:05:18.390924: Epoch time: 187.39 s\n",
      "2025-05-02 06:05:19.456893: \n",
      "2025-05-02 06:05:19.457681: Epoch 77\n",
      "2025-05-02 06:05:19.457848: Current learning rate: 0.0093\n",
      "2025-05-02 06:08:26.819643: train_loss -0.6521\n",
      "2025-05-02 06:08:26.820424: val_loss -0.6218\n",
      "2025-05-02 06:08:26.820539: Pseudo dice [np.float32(0.8348), np.float32(0.9537), np.float32(0.9519)]\n",
      "2025-05-02 06:08:26.820649: Epoch time: 187.36 s\n",
      "2025-05-02 06:08:27.894093: \n",
      "2025-05-02 06:08:27.894496: Epoch 78\n",
      "2025-05-02 06:08:27.894717: Current learning rate: 0.0093\n",
      "\n",
      "Uploading nnUNet_results to projet-statapp-segmedic/diffusion/nnunet_dataset/nnUNet_results...\n"
     ]
    },
    {
     "name": "stderr",
     "output_type": "stream",
     "text": [
      "Upload nnUNet_results: 100%|██████████| 64/64 [00:13<00:00,  4.80it/s]\n"
     ]
    },
    {
     "name": "stdout",
     "output_type": "stream",
     "text": [
      "upload done\n",
      "2025-05-02 06:11:34.939991: train_loss -0.6475\n",
      "2025-05-02 06:11:34.940293: val_loss -0.6914\n",
      "2025-05-02 06:11:34.940425: Pseudo dice [np.float32(0.8679), np.float32(0.95), np.float32(0.9699)]\n",
      "2025-05-02 06:11:34.940542: Epoch time: 187.05 s\n",
      "2025-05-02 06:11:34.940622: Yayy! New best EMA pseudo Dice: 0.9136999845504761\n",
      "2025-05-02 06:11:36.506568: \n",
      "2025-05-02 06:11:36.506950: Epoch 79\n",
      "2025-05-02 06:11:36.507248: Current learning rate: 0.00929\n",
      "\n",
      "Uploading nnUNet_results to projet-statapp-segmedic/diffusion/nnunet_dataset/nnUNet_results...\n"
     ]
    },
    {
     "name": "stderr",
     "output_type": "stream",
     "text": [
      "Upload nnUNet_results: 100%|██████████| 64/64 [00:21<00:00,  2.97it/s]\n"
     ]
    },
    {
     "name": "stdout",
     "output_type": "stream",
     "text": [
      "upload done\n",
      "2025-05-02 06:14:43.761349: train_loss -0.6509\n",
      "2025-05-02 06:14:43.761811: val_loss -0.6651\n",
      "2025-05-02 06:14:43.761962: Pseudo dice [np.float32(0.8284), np.float32(0.9522), np.float32(0.9538)]\n",
      "2025-05-02 06:14:43.762068: Epoch time: 187.26 s\n",
      "2025-05-02 06:14:44.842682: \n",
      "2025-05-02 06:14:44.842980: Epoch 80\n",
      "2025-05-02 06:14:44.843252: Current learning rate: 0.00928\n",
      "2025-05-02 06:17:52.229958: train_loss -0.6605\n",
      "2025-05-02 06:17:52.230340: val_loss -0.6157\n",
      "2025-05-02 06:17:52.230439: Pseudo dice [np.float32(0.8013), np.float32(0.9466), np.float32(0.9074)]\n",
      "2025-05-02 06:17:52.230537: Epoch time: 187.39 s\n",
      "2025-05-02 06:17:53.314510: \n",
      "2025-05-02 06:17:53.314925: Epoch 81\n",
      "2025-05-02 06:17:53.315204: Current learning rate: 0.00927\n",
      "\n",
      "Uploading nnUNet_results to projet-statapp-segmedic/diffusion/nnunet_dataset/nnUNet_results...\n"
     ]
    },
    {
     "name": "stderr",
     "output_type": "stream",
     "text": [
      "Upload nnUNet_results: 100%|██████████| 64/64 [00:24<00:00,  2.62it/s]\n"
     ]
    },
    {
     "name": "stdout",
     "output_type": "stream",
     "text": [
      "upload done\n",
      "2025-05-02 06:21:01.134424: train_loss -0.6681\n",
      "2025-05-02 06:21:01.135226: val_loss -0.6866\n",
      "2025-05-02 06:21:01.135330: Pseudo dice [np.float32(0.8332), np.float32(0.9561), np.float32(0.9751)]\n",
      "2025-05-02 06:21:01.135447: Epoch time: 187.82 s\n",
      "2025-05-02 06:21:02.226051: \n",
      "2025-05-02 06:21:02.226527: Epoch 82\n",
      "2025-05-02 06:21:02.226844: Current learning rate: 0.00926\n",
      "2025-05-02 06:24:09.235447: train_loss -0.6772\n",
      "2025-05-02 06:24:09.235910: val_loss -0.6652\n",
      "2025-05-02 06:24:09.236021: Pseudo dice [np.float32(0.8719), np.float32(0.9576), np.float32(0.9698)]\n",
      "2025-05-02 06:24:09.236408: Epoch time: 187.01 s\n",
      "2025-05-02 06:24:09.236500: Yayy! New best EMA pseudo Dice: 0.9138000011444092\n",
      "2025-05-02 06:24:10.864087: \n",
      "2025-05-02 06:24:10.864530: Epoch 83\n",
      "2025-05-02 06:24:10.864762: Current learning rate: 0.00925\n",
      "\n",
      "Uploading nnUNet_results to projet-statapp-segmedic/diffusion/nnunet_dataset/nnUNet_results...\n"
     ]
    },
    {
     "name": "stderr",
     "output_type": "stream",
     "text": [
      "Upload nnUNet_results: 100%|██████████| 64/64 [00:29<00:00,  2.17it/s]\n"
     ]
    },
    {
     "name": "stdout",
     "output_type": "stream",
     "text": [
      "upload done\n",
      "2025-05-02 06:27:17.455706: train_loss -0.6865\n",
      "2025-05-02 06:27:17.456172: val_loss -0.6919\n",
      "2025-05-02 06:27:17.456397: Pseudo dice [np.float32(0.8214), np.float32(0.957), np.float32(0.9699)]\n",
      "2025-05-02 06:27:17.456577: Epoch time: 186.59 s\n",
      "2025-05-02 06:27:17.456696: Yayy! New best EMA pseudo Dice: 0.9140999913215637\n",
      "2025-05-02 06:27:19.121224: \n",
      "2025-05-02 06:27:19.121605: Epoch 84\n",
      "2025-05-02 06:27:19.121840: Current learning rate: 0.00924\n",
      "\n",
      "Uploading nnUNet_results to projet-statapp-segmedic/diffusion/nnunet_dataset/nnUNet_results...\n"
     ]
    },
    {
     "name": "stderr",
     "output_type": "stream",
     "text": [
      "Upload nnUNet_results:  19%|█▉        | 12/64 [00:01<00:09,  5.26it/s]"
     ]
    },
    {
     "name": "stdout",
     "output_type": "stream",
     "text": [
      "2025-05-02 06:30:25.807038: train_loss -0.6401\n",
      "2025-05-02 06:30:25.807528: val_loss -0.7095\n",
      "2025-05-02 06:30:25.807757: Pseudo dice [np.float32(0.8493), np.float32(0.9529), np.float32(0.9629)]\n",
      "2025-05-02 06:30:25.807965: Epoch time: 186.69 s\n",
      "2025-05-02 06:30:25.808038: Yayy! New best EMA pseudo Dice: 0.9147999882698059\n"
     ]
    },
    {
     "name": "stderr",
     "output_type": "stream",
     "text": [
      "Upload nnUNet_results:  27%|██▋       | 17/64 [00:03<00:12,  3.82it/s]"
     ]
    },
    {
     "name": "stdout",
     "output_type": "stream",
     "text": [
      "2025-05-02 06:30:27.478039: \n",
      "2025-05-02 06:30:27.478449: Epoch 85\n",
      "2025-05-02 06:30:27.478682: Current learning rate: 0.00923\n"
     ]
    },
    {
     "name": "stderr",
     "output_type": "stream",
     "text": [
      "Upload nnUNet_results: 100%|██████████| 64/64 [00:27<00:00,  2.30it/s]\n"
     ]
    },
    {
     "name": "stdout",
     "output_type": "stream",
     "text": [
      "upload done\n",
      "2025-05-02 06:33:34.267832: train_loss -0.6479\n",
      "2025-05-02 06:33:34.268286: val_loss -0.6614\n",
      "2025-05-02 06:33:34.268575: Pseudo dice [np.float32(0.8154), np.float32(0.9439), np.float32(0.9537)]\n",
      "2025-05-02 06:33:34.268812: Epoch time: 186.79 s\n",
      "2025-05-02 06:33:35.300244: \n",
      "2025-05-02 06:33:35.300790: Epoch 86\n",
      "2025-05-02 06:33:35.300935: Current learning rate: 0.00922\n",
      "\n",
      "Uploading nnUNet_results to projet-statapp-segmedic/diffusion/nnunet_dataset/nnUNet_results...\n"
     ]
    },
    {
     "name": "stderr",
     "output_type": "stream",
     "text": [
      "Upload nnUNet_results: 100%|██████████| 64/64 [00:12<00:00,  4.94it/s]\n"
     ]
    },
    {
     "name": "stdout",
     "output_type": "stream",
     "text": [
      "upload done\n",
      "2025-05-02 06:36:41.837133: train_loss -0.6599\n",
      "2025-05-02 06:36:41.837419: val_loss -0.6666\n",
      "2025-05-02 06:36:41.837567: Pseudo dice [np.float32(0.8376), np.float32(0.9612), np.float32(0.9639)]\n",
      "2025-05-02 06:36:41.837665: Epoch time: 186.54 s\n",
      "2025-05-02 06:36:43.773562: \n",
      "2025-05-02 06:36:43.773932: Epoch 87\n",
      "2025-05-02 06:36:43.774152: Current learning rate: 0.00921\n",
      "2025-05-02 06:39:49.847856: train_loss -0.6766\n",
      "2025-05-02 06:39:49.848493: val_loss -0.7152\n",
      "2025-05-02 06:39:49.848604: Pseudo dice [np.float32(0.8513), np.float32(0.9569), np.float32(0.9653)]\n",
      "2025-05-02 06:39:49.848714: Epoch time: 186.08 s\n",
      "2025-05-02 06:39:49.848790: Yayy! New best EMA pseudo Dice: 0.9154999852180481\n",
      "2025-05-02 06:39:51.463845: \n",
      "2025-05-02 06:39:51.464214: Epoch 88\n",
      "2025-05-02 06:39:51.464481: Current learning rate: 0.0092\n",
      "\n",
      "Uploading nnUNet_results to projet-statapp-segmedic/diffusion/nnunet_dataset/nnUNet_results...\n"
     ]
    },
    {
     "name": "stderr",
     "output_type": "stream",
     "text": [
      "Upload nnUNet_results: 100%|██████████| 64/64 [00:12<00:00,  5.05it/s]\n"
     ]
    },
    {
     "name": "stdout",
     "output_type": "stream",
     "text": [
      "upload done\n",
      "2025-05-02 06:42:57.893081: train_loss -0.6877\n",
      "2025-05-02 06:42:57.893956: val_loss -0.7095\n",
      "2025-05-02 06:42:57.894085: Pseudo dice [np.float32(0.8601), np.float32(0.9613), np.float32(0.9707)]\n",
      "2025-05-02 06:42:57.894232: Epoch time: 186.43 s\n",
      "2025-05-02 06:42:57.894330: Yayy! New best EMA pseudo Dice: 0.9169999957084656\n",
      "2025-05-02 06:42:59.505223: \n",
      "2025-05-02 06:42:59.505591: Epoch 89\n",
      "2025-05-02 06:42:59.505905: Current learning rate: 0.0092\n",
      "2025-05-02 06:46:06.126522: train_loss -0.6948\n",
      "2025-05-02 06:46:06.126925: val_loss -0.7515\n",
      "2025-05-02 06:46:06.127023: Pseudo dice [np.float32(0.8457), np.float32(0.9502), np.float32(0.9728)]\n",
      "2025-05-02 06:46:06.127124: Epoch time: 186.62 s\n",
      "2025-05-02 06:46:06.127379: Yayy! New best EMA pseudo Dice: 0.9175999760627747\n",
      "2025-05-02 06:46:07.750127: \n",
      "2025-05-02 06:46:07.750483: Epoch 90\n",
      "2025-05-02 06:46:07.750729: Current learning rate: 0.00919\n",
      "\n",
      "Uploading nnUNet_results to projet-statapp-segmedic/diffusion/nnunet_dataset/nnUNet_results...\n"
     ]
    },
    {
     "name": "stderr",
     "output_type": "stream",
     "text": [
      "Upload nnUNet_results: 100%|██████████| 64/64 [00:26<00:00,  2.40it/s]\n"
     ]
    },
    {
     "name": "stdout",
     "output_type": "stream",
     "text": [
      "upload done\n",
      "2025-05-02 06:49:14.898489: train_loss -0.6798\n",
      "2025-05-02 06:49:14.899031: val_loss -0.6682\n",
      "2025-05-02 06:49:14.899416: Pseudo dice [np.float32(0.8683), np.float32(0.9601), np.float32(0.9437)]\n",
      "2025-05-02 06:49:14.899568: Epoch time: 187.15 s\n",
      "2025-05-02 06:49:14.899668: Yayy! New best EMA pseudo Dice: 0.9182000160217285\n",
      "2025-05-02 06:49:16.521101: \n",
      "2025-05-02 06:49:16.521719: Epoch 91\n",
      "2025-05-02 06:49:16.521873: Current learning rate: 0.00918\n",
      "\n",
      "Uploading nnUNet_results to projet-statapp-segmedic/diffusion/nnunet_dataset/nnUNet_results...\n"
     ]
    },
    {
     "name": "stderr",
     "output_type": "stream",
     "text": [
      "Upload nnUNet_results: 100%|██████████| 64/64 [00:17<00:00,  3.60it/s]\n"
     ]
    },
    {
     "name": "stdout",
     "output_type": "stream",
     "text": [
      "upload done\n",
      "2025-05-02 06:52:23.954582: train_loss -0.6679\n",
      "2025-05-02 06:52:23.954894: val_loss -0.6927\n",
      "2025-05-02 06:52:23.955101: Pseudo dice [np.float32(0.8471), np.float32(0.9495), np.float32(0.9561)]\n",
      "2025-05-02 06:52:23.955204: Epoch time: 187.44 s\n",
      "2025-05-02 06:52:24.982734: \n",
      "2025-05-02 06:52:24.983060: Epoch 92\n",
      "2025-05-02 06:52:24.983288: Current learning rate: 0.00917\n",
      "2025-05-02 06:55:32.391407: train_loss -0.6875\n",
      "2025-05-02 06:55:32.391891: val_loss -0.6912\n",
      "2025-05-02 06:55:32.392036: Pseudo dice [np.float32(0.8705), np.float32(0.9566), np.float32(0.9723)]\n",
      "2025-05-02 06:55:32.392147: Epoch time: 187.41 s\n",
      "2025-05-02 06:55:32.392229: Yayy! New best EMA pseudo Dice: 0.919700026512146\n",
      "2025-05-02 06:55:34.047261: \n",
      "2025-05-02 06:55:34.047604: Epoch 93\n",
      "2025-05-02 06:55:34.047838: Current learning rate: 0.00916\n",
      "\n",
      "Uploading nnUNet_results to projet-statapp-segmedic/diffusion/nnunet_dataset/nnUNet_results...\n"
     ]
    },
    {
     "name": "stderr",
     "output_type": "stream",
     "text": [
      "Upload nnUNet_results: 100%|██████████| 64/64 [00:27<00:00,  2.35it/s]\n"
     ]
    },
    {
     "name": "stdout",
     "output_type": "stream",
     "text": [
      "upload done\n",
      "2025-05-02 06:58:41.201722: train_loss -0.6861\n",
      "2025-05-02 06:58:41.203646: val_loss -0.7012\n",
      "2025-05-02 06:58:41.203764: Pseudo dice [np.float32(0.8828), np.float32(0.9624), np.float32(0.9612)]\n",
      "2025-05-02 06:58:41.203860: Epoch time: 187.16 s\n",
      "2025-05-02 06:58:41.203925: Yayy! New best EMA pseudo Dice: 0.9212999939918518\n",
      "2025-05-02 06:58:42.854408: \n",
      "2025-05-02 06:58:42.854775: Epoch 94\n",
      "2025-05-02 06:58:42.855050: Current learning rate: 0.00915\n",
      "2025-05-02 07:01:50.112423: train_loss -0.6867\n",
      "2025-05-02 07:01:50.112834: val_loss -0.7536\n",
      "2025-05-02 07:01:50.112957: Pseudo dice [np.float32(0.8909), np.float32(0.9586), np.float32(0.9718)]\n",
      "2025-05-02 07:01:50.113076: Epoch time: 187.26 s\n",
      "2025-05-02 07:01:50.113162: Yayy! New best EMA pseudo Dice: 0.9232000112533569\n",
      "2025-05-02 07:01:51.677232: \n",
      "2025-05-02 07:01:51.677665: Epoch 95\n",
      "2025-05-02 07:01:51.677835: Current learning rate: 0.00914\n",
      "\n",
      "Uploading nnUNet_results to projet-statapp-segmedic/diffusion/nnunet_dataset/nnUNet_results...\n"
     ]
    },
    {
     "name": "stderr",
     "output_type": "stream",
     "text": [
      "Upload nnUNet_results: 100%|██████████| 64/64 [00:23<00:00,  2.73it/s]\n"
     ]
    },
    {
     "name": "stdout",
     "output_type": "stream",
     "text": [
      "upload done\n",
      "2025-05-02 07:04:59.434574: train_loss -0.7043\n",
      "2025-05-02 07:04:59.435356: val_loss -0.6769\n",
      "2025-05-02 07:04:59.435580: Pseudo dice [np.float32(0.8502), np.float32(0.958), np.float32(0.9703)]\n",
      "2025-05-02 07:04:59.435686: Epoch time: 187.76 s\n",
      "2025-05-02 07:04:59.435755: Yayy! New best EMA pseudo Dice: 0.9235000014305115\n",
      "2025-05-02 07:05:01.525990: \n",
      "2025-05-02 07:05:01.526484: Epoch 96\n",
      "2025-05-02 07:05:01.526777: Current learning rate: 0.00913\n",
      "\n",
      "Uploading nnUNet_results to projet-statapp-segmedic/diffusion/nnunet_dataset/nnUNet_results...\n"
     ]
    },
    {
     "name": "stderr",
     "output_type": "stream",
     "text": [
      "Upload nnUNet_results: 100%|██████████| 64/64 [00:14<00:00,  4.35it/s]\n"
     ]
    },
    {
     "name": "stdout",
     "output_type": "stream",
     "text": [
      "upload done\n",
      "2025-05-02 07:08:09.096227: train_loss -0.6705\n",
      "2025-05-02 07:08:09.096690: val_loss -0.669\n",
      "2025-05-02 07:08:09.097031: Pseudo dice [np.float32(0.8549), np.float32(0.9428), np.float32(0.963)]\n",
      "2025-05-02 07:08:09.097155: Epoch time: 187.57 s\n",
      "2025-05-02 07:08:10.206047: \n",
      "2025-05-02 07:08:10.206434: Epoch 97\n",
      "2025-05-02 07:08:10.206725: Current learning rate: 0.00912\n",
      "2025-05-02 07:11:18.306514: train_loss -0.6564\n",
      "2025-05-02 07:11:18.306980: val_loss -0.7029\n",
      "2025-05-02 07:11:18.307088: Pseudo dice [np.float32(0.8745), np.float32(0.9572), np.float32(0.9686)]\n",
      "2025-05-02 07:11:18.307214: Epoch time: 188.1 s\n",
      "2025-05-02 07:11:18.307298: Yayy! New best EMA pseudo Dice: 0.9241999983787537\n",
      "2025-05-02 07:11:20.095848: \n",
      "2025-05-02 07:11:20.096264: Epoch 98\n",
      "2025-05-02 07:11:20.096453: Current learning rate: 0.00911\n",
      "\n",
      "Uploading nnUNet_results to projet-statapp-segmedic/diffusion/nnunet_dataset/nnUNet_results...\n"
     ]
    },
    {
     "name": "stderr",
     "output_type": "stream",
     "text": [
      "Upload nnUNet_results: 100%|██████████| 64/64 [00:15<00:00,  4.24it/s]\n"
     ]
    },
    {
     "name": "stdout",
     "output_type": "stream",
     "text": [
      "upload done\n",
      "2025-05-02 07:14:28.267471: train_loss -0.6705\n",
      "2025-05-02 07:14:28.268724: val_loss -0.7129\n",
      "2025-05-02 07:14:28.268854: Pseudo dice [np.float32(0.8706), np.float32(0.9543), np.float32(0.9671)]\n",
      "2025-05-02 07:14:28.268960: Epoch time: 188.17 s\n",
      "2025-05-02 07:14:28.269034: Yayy! New best EMA pseudo Dice: 0.9247999787330627\n",
      "2025-05-02 07:14:30.158704: \n",
      "2025-05-02 07:14:30.159156: Epoch 99\n",
      "2025-05-02 07:14:30.159362: Current learning rate: 0.0091\n",
      "2025-05-02 07:17:38.355469: train_loss -0.6748\n",
      "2025-05-02 07:17:38.356508: val_loss -0.706\n",
      "2025-05-02 07:17:38.356955: Pseudo dice [np.float32(0.872), np.float32(0.9623), np.float32(0.9682)]\n",
      "2025-05-02 07:17:38.357294: Epoch time: 188.2 s\n",
      "2025-05-02 07:17:39.560591: Yayy! New best EMA pseudo Dice: 0.9258000254631042\n",
      "2025-05-02 07:17:41.725354: \n",
      "2025-05-02 07:17:41.725796: Epoch 100\n",
      "2025-05-02 07:17:41.725969: Current learning rate: 0.0091\n",
      "\n",
      "Uploading nnUNet_results to projet-statapp-segmedic/diffusion/nnunet_dataset/nnUNet_results...\n"
     ]
    },
    {
     "name": "stderr",
     "output_type": "stream",
     "text": [
      "Upload nnUNet_results: 100%|██████████| 64/64 [00:21<00:00,  3.01it/s]\n"
     ]
    },
    {
     "name": "stdout",
     "output_type": "stream",
     "text": [
      "upload done\n",
      "2025-05-02 07:20:50.043245: train_loss -0.6931\n",
      "2025-05-02 07:20:50.044076: val_loss -0.6831\n",
      "2025-05-02 07:20:50.044210: Pseudo dice [np.float32(0.8595), np.float32(0.9603), np.float32(0.9539)]\n",
      "2025-05-02 07:20:50.044359: Epoch time: 188.32 s\n",
      "2025-05-02 07:20:51.252698: \n",
      "2025-05-02 07:20:51.253062: Epoch 101\n",
      "2025-05-02 07:20:51.253387: Current learning rate: 0.00909\n",
      "\n",
      "Uploading nnUNet_results to projet-statapp-segmedic/diffusion/nnunet_dataset/nnUNet_results...\n"
     ]
    },
    {
     "name": "stderr",
     "output_type": "stream",
     "text": [
      "Upload nnUNet_results:  72%|███████▏  | 46/64 [00:17<00:12,  1.42it/s]"
     ]
    },
    {
     "name": "stdout",
     "output_type": "stream",
     "text": [
      "2025-05-02 07:24:00.065208: train_loss -0.6695\n",
      "2025-05-02 07:24:00.066691: val_loss -0.6981\n",
      "2025-05-02 07:24:00.066804: Pseudo dice [np.float32(0.8085), np.float32(0.9559), np.float32(0.9642)]\n",
      "2025-05-02 07:24:00.066910: Epoch time: 188.81 s\n"
     ]
    },
    {
     "name": "stderr",
     "output_type": "stream",
     "text": [
      "Upload nnUNet_results:  83%|████████▎ | 53/64 [00:19<00:03,  3.44it/s]"
     ]
    },
    {
     "name": "stdout",
     "output_type": "stream",
     "text": [
      "2025-05-02 07:24:02.021782: \n",
      "2025-05-02 07:24:02.022377: Epoch 102\n",
      "2025-05-02 07:24:02.022603: Current learning rate: 0.00908\n"
     ]
    },
    {
     "name": "stderr",
     "output_type": "stream",
     "text": [
      "Upload nnUNet_results: 100%|██████████| 64/64 [00:23<00:00,  2.77it/s]\n"
     ]
    },
    {
     "name": "stdout",
     "output_type": "stream",
     "text": [
      "upload done\n",
      "2025-05-02 07:27:10.342880: train_loss -0.6773\n",
      "2025-05-02 07:27:10.352587: val_loss -0.6293\n",
      "2025-05-02 07:27:10.353074: Pseudo dice [np.float32(0.8591), np.float32(0.9356), np.float32(0.9584)]\n",
      "2025-05-02 07:27:10.353430: Epoch time: 188.33 s\n",
      "2025-05-02 07:27:12.298748: \n",
      "2025-05-02 07:27:12.299334: Epoch 103\n",
      "2025-05-02 07:27:12.299669: Current learning rate: 0.00907\n",
      "\n",
      "Uploading nnUNet_results to projet-statapp-segmedic/diffusion/nnunet_dataset/nnUNet_results...\n"
     ]
    },
    {
     "name": "stderr",
     "output_type": "stream",
     "text": [
      "Upload nnUNet_results: 100%|██████████| 64/64 [00:23<00:00,  2.74it/s]\n"
     ]
    },
    {
     "name": "stdout",
     "output_type": "stream",
     "text": [
      "upload done\n",
      "2025-05-02 07:30:20.898819: train_loss -0.6756\n",
      "2025-05-02 07:30:20.899680: val_loss -0.7231\n",
      "2025-05-02 07:30:20.899955: Pseudo dice [np.float32(0.8546), np.float32(0.9604), np.float32(0.9631)]\n",
      "2025-05-02 07:30:20.900195: Epoch time: 188.6 s\n",
      "2025-05-02 07:30:22.851287: \n",
      "2025-05-02 07:30:22.851649: Epoch 104\n",
      "2025-05-02 07:30:22.851813: Current learning rate: 0.00906\n",
      "2025-05-02 07:33:31.137450: train_loss -0.6685\n",
      "2025-05-02 07:33:31.138003: val_loss -0.6782\n",
      "2025-05-02 07:33:31.138114: Pseudo dice [np.float32(0.8821), np.float32(0.9566), np.float32(0.9637)]\n",
      "2025-05-02 07:33:31.138226: Epoch time: 188.29 s\n",
      "2025-05-02 07:33:32.977189: \n",
      "2025-05-02 07:33:32.977494: Epoch 105\n",
      "2025-05-02 07:33:32.977657: Current learning rate: 0.00905\n",
      "\n",
      "Uploading nnUNet_results to projet-statapp-segmedic/diffusion/nnunet_dataset/nnUNet_results...\n"
     ]
    },
    {
     "name": "stderr",
     "output_type": "stream",
     "text": [
      "Upload nnUNet_results: 100%|██████████| 64/64 [00:28<00:00,  2.28it/s]\n"
     ]
    },
    {
     "name": "stdout",
     "output_type": "stream",
     "text": [
      "upload done\n",
      "2025-05-02 07:36:41.287669: train_loss -0.6718\n",
      "2025-05-02 07:36:41.288187: val_loss -0.6892\n",
      "2025-05-02 07:36:41.288361: Pseudo dice [np.float32(0.8536), np.float32(0.9518), np.float32(0.9675)]\n",
      "2025-05-02 07:36:41.288516: Epoch time: 188.31 s\n",
      "2025-05-02 07:36:42.988085: \n",
      "2025-05-02 07:36:42.988699: Epoch 106\n",
      "2025-05-02 07:36:42.988856: Current learning rate: 0.00904\n",
      "2025-05-02 07:39:51.578683: train_loss -0.6916\n",
      "2025-05-02 07:39:51.579135: val_loss -0.6655\n",
      "2025-05-02 07:39:51.579236: Pseudo dice [np.float32(0.8742), np.float32(0.9568), np.float32(0.9491)]\n",
      "2025-05-02 07:39:51.579337: Epoch time: 188.59 s\n",
      "2025-05-02 07:39:54.325727: \n",
      "2025-05-02 07:39:54.326138: Epoch 107\n",
      "2025-05-02 07:39:54.326345: Current learning rate: 0.00903\n",
      "\n",
      "Uploading nnUNet_results to projet-statapp-segmedic/diffusion/nnunet_dataset/nnUNet_results...\n"
     ]
    },
    {
     "name": "stderr",
     "output_type": "stream",
     "text": [
      "Upload nnUNet_results: 100%|██████████| 64/64 [00:18<00:00,  3.53it/s]\n"
     ]
    },
    {
     "name": "stdout",
     "output_type": "stream",
     "text": [
      "upload done\n",
      "2025-05-02 07:43:03.057305: train_loss -0.6725\n",
      "2025-05-02 07:43:03.058573: val_loss -0.6866\n",
      "2025-05-02 07:43:03.058875: Pseudo dice [np.float32(0.8402), np.float32(0.9588), np.float32(0.9709)]\n",
      "2025-05-02 07:43:03.059617: Epoch time: 188.73 s\n",
      "2025-05-02 07:43:04.684855: \n",
      "2025-05-02 07:43:04.685453: Epoch 108\n",
      "2025-05-02 07:43:04.685737: Current learning rate: 0.00902\n",
      "\n",
      "Uploading nnUNet_results to projet-statapp-segmedic/diffusion/nnunet_dataset/nnUNet_results...\n"
     ]
    },
    {
     "name": "stderr",
     "output_type": "stream",
     "text": [
      "Upload nnUNet_results: 100%|██████████| 64/64 [00:15<00:00,  4.13it/s]\n"
     ]
    },
    {
     "name": "stdout",
     "output_type": "stream",
     "text": [
      "upload done\n",
      "2025-05-02 07:46:13.371600: train_loss -0.6707\n",
      "2025-05-02 07:46:13.372091: val_loss -0.72\n",
      "2025-05-02 07:46:13.372289: Pseudo dice [np.float32(0.8812), np.float32(0.9574), np.float32(0.9712)]\n",
      "2025-05-02 07:46:13.372468: Epoch time: 188.69 s\n",
      "2025-05-02 07:46:13.372589: Yayy! New best EMA pseudo Dice: 0.9258999824523926\n",
      "2025-05-02 07:46:15.501719: \n",
      "2025-05-02 07:46:15.502178: Epoch 109\n",
      "2025-05-02 07:46:15.502347: Current learning rate: 0.00901\n",
      "2025-05-02 07:49:24.459587: train_loss -0.6838\n",
      "2025-05-02 07:49:24.460085: val_loss -0.6443\n",
      "2025-05-02 07:49:24.460217: Pseudo dice [np.float32(0.8197), np.float32(0.927), np.float32(0.9666)]\n",
      "2025-05-02 07:49:24.460364: Epoch time: 188.96 s\n",
      "2025-05-02 07:49:25.960789: \n",
      "2025-05-02 07:49:25.963539: Epoch 110\n",
      "2025-05-02 07:49:25.963853: Current learning rate: 0.009\n",
      "\n",
      "Uploading nnUNet_results to projet-statapp-segmedic/diffusion/nnunet_dataset/nnUNet_results...\n"
     ]
    },
    {
     "name": "stderr",
     "output_type": "stream",
     "text": [
      "Upload nnUNet_results: 100%|██████████| 64/64 [00:27<00:00,  2.33it/s]\n"
     ]
    },
    {
     "name": "stdout",
     "output_type": "stream",
     "text": [
      "upload done\n",
      "2025-05-02 07:52:34.775240: train_loss -0.6908\n",
      "2025-05-02 07:52:34.775665: val_loss -0.6938\n",
      "2025-05-02 07:52:34.775801: Pseudo dice [np.float32(0.8503), np.float32(0.962), np.float32(0.9571)]\n",
      "2025-05-02 07:52:34.775927: Epoch time: 188.82 s\n",
      "2025-05-02 07:52:36.258543: \n",
      "2025-05-02 07:52:36.259014: Epoch 111\n",
      "2025-05-02 07:52:36.259160: Current learning rate: 0.009\n",
      "2025-05-02 07:55:44.492485: train_loss -0.6959\n",
      "2025-05-02 07:55:44.493245: val_loss -0.7054\n",
      "2025-05-02 07:55:44.493470: Pseudo dice [np.float32(0.8588), np.float32(0.9495), np.float32(0.9697)]\n",
      "2025-05-02 07:55:44.493698: Epoch time: 188.24 s\n",
      "2025-05-02 07:55:45.889882: \n",
      "2025-05-02 07:55:45.890309: Epoch 112\n",
      "2025-05-02 07:55:45.890517: Current learning rate: 0.00899\n",
      "\n",
      "Uploading nnUNet_results to projet-statapp-segmedic/diffusion/nnunet_dataset/nnUNet_results...\n"
     ]
    },
    {
     "name": "stderr",
     "output_type": "stream",
     "text": [
      "Upload nnUNet_results: 100%|██████████| 64/64 [00:25<00:00,  2.47it/s]\n"
     ]
    },
    {
     "name": "stdout",
     "output_type": "stream",
     "text": [
      "upload done\n",
      "2025-05-02 07:58:54.408004: train_loss -0.6837\n",
      "2025-05-02 07:58:54.444451: val_loss -0.7063\n",
      "2025-05-02 07:58:54.444822: Pseudo dice [np.float32(0.8636), np.float32(0.958), np.float32(0.963)]\n",
      "2025-05-02 07:58:54.445662: Epoch time: 188.52 s\n",
      "2025-05-02 07:58:56.169031: \n",
      "2025-05-02 07:58:56.169502: Epoch 113\n",
      "2025-05-02 07:58:56.169768: Current learning rate: 0.00898\n",
      "\n",
      "Uploading nnUNet_results to projet-statapp-segmedic/diffusion/nnunet_dataset/nnUNet_results...\n"
     ]
    },
    {
     "name": "stderr",
     "output_type": "stream",
     "text": [
      "Upload nnUNet_results: 100%|██████████| 64/64 [00:28<00:00,  2.23it/s]\n"
     ]
    },
    {
     "name": "stdout",
     "output_type": "stream",
     "text": [
      "upload done\n",
      "2025-05-02 08:02:04.720523: train_loss -0.6965\n",
      "2025-05-02 08:02:04.721315: val_loss -0.7343\n",
      "2025-05-02 08:02:04.721452: Pseudo dice [np.float32(0.8415), np.float32(0.9574), np.float32(0.9712)]\n",
      "2025-05-02 08:02:04.721606: Epoch time: 188.55 s\n",
      "2025-05-02 08:02:06.023349: \n",
      "2025-05-02 08:02:06.023667: Epoch 114\n",
      "2025-05-02 08:02:06.023809: Current learning rate: 0.00897\n",
      "2025-05-02 08:05:14.057859: train_loss -0.6729\n",
      "2025-05-02 08:05:14.058488: val_loss -0.7061\n",
      "2025-05-02 08:05:14.058681: Pseudo dice [np.float32(0.8786), np.float32(0.9614), np.float32(0.9681)]\n",
      "2025-05-02 08:05:14.058867: Epoch time: 188.04 s\n",
      "2025-05-02 08:05:15.350017: \n",
      "2025-05-02 08:05:15.350369: Epoch 115\n",
      "2025-05-02 08:05:15.350518: Current learning rate: 0.00896\n",
      "\n",
      "Uploading nnUNet_results to projet-statapp-segmedic/diffusion/nnunet_dataset/nnUNet_results...\n"
     ]
    },
    {
     "name": "stderr",
     "output_type": "stream",
     "text": [
      "Upload nnUNet_results: 100%|██████████| 64/64 [00:22<00:00,  2.88it/s]\n"
     ]
    },
    {
     "name": "stdout",
     "output_type": "stream",
     "text": [
      "upload done\n",
      "2025-05-02 08:08:23.336862: train_loss -0.6699\n",
      "2025-05-02 08:08:23.337432: val_loss -0.7411\n",
      "2025-05-02 08:08:23.337804: Pseudo dice [np.float32(0.8714), np.float32(0.9618), np.float32(0.9546)]\n",
      "2025-05-02 08:08:23.338005: Epoch time: 187.99 s\n",
      "2025-05-02 08:08:25.306849: \n",
      "2025-05-02 08:08:25.307436: Epoch 116\n",
      "2025-05-02 08:08:25.307846: Current learning rate: 0.00895\n",
      "2025-05-02 08:11:33.643593: train_loss -0.658\n",
      "2025-05-02 08:11:33.644199: val_loss -0.6825\n",
      "2025-05-02 08:11:33.644358: Pseudo dice [np.float32(0.8358), np.float32(0.943), np.float32(0.9544)]\n",
      "2025-05-02 08:11:33.644513: Epoch time: 188.34 s\n",
      "2025-05-02 08:11:35.547335: \n",
      "2025-05-02 08:11:35.548523: Epoch 117\n",
      "2025-05-02 08:11:35.549234: Current learning rate: 0.00894\n",
      "\n",
      "Uploading nnUNet_results to projet-statapp-segmedic/diffusion/nnunet_dataset/nnUNet_results...\n"
     ]
    },
    {
     "name": "stderr",
     "output_type": "stream",
     "text": [
      "Upload nnUNet_results: 100%|██████████| 64/64 [00:26<00:00,  2.44it/s]\n"
     ]
    },
    {
     "name": "stdout",
     "output_type": "stream",
     "text": [
      "upload done\n",
      "2025-05-02 08:14:44.193676: train_loss -0.6784\n",
      "2025-05-02 08:14:44.194636: val_loss -0.7228\n",
      "2025-05-02 08:14:44.194923: Pseudo dice [np.float32(0.8596), np.float32(0.9603), np.float32(0.9704)]\n",
      "2025-05-02 08:14:44.195203: Epoch time: 188.65 s\n",
      "2025-05-02 08:14:46.058414: \n",
      "2025-05-02 08:14:46.058902: Epoch 118\n",
      "2025-05-02 08:14:46.059140: Current learning rate: 0.00893\n",
      "\n",
      "Uploading nnUNet_results to projet-statapp-segmedic/diffusion/nnunet_dataset/nnUNet_results...\n"
     ]
    },
    {
     "name": "stderr",
     "output_type": "stream",
     "text": [
      "Upload nnUNet_results:  84%|████████▍ | 54/64 [00:13<00:04,  2.36it/s]"
     ]
    },
    {
     "name": "stdout",
     "output_type": "stream",
     "text": [
      "2025-05-02 08:17:55.178179: train_loss -0.6916\n",
      "2025-05-02 08:17:55.179077: val_loss -0.7076\n",
      "2025-05-02 08:17:55.179231: Pseudo dice [np.float32(0.8587), np.float32(0.9556), np.float32(0.9502)]\n",
      "2025-05-02 08:17:55.179405: Epoch time: 189.12 s\n"
     ]
    },
    {
     "name": "stderr",
     "output_type": "stream",
     "text": [
      "Upload nnUNet_results:  98%|█████████▊| 63/64 [00:15<00:00,  4.77it/s]"
     ]
    },
    {
     "name": "stdout",
     "output_type": "stream",
     "text": [
      "2025-05-02 08:17:56.876956: \n",
      "2025-05-02 08:17:56.877473: Epoch 119\n",
      "2025-05-02 08:17:56.877794: Current learning rate: 0.00892\n"
     ]
    },
    {
     "name": "stderr",
     "output_type": "stream",
     "text": [
      "Upload nnUNet_results: 100%|██████████| 64/64 [00:15<00:00,  4.11it/s]\n"
     ]
    },
    {
     "name": "stdout",
     "output_type": "stream",
     "text": [
      "upload done\n",
      "2025-05-02 08:21:05.562971: train_loss -0.6862\n",
      "2025-05-02 08:21:05.563656: val_loss -0.7162\n",
      "2025-05-02 08:21:05.563784: Pseudo dice [np.float32(0.8428), np.float32(0.9555), np.float32(0.9718)]\n",
      "2025-05-02 08:21:05.563913: Epoch time: 188.69 s\n",
      "2025-05-02 08:21:07.350168: \n",
      "2025-05-02 08:21:07.351068: Epoch 120\n",
      "2025-05-02 08:21:07.351519: Current learning rate: 0.00891\n",
      "\n",
      "Uploading nnUNet_results to projet-statapp-segmedic/diffusion/nnunet_dataset/nnUNet_results...\n"
     ]
    },
    {
     "name": "stderr",
     "output_type": "stream",
     "text": [
      "Upload nnUNet_results: 100%|██████████| 64/64 [00:15<00:00,  4.10it/s]\n"
     ]
    },
    {
     "name": "stdout",
     "output_type": "stream",
     "text": [
      "upload done\n",
      "2025-05-02 08:24:16.175858: train_loss -0.6953\n",
      "2025-05-02 08:24:16.176216: val_loss -0.7153\n",
      "2025-05-02 08:24:16.176401: Pseudo dice [np.float32(0.8675), np.float32(0.9552), np.float32(0.9669)]\n",
      "2025-05-02 08:24:16.176527: Epoch time: 188.84 s\n",
      "2025-05-02 08:24:17.975471: \n",
      "2025-05-02 08:24:17.975842: Epoch 121\n",
      "2025-05-02 08:24:17.976019: Current learning rate: 0.0089\n",
      "2025-05-02 08:27:27.277281: train_loss -0.7027\n",
      "2025-05-02 08:27:27.277843: val_loss -0.7236\n",
      "2025-05-02 08:27:27.278140: Pseudo dice [np.float32(0.8555), np.float32(0.961), np.float32(0.9653)]\n",
      "2025-05-02 08:27:27.278327: Epoch time: 189.31 s\n",
      "2025-05-02 08:27:28.802257: \n",
      "2025-05-02 08:27:28.802788: Epoch 122\n",
      "2025-05-02 08:27:28.802925: Current learning rate: 0.00889\n",
      "\n",
      "Uploading nnUNet_results to projet-statapp-segmedic/diffusion/nnunet_dataset/nnUNet_results...\n"
     ]
    },
    {
     "name": "stderr",
     "output_type": "stream",
     "text": [
      "Upload nnUNet_results: 100%|██████████| 64/64 [00:23<00:00,  2.72it/s]\n"
     ]
    },
    {
     "name": "stdout",
     "output_type": "stream",
     "text": [
      "upload done\n",
      "2025-05-02 08:30:37.788688: train_loss -0.7064\n",
      "2025-05-02 08:30:37.789297: val_loss -0.6717\n",
      "2025-05-02 08:30:37.789427: Pseudo dice [np.float32(0.8655), np.float32(0.9513), np.float32(0.9634)]\n",
      "2025-05-02 08:30:37.789567: Epoch time: 188.99 s\n",
      "2025-05-02 08:30:39.396322: \n",
      "2025-05-02 08:30:39.396780: Epoch 123\n",
      "2025-05-02 08:30:39.396920: Current learning rate: 0.00889\n",
      "\n",
      "Uploading nnUNet_results to projet-statapp-segmedic/diffusion/nnunet_dataset/nnUNet_results...\n"
     ]
    },
    {
     "name": "stderr",
     "output_type": "stream",
     "text": [
      "Upload nnUNet_results:  53%|█████▎    | 34/64 [00:11<00:13,  2.29it/s]"
     ]
    },
    {
     "name": "stdout",
     "output_type": "stream",
     "text": [
      "2025-05-02 08:33:48.308882: train_loss -0.6882\n",
      "2025-05-02 08:33:48.309978: val_loss -0.7086\n",
      "2025-05-02 08:33:48.310331: Pseudo dice [np.float32(0.8708), np.float32(0.9524), np.float32(0.9613)]\n",
      "2025-05-02 08:33:48.310549: Epoch time: 188.92 s\n"
     ]
    },
    {
     "name": "stderr",
     "output_type": "stream",
     "text": [
      "Upload nnUNet_results:  70%|███████   | 45/64 [00:14<00:02,  9.09it/s]"
     ]
    },
    {
     "name": "stdout",
     "output_type": "stream",
     "text": [
      "2025-05-02 08:33:50.657880: \n",
      "2025-05-02 08:33:50.658723: Epoch 124\n",
      "2025-05-02 08:33:50.659075: Current learning rate: 0.00888\n"
     ]
    },
    {
     "name": "stderr",
     "output_type": "stream",
     "text": [
      "Upload nnUNet_results: 100%|██████████| 64/64 [00:22<00:00,  2.78it/s]\n"
     ]
    },
    {
     "name": "stdout",
     "output_type": "stream",
     "text": [
      "upload done\n",
      "2025-05-02 08:36:59.246793: train_loss -0.6853\n",
      "2025-05-02 08:36:59.247367: val_loss -0.7253\n",
      "2025-05-02 08:36:59.247496: Pseudo dice [np.float32(0.8565), np.float32(0.9574), np.float32(0.958)]\n",
      "2025-05-02 08:36:59.247622: Epoch time: 188.59 s\n",
      "2025-05-02 08:37:01.203340: \n",
      "2025-05-02 08:37:01.203954: Epoch 125\n",
      "2025-05-02 08:37:01.204220: Current learning rate: 0.00887\n",
      "\n",
      "Uploading nnUNet_results to projet-statapp-segmedic/diffusion/nnunet_dataset/nnUNet_results...\n"
     ]
    },
    {
     "name": "stderr",
     "output_type": "stream",
     "text": [
      "Upload nnUNet_results: 100%|██████████| 64/64 [00:29<00:00,  2.14it/s]\n"
     ]
    },
    {
     "name": "stdout",
     "output_type": "stream",
     "text": [
      "upload done\n",
      "2025-05-02 08:40:08.827053: train_loss -0.6856\n",
      "2025-05-02 08:40:08.827616: val_loss -0.7237\n",
      "2025-05-02 08:40:08.827763: Pseudo dice [np.float32(0.8747), np.float32(0.9497), np.float32(0.9706)]\n",
      "2025-05-02 08:40:08.827891: Epoch time: 187.63 s\n",
      "2025-05-02 08:40:08.827981: Yayy! New best EMA pseudo Dice: 0.9261000156402588\n",
      "2025-05-02 08:40:13.044805: \n",
      "2025-05-02 08:40:13.045286: Epoch 126\n",
      "2025-05-02 08:40:13.045518: Current learning rate: 0.00886\n",
      "2025-05-02 08:43:20.549902: train_loss -0.6922\n",
      "2025-05-02 08:43:20.550518: val_loss -0.7139\n",
      "2025-05-02 08:43:20.550799: Pseudo dice [np.float32(0.8444), np.float32(0.9548), np.float32(0.9696)]\n",
      "2025-05-02 08:43:20.550972: Epoch time: 187.51 s\n",
      "2025-05-02 08:43:22.298082: \n",
      "2025-05-02 08:43:22.298542: Epoch 127\n",
      "2025-05-02 08:43:22.298756: Current learning rate: 0.00885\n",
      "\n",
      "Uploading nnUNet_results to projet-statapp-segmedic/diffusion/nnunet_dataset/nnUNet_results...\n"
     ]
    },
    {
     "name": "stderr",
     "output_type": "stream",
     "text": [
      "Upload nnUNet_results: 100%|██████████| 64/64 [00:30<00:00,  2.11it/s]\n"
     ]
    },
    {
     "name": "stdout",
     "output_type": "stream",
     "text": [
      "upload done\n",
      "2025-05-02 08:46:30.285074: train_loss -0.7149\n",
      "2025-05-02 08:46:30.285851: val_loss -0.7131\n",
      "2025-05-02 08:46:30.286094: Pseudo dice [np.float32(0.8724), np.float32(0.9592), np.float32(0.9726)]\n",
      "2025-05-02 08:46:30.286235: Epoch time: 187.99 s\n",
      "2025-05-02 08:46:30.286328: Yayy! New best EMA pseudo Dice: 0.9266999959945679\n",
      "2025-05-02 08:46:33.641669: \n",
      "2025-05-02 08:46:33.641988: Epoch 128\n",
      "2025-05-02 08:46:33.642149: Current learning rate: 0.00884\n",
      "2025-05-02 08:49:41.225956: train_loss -0.7108\n",
      "2025-05-02 08:49:41.226354: val_loss -0.7298\n",
      "2025-05-02 08:49:41.226470: Pseudo dice [np.float32(0.8659), np.float32(0.9603), np.float32(0.9727)]\n",
      "2025-05-02 08:49:41.226585: Epoch time: 187.59 s\n",
      "2025-05-02 08:49:41.226670: Yayy! New best EMA pseudo Dice: 0.927299976348877\n",
      "2025-05-02 08:49:44.261019: \n",
      "2025-05-02 08:49:44.261422: Epoch 129\n",
      "2025-05-02 08:49:44.261701: Current learning rate: 0.00883\n",
      "\n",
      "Uploading nnUNet_results to projet-statapp-segmedic/diffusion/nnunet_dataset/nnUNet_results...\n"
     ]
    },
    {
     "name": "stderr",
     "output_type": "stream",
     "text": [
      "Upload nnUNet_results: 100%|██████████| 64/64 [00:22<00:00,  2.88it/s]\n"
     ]
    },
    {
     "name": "stdout",
     "output_type": "stream",
     "text": [
      "upload done\n",
      "2025-05-02 08:52:55.570613: train_loss -0.7247\n",
      "2025-05-02 08:52:55.571425: val_loss -0.6868\n",
      "2025-05-02 08:52:55.571746: Pseudo dice [np.float32(0.8693), np.float32(0.9537), np.float32(0.9563)]\n",
      "2025-05-02 08:52:55.572064: Epoch time: 191.31 s\n",
      "2025-05-02 08:52:57.959989: \n",
      "2025-05-02 08:52:57.961618: Epoch 130\n",
      "2025-05-02 08:52:57.962761: Current learning rate: 0.00882\n",
      "\n",
      "Uploading nnUNet_results to projet-statapp-segmedic/diffusion/nnunet_dataset/nnUNet_results...\n"
     ]
    },
    {
     "name": "stderr",
     "output_type": "stream",
     "text": [
      "Upload nnUNet_results: 100%|██████████| 64/64 [00:20<00:00,  3.10it/s]\n"
     ]
    },
    {
     "name": "stdout",
     "output_type": "stream",
     "text": [
      "upload done\n",
      "2025-05-02 08:56:13.029545: train_loss -0.7059\n",
      "2025-05-02 08:56:13.031063: val_loss -0.7102\n",
      "2025-05-02 08:56:13.031509: Pseudo dice [np.float32(0.8291), np.float32(0.9522), np.float32(0.9736)]\n",
      "2025-05-02 08:56:13.032052: Epoch time: 195.07 s\n",
      "2025-05-02 08:56:15.464670: \n",
      "2025-05-02 08:56:15.465791: Epoch 131\n",
      "2025-05-02 08:56:15.466244: Current learning rate: 0.00881\n",
      "2025-05-02 08:59:29.906069: train_loss -0.6809\n",
      "2025-05-02 08:59:29.933126: val_loss -0.7024\n",
      "2025-05-02 08:59:29.933773: Pseudo dice [np.float32(0.8758), np.float32(0.9592), np.float32(0.9539)]\n",
      "2025-05-02 08:59:29.934323: Epoch time: 194.45 s\n",
      "2025-05-02 08:59:32.288405: \n",
      "2025-05-02 08:59:32.289828: Epoch 132\n",
      "2025-05-02 08:59:32.290605: Current learning rate: 0.0088\n",
      "\n",
      "Uploading nnUNet_results to projet-statapp-segmedic/diffusion/nnunet_dataset/nnUNet_results...\n"
     ]
    },
    {
     "name": "stderr",
     "output_type": "stream",
     "text": [
      "Upload nnUNet_results: 100%|██████████| 64/64 [00:21<00:00,  2.92it/s]\n"
     ]
    },
    {
     "name": "stdout",
     "output_type": "stream",
     "text": [
      "upload done\n",
      "2025-05-02 09:02:47.147191: train_loss -0.6863\n",
      "2025-05-02 09:02:47.148557: val_loss -0.744\n",
      "2025-05-02 09:02:47.149034: Pseudo dice [np.float32(0.8501), np.float32(0.958), np.float32(0.9748)]\n",
      "2025-05-02 09:02:47.149554: Epoch time: 194.86 s\n",
      "2025-05-02 09:02:49.832369: \n",
      "2025-05-02 09:02:49.833227: Epoch 133\n",
      "2025-05-02 09:02:49.833672: Current learning rate: 0.00879\n",
      "\n",
      "Uploading nnUNet_results to projet-statapp-segmedic/diffusion/nnunet_dataset/nnUNet_results...\n"
     ]
    },
    {
     "name": "stderr",
     "output_type": "stream",
     "text": [
      "Upload nnUNet_results:  22%|██▏       | 14/64 [00:02<00:09,  5.17it/s]"
     ]
    },
    {
     "name": "stdout",
     "output_type": "stream",
     "text": [
      "2025-05-02 09:06:06.776628: train_loss -0.6981\n",
      "2025-05-02 09:06:06.781819: val_loss -0.7535\n",
      "2025-05-02 09:06:06.782112: Pseudo dice [np.float32(0.8751), np.float32(0.9546), np.float32(0.9716)]\n",
      "2025-05-02 09:06:06.782313: Epoch time: 196.96 s\n",
      "2025-05-02 09:06:06.782462: Yayy! New best EMA pseudo Dice: 0.9275000095367432\n"
     ]
    },
    {
     "name": "stderr",
     "output_type": "stream",
     "text": [
      "Upload nnUNet_results:  47%|████▋     | 30/64 [00:07<00:10,  3.15it/s]"
     ]
    },
    {
     "name": "stdout",
     "output_type": "stream",
     "text": [
      "2025-05-02 09:06:12.413525: \n",
      "2025-05-02 09:06:12.414915: Epoch 134\n",
      "2025-05-02 09:06:12.415533: Current learning rate: 0.00879\n"
     ]
    },
    {
     "name": "stderr",
     "output_type": "stream",
     "text": [
      "Upload nnUNet_results: 100%|██████████| 64/64 [00:19<00:00,  3.21it/s]\n"
     ]
    },
    {
     "name": "stdout",
     "output_type": "stream",
     "text": [
      "upload done\n",
      "2025-05-02 09:09:26.675076: train_loss -0.6943\n",
      "2025-05-02 09:09:26.675552: val_loss -0.6934\n",
      "2025-05-02 09:09:26.675678: Pseudo dice [np.float32(0.87), np.float32(0.9577), np.float32(0.9706)]\n",
      "2025-05-02 09:09:26.675822: Epoch time: 194.27 s\n",
      "2025-05-02 09:09:26.675915: Yayy! New best EMA pseudo Dice: 0.9279999732971191\n",
      "2025-05-02 09:09:30.962351: \n",
      "2025-05-02 09:09:30.963006: Epoch 135\n",
      "2025-05-02 09:09:30.963430: Current learning rate: 0.00878\n",
      "\n",
      "Uploading nnUNet_results to projet-statapp-segmedic/diffusion/nnunet_dataset/nnUNet_results...\n"
     ]
    },
    {
     "name": "stderr",
     "output_type": "stream",
     "text": [
      "Upload nnUNet_results: 100%|██████████| 64/64 [00:20<00:00,  3.14it/s]\n"
     ]
    },
    {
     "name": "stdout",
     "output_type": "stream",
     "text": [
      "upload done\n",
      "2025-05-02 09:12:46.101734: train_loss -0.6886\n",
      "2025-05-02 09:12:46.102170: val_loss -0.6708\n",
      "2025-05-02 09:12:46.102399: Pseudo dice [np.float32(0.8516), np.float32(0.9514), np.float32(0.9533)]\n",
      "2025-05-02 09:12:46.102643: Epoch time: 195.14 s\n",
      "2025-05-02 09:12:48.975355: \n",
      "2025-05-02 09:12:48.976130: Epoch 136\n",
      "2025-05-02 09:12:48.977354: Current learning rate: 0.00877\n",
      "2025-05-02 09:16:05.157106: train_loss -0.6937\n",
      "2025-05-02 09:16:05.159007: val_loss -0.6796\n",
      "2025-05-02 09:16:05.159709: Pseudo dice [np.float32(0.8634), np.float32(0.9606), np.float32(0.9731)]\n",
      "2025-05-02 09:16:05.160117: Epoch time: 196.19 s\n",
      "2025-05-02 09:16:07.783633: \n",
      "2025-05-02 09:16:07.796675: Epoch 137\n",
      "2025-05-02 09:16:07.797047: Current learning rate: 0.00876\n",
      "\n",
      "Uploading nnUNet_results to projet-statapp-segmedic/diffusion/nnunet_dataset/nnUNet_results...\n"
     ]
    },
    {
     "name": "stderr",
     "output_type": "stream",
     "text": [
      "Upload nnUNet_results: 100%|██████████| 64/64 [00:22<00:00,  2.88it/s]\n"
     ]
    },
    {
     "name": "stdout",
     "output_type": "stream",
     "text": [
      "upload done\n",
      "2025-05-02 09:19:23.175255: train_loss -0.688\n",
      "2025-05-02 09:19:23.175956: val_loss -0.7399\n",
      "2025-05-02 09:19:23.176242: Pseudo dice [np.float32(0.8775), np.float32(0.9535), np.float32(0.9665)]\n",
      "2025-05-02 09:19:23.176431: Epoch time: 195.4 s\n",
      "2025-05-02 09:19:23.176529: Yayy! New best EMA pseudo Dice: 0.9280999898910522\n",
      "2025-05-02 09:19:28.357130: \n",
      "2025-05-02 09:19:28.357536: Epoch 138\n",
      "2025-05-02 09:19:28.357909: Current learning rate: 0.00875\n",
      "\n",
      "Uploading nnUNet_results to projet-statapp-segmedic/diffusion/nnunet_dataset/nnUNet_results...\n"
     ]
    },
    {
     "name": "stderr",
     "output_type": "stream",
     "text": [
      "Upload nnUNet_results: 100%|██████████| 64/64 [00:19<00:00,  3.37it/s]\n"
     ]
    },
    {
     "name": "stdout",
     "output_type": "stream",
     "text": [
      "upload done\n",
      "2025-05-02 09:22:40.931386: train_loss -0.678\n",
      "2025-05-02 09:22:40.932956: val_loss -0.6764\n",
      "2025-05-02 09:22:40.933513: Pseudo dice [np.float32(0.864), np.float32(0.9498), np.float32(0.9596)]\n",
      "2025-05-02 09:22:40.934236: Epoch time: 192.58 s\n",
      "2025-05-02 09:22:43.212197: \n",
      "2025-05-02 09:22:43.213800: Epoch 139\n",
      "2025-05-02 09:22:43.214679: Current learning rate: 0.00874\n",
      "2025-05-02 09:25:57.135359: train_loss -0.705\n",
      "2025-05-02 09:25:57.136387: val_loss -0.7244\n",
      "2025-05-02 09:25:57.136706: Pseudo dice [np.float32(0.8603), np.float32(0.9569), np.float32(0.9687)]\n",
      "2025-05-02 09:25:57.137089: Epoch time: 193.93 s\n",
      "2025-05-02 09:25:59.429664: \n",
      "2025-05-02 09:25:59.431083: Epoch 140\n",
      "2025-05-02 09:25:59.431948: Current learning rate: 0.00873\n",
      "\n",
      "Uploading nnUNet_results to projet-statapp-segmedic/diffusion/nnunet_dataset/nnUNet_results...\n"
     ]
    },
    {
     "name": "stderr",
     "output_type": "stream",
     "text": [
      "Upload nnUNet_results: 100%|██████████| 64/64 [00:38<00:00,  1.67it/s]\n"
     ]
    },
    {
     "name": "stdout",
     "output_type": "stream",
     "text": [
      "upload done\n",
      "2025-05-02 09:29:13.996762: train_loss -0.6893\n",
      "2025-05-02 09:29:14.001511: val_loss -0.6823\n",
      "2025-05-02 09:29:14.001837: Pseudo dice [np.float32(0.8644), np.float32(0.9527), np.float32(0.9759)]\n",
      "2025-05-02 09:29:14.002126: Epoch time: 194.57 s\n",
      "2025-05-02 09:29:14.002337: Yayy! New best EMA pseudo Dice: 0.9280999898910522\n",
      "2025-05-02 09:29:18.359831: \n",
      "2025-05-02 09:29:18.363884: Epoch 141\n",
      "2025-05-02 09:29:18.367586: Current learning rate: 0.00872\n",
      "2025-05-02 09:32:32.044538: train_loss -0.6929\n",
      "2025-05-02 09:32:32.050114: val_loss -0.7048\n",
      "2025-05-02 09:32:32.050584: Pseudo dice [np.float32(0.8714), np.float32(0.9568), np.float32(0.9719)]\n",
      "2025-05-02 09:32:32.051009: Epoch time: 193.69 s\n",
      "2025-05-02 09:32:32.051367: Yayy! New best EMA pseudo Dice: 0.9286999702453613\n",
      "2025-05-02 09:32:36.674374: \n",
      "2025-05-02 09:32:36.674716: Epoch 142\n",
      "2025-05-02 09:32:36.674871: Current learning rate: 0.00871\n",
      "\n",
      "Uploading nnUNet_results to projet-statapp-segmedic/diffusion/nnunet_dataset/nnUNet_results...\n"
     ]
    },
    {
     "name": "stderr",
     "output_type": "stream",
     "text": [
      "Upload nnUNet_results: 100%|██████████| 64/64 [00:32<00:00,  1.95it/s]\n"
     ]
    },
    {
     "name": "stdout",
     "output_type": "stream",
     "text": [
      "upload done\n",
      "2025-05-02 09:35:49.878391: train_loss -0.6916\n",
      "2025-05-02 09:35:49.879440: val_loss -0.7197\n",
      "2025-05-02 09:35:49.879745: Pseudo dice [np.float32(0.8734), np.float32(0.9645), np.float32(0.9569)]\n",
      "2025-05-02 09:35:49.880043: Epoch time: 193.21 s\n",
      "2025-05-02 09:35:49.880249: Yayy! New best EMA pseudo Dice: 0.9290000200271606\n",
      "2025-05-02 09:35:53.677716: \n",
      "2025-05-02 09:35:53.678122: Epoch 143\n",
      "2025-05-02 09:35:53.678386: Current learning rate: 0.0087\n",
      "\n",
      "Uploading nnUNet_results to projet-statapp-segmedic/diffusion/nnunet_dataset/nnUNet_results...\n"
     ]
    },
    {
     "name": "stderr",
     "output_type": "stream",
     "text": [
      "Upload nnUNet_results:  89%|████████▉ | 57/64 [00:31<00:06,  1.13it/s]"
     ]
    },
    {
     "name": "stdout",
     "output_type": "stream",
     "text": [
      "2025-05-02 09:39:08.570594: train_loss -0.6992\n",
      "2025-05-02 09:39:08.571219: val_loss -0.7423\n",
      "2025-05-02 09:39:08.571412: Pseudo dice [np.float32(0.8914), np.float32(0.9625), np.float32(0.9652)]\n",
      "2025-05-02 09:39:08.571609: Epoch time: 194.9 s\n",
      "2025-05-02 09:39:08.571752: Yayy! New best EMA pseudo Dice: 0.9300000071525574\n"
     ]
    },
    {
     "name": "stderr",
     "output_type": "stream",
     "text": [
      "Upload nnUNet_results: 100%|██████████| 64/64 [00:35<00:00,  1.80it/s]\n"
     ]
    },
    {
     "name": "stdout",
     "output_type": "stream",
     "text": [
      "upload done\n",
      "2025-05-02 09:39:12.854037: \n",
      "2025-05-02 09:39:12.855041: Epoch 144\n",
      "2025-05-02 09:39:12.855426: Current learning rate: 0.00869\n",
      "2025-05-02 09:42:27.541899: train_loss -0.7173\n",
      "2025-05-02 09:42:27.543098: val_loss -0.7408\n",
      "2025-05-02 09:42:27.543447: Pseudo dice [np.float32(0.8692), np.float32(0.9603), np.float32(0.9641)]\n",
      "2025-05-02 09:42:27.543794: Epoch time: 194.69 s\n",
      "2025-05-02 09:42:27.544023: Yayy! New best EMA pseudo Dice: 0.9301000237464905\n",
      "2025-05-02 09:42:33.492288: \n",
      "2025-05-02 09:42:33.494035: Epoch 145\n",
      "2025-05-02 09:42:33.494868: Current learning rate: 0.00868\n",
      "\n",
      "Uploading nnUNet_results to projet-statapp-segmedic/diffusion/nnunet_dataset/nnUNet_results...\n"
     ]
    },
    {
     "name": "stderr",
     "output_type": "stream",
     "text": [
      "Upload nnUNet_results: 100%|██████████| 64/64 [00:31<00:00,  2.01it/s]\n"
     ]
    },
    {
     "name": "stdout",
     "output_type": "stream",
     "text": [
      "upload done\n",
      "2025-05-02 09:45:48.529792: train_loss -0.7003\n",
      "2025-05-02 09:45:48.530741: val_loss -0.7392\n",
      "2025-05-02 09:45:48.531762: Pseudo dice [np.float32(0.871), np.float32(0.9522), np.float32(0.9722)]\n",
      "2025-05-02 09:45:48.532623: Epoch time: 195.04 s\n",
      "2025-05-02 09:45:48.532986: Yayy! New best EMA pseudo Dice: 0.9302999973297119\n",
      "2025-05-02 09:45:52.740965: \n",
      "2025-05-02 09:45:52.741666: Epoch 146\n",
      "2025-05-02 09:45:52.741874: Current learning rate: 0.00868\n",
      "2025-05-02 09:49:07.141843: train_loss -0.6728\n",
      "2025-05-02 09:49:07.143159: val_loss -0.7122\n",
      "2025-05-02 09:49:07.143619: Pseudo dice [np.float32(0.8568), np.float32(0.9538), np.float32(0.9734)]\n",
      "2025-05-02 09:49:07.144029: Epoch time: 194.41 s\n",
      "2025-05-02 09:49:09.693116: \n",
      "2025-05-02 09:49:09.694123: Epoch 147\n",
      "2025-05-02 09:49:09.694525: Current learning rate: 0.00867\n",
      "\n",
      "Uploading nnUNet_results to projet-statapp-segmedic/diffusion/nnunet_dataset/nnUNet_results...\n"
     ]
    },
    {
     "name": "stderr",
     "output_type": "stream",
     "text": [
      "Upload nnUNet_results: 100%|██████████| 64/64 [00:22<00:00,  2.88it/s]\n"
     ]
    },
    {
     "name": "stdout",
     "output_type": "stream",
     "text": [
      "upload done\n",
      "2025-05-02 09:52:22.991642: train_loss -0.6907\n",
      "2025-05-02 09:52:22.995355: val_loss -0.7173\n",
      "2025-05-02 09:52:22.995889: Pseudo dice [np.float32(0.8479), np.float32(0.9568), np.float32(0.9649)]\n",
      "2025-05-02 09:52:22.996402: Epoch time: 193.3 s\n",
      "2025-05-02 09:52:25.300786: \n",
      "2025-05-02 09:52:25.301746: Epoch 148\n",
      "2025-05-02 09:52:25.302292: Current learning rate: 0.00866\n",
      "\n",
      "Uploading nnUNet_results to projet-statapp-segmedic/diffusion/nnunet_dataset/nnUNet_results...\n"
     ]
    },
    {
     "name": "stderr",
     "output_type": "stream",
     "text": [
      "Upload nnUNet_results: 100%|██████████| 64/64 [00:19<00:00,  3.32it/s]\n"
     ]
    },
    {
     "name": "stdout",
     "output_type": "stream",
     "text": [
      "upload done\n",
      "2025-05-02 09:55:38.489417: train_loss -0.6824\n",
      "2025-05-02 09:55:38.491916: val_loss -0.7259\n",
      "2025-05-02 09:55:38.492103: Pseudo dice [np.float32(0.8816), np.float32(0.9593), np.float32(0.968)]\n",
      "2025-05-02 09:55:38.492299: Epoch time: 193.19 s\n",
      "2025-05-02 09:55:40.909665: \n",
      "2025-05-02 09:55:40.911158: Epoch 149\n",
      "2025-05-02 09:55:40.911849: Current learning rate: 0.00865\n",
      "2025-05-02 09:58:53.511104: train_loss -0.6901\n",
      "2025-05-02 09:58:53.513043: val_loss -0.6977\n",
      "2025-05-02 09:58:53.513516: Pseudo dice [np.float32(0.8405), np.float32(0.9511), np.float32(0.9669)]\n",
      "2025-05-02 09:58:53.513973: Epoch time: 192.61 s\n",
      "2025-05-02 09:58:57.279688: \n",
      "2025-05-02 09:58:57.280374: Epoch 150\n",
      "2025-05-02 09:58:57.280637: Current learning rate: 0.00864\n",
      "\n",
      "Uploading nnUNet_results to projet-statapp-segmedic/diffusion/nnunet_dataset/nnUNet_results...\n"
     ]
    },
    {
     "name": "stderr",
     "output_type": "stream",
     "text": [
      "Upload nnUNet_results: 100%|██████████| 64/64 [00:22<00:00,  2.85it/s]\n"
     ]
    },
    {
     "name": "stdout",
     "output_type": "stream",
     "text": [
      "upload done\n",
      "2025-05-02 10:02:10.300982: train_loss -0.6992\n",
      "2025-05-02 10:02:10.301655: val_loss -0.6875\n",
      "2025-05-02 10:02:10.301863: Pseudo dice [np.float32(0.8632), np.float32(0.953), np.float32(0.9622)]\n",
      "2025-05-02 10:02:10.302064: Epoch time: 193.02 s\n",
      "2025-05-02 10:02:12.644984: \n",
      "2025-05-02 10:02:12.645998: Epoch 151\n",
      "2025-05-02 10:02:12.646431: Current learning rate: 0.00863\n",
      "2025-05-02 10:05:27.169577: train_loss -0.6868\n",
      "2025-05-02 10:05:27.170017: val_loss -0.7165\n",
      "2025-05-02 10:05:27.170146: Pseudo dice [np.float32(0.8823), np.float32(0.9636), np.float32(0.9692)]\n",
      "2025-05-02 10:05:27.170266: Epoch time: 194.53 s\n",
      "2025-05-02 10:05:29.805271: \n",
      "2025-05-02 10:05:29.806298: Epoch 152\n",
      "2025-05-02 10:05:29.806717: Current learning rate: 0.00862\n",
      "\n",
      "Uploading nnUNet_results to projet-statapp-segmedic/diffusion/nnunet_dataset/nnUNet_results...\n"
     ]
    },
    {
     "name": "stderr",
     "output_type": "stream",
     "text": [
      "Upload nnUNet_results: 100%|██████████| 64/64 [00:18<00:00,  3.39it/s]\n"
     ]
    },
    {
     "name": "stdout",
     "output_type": "stream",
     "text": [
      "upload done\n"
     ]
    },
    {
     "name": "stderr",
     "output_type": "stream",
     "text": [
      "Traceback (most recent call last):\n",
      "  File \"/usr/local/bin/nnUNetv2_train\", line 8, in <module>\n",
      "    sys.exit(run_training_entry())\n",
      "             ^^^^^^^^^^^^^^^^^^^^\n",
      "  File \"/usr/local/lib/python3.12/site-packages/nnunetv2/run/run_training.py\", line 267, in run_training_entry\n",
      "    run_training(args.dataset_name_or_id, args.configuration, args.fold, args.tr, args.p, args.pretrained_weights,\n",
      "  File \"/usr/local/lib/python3.12/site-packages/nnunetv2/run/run_training.py\", line 207, in run_training\n",
      "    nnunet_trainer.run_training()\n",
      "  File \"/usr/local/lib/python3.12/site-packages/nnunetv2/training/nnUNetTrainer/nnUNetTrainer.py\", line 1371, in run_training\n",
      "    train_outputs.append(self.train_step(next(self.dataloader_train)))\n",
      "                         ^^^^^^^^^^^^^^^^^^^^^^^^^^^^^^^^^^^^^^^^^^^^\n",
      "  File \"/usr/local/lib/python3.12/site-packages/nnunetv2/training/nnUNetTrainer/nnUNetTrainer.py\", line 997, in train_step\n",
      "    self.grad_scaler.step(self.optimizer)\n",
      "  File \"/usr/local/lib/python3.12/site-packages/torch/amp/grad_scaler.py\", line 461, in step\n",
      "    retval = self._maybe_opt_step(optimizer, optimizer_state, *args, **kwargs)\n",
      "             ^^^^^^^^^^^^^^^^^^^^^^^^^^^^^^^^^^^^^^^^^^^^^^^^^^^^^^^^^^^^^^^^^\n",
      "  File \"/usr/local/lib/python3.12/site-packages/torch/amp/grad_scaler.py\", line 355, in _maybe_opt_step\n",
      "    if not sum(v.item() for v in optimizer_state[\"found_inf_per_device\"].values()):\n",
      "           ^^^^^^^^^^^^^^^^^^^^^^^^^^^^^^^^^^^^^^^^^^^^^^^^^^^^^^^^^^^^^^^^^^^^^^^\n",
      "  File \"/usr/local/lib/python3.12/site-packages/torch/amp/grad_scaler.py\", line 355, in <genexpr>\n",
      "    if not sum(v.item() for v in optimizer_state[\"found_inf_per_device\"].values()):\n",
      "               ^^^^^^^^\n",
      "KeyboardInterrupt\n"
     ]
    },
    {
     "ename": "KeyboardInterrupt",
     "evalue": "",
     "output_type": "error",
     "traceback": [
      "\u001b[31m---------------------------------------------------------------------------\u001b[39m",
      "\u001b[31mKeyboardInterrupt\u001b[39m                         Traceback (most recent call last)",
      "\u001b[36mCell\u001b[39m\u001b[36m \u001b[39m\u001b[32mIn[7]\u001b[39m\u001b[32m, line 40\u001b[39m\n\u001b[32m     37\u001b[39m uploader_thread.start()\n\u001b[32m     38\u001b[39m trainer_thread.start()\n\u001b[32m---> \u001b[39m\u001b[32m40\u001b[39m \u001b[43mtrainer_thread\u001b[49m\u001b[43m.\u001b[49m\u001b[43mjoin\u001b[49m\u001b[43m(\u001b[49m\u001b[43m)\u001b[49m\n\u001b[32m     41\u001b[39m \u001b[38;5;28mprint\u001b[39m(\u001b[33m\"\u001b[39m\u001b[33m[Main] All done.\u001b[39m\u001b[33m\"\u001b[39m)\n",
      "\u001b[36mFile \u001b[39m\u001b[32m/usr/local/lib/python3.12/threading.py:1149\u001b[39m, in \u001b[36mThread.join\u001b[39m\u001b[34m(self, timeout)\u001b[39m\n\u001b[32m   1146\u001b[39m     \u001b[38;5;28;01mraise\u001b[39;00m \u001b[38;5;167;01mRuntimeError\u001b[39;00m(\u001b[33m\"\u001b[39m\u001b[33mcannot join current thread\u001b[39m\u001b[33m\"\u001b[39m)\n\u001b[32m   1148\u001b[39m \u001b[38;5;28;01mif\u001b[39;00m timeout \u001b[38;5;129;01mis\u001b[39;00m \u001b[38;5;28;01mNone\u001b[39;00m:\n\u001b[32m-> \u001b[39m\u001b[32m1149\u001b[39m     \u001b[38;5;28;43mself\u001b[39;49m\u001b[43m.\u001b[49m\u001b[43m_wait_for_tstate_lock\u001b[49m\u001b[43m(\u001b[49m\u001b[43m)\u001b[49m\n\u001b[32m   1150\u001b[39m \u001b[38;5;28;01melse\u001b[39;00m:\n\u001b[32m   1151\u001b[39m     \u001b[38;5;66;03m# the behavior of a negative timeout isn't documented, but\u001b[39;00m\n\u001b[32m   1152\u001b[39m     \u001b[38;5;66;03m# historically .join(timeout=x) for x<0 has acted as if timeout=0\u001b[39;00m\n\u001b[32m   1153\u001b[39m     \u001b[38;5;28mself\u001b[39m._wait_for_tstate_lock(timeout=\u001b[38;5;28mmax\u001b[39m(timeout, \u001b[32m0\u001b[39m))\n",
      "\u001b[36mFile \u001b[39m\u001b[32m/usr/local/lib/python3.12/threading.py:1169\u001b[39m, in \u001b[36mThread._wait_for_tstate_lock\u001b[39m\u001b[34m(self, block, timeout)\u001b[39m\n\u001b[32m   1166\u001b[39m     \u001b[38;5;28;01mreturn\u001b[39;00m\n\u001b[32m   1168\u001b[39m \u001b[38;5;28;01mtry\u001b[39;00m:\n\u001b[32m-> \u001b[39m\u001b[32m1169\u001b[39m     \u001b[38;5;28;01mif\u001b[39;00m \u001b[43mlock\u001b[49m\u001b[43m.\u001b[49m\u001b[43macquire\u001b[49m\u001b[43m(\u001b[49m\u001b[43mblock\u001b[49m\u001b[43m,\u001b[49m\u001b[43m \u001b[49m\u001b[43mtimeout\u001b[49m\u001b[43m)\u001b[49m:\n\u001b[32m   1170\u001b[39m         lock.release()\n\u001b[32m   1171\u001b[39m         \u001b[38;5;28mself\u001b[39m._stop()\n",
      "\u001b[31mKeyboardInterrupt\u001b[39m: "
     ]
    },
    {
     "name": "stdout",
     "output_type": "stream",
     "text": [
      "[Trainer] Training complete.\n"
     ]
    }
   ],
   "source": [
    "# Code to train and upload nnU-Net\n",
    "\n",
    "dataset=input(\"Enter one among: Dataset001_Annot1, Dataset002_Annot2, Dataset003_Annot3\")\n",
    "\n",
    "# Upload function with time interval \n",
    "# IDEA: upload as soon as the content of temp/results changes\n",
    "def sync_results_to_s3():\n",
    "    print(\"[Uploader] Starting S3 sync thread.\")\n",
    "\n",
    "    while True:\n",
    "        \n",
    "        upload_to_s3('nnUNet_results')\n",
    "        print(\"upload done\")\n",
    "\n",
    "        time.sleep(300)\n",
    "\n",
    "\n",
    "# Training function\n",
    "def run_training():\n",
    "    print(\"[Trainer] Launching nnUNet training...\")\n",
    "    command = [\n",
    "        \"nnUNetv2_train\",\n",
    "        f\"{dataset}\",  # Dataset ID\n",
    "        \"3d_fullres\",  # Plan\n",
    "        \"all\",  # Fold            \n",
    "        \"--npz\",\n",
    "        \"--c\"\n",
    "    ]\n",
    "    subprocess.run(command)\n",
    "    print(\"[Trainer] Training complete.\")\n",
    "\n",
    "\n",
    "# Threads\n",
    "uploader_thread = threading.Thread(target=sync_results_to_s3, daemon=True)\n",
    "trainer_thread = threading.Thread(target=run_training)\n",
    "\n",
    "uploader_thread.start()\n",
    "trainer_thread.start()\n",
    "\n",
    "trainer_thread.join()\n",
    "print(\"[Main] All done.\")"
   ]
  },
  {
   "cell_type": "code",
   "execution_count": null,
   "id": "c32b97d9",
   "metadata": {},
   "outputs": [],
   "source": []
  },
  {
   "cell_type": "code",
   "execution_count": null,
   "id": "d33596f4",
   "metadata": {},
   "outputs": [],
   "source": []
  }
 ],
 "metadata": {
  "kernelspec": {
   "display_name": "Python 3",
   "language": "python",
   "name": "python3"
  },
  "language_info": {
   "codemirror_mode": {
    "name": "ipython",
    "version": 3
   },
   "file_extension": ".py",
   "mimetype": "text/x-python",
   "name": "python",
   "nbconvert_exporter": "python",
   "pygments_lexer": "ipython3",
   "version": "3.12.9"
  }
 },
 "nbformat": 4,
 "nbformat_minor": 5
}

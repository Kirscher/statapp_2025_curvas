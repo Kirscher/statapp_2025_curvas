{
 "cells": [
  {
   "cell_type": "markdown",
   "id": "0b00aecb",
   "metadata": {},
   "source": [
    "# Reproducible Training of nnU-Net"
   ]
  },
  {
   "cell_type": "markdown",
   "id": "bcdfa961",
   "metadata": {},
   "source": [
    "Here is the code to reproduce the training of nnU-Net according to the dataset you want and initialization (not yet available).\n",
    "This Jupyter Notebook is available on the branch test_leo (``git checkout test_leo``).\n",
    "\n",
    "Very Important: Before doing anything on this notebook, you should open a service Onyxia entitled \"Vscode-pytorch-gpu\"."
   ]
  },
  {
   "cell_type": "markdown",
   "id": "6fb9b536",
   "metadata": {},
   "source": [
    "**What is missing?**\n",
    "- Early stopping (heuristic: 80 epochs which lasts ~5h)\n",
    "- Different initializations"
   ]
  },
  {
   "cell_type": "markdown",
   "id": "dd4f7f49",
   "metadata": {},
   "source": [
    "## 1. Requirements\n"
   ]
  },
  {
   "cell_type": "markdown",
   "id": "19db46d5",
   "metadata": {},
   "source": [
    "Python libraries required to run training and handle document downloading / uploading:"
   ]
  },
  {
   "cell_type": "code",
   "execution_count": 2,
   "id": "e005d3b7",
   "metadata": {},
   "outputs": [
    {
     "name": "stdout",
     "output_type": "stream",
     "text": [
      "Requirement already satisfied: nnunetv2 in /usr/local/lib/python3.12/site-packages (2.6.0)\n",
      "Requirement already satisfied: tqdm in /usr/local/lib/python3.12/site-packages (4.67.1)\n",
      "Requirement already satisfied: s3fs in /usr/local/lib/python3.12/site-packages (2025.3.2)\n",
      "Requirement already satisfied: torch>=2.1.2 in /usr/local/lib/python3.12/site-packages (from nnunetv2) (2.7.0)\n",
      "Requirement already satisfied: acvl-utils<0.3,>=0.2.3 in /usr/local/lib/python3.12/site-packages (from nnunetv2) (0.2.5)\n",
      "Requirement already satisfied: dynamic-network-architectures<0.4,>=0.3.1 in /usr/local/lib/python3.12/site-packages (from nnunetv2) (0.3.1)\n",
      "Requirement already satisfied: dicom2nifti in /usr/local/lib/python3.12/site-packages (from nnunetv2) (2.6.1)\n",
      "Requirement already satisfied: scipy in /usr/local/lib/python3.12/site-packages (from nnunetv2) (1.15.3)\n",
      "Requirement already satisfied: batchgenerators>=0.25.1 in /usr/local/lib/python3.12/site-packages (from nnunetv2) (0.25.1)\n",
      "Requirement already satisfied: numpy>=1.24 in /usr/local/lib/python3.12/site-packages (from nnunetv2) (2.2.5)\n",
      "Requirement already satisfied: scikit-learn in /usr/local/lib/python3.12/site-packages (from nnunetv2) (1.6.1)\n",
      "Requirement already satisfied: scikit-image>=0.19.3 in /usr/local/lib/python3.12/site-packages (from nnunetv2) (0.25.2)\n",
      "Requirement already satisfied: SimpleITK>=2.2.1 in /usr/local/lib/python3.12/site-packages (from nnunetv2) (2.5.0)\n",
      "Requirement already satisfied: pandas in /usr/local/lib/python3.12/site-packages (from nnunetv2) (2.2.3)\n",
      "Requirement already satisfied: graphviz in /usr/local/lib/python3.12/site-packages (from nnunetv2) (0.20.3)\n",
      "Requirement already satisfied: tifffile in /usr/local/lib/python3.12/site-packages (from nnunetv2) (2025.3.30)\n",
      "Requirement already satisfied: requests in /usr/local/lib/python3.12/site-packages (from nnunetv2) (2.32.3)\n",
      "Requirement already satisfied: nibabel in /usr/local/lib/python3.12/site-packages (from nnunetv2) (5.3.2)\n",
      "Requirement already satisfied: matplotlib in /usr/local/lib/python3.12/site-packages (from nnunetv2) (3.10.3)\n",
      "Requirement already satisfied: seaborn in /usr/local/lib/python3.12/site-packages (from nnunetv2) (0.13.2)\n",
      "Requirement already satisfied: imagecodecs in /usr/local/lib/python3.12/site-packages (from nnunetv2) (2025.3.30)\n",
      "Requirement already satisfied: yacs in /usr/local/lib/python3.12/site-packages (from nnunetv2) (0.1.8)\n",
      "Requirement already satisfied: batchgeneratorsv2>=0.2 in /usr/local/lib/python3.12/site-packages (from nnunetv2) (0.2.3)\n",
      "Requirement already satisfied: einops in /usr/local/lib/python3.12/site-packages (from nnunetv2) (0.8.1)\n",
      "Requirement already satisfied: blosc2>=3.0.0b1 in /usr/local/lib/python3.12/site-packages (from nnunetv2) (3.3.2)\n",
      "Requirement already satisfied: connected-components-3d in /usr/local/lib/python3.12/site-packages (from acvl-utils<0.3,>=0.2.3->nnunetv2) (3.23.0)\n",
      "Requirement already satisfied: aiobotocore<3.0.0,>=2.5.4 in /usr/local/lib/python3.12/site-packages (from s3fs) (2.22.0)\n",
      "Requirement already satisfied: fsspec==2025.3.2.* in /usr/local/lib/python3.12/site-packages (from s3fs) (2025.3.2)\n",
      "Requirement already satisfied: aiohttp!=4.0.0a0,!=4.0.0a1 in /usr/local/lib/python3.12/site-packages (from s3fs) (3.11.18)\n",
      "Requirement already satisfied: aioitertools<1.0.0,>=0.5.1 in /usr/local/lib/python3.12/site-packages (from aiobotocore<3.0.0,>=2.5.4->s3fs) (0.12.0)\n",
      "Requirement already satisfied: botocore<1.37.4,>=1.37.2 in /usr/local/lib/python3.12/site-packages (from aiobotocore<3.0.0,>=2.5.4->s3fs) (1.37.3)\n",
      "Requirement already satisfied: python-dateutil<3.0.0,>=2.1 in /usr/local/lib/python3.12/site-packages (from aiobotocore<3.0.0,>=2.5.4->s3fs) (2.9.0.post0)\n",
      "Requirement already satisfied: jmespath<2.0.0,>=0.7.1 in /usr/local/lib/python3.12/site-packages (from aiobotocore<3.0.0,>=2.5.4->s3fs) (1.0.1)\n",
      "Requirement already satisfied: multidict<7.0.0,>=6.0.0 in /usr/local/lib/python3.12/site-packages (from aiobotocore<3.0.0,>=2.5.4->s3fs) (6.4.3)\n",
      "Requirement already satisfied: wrapt<2.0.0,>=1.10.10 in /usr/local/lib/python3.12/site-packages (from aiobotocore<3.0.0,>=2.5.4->s3fs) (1.17.2)\n",
      "Requirement already satisfied: aiohappyeyeballs>=2.3.0 in /usr/local/lib/python3.12/site-packages (from aiohttp!=4.0.0a0,!=4.0.0a1->s3fs) (2.6.1)\n",
      "Requirement already satisfied: aiosignal>=1.1.2 in /usr/local/lib/python3.12/site-packages (from aiohttp!=4.0.0a0,!=4.0.0a1->s3fs) (1.3.2)\n",
      "Requirement already satisfied: attrs>=17.3.0 in /usr/local/lib/python3.12/site-packages (from aiohttp!=4.0.0a0,!=4.0.0a1->s3fs) (25.3.0)\n",
      "Requirement already satisfied: frozenlist>=1.1.1 in /usr/local/lib/python3.12/site-packages (from aiohttp!=4.0.0a0,!=4.0.0a1->s3fs) (1.6.0)\n",
      "Requirement already satisfied: propcache>=0.2.0 in /usr/local/lib/python3.12/site-packages (from aiohttp!=4.0.0a0,!=4.0.0a1->s3fs) (0.3.1)\n",
      "Requirement already satisfied: yarl<2.0,>=1.17.0 in /usr/local/lib/python3.12/site-packages (from aiohttp!=4.0.0a0,!=4.0.0a1->s3fs) (1.20.0)\n",
      "Requirement already satisfied: urllib3!=2.2.0,<3,>=1.25.4 in /usr/local/lib/python3.12/site-packages (from botocore<1.37.4,>=1.37.2->aiobotocore<3.0.0,>=2.5.4->s3fs) (2.4.0)\n",
      "Requirement already satisfied: six>=1.5 in /usr/local/lib/python3.12/site-packages (from python-dateutil<3.0.0,>=2.1->aiobotocore<3.0.0,>=2.5.4->s3fs) (1.17.0)\n",
      "Requirement already satisfied: idna>=2.0 in /usr/local/lib/python3.12/site-packages (from yarl<2.0,>=1.17.0->aiohttp!=4.0.0a0,!=4.0.0a1->s3fs) (3.10)\n",
      "Requirement already satisfied: pillow>=7.1.2 in /usr/local/lib/python3.12/site-packages (from batchgenerators>=0.25.1->nnunetv2) (11.2.1)\n",
      "Requirement already satisfied: future in /usr/local/lib/python3.12/site-packages (from batchgenerators>=0.25.1->nnunetv2) (1.0.0)\n",
      "Requirement already satisfied: unittest2 in /usr/local/lib/python3.12/site-packages (from batchgenerators>=0.25.1->nnunetv2) (1.1.0)\n",
      "Requirement already satisfied: threadpoolctl in /usr/local/lib/python3.12/site-packages (from batchgenerators>=0.25.1->nnunetv2) (3.6.0)\n",
      "Requirement already satisfied: fft-conv-pytorch in /usr/local/lib/python3.12/site-packages (from batchgeneratorsv2>=0.2->nnunetv2) (1.2.0)\n",
      "Requirement already satisfied: ndindex in /usr/local/lib/python3.12/site-packages (from blosc2>=3.0.0b1->nnunetv2) (1.9.2)\n",
      "Requirement already satisfied: msgpack in /usr/local/lib/python3.12/site-packages (from blosc2>=3.0.0b1->nnunetv2) (1.1.0)\n",
      "Requirement already satisfied: platformdirs in /usr/local/lib/python3.12/site-packages (from blosc2>=3.0.0b1->nnunetv2) (4.3.7)\n",
      "Requirement already satisfied: numexpr in /usr/local/lib/python3.12/site-packages (from blosc2>=3.0.0b1->nnunetv2) (2.10.2)\n",
      "Requirement already satisfied: py-cpuinfo in /usr/local/lib/python3.12/site-packages (from blosc2>=3.0.0b1->nnunetv2) (9.0.0)\n",
      "Requirement already satisfied: networkx>=3.0 in /usr/local/lib/python3.12/site-packages (from scikit-image>=0.19.3->nnunetv2) (3.4.2)\n",
      "Requirement already satisfied: imageio!=2.35.0,>=2.33 in /usr/local/lib/python3.12/site-packages (from scikit-image>=0.19.3->nnunetv2) (2.37.0)\n",
      "Requirement already satisfied: packaging>=21 in /usr/local/lib/python3.12/site-packages (from scikit-image>=0.19.3->nnunetv2) (25.0)\n",
      "Requirement already satisfied: lazy-loader>=0.4 in /usr/local/lib/python3.12/site-packages (from scikit-image>=0.19.3->nnunetv2) (0.4)\n",
      "Requirement already satisfied: filelock in /usr/local/lib/python3.12/site-packages (from torch>=2.1.2->nnunetv2) (3.18.0)\n",
      "Requirement already satisfied: typing-extensions>=4.10.0 in /usr/local/lib/python3.12/site-packages (from torch>=2.1.2->nnunetv2) (4.13.2)\n",
      "Requirement already satisfied: setuptools in /usr/local/lib/python3.12/site-packages (from torch>=2.1.2->nnunetv2) (80.3.1)\n",
      "Requirement already satisfied: sympy>=1.13.3 in /usr/local/lib/python3.12/site-packages (from torch>=2.1.2->nnunetv2) (1.14.0)\n",
      "Requirement already satisfied: jinja2 in /usr/local/lib/python3.12/site-packages (from torch>=2.1.2->nnunetv2) (3.1.6)\n",
      "Requirement already satisfied: nvidia-cuda-nvrtc-cu12==12.6.77 in /usr/local/lib/python3.12/site-packages (from torch>=2.1.2->nnunetv2) (12.6.77)\n",
      "Requirement already satisfied: nvidia-cuda-runtime-cu12==12.6.77 in /usr/local/lib/python3.12/site-packages (from torch>=2.1.2->nnunetv2) (12.6.77)\n",
      "Requirement already satisfied: nvidia-cuda-cupti-cu12==12.6.80 in /usr/local/lib/python3.12/site-packages (from torch>=2.1.2->nnunetv2) (12.6.80)\n",
      "Requirement already satisfied: nvidia-cudnn-cu12==9.5.1.17 in /usr/local/lib/python3.12/site-packages (from torch>=2.1.2->nnunetv2) (9.5.1.17)\n",
      "Requirement already satisfied: nvidia-cublas-cu12==12.6.4.1 in /usr/local/lib/python3.12/site-packages (from torch>=2.1.2->nnunetv2) (12.6.4.1)\n",
      "Requirement already satisfied: nvidia-cufft-cu12==11.3.0.4 in /usr/local/lib/python3.12/site-packages (from torch>=2.1.2->nnunetv2) (11.3.0.4)\n",
      "Requirement already satisfied: nvidia-curand-cu12==10.3.7.77 in /usr/local/lib/python3.12/site-packages (from torch>=2.1.2->nnunetv2) (10.3.7.77)\n",
      "Requirement already satisfied: nvidia-cusolver-cu12==11.7.1.2 in /usr/local/lib/python3.12/site-packages (from torch>=2.1.2->nnunetv2) (11.7.1.2)\n",
      "Requirement already satisfied: nvidia-cusparse-cu12==12.5.4.2 in /usr/local/lib/python3.12/site-packages (from torch>=2.1.2->nnunetv2) (12.5.4.2)\n",
      "Requirement already satisfied: nvidia-cusparselt-cu12==0.6.3 in /usr/local/lib/python3.12/site-packages (from torch>=2.1.2->nnunetv2) (0.6.3)\n",
      "Requirement already satisfied: nvidia-nccl-cu12==2.26.2 in /usr/local/lib/python3.12/site-packages (from torch>=2.1.2->nnunetv2) (2.26.2)\n",
      "Requirement already satisfied: nvidia-nvtx-cu12==12.6.77 in /usr/local/lib/python3.12/site-packages (from torch>=2.1.2->nnunetv2) (12.6.77)\n",
      "Requirement already satisfied: nvidia-nvjitlink-cu12==12.6.85 in /usr/local/lib/python3.12/site-packages (from torch>=2.1.2->nnunetv2) (12.6.85)\n",
      "Requirement already satisfied: nvidia-cufile-cu12==1.11.1.6 in /usr/local/lib/python3.12/site-packages (from torch>=2.1.2->nnunetv2) (1.11.1.6)\n",
      "Requirement already satisfied: triton==3.3.0 in /usr/local/lib/python3.12/site-packages (from torch>=2.1.2->nnunetv2) (3.3.0)\n",
      "Requirement already satisfied: mpmath<1.4,>=1.1.0 in /usr/local/lib/python3.12/site-packages (from sympy>=1.13.3->torch>=2.1.2->nnunetv2) (1.3.0)\n",
      "Requirement already satisfied: pydicom>=3.0.0 in /usr/local/lib/python3.12/site-packages (from dicom2nifti->nnunetv2) (3.0.1)\n",
      "Requirement already satisfied: python-gdcm in /usr/local/lib/python3.12/site-packages (from dicom2nifti->nnunetv2) (3.0.24.1)\n",
      "Requirement already satisfied: MarkupSafe>=2.0 in /usr/local/lib/python3.12/site-packages (from jinja2->torch>=2.1.2->nnunetv2) (3.0.2)\n",
      "Requirement already satisfied: contourpy>=1.0.1 in /usr/local/lib/python3.12/site-packages (from matplotlib->nnunetv2) (1.3.2)\n",
      "Requirement already satisfied: cycler>=0.10 in /usr/local/lib/python3.12/site-packages (from matplotlib->nnunetv2) (0.12.1)\n",
      "Requirement already satisfied: fonttools>=4.22.0 in /usr/local/lib/python3.12/site-packages (from matplotlib->nnunetv2) (4.57.0)\n",
      "Requirement already satisfied: kiwisolver>=1.3.1 in /usr/local/lib/python3.12/site-packages (from matplotlib->nnunetv2) (1.4.8)\n",
      "Requirement already satisfied: pyparsing>=2.3.1 in /usr/local/lib/python3.12/site-packages (from matplotlib->nnunetv2) (3.2.3)\n",
      "Requirement already satisfied: pytz>=2020.1 in /usr/local/lib/python3.12/site-packages (from pandas->nnunetv2) (2025.2)\n",
      "Requirement already satisfied: tzdata>=2022.7 in /usr/local/lib/python3.12/site-packages (from pandas->nnunetv2) (2025.2)\n",
      "Requirement already satisfied: charset-normalizer<4,>=2 in /usr/local/lib/python3.12/site-packages (from requests->nnunetv2) (3.4.2)\n",
      "Requirement already satisfied: certifi>=2017.4.17 in /usr/local/lib/python3.12/site-packages (from requests->nnunetv2) (2025.4.26)\n",
      "Requirement already satisfied: joblib>=1.2.0 in /usr/local/lib/python3.12/site-packages (from scikit-learn->nnunetv2) (1.5.0)\n",
      "Collecting argparse (from unittest2->batchgenerators>=0.25.1->nnunetv2)\n",
      "  Using cached argparse-1.4.0-py2.py3-none-any.whl.metadata (2.8 kB)\n",
      "Requirement already satisfied: traceback2 in /usr/local/lib/python3.12/site-packages (from unittest2->batchgenerators>=0.25.1->nnunetv2) (1.4.0)\n",
      "Requirement already satisfied: linecache2 in /usr/local/lib/python3.12/site-packages (from traceback2->unittest2->batchgenerators>=0.25.1->nnunetv2) (1.0.0)\n",
      "Requirement already satisfied: PyYAML in /usr/local/lib/python3.12/site-packages (from yacs->nnunetv2) (6.0.2)\n",
      "Using cached argparse-1.4.0-py2.py3-none-any.whl (23 kB)\n",
      "Installing collected packages: argparse\n",
      "Successfully installed argparse-1.4.0\n"
     ]
    }
   ],
   "source": [
    "!pip install nnunetv2 tqdm s3fs\n",
    "from tqdm import tqdm\n",
    "import torch\n",
    "import s3fs\n",
    "from pathlib import Path\n",
    "from tqdm import tqdm\n",
    "import subprocess\n",
    "import threading\n",
    "import time\n",
    "import os"
   ]
  },
  {
   "cell_type": "markdown",
   "id": "ff484b16",
   "metadata": {},
   "source": [
    "Before training the models, you need to enter your credentials. Example: email --> blabla.blabla@ensae.fr, name --> username Onyxia."
   ]
  },
  {
   "cell_type": "code",
   "execution_count": 3,
   "id": "cc69f2cd",
   "metadata": {},
   "outputs": [
    {
     "name": "stdout",
     "output_type": "stream",
     "text": [
      "Git configured with email : leo.leroy@ensae.fr and username : leoacpr\n"
     ]
    }
   ],
   "source": [
    "email = input(\"Enter your email ENSAE: \")\n",
    "name = input(\"Enter your username Onyxia: \")\n",
    "\n",
    "subprocess.run([\"git\", \"config\", \"--global\", \"user.email\", email])\n",
    "subprocess.run([\"git\", \"config\", \"--global\", \"user.name\", name])\n",
    "\n",
    "print(f\"Git configured with email : {email} and username : {name}\")"
   ]
  },
  {
   "cell_type": "markdown",
   "id": "20327ed2",
   "metadata": {},
   "source": [
    "Now, you must enter your S3 private keys. They are available on Onyxia > Account > Connexion au stockage. "
   ]
  },
  {
   "cell_type": "code",
   "execution_count": 4,
   "id": "2ef67856",
   "metadata": {},
   "outputs": [
    {
     "name": "stdout",
     "output_type": "stream",
     "text": [
      "AWS keys configured as environment variables.\n"
     ]
    }
   ],
   "source": [
    "aws_access_key_id = input(\"Enter your AWS_ACCESS_KEY_ID: \")\n",
    "aws_secret_access_key = input(\"Enter your AWS_SECRET_ACCESS_KEY: \")\n",
    "aws_session_token = input(\"Enter your AWS_SESSION_TOKEN: \")\n",
    "\n",
    "# Environment variables\n",
    "os.environ[\"AWS_ACCESS_KEY_ID\"] = aws_access_key_id\n",
    "os.environ[\"AWS_SECRET_ACCESS_KEY\"] = aws_secret_access_key\n",
    "os.environ[\"AWS_SESSION_TOKEN\"] = aws_session_token\n",
    "\n",
    "print(\"AWS keys configured as environment variables.\")\n"
   ]
  },
  {
   "cell_type": "markdown",
   "id": "3897125b",
   "metadata": {},
   "source": [
    "## 2. Downloading files from S3"
   ]
  },
  {
   "cell_type": "markdown",
   "id": "bbfde054",
   "metadata": {},
   "source": [
    "The datasets are stored on the S3 service provided by Onyxia. The are available on the path   ``projet-statapp-segmedic/diffusion``. You need to download them locally by running the code below. Estimated time: 4 minutes."
   ]
  },
  {
   "cell_type": "code",
   "execution_count": 5,
   "id": "b74a21c4",
   "metadata": {},
   "outputs": [],
   "source": [
    "# Connexion to  MinIO S3 Onyxia\n",
    "s3 = s3fs.S3FileSystem(\n",
    "    client_kwargs={'endpoint_url': 'https://'+'minio.lab.sspcloud.fr'},\n",
    "    key=os.getenv(\"AWS_ACCESS_KEY_ID\"),\n",
    "    secret=os.getenv(\"AWS_SECRET_ACCESS_KEY\"),\n",
    "    token=os.getenv(\"AWS_SESSION_TOKEN\")\n",
    ")\n",
    "#print(len(s3.ls(\"projet-statapp-segmedic/diffusion/nnunet_dataset/nnUNet_raw/Dataset001_Annot1/labelsTr\")))"
   ]
  },
  {
   "cell_type": "code",
   "execution_count": 6,
   "id": "9254a8c0",
   "metadata": {},
   "outputs": [
    {
     "name": "stdout",
     "output_type": "stream",
     "text": [
      "\n",
      "Téléchargement du dossier nnUNet_raw...\n"
     ]
    },
    {
     "name": "stderr",
     "output_type": "stream",
     "text": [
      "Fichiers dans nnUNet_raw: 100%|██████████| 142/142 [05:53<00:00,  2.49s/it]\n"
     ]
    },
    {
     "name": "stdout",
     "output_type": "stream",
     "text": [
      "\n",
      "Téléchargement du dossier nnUNet_preprocessed...\n"
     ]
    },
    {
     "name": "stderr",
     "output_type": "stream",
     "text": [
      "Fichiers dans nnUNet_preprocessed: 100%|██████████| 252/252 [00:00<00:00, 14122.05it/s]\n"
     ]
    },
    {
     "name": "stdout",
     "output_type": "stream",
     "text": [
      "\n",
      "Téléchargement du dossier nnUNet_results...\n"
     ]
    },
    {
     "name": "stderr",
     "output_type": "stream",
     "text": [
      "Fichiers dans nnUNet_results: 100%|██████████| 63/63 [00:00<00:00, 7824.96it/s]"
     ]
    },
    {
     "name": "stdout",
     "output_type": "stream",
     "text": [
      "\n",
      "Configuration finished. Environment variables created:\n",
      "nnUNet_raw=/tmp/nnunet/nnUNet_raw\n",
      "nnUNet_preprocessed=/tmp/nnunet/nnUNet_preprocessed\n",
      "nnUNet_results=/tmp/nnunet/nnUNet_results\n"
     ]
    },
    {
     "name": "stderr",
     "output_type": "stream",
     "text": [
      "\n"
     ]
    }
   ],
   "source": [
    "\n",
    "def download_s3_folder():\n",
    "    \n",
    "    # Defining paths\n",
    "    base_local_path = Path('/tmp/nnunet')\n",
    "    s3_base_path = \"projet-statapp-segmedic/diffusion/nnunet_dataset\"\n",
    "    folders = ['nnUNet_raw', 'nnUNet_preprocessed', 'nnUNet_results']\n",
    "    \n",
    "    # Creating local folders\n",
    "    for folder in folders:\n",
    "        local_folder = base_local_path / folder\n",
    "        local_folder.mkdir(parents=True, exist_ok=True)\n",
    "        \n",
    "        s3_path = f\"{s3_base_path}/{folder}\"\n",
    "        print(f\"\\nTéléchargement du dossier {folder}...\")\n",
    "        \n",
    "        # Recursive list of all files from S3\n",
    "        try:\n",
    "            files = s3.find(s3_path)\n",
    "            \n",
    "            # Progression bar (very nice!)\n",
    "            with tqdm(total=len(files), desc=f\"Fichiers dans {folder}\") as pbar:\n",
    "                for file_path in files:\n",
    "                    relative_path = file_path.replace(s3_path, '').lstrip('/')\n",
    "                    local_file_path = local_folder / relative_path\n",
    "                    \n",
    "                    # Creating local files if needed\n",
    "                    local_file_path.parent.mkdir(parents=True, exist_ok=True)\n",
    "                    \n",
    "                    # Dowloading files\n",
    "                    if not local_file_path.exists():\n",
    "                        try:\n",
    "                            s3.get(file_path, str(local_file_path))\n",
    "                        except Exception as e:\n",
    "                            print(f\"Error while downloading {file_path}: {e}\")\n",
    "                    \n",
    "                    pbar.update(1)\n",
    "        \n",
    "        except Exception as e:\n",
    "            print(f\"Error while reading {s3_path}: {e}\")\n",
    "            continue\n",
    "        \n",
    "        #ERROR CORRECTED: the nnU-Net dataset naming convention requires 4 digit for image case file, not 3. \n",
    "        for string in ['1', '2', '3']:\n",
    "            images = Path(f\"/tmp/nnunet/nnUNet_raw/Dataset00{string}_Annot{string}/imagesTr\")\n",
    "            for f in images.glob(\"*_000.nii.gz\"):\n",
    "                f.rename(f.with_name(f.name.replace(\"_000.nii.gz\", \"_0000.nii.gz\")))\n",
    "    \n",
    "    # Creating global variables for paths, needed for nnU-Net training. \n",
    "    env_vars = {\n",
    "        'nnUNet_raw': str(base_local_path / 'nnUNet_raw'),\n",
    "        'nnUNet_preprocessed': str(base_local_path / 'nnUNet_preprocessed'),\n",
    "        'nnUNet_results': str(base_local_path / 'nnUNet_results')\n",
    "    }\n",
    "    \n",
    "    for var_name, path in env_vars.items():\n",
    "        os.environ[var_name] = path\n",
    "    \n",
    "    # Adding to .bashrc\n",
    "    with open(os.path.expanduser('~/.bashrc'), 'a') as f:\n",
    "        f.write('\\n# nnUNet paths\\n')\n",
    "        for var_name, path in env_vars.items():\n",
    "            f.write(f'export {var_name}=\"{path}\"\\n')\n",
    "    \n",
    "    print(\"\\nConfiguration finished. Environment variables created:\")\n",
    "    for var_name, path in env_vars.items():\n",
    "        print(f\"{var_name}={path}\")\n",
    "\n",
    "    #To apply changes:\n",
    "    !source ~/.bashrc\n",
    "\n",
    "download_s3_folder()\n"
   ]
  },
  {
   "cell_type": "markdown",
   "id": "d1cd7a23",
   "metadata": {},
   "source": [
    "Verify if the downloading has been done successfully by running the following line. \n",
    "\n",
    "Expected output: _dataset_fingerprint.json gt_segmentations nnUNetPlans.json dataset.json nnUNetPlans_3d_fullres splits_final.json_"
   ]
  },
  {
   "cell_type": "code",
   "execution_count": 14,
   "id": "4d07893d",
   "metadata": {},
   "outputs": [
    {
     "name": "stdout",
     "output_type": "stream",
     "text": [
      "dataset_fingerprint.json  gt_segmentations\t  nnUNetPlans.json\n",
      "dataset.json\t\t  nnUNetPlans_3d_fullres  splits_final.json\n"
     ]
    }
   ],
   "source": [
    "!ls /tmp/nnunet/nnUNet_preprocessed/Dataset002_Annot2"
   ]
  },
  {
   "cell_type": "markdown",
   "id": "b986f4c7",
   "metadata": {},
   "source": [
    "If you wish to preprocess and verify the datasets integrity, copy-paste and run the following lines. **BE CAREFUL:** this might make Onyxia crash if you do not increase the CPU and RAM ressources! It also takes more than 20 min per line.The lines have already been run before. You normally do not need to run them. That is why the lines are not in a code cell.\n",
    "\n",
    "``!nnUNetv2_plan_and_preprocess -h``\n",
    "\n",
    "``!nnUNetv2_plan_and_preprocess -d 1_Annot1 -c 3d_fullres --verify_dataset_integrity -np 2 -npfp 2``\n",
    "\n",
    "``!nnUNetv2_plan_and_preprocess -d 2 -c 3d_fullres --verify_dataset_integrity -np 2 -npfp 2``\n",
    "\n",
    "``!nnUNetv2_plan_and_preprocess -d 3 -c 3d_fullres --verify_dataset_integrity -np 2 -npfp 2``\n"
   ]
  },
  {
   "cell_type": "markdown",
   "id": "b85b1466",
   "metadata": {},
   "source": [
    "If you wish to upload all the documents stored locally, you can run the following code. Select one folder among ``nnUNet_preprocessed`` or ``nnUNet_results`` (you normally do not need to upload files from nnUNet_raw). Estimated time: between 10s and 1min10s."
   ]
  },
  {
   "cell_type": "code",
   "execution_count": 7,
   "id": "af1b78d2",
   "metadata": {},
   "outputs": [],
   "source": [
    "def upload_to_s3(folder):\n",
    "    # Dossier local et distant\n",
    "    local_folder = Path(f'/tmp/nnunet/{folder}')\n",
    "    s3_folder = f\"projet-statapp-segmedic/diffusion/nnunet_dataset/{folder}\"\n",
    "    \n",
    "    # Lister tous les fichiers à uploader\n",
    "    files = list(local_folder.rglob(\"*\"))\n",
    "    \n",
    "    print(f\"\\nUploading {folder} to {s3_folder}...\")\n",
    "    with tqdm(total=len(files), desc=f\"Upload {folder}\") as pbar:\n",
    "        for file_path in files:\n",
    "            if file_path.is_file():\n",
    "                relative_path = file_path.relative_to(local_folder)\n",
    "                s3_path = f\"{s3_folder}/{relative_path.as_posix()}\"\n",
    "                try:\n",
    "                    s3.put(str(file_path), s3_path)\n",
    "                except Exception as e:\n",
    "                    print(f\"Erreur lors de l'upload de {file_path} → {s3_path}: {e}\")\n",
    "            pbar.update(1)\n",
    "\n",
    "#upload_to_s3(input(\"Enter nnUNet_preprocessed or nnUNet_results\"))"
   ]
  },
  {
   "cell_type": "markdown",
   "id": "40f83170",
   "metadata": {},
   "source": [
    "## 3. Training"
   ]
  },
  {
   "cell_type": "markdown",
   "id": "47c0b2f6",
   "metadata": {},
   "source": [
    "Training must be jointly done with file uploading: The training creates many documents to save progress. These documents are stored locally, but we need them on S3. Given that epochs take usually about 200s, I decided to set the time interval of uploading to 200s.\n",
    "\n",
    "Decide on which dataset (i.e. which set of annotations) you want to use: ``Dataset001_Annot1``, ``Dataset002_Annot2``, ``Dataset003_Annot3``. "
   ]
  },
  {
   "cell_type": "markdown",
   "id": "cebb6190",
   "metadata": {},
   "source": [
    "**CAREFUL**: The project isn't entirely done. For the moment, there is no early stopping. You should continuoulsy check if Onyxia hasn't crashed during the training (normally it shouldn't happen) and stop about 80 epochs. If you wish to resume training, you can enter this: ``nnUNetv2_train <dataset> 3d_fullres all --npz --c`` but it will only resume from a multiple of 50 epochs (nnU-Net automatically saves its results every 50 epochs). "
   ]
  },
  {
   "cell_type": "code",
   "execution_count": 8,
   "id": "208da390",
   "metadata": {},
   "outputs": [
    {
     "name": "stdout",
     "output_type": "stream",
     "text": [
      "[Uploader] Starting S3 sync thread.\n",
      "[Trainer] Launching nnUNet training...\n",
      "\n",
      "Uploading nnUNet_results to projet-statapp-segmedic/diffusion/nnunet_dataset/nnUNet_results...\n"
     ]
    },
    {
     "name": "stderr",
     "output_type": "stream",
     "text": [
      "Upload nnUNet_results:  53%|█████▎    | 40/75 [00:11<00:12,  2.72it/s]"
     ]
    },
    {
     "name": "stdout",
     "output_type": "stream",
     "text": [
      "\n",
      "############################\n",
      "INFO: You are using the old nnU-Net default plans. We have updated our recommendations. Please consider using those instead! Read more here: https://github.com/MIC-DKFZ/nnUNet/blob/master/documentation/resenc_presets.md\n",
      "############################\n",
      "\n",
      "Using device: cuda:0\n",
      "\n",
      "#######################################################################\n",
      "Please cite the following paper when using nnU-Net:\n",
      "Isensee, F., Jaeger, P. F., Kohl, S. A., Petersen, J., & Maier-Hein, K. H. (2021). nnU-Net: a self-configuring method for deep learning-based biomedical image segmentation. Nature methods, 18(2), 203-211.\n",
      "#######################################################################\n",
      "\n"
     ]
    },
    {
     "name": "stderr",
     "output_type": "stream",
     "text": [
      "Upload nnUNet_results:  57%|█████▋    | 43/75 [00:13<00:15,  2.11it/s]"
     ]
    },
    {
     "name": "stdout",
     "output_type": "stream",
     "text": [
      "2025-05-10 20:03:48.148159: Using torch.compile...\n"
     ]
    },
    {
     "name": "stderr",
     "output_type": "stream",
     "text": [
      "Upload nnUNet_results:  71%|███████   | 53/75 [00:14<00:03,  6.82it/s]"
     ]
    },
    {
     "name": "stdout",
     "output_type": "stream",
     "text": [
      "2025-05-10 20:03:50.482371: do_dummy_2d_data_aug: False\n"
     ]
    },
    {
     "name": "stderr",
     "output_type": "stream",
     "text": [
      "Upload nnUNet_results:  73%|███████▎  | 55/75 [00:16<00:05,  3.78it/s]"
     ]
    },
    {
     "name": "stdout",
     "output_type": "stream",
     "text": [
      "using pin_memory on device 0\n",
      "using pin_memory on device 0\n",
      "\n",
      "This is the configuration used by this training:\n",
      "Configuration name: 3d_fullres\n",
      " {'data_identifier': 'nnUNetPlans_3d_fullres', 'preprocessor_name': 'DefaultPreprocessor', 'batch_size': 2, 'patch_size': [192, 112, 112], 'median_image_size_in_voxels': [943.0, 512.0, 512.0], 'spacing': [1.0, 0.9626015722751617, 0.9626015722751617], 'normalization_schemes': ['CTNormalization'], 'use_mask_for_norm': [False], 'resampling_fn_data': 'resample_data_or_seg_to_shape', 'resampling_fn_seg': 'resample_data_or_seg_to_shape', 'resampling_fn_data_kwargs': {'is_seg': False, 'order': 3, 'order_z': 0, 'force_separate_z': None}, 'resampling_fn_seg_kwargs': {'is_seg': True, 'order': 1, 'order_z': 0, 'force_separate_z': None}, 'resampling_fn_probabilities': 'resample_data_or_seg_to_shape', 'resampling_fn_probabilities_kwargs': {'is_seg': False, 'order': 1, 'order_z': 0, 'force_separate_z': None}, 'architecture': {'network_class_name': 'dynamic_network_architectures.architectures.unet.PlainConvUNet', 'arch_kwargs': {'n_stages': 6, 'features_per_stage': [32, 64, 128, 256, 320, 320], 'conv_op': 'torch.nn.modules.conv.Conv3d', 'kernel_sizes': [[3, 3, 3], [3, 3, 3], [3, 3, 3], [3, 3, 3], [3, 3, 3], [3, 3, 3]], 'strides': [[1, 1, 1], [2, 2, 2], [2, 2, 2], [2, 2, 2], [2, 2, 2], [2, 1, 1]], 'n_conv_per_stage': [2, 2, 2, 2, 2, 2], 'n_conv_per_stage_decoder': [2, 2, 2, 2, 2], 'conv_bias': True, 'norm_op': 'torch.nn.modules.instancenorm.InstanceNorm3d', 'norm_op_kwargs': {'eps': 1e-05, 'affine': True}, 'dropout_op': None, 'dropout_op_kwargs': None, 'nonlin': 'torch.nn.LeakyReLU', 'nonlin_kwargs': {'inplace': True}}, '_kw_requires_import': ['conv_op', 'norm_op', 'dropout_op', 'nonlin']}, 'batch_dice': True} \n",
      "\n",
      "These are the global plan.json settings:\n",
      " {'dataset_name': 'Dataset001_Annot1', 'plans_name': 'nnUNetPlans', 'original_median_spacing_after_transp': [1.0, 0.9626015722751617, 0.9626015722751617], 'original_median_shape_after_transp': [956, 512, 512], 'image_reader_writer': 'SimpleITKIO', 'transpose_forward': [0, 1, 2], 'transpose_backward': [0, 1, 2], 'experiment_planner_used': 'ExperimentPlanner', 'label_manager': 'LabelManager', 'foreground_intensity_properties_per_channel': {'0': {'max': 901.9999389648438, 'mean': 116.67008209228516, 'median': 113.99999237060547, 'min': -1036.0001220703125, 'percentile_00_5': -34.99999237060547, 'percentile_99_5': 255.0, 'std': 43.83061599731445}}} \n",
      "\n",
      "2025-05-10 20:03:55.495923: Unable to plot network architecture: nnUNet_compile is enabled!\n",
      "2025-05-10 20:03:55.508271: \n",
      "2025-05-10 20:03:55.508837: Epoch 850\n",
      "2025-05-10 20:03:55.509437: Current learning rate: 0.00181\n"
     ]
    },
    {
     "name": "stderr",
     "output_type": "stream",
     "text": [
      "Upload nnUNet_results: 100%|██████████| 75/75 [00:27<00:00,  2.73it/s]\n"
     ]
    },
    {
     "name": "stdout",
     "output_type": "stream",
     "text": [
      "upload done\n",
      "2025-05-10 20:07:10.531391: train_loss -0.7592\n",
      "2025-05-10 20:07:10.534045: val_loss -0.7983\n",
      "2025-05-10 20:07:10.534226: Pseudo dice [np.float32(0.9347), np.float32(0.9679), np.float32(0.9818)]\n",
      "2025-05-10 20:07:10.534380: Epoch time: 195.02 s\n",
      "2025-05-10 20:07:10.534490: Yayy! New best EMA pseudo Dice: 0.9605000019073486\n",
      "2025-05-10 20:07:12.598068: \n",
      "2025-05-10 20:07:12.598473: Epoch 851\n",
      "2025-05-10 20:07:12.598779: Current learning rate: 0.0018\n",
      "\n",
      "Uploading nnUNet_results to projet-statapp-segmedic/diffusion/nnunet_dataset/nnUNet_results...\n"
     ]
    },
    {
     "name": "stderr",
     "output_type": "stream",
     "text": [
      "Upload nnUNet_results: 100%|██████████| 76/76 [00:26<00:00,  2.84it/s]\n"
     ]
    },
    {
     "name": "stdout",
     "output_type": "stream",
     "text": [
      "upload done\n",
      "2025-05-10 20:10:13.193690: train_loss -0.7807\n",
      "2025-05-10 20:10:13.199629: val_loss -0.8248\n",
      "2025-05-10 20:10:13.199878: Pseudo dice [np.float32(0.9297), np.float32(0.9655), np.float32(0.9822)]\n",
      "2025-05-10 20:10:13.200112: Epoch time: 180.6 s\n",
      "2025-05-10 20:10:14.653537: \n",
      "2025-05-10 20:10:14.653950: Epoch 852\n",
      "2025-05-10 20:10:14.654179: Current learning rate: 0.00179\n",
      "2025-05-10 20:13:18.116043: train_loss -0.7713\n",
      "2025-05-10 20:13:18.117115: val_loss -0.7272\n",
      "2025-05-10 20:13:18.117245: Pseudo dice [np.float32(0.9254), np.float32(0.9668), np.float32(0.9792)]\n",
      "2025-05-10 20:13:18.117471: Epoch time: 183.47 s\n",
      "2025-05-10 20:13:19.361190: \n",
      "2025-05-10 20:13:19.361551: Epoch 853\n",
      "2025-05-10 20:13:19.361710: Current learning rate: 0.00178\n",
      "\n",
      "Uploading nnUNet_results to projet-statapp-segmedic/diffusion/nnunet_dataset/nnUNet_results...\n"
     ]
    },
    {
     "name": "stderr",
     "output_type": "stream",
     "text": [
      "Upload nnUNet_results: 100%|██████████| 76/76 [00:18<00:00,  4.12it/s]\n"
     ]
    },
    {
     "name": "stdout",
     "output_type": "stream",
     "text": [
      "upload done\n",
      "2025-05-10 20:16:23.385997: train_loss -0.7723\n",
      "2025-05-10 20:16:23.386320: val_loss -0.8079\n",
      "2025-05-10 20:16:23.386434: Pseudo dice [np.float32(0.9308), np.float32(0.9688), np.float32(0.9834)]\n",
      "2025-05-10 20:16:23.386693: Epoch time: 184.03 s\n",
      "2025-05-10 20:16:24.623595: \n",
      "2025-05-10 20:16:24.624052: Epoch 854\n",
      "2025-05-10 20:16:24.624210: Current learning rate: 0.00177\n",
      "2025-05-10 20:19:28.451096: train_loss -0.7635\n",
      "2025-05-10 20:19:28.451600: val_loss -0.8113\n",
      "2025-05-10 20:19:28.451714: Pseudo dice [np.float32(0.9299), np.float32(0.9671), np.float32(0.9788)]\n",
      "2025-05-10 20:19:28.451838: Epoch time: 183.83 s\n",
      "2025-05-10 20:19:29.639428: \n",
      "2025-05-10 20:19:29.639783: Epoch 855\n",
      "2025-05-10 20:19:29.639908: Current learning rate: 0.00176\n",
      "\n",
      "Uploading nnUNet_results to projet-statapp-segmedic/diffusion/nnunet_dataset/nnUNet_results...\n"
     ]
    },
    {
     "name": "stderr",
     "output_type": "stream",
     "text": [
      "Upload nnUNet_results: 100%|██████████| 76/76 [00:22<00:00,  3.37it/s]\n"
     ]
    },
    {
     "name": "stdout",
     "output_type": "stream",
     "text": [
      "upload done\n",
      "2025-05-10 20:22:33.569307: train_loss -0.7696\n",
      "2025-05-10 20:22:33.570277: val_loss -0.7873\n",
      "2025-05-10 20:22:33.570596: Pseudo dice [np.float32(0.9343), np.float32(0.969), np.float32(0.9795)]\n",
      "2025-05-10 20:22:33.570915: Epoch time: 183.93 s\n",
      "2025-05-10 20:22:35.410881: \n",
      "2025-05-10 20:22:35.411330: Epoch 856\n",
      "2025-05-10 20:22:35.411580: Current learning rate: 0.00175\n",
      "\n",
      "Uploading nnUNet_results to projet-statapp-segmedic/diffusion/nnunet_dataset/nnUNet_results...\n"
     ]
    },
    {
     "name": "stderr",
     "output_type": "stream",
     "text": [
      "Upload nnUNet_results: 100%|██████████| 76/76 [00:18<00:00,  4.17it/s]\n"
     ]
    },
    {
     "name": "stdout",
     "output_type": "stream",
     "text": [
      "upload done\n",
      "2025-05-10 20:25:39.444834: train_loss -0.7781\n",
      "2025-05-10 20:25:39.445393: val_loss -0.8018\n",
      "2025-05-10 20:25:39.445687: Pseudo dice [np.float32(0.9335), np.float32(0.9661), np.float32(0.978)]\n",
      "2025-05-10 20:25:39.445900: Epoch time: 184.04 s\n",
      "2025-05-10 20:25:41.008584: \n",
      "2025-05-10 20:25:41.008946: Epoch 857\n",
      "2025-05-10 20:25:41.009114: Current learning rate: 0.00174\n",
      "2025-05-10 20:28:44.700251: train_loss -0.7635\n",
      "2025-05-10 20:28:44.700805: val_loss -0.7905\n",
      "2025-05-10 20:28:44.701006: Pseudo dice [np.float32(0.9329), np.float32(0.9657), np.float32(0.9817)]\n",
      "2025-05-10 20:28:44.701189: Epoch time: 183.69 s\n",
      "2025-05-10 20:28:45.945693: \n",
      "2025-05-10 20:28:45.946177: Epoch 858\n",
      "2025-05-10 20:28:45.946315: Current learning rate: 0.00173\n",
      "\n",
      "Uploading nnUNet_results to projet-statapp-segmedic/diffusion/nnunet_dataset/nnUNet_results...\n"
     ]
    },
    {
     "name": "stderr",
     "output_type": "stream",
     "text": [
      "Upload nnUNet_results: 100%|██████████| 76/76 [00:22<00:00,  3.33it/s]\n"
     ]
    },
    {
     "name": "stdout",
     "output_type": "stream",
     "text": [
      "upload done\n",
      "2025-05-10 20:31:49.658767: train_loss -0.7809\n",
      "2025-05-10 20:31:49.659296: val_loss -0.7584\n",
      "2025-05-10 20:31:49.659411: Pseudo dice [np.float32(0.9293), np.float32(0.9698), np.float32(0.9815)]\n",
      "2025-05-10 20:31:49.659556: Epoch time: 183.72 s\n",
      "2025-05-10 20:31:51.019946: \n",
      "2025-05-10 20:31:51.020445: Epoch 859\n",
      "2025-05-10 20:31:51.020626: Current learning rate: 0.00172\n",
      "2025-05-10 20:34:55.087758: train_loss -0.7677\n",
      "2025-05-10 20:34:55.088634: val_loss -0.7682\n",
      "2025-05-10 20:34:55.088841: Pseudo dice [np.float32(0.933), np.float32(0.9668), np.float32(0.9811)]\n",
      "2025-05-10 20:34:55.089078: Epoch time: 184.07 s\n",
      "2025-05-10 20:34:56.784468: \n",
      "2025-05-10 20:34:56.784964: Epoch 860\n",
      "2025-05-10 20:34:56.785416: Current learning rate: 0.0017\n",
      "\n",
      "Uploading nnUNet_results to projet-statapp-segmedic/diffusion/nnunet_dataset/nnUNet_results...\n"
     ]
    },
    {
     "name": "stderr",
     "output_type": "stream",
     "text": [
      "Upload nnUNet_results: 100%|██████████| 76/76 [00:30<00:00,  2.49it/s]\n"
     ]
    },
    {
     "name": "stdout",
     "output_type": "stream",
     "text": [
      "upload done\n",
      "2025-05-10 20:38:01.030164: train_loss -0.7618\n",
      "2025-05-10 20:38:01.034113: val_loss -0.7641\n",
      "2025-05-10 20:38:01.034263: Pseudo dice [np.float32(0.9288), np.float32(0.9676), np.float32(0.9804)]\n",
      "2025-05-10 20:38:01.034385: Epoch time: 184.25 s\n",
      "2025-05-10 20:38:02.358950: \n",
      "2025-05-10 20:38:02.359398: Epoch 861\n",
      "2025-05-10 20:38:02.359602: Current learning rate: 0.00169\n",
      "2025-05-10 20:41:06.738041: train_loss -0.7809\n",
      "2025-05-10 20:41:06.738505: val_loss -0.7668\n",
      "2025-05-10 20:41:06.738682: Pseudo dice [np.float32(0.9327), np.float32(0.9686), np.float32(0.9807)]\n",
      "2025-05-10 20:41:06.738869: Epoch time: 184.38 s\n",
      "2025-05-10 20:41:08.704634: \n",
      "2025-05-10 20:41:08.705004: Epoch 862\n",
      "2025-05-10 20:41:08.705156: Current learning rate: 0.00168\n",
      "\n",
      "Uploading nnUNet_results to projet-statapp-segmedic/diffusion/nnunet_dataset/nnUNet_results...\n"
     ]
    },
    {
     "name": "stderr",
     "output_type": "stream",
     "text": [
      "Upload nnUNet_results: 100%|██████████| 76/76 [00:29<00:00,  2.54it/s]\n"
     ]
    },
    {
     "name": "stdout",
     "output_type": "stream",
     "text": [
      "upload done\n",
      "2025-05-10 20:44:12.976185: train_loss -0.7762\n",
      "2025-05-10 20:44:12.976565: val_loss -0.7714\n",
      "2025-05-10 20:44:12.976736: Pseudo dice [np.float32(0.9363), np.float32(0.9671), np.float32(0.9812)]\n",
      "2025-05-10 20:44:12.976910: Epoch time: 184.27 s\n",
      "2025-05-10 20:44:14.347414: \n",
      "2025-05-10 20:44:14.347759: Epoch 863\n",
      "2025-05-10 20:44:14.348002: Current learning rate: 0.00167\n",
      "\n",
      "Uploading nnUNet_results to projet-statapp-segmedic/diffusion/nnunet_dataset/nnUNet_results...\n"
     ]
    },
    {
     "name": "stderr",
     "output_type": "stream",
     "text": [
      "Upload nnUNet_results:  96%|█████████▌| 73/76 [00:26<00:00,  3.65it/s]"
     ]
    },
    {
     "name": "stdout",
     "output_type": "stream",
     "text": [
      "2025-05-10 20:47:18.017573: train_loss -0.7567\n",
      "2025-05-10 20:47:18.018079: val_loss -0.7723\n",
      "2025-05-10 20:47:18.018332: Pseudo dice [np.float32(0.9369), np.float32(0.9677), np.float32(0.9799)]\n",
      "2025-05-10 20:47:18.018538: Epoch time: 183.67 s\n"
     ]
    },
    {
     "name": "stderr",
     "output_type": "stream",
     "text": [
      "Upload nnUNet_results:  97%|█████████▋| 74/76 [00:27<00:01,  1.98it/s]"
     ]
    },
    {
     "name": "stdout",
     "output_type": "stream",
     "text": [
      "2025-05-10 20:47:19.291566: \n",
      "2025-05-10 20:47:19.291908: Epoch 864\n",
      "2025-05-10 20:47:19.292040: Current learning rate: 0.00166\n"
     ]
    },
    {
     "name": "stderr",
     "output_type": "stream",
     "text": [
      "Upload nnUNet_results: 100%|██████████| 76/76 [00:27<00:00,  2.71it/s]\n"
     ]
    },
    {
     "name": "stdout",
     "output_type": "stream",
     "text": [
      "upload done\n",
      "2025-05-10 20:50:22.853829: train_loss -0.7823\n",
      "2025-05-10 20:50:22.854542: val_loss -0.789\n",
      "2025-05-10 20:50:22.855312: Pseudo dice [np.float32(0.9283), np.float32(0.967), np.float32(0.983)]\n",
      "2025-05-10 20:50:22.855790: Epoch time: 183.56 s\n",
      "2025-05-10 20:50:24.105903: \n",
      "2025-05-10 20:50:24.106340: Epoch 865\n",
      "2025-05-10 20:50:24.106470: Current learning rate: 0.00165\n",
      "\n",
      "Uploading nnUNet_results to projet-statapp-segmedic/diffusion/nnunet_dataset/nnUNet_results...\n"
     ]
    },
    {
     "name": "stderr",
     "output_type": "stream",
     "text": [
      "Upload nnUNet_results: 100%|██████████| 76/76 [00:16<00:00,  4.63it/s]\n"
     ]
    },
    {
     "name": "stdout",
     "output_type": "stream",
     "text": [
      "upload done\n",
      "2025-05-10 20:53:26.960198: train_loss -0.7786\n",
      "2025-05-10 20:53:26.960557: val_loss -0.772\n",
      "2025-05-10 20:53:26.960673: Pseudo dice [np.float32(0.9348), np.float32(0.9702), np.float32(0.9833)]\n",
      "2025-05-10 20:53:26.960798: Epoch time: 182.86 s\n",
      "2025-05-10 20:53:28.168844: \n",
      "2025-05-10 20:53:28.169217: Epoch 866\n",
      "2025-05-10 20:53:28.169352: Current learning rate: 0.00164\n",
      "2025-05-10 20:56:31.134590: train_loss -0.7646\n",
      "2025-05-10 20:56:31.135141: val_loss -0.7995\n",
      "2025-05-10 20:56:31.135259: Pseudo dice [np.float32(0.9372), np.float32(0.9671), np.float32(0.9818)]\n",
      "2025-05-10 20:56:31.135385: Epoch time: 182.97 s\n",
      "2025-05-10 20:56:31.135485: Yayy! New best EMA pseudo Dice: 0.9606000185012817\n",
      "2025-05-10 20:56:33.142502: \n",
      "2025-05-10 20:56:33.142931: Epoch 867\n",
      "2025-05-10 20:56:33.143154: Current learning rate: 0.00163\n",
      "\n",
      "Uploading nnUNet_results to projet-statapp-segmedic/diffusion/nnunet_dataset/nnUNet_results...\n"
     ]
    },
    {
     "name": "stderr",
     "output_type": "stream",
     "text": [
      "Upload nnUNet_results: 100%|██████████| 76/76 [00:15<00:00,  4.82it/s]\n"
     ]
    },
    {
     "name": "stdout",
     "output_type": "stream",
     "text": [
      "upload done\n",
      "2025-05-10 20:59:35.929744: train_loss -0.7781\n",
      "2025-05-10 20:59:35.930172: val_loss -0.8081\n",
      "2025-05-10 20:59:35.930586: Pseudo dice [np.float32(0.9266), np.float32(0.9685), np.float32(0.9832)]\n",
      "2025-05-10 20:59:35.930763: Epoch time: 182.79 s\n",
      "2025-05-10 20:59:37.159004: \n",
      "2025-05-10 20:59:37.159323: Epoch 868\n",
      "2025-05-10 20:59:37.159633: Current learning rate: 0.00162\n",
      "2025-05-10 21:02:39.894652: train_loss -0.7561\n",
      "2025-05-10 21:02:39.895245: val_loss -0.7921\n",
      "2025-05-10 21:02:39.895527: Pseudo dice [np.float32(0.931), np.float32(0.9663), np.float32(0.9787)]\n",
      "2025-05-10 21:02:39.895663: Epoch time: 182.74 s\n",
      "2025-05-10 21:02:41.126315: \n",
      "2025-05-10 21:02:41.126725: Epoch 869\n",
      "2025-05-10 21:02:41.127043: Current learning rate: 0.00161\n",
      "\n",
      "Uploading nnUNet_results to projet-statapp-segmedic/diffusion/nnunet_dataset/nnUNet_results...\n"
     ]
    },
    {
     "name": "stderr",
     "output_type": "stream",
     "text": [
      "Upload nnUNet_results: 100%|██████████| 76/76 [00:17<00:00,  4.40it/s]\n"
     ]
    },
    {
     "name": "stdout",
     "output_type": "stream",
     "text": [
      "upload done\n",
      "2025-05-10 21:05:43.791499: train_loss -0.7646\n",
      "2025-05-10 21:05:43.794220: val_loss -0.7887\n",
      "2025-05-10 21:05:43.794355: Pseudo dice [np.float32(0.9337), np.float32(0.9674), np.float32(0.9793)]\n",
      "2025-05-10 21:05:43.794626: Epoch time: 182.67 s\n",
      "2025-05-10 21:05:45.047680: \n",
      "2025-05-10 21:05:45.048116: Epoch 870\n",
      "2025-05-10 21:05:45.048250: Current learning rate: 0.00159\n",
      "\n",
      "Uploading nnUNet_results to projet-statapp-segmedic/diffusion/nnunet_dataset/nnUNet_results...\n"
     ]
    },
    {
     "name": "stderr",
     "output_type": "stream",
     "text": [
      "Upload nnUNet_results: 100%|██████████| 76/76 [00:25<00:00,  3.01it/s]\n"
     ]
    },
    {
     "name": "stdout",
     "output_type": "stream",
     "text": [
      "upload done\n",
      "2025-05-10 21:08:47.660594: train_loss -0.7801\n",
      "2025-05-10 21:08:47.661268: val_loss -0.7971\n",
      "2025-05-10 21:08:47.661490: Pseudo dice [np.float32(0.9359), np.float32(0.9668), np.float32(0.9827)]\n",
      "2025-05-10 21:08:47.661618: Epoch time: 182.61 s\n",
      "2025-05-10 21:08:48.980347: \n",
      "2025-05-10 21:08:48.980727: Epoch 871\n",
      "2025-05-10 21:08:48.980870: Current learning rate: 0.00158\n",
      "2025-05-10 21:11:51.733746: train_loss -0.773\n",
      "2025-05-10 21:11:51.734080: val_loss -0.8387\n",
      "2025-05-10 21:11:51.734354: Pseudo dice [np.float32(0.9337), np.float32(0.9673), np.float32(0.9846)]\n",
      "2025-05-10 21:11:51.734485: Epoch time: 182.76 s\n",
      "2025-05-10 21:11:53.053349: \n",
      "2025-05-10 21:11:53.053888: Epoch 872\n",
      "2025-05-10 21:11:53.054021: Current learning rate: 0.00157\n",
      "\n",
      "Uploading nnUNet_results to projet-statapp-segmedic/diffusion/nnunet_dataset/nnUNet_results...\n"
     ]
    },
    {
     "name": "stderr",
     "output_type": "stream",
     "text": [
      "Upload nnUNet_results: 100%|██████████| 76/76 [00:28<00:00,  2.64it/s]\n"
     ]
    },
    {
     "name": "stdout",
     "output_type": "stream",
     "text": [
      "upload done\n",
      "2025-05-10 21:14:56.267399: train_loss -0.784\n",
      "2025-05-10 21:14:56.267804: val_loss -0.7768\n",
      "2025-05-10 21:14:56.268029: Pseudo dice [np.float32(0.9313), np.float32(0.9676), np.float32(0.9836)]\n",
      "2025-05-10 21:14:56.268160: Epoch time: 183.22 s\n",
      "2025-05-10 21:14:57.587600: \n",
      "2025-05-10 21:14:57.588041: Epoch 873\n",
      "2025-05-10 21:14:57.588174: Current learning rate: 0.00156\n",
      "2025-05-10 21:18:01.369560: train_loss -0.7612\n",
      "2025-05-10 21:18:01.370012: val_loss -0.7802\n",
      "2025-05-10 21:18:01.370122: Pseudo dice [np.float32(0.9292), np.float32(0.9677), np.float32(0.9816)]\n",
      "2025-05-10 21:18:01.370264: Epoch time: 183.78 s\n",
      "2025-05-10 21:18:03.100646: \n",
      "2025-05-10 21:18:03.101046: Epoch 874\n",
      "2025-05-10 21:18:03.101179: Current learning rate: 0.00155\n",
      "\n",
      "Uploading nnUNet_results to projet-statapp-segmedic/diffusion/nnunet_dataset/nnUNet_results...\n"
     ]
    },
    {
     "name": "stderr",
     "output_type": "stream",
     "text": [
      "Upload nnUNet_results: 100%|██████████| 76/76 [00:16<00:00,  4.49it/s]\n"
     ]
    },
    {
     "name": "stdout",
     "output_type": "stream",
     "text": [
      "upload done\n",
      "2025-05-10 21:21:06.807956: train_loss -0.772\n",
      "2025-05-10 21:21:06.808457: val_loss -0.7972\n",
      "2025-05-10 21:21:06.808577: Pseudo dice [np.float32(0.9326), np.float32(0.9682), np.float32(0.9794)]\n",
      "2025-05-10 21:21:06.808707: Epoch time: 183.71 s\n",
      "2025-05-10 21:21:08.101109: \n",
      "2025-05-10 21:21:08.101588: Epoch 875\n",
      "2025-05-10 21:21:08.101883: Current learning rate: 0.00154\n",
      "2025-05-10 21:24:11.714711: train_loss -0.7793\n",
      "2025-05-10 21:24:11.715186: val_loss -0.7614\n",
      "2025-05-10 21:24:11.715338: Pseudo dice [np.float32(0.9376), np.float32(0.9663), np.float32(0.9824)]\n",
      "2025-05-10 21:24:11.715466: Epoch time: 183.62 s\n",
      "2025-05-10 21:24:11.715551: Yayy! New best EMA pseudo Dice: 0.9606000185012817\n",
      "2025-05-10 21:24:13.902899: \n",
      "2025-05-10 21:24:13.903255: Epoch 876\n",
      "2025-05-10 21:24:13.903405: Current learning rate: 0.00153\n",
      "\n",
      "Uploading nnUNet_results to projet-statapp-segmedic/diffusion/nnunet_dataset/nnUNet_results...\n"
     ]
    },
    {
     "name": "stderr",
     "output_type": "stream",
     "text": [
      "Upload nnUNet_results: 100%|██████████| 76/76 [00:36<00:00,  2.10it/s]\n"
     ]
    },
    {
     "name": "stdout",
     "output_type": "stream",
     "text": [
      "upload done\n",
      "2025-05-10 21:27:17.219000: train_loss -0.7954\n",
      "2025-05-10 21:27:17.219379: val_loss -0.7735\n",
      "2025-05-10 21:27:17.219563: Pseudo dice [np.float32(0.9406), np.float32(0.967), np.float32(0.9833)]\n",
      "2025-05-10 21:27:17.219782: Epoch time: 183.32 s\n",
      "2025-05-10 21:27:17.219930: Yayy! New best EMA pseudo Dice: 0.9609000086784363\n",
      "2025-05-10 21:27:19.468691: \n",
      "2025-05-10 21:27:19.468969: Epoch 877\n",
      "2025-05-10 21:27:19.469101: Current learning rate: 0.00152\n",
      "\n",
      "Uploading nnUNet_results to projet-statapp-segmedic/diffusion/nnunet_dataset/nnUNet_results...\n"
     ]
    },
    {
     "name": "stderr",
     "output_type": "stream",
     "text": [
      "Upload nnUNet_results:  80%|████████  | 61/76 [00:25<00:04,  3.56it/s]"
     ]
    },
    {
     "name": "stdout",
     "output_type": "stream",
     "text": [
      "2025-05-10 21:30:22.702196: train_loss -0.7823\n",
      "2025-05-10 21:30:22.702542: val_loss -0.788\n",
      "2025-05-10 21:30:22.702657: Pseudo dice [np.float32(0.9376), np.float32(0.9689), np.float32(0.9822)]\n",
      "2025-05-10 21:30:22.702924: Epoch time: 183.24 s\n",
      "2025-05-10 21:30:22.703011: Yayy! New best EMA pseudo Dice: 0.9610999822616577\n"
     ]
    },
    {
     "name": "stderr",
     "output_type": "stream",
     "text": [
      "Upload nnUNet_results:  87%|████████▋ | 66/76 [00:28<00:03,  3.11it/s]"
     ]
    },
    {
     "name": "stdout",
     "output_type": "stream",
     "text": [
      "2025-05-10 21:30:24.770437: \n",
      "2025-05-10 21:30:24.770771: Epoch 878\n",
      "2025-05-10 21:30:24.771058: Current learning rate: 0.00151\n"
     ]
    },
    {
     "name": "stderr",
     "output_type": "stream",
     "text": [
      "Upload nnUNet_results: 100%|██████████| 76/76 [00:32<00:00,  2.34it/s]\n"
     ]
    },
    {
     "name": "stdout",
     "output_type": "stream",
     "text": [
      "upload done\n",
      "2025-05-10 21:33:27.744458: train_loss -0.7867\n",
      "2025-05-10 21:33:27.744981: val_loss -0.7887\n",
      "2025-05-10 21:33:27.745099: Pseudo dice [np.float32(0.9373), np.float32(0.9689), np.float32(0.9834)]\n",
      "2025-05-10 21:33:27.745230: Epoch time: 182.98 s\n",
      "2025-05-10 21:33:27.745314: Yayy! New best EMA pseudo Dice: 0.9613000154495239\n",
      "2025-05-10 21:33:29.798364: \n",
      "2025-05-10 21:33:29.798720: Epoch 879\n",
      "2025-05-10 21:33:29.798926: Current learning rate: 0.00149\n",
      "\n",
      "Uploading nnUNet_results to projet-statapp-segmedic/diffusion/nnunet_dataset/nnUNet_results...\n"
     ]
    },
    {
     "name": "stderr",
     "output_type": "stream",
     "text": [
      "Upload nnUNet_results: 100%|██████████| 76/76 [00:22<00:00,  3.40it/s]\n"
     ]
    },
    {
     "name": "stdout",
     "output_type": "stream",
     "text": [
      "upload done\n",
      "2025-05-10 21:36:32.218756: train_loss -0.7633\n",
      "2025-05-10 21:36:32.219187: val_loss -0.7816\n",
      "2025-05-10 21:36:32.219379: Pseudo dice [np.float32(0.9307), np.float32(0.9685), np.float32(0.9779)]\n",
      "2025-05-10 21:36:32.219628: Epoch time: 182.42 s\n",
      "2025-05-10 21:36:33.451116: \n",
      "2025-05-10 21:36:33.451488: Epoch 880\n",
      "2025-05-10 21:36:33.451821: Current learning rate: 0.00148\n",
      "2025-05-10 21:39:36.004476: train_loss -0.7767\n",
      "2025-05-10 21:39:36.004911: val_loss -0.717\n",
      "2025-05-10 21:39:36.005074: Pseudo dice [np.float32(0.9285), np.float32(0.9695), np.float32(0.9818)]\n",
      "2025-05-10 21:39:36.005277: Epoch time: 182.55 s\n",
      "2025-05-10 21:39:37.213956: \n",
      "2025-05-10 21:39:37.214373: Epoch 881\n",
      "2025-05-10 21:39:37.214707: Current learning rate: 0.00147\n",
      "\n",
      "Uploading nnUNet_results to projet-statapp-segmedic/diffusion/nnunet_dataset/nnUNet_results...\n"
     ]
    },
    {
     "name": "stderr",
     "output_type": "stream",
     "text": [
      "Upload nnUNet_results: 100%|██████████| 76/76 [00:24<00:00,  3.12it/s]\n"
     ]
    },
    {
     "name": "stdout",
     "output_type": "stream",
     "text": [
      "upload done\n",
      "2025-05-10 21:42:39.734991: train_loss -0.7654\n",
      "2025-05-10 21:42:39.735653: val_loss -0.7805\n",
      "2025-05-10 21:42:39.735852: Pseudo dice [np.float32(0.9403), np.float32(0.9686), np.float32(0.9802)]\n",
      "2025-05-10 21:42:39.736063: Epoch time: 182.52 s\n",
      "2025-05-10 21:42:41.247084: \n",
      "2025-05-10 21:42:41.247519: Epoch 882\n",
      "2025-05-10 21:42:41.247756: Current learning rate: 0.00146\n",
      "2025-05-10 21:45:44.009912: train_loss -0.8037\n",
      "2025-05-10 21:45:44.010285: val_loss -0.7823\n",
      "2025-05-10 21:45:44.010400: Pseudo dice [np.float32(0.937), np.float32(0.9688), np.float32(0.9807)]\n",
      "2025-05-10 21:45:44.010524: Epoch time: 182.77 s\n",
      "2025-05-10 21:45:45.310424: \n",
      "2025-05-10 21:45:45.310861: Epoch 883\n",
      "2025-05-10 21:45:45.311149: Current learning rate: 0.00145\n",
      "\n",
      "Uploading nnUNet_results to projet-statapp-segmedic/diffusion/nnunet_dataset/nnUNet_results...\n"
     ]
    },
    {
     "name": "stderr",
     "output_type": "stream",
     "text": [
      "Upload nnUNet_results: 100%|██████████| 76/76 [00:15<00:00,  5.05it/s]\n"
     ]
    },
    {
     "name": "stdout",
     "output_type": "stream",
     "text": [
      "upload done\n",
      "2025-05-10 21:48:47.516152: train_loss -0.781\n",
      "2025-05-10 21:48:47.516565: val_loss -0.8282\n",
      "2025-05-10 21:48:47.516686: Pseudo dice [np.float32(0.9376), np.float32(0.9664), np.float32(0.9772)]\n",
      "2025-05-10 21:48:47.516813: Epoch time: 182.21 s\n",
      "2025-05-10 21:48:48.850141: \n",
      "2025-05-10 21:48:48.850564: Epoch 884\n",
      "2025-05-10 21:48:48.850725: Current learning rate: 0.00144\n",
      "\n",
      "Uploading nnUNet_results to projet-statapp-segmedic/diffusion/nnunet_dataset/nnUNet_results...\n"
     ]
    },
    {
     "name": "stderr",
     "output_type": "stream",
     "text": [
      "Upload nnUNet_results:  99%|█████████▊| 75/76 [00:20<00:00,  5.30it/s]"
     ]
    },
    {
     "name": "stdout",
     "output_type": "stream",
     "text": [
      "2025-05-10 21:51:51.185792: train_loss -0.771\n",
      "2025-05-10 21:51:51.186098: val_loss -0.7776\n",
      "2025-05-10 21:51:51.186208: Pseudo dice [np.float32(0.934), np.float32(0.9669), np.float32(0.9813)]\n",
      "2025-05-10 21:51:51.186426: Epoch time: 182.34 s\n"
     ]
    },
    {
     "name": "stderr",
     "output_type": "stream",
     "text": [
      "Upload nnUNet_results: 100%|██████████| 76/76 [00:21<00:00,  3.61it/s]\n"
     ]
    },
    {
     "name": "stdout",
     "output_type": "stream",
     "text": [
      "upload done\n",
      "2025-05-10 21:51:52.474687: \n",
      "2025-05-10 21:51:52.475110: Epoch 885\n",
      "2025-05-10 21:51:52.475324: Current learning rate: 0.00143\n",
      "2025-05-10 21:54:54.891024: train_loss -0.7552\n",
      "2025-05-10 21:54:54.891425: val_loss -0.7869\n",
      "2025-05-10 21:54:54.891539: Pseudo dice [np.float32(0.9354), np.float32(0.9684), np.float32(0.9826)]\n",
      "2025-05-10 21:54:54.891658: Epoch time: 182.42 s\n",
      "2025-05-10 21:54:56.583839: \n",
      "2025-05-10 21:54:56.584150: Epoch 886\n",
      "2025-05-10 21:54:56.584358: Current learning rate: 0.00142\n",
      "\n",
      "Uploading nnUNet_results to projet-statapp-segmedic/diffusion/nnunet_dataset/nnUNet_results...\n"
     ]
    },
    {
     "name": "stderr",
     "output_type": "stream",
     "text": [
      "Upload nnUNet_results: 100%|██████████| 76/76 [00:23<00:00,  3.17it/s]\n"
     ]
    },
    {
     "name": "stdout",
     "output_type": "stream",
     "text": [
      "upload done\n",
      "2025-05-10 21:57:59.294391: train_loss -0.7814\n",
      "2025-05-10 21:57:59.294774: val_loss -0.8166\n",
      "2025-05-10 21:57:59.294889: Pseudo dice [np.float32(0.9315), np.float32(0.9676), np.float32(0.9808)]\n",
      "2025-05-10 21:57:59.295035: Epoch time: 182.71 s\n",
      "2025-05-10 21:58:00.552522: \n",
      "2025-05-10 21:58:00.553151: Epoch 887\n",
      "2025-05-10 21:58:00.553527: Current learning rate: 0.00141\n",
      "2025-05-10 22:01:02.989169: train_loss -0.7698\n",
      "2025-05-10 22:01:02.989960: val_loss -0.7681\n",
      "2025-05-10 22:01:02.990157: Pseudo dice [np.float32(0.9406), np.float32(0.9697), np.float32(0.9825)]\n",
      "2025-05-10 22:01:02.990359: Epoch time: 182.44 s\n",
      "2025-05-10 22:01:02.990502: Yayy! New best EMA pseudo Dice: 0.9613999724388123\n",
      "2025-05-10 22:01:05.072666: \n",
      "2025-05-10 22:01:05.072964: Epoch 888\n",
      "2025-05-10 22:01:05.073096: Current learning rate: 0.00139\n",
      "\n",
      "Uploading nnUNet_results to projet-statapp-segmedic/diffusion/nnunet_dataset/nnUNet_results...\n"
     ]
    },
    {
     "name": "stderr",
     "output_type": "stream",
     "text": [
      "Upload nnUNet_results: 100%|██████████| 76/76 [00:29<00:00,  2.57it/s]\n"
     ]
    },
    {
     "name": "stdout",
     "output_type": "stream",
     "text": [
      "upload done\n",
      "2025-05-10 22:04:07.621626: train_loss -0.775\n",
      "2025-05-10 22:04:07.622123: val_loss -0.78\n",
      "2025-05-10 22:04:07.622388: Pseudo dice [np.float32(0.9364), np.float32(0.9694), np.float32(0.9809)]\n",
      "2025-05-10 22:04:07.622570: Epoch time: 182.55 s\n",
      "2025-05-10 22:04:07.622714: Yayy! New best EMA pseudo Dice: 0.9614999890327454\n",
      "2025-05-10 22:04:09.661614: \n",
      "2025-05-10 22:04:09.662092: Epoch 889\n",
      "2025-05-10 22:04:09.662381: Current learning rate: 0.00138\n",
      "2025-05-10 22:07:12.620892: train_loss -0.7732\n",
      "2025-05-10 22:07:12.621353: val_loss -0.7987\n",
      "2025-05-10 22:07:12.621559: Pseudo dice [np.float32(0.9371), np.float32(0.964), np.float32(0.9811)]\n",
      "2025-05-10 22:07:12.621688: Epoch time: 182.96 s\n",
      "2025-05-10 22:07:13.859768: \n",
      "2025-05-10 22:07:13.860168: Epoch 890\n",
      "2025-05-10 22:07:13.860346: Current learning rate: 0.00137\n",
      "\n",
      "Uploading nnUNet_results to projet-statapp-segmedic/diffusion/nnunet_dataset/nnUNet_results...\n"
     ]
    },
    {
     "name": "stderr",
     "output_type": "stream",
     "text": [
      "Upload nnUNet_results: 100%|██████████| 76/76 [00:21<00:00,  3.59it/s]\n"
     ]
    },
    {
     "name": "stdout",
     "output_type": "stream",
     "text": [
      "upload done\n",
      "2025-05-10 22:10:16.542142: train_loss -0.7942\n",
      "2025-05-10 22:10:16.542626: val_loss -0.7678\n",
      "2025-05-10 22:10:16.542742: Pseudo dice [np.float32(0.927), np.float32(0.9668), np.float32(0.9835)]\n",
      "2025-05-10 22:10:16.542868: Epoch time: 182.69 s\n",
      "2025-05-10 22:10:17.901844: \n",
      "2025-05-10 22:10:17.902247: Epoch 891\n",
      "2025-05-10 22:10:17.902501: Current learning rate: 0.00136\n",
      "\n",
      "Uploading nnUNet_results to projet-statapp-segmedic/diffusion/nnunet_dataset/nnUNet_results...\n"
     ]
    },
    {
     "name": "stderr",
     "output_type": "stream",
     "text": [
      "Upload nnUNet_results:  50%|█████     | 38/76 [00:14<00:30,  1.24it/s]"
     ]
    },
    {
     "name": "stdout",
     "output_type": "stream",
     "text": [
      "2025-05-10 22:13:20.797573: train_loss -0.7799\n",
      "2025-05-10 22:13:20.797874: val_loss -0.7825\n",
      "2025-05-10 22:13:20.797989: Pseudo dice [np.float32(0.941), np.float32(0.9686), np.float32(0.9829)]\n",
      "2025-05-10 22:13:20.798179: Epoch time: 182.9 s\n"
     ]
    },
    {
     "name": "stderr",
     "output_type": "stream",
     "text": [
      "Upload nnUNet_results:  53%|█████▎    | 40/76 [00:15<00:25,  1.41it/s]"
     ]
    },
    {
     "name": "stdout",
     "output_type": "stream",
     "text": [
      "2025-05-10 22:13:22.037869: \n",
      "2025-05-10 22:13:22.040345: Epoch 892\n",
      "2025-05-10 22:13:22.040526: Current learning rate: 0.00135\n"
     ]
    },
    {
     "name": "stderr",
     "output_type": "stream",
     "text": [
      "Upload nnUNet_results: 100%|██████████| 76/76 [00:40<00:00,  1.88it/s]\n"
     ]
    },
    {
     "name": "stdout",
     "output_type": "stream",
     "text": [
      "upload done\n",
      "2025-05-10 22:16:25.122070: train_loss -0.7843\n",
      "2025-05-10 22:16:25.122485: val_loss -0.7743\n",
      "2025-05-10 22:16:25.122600: Pseudo dice [np.float32(0.9327), np.float32(0.9684), np.float32(0.9789)]\n",
      "2025-05-10 22:16:25.122730: Epoch time: 183.09 s\n",
      "2025-05-10 22:16:26.413260: \n",
      "2025-05-10 22:16:26.413745: Epoch 893\n",
      "2025-05-10 22:16:26.413970: Current learning rate: 0.00134\n",
      "\n",
      "Uploading nnUNet_results to projet-statapp-segmedic/diffusion/nnunet_dataset/nnUNet_results...\n"
     ]
    },
    {
     "name": "stderr",
     "output_type": "stream",
     "text": [
      "Upload nnUNet_results: 100%|██████████| 76/76 [00:28<00:00,  2.66it/s]\n"
     ]
    },
    {
     "name": "stdout",
     "output_type": "stream",
     "text": [
      "upload done\n",
      "2025-05-10 22:19:29.585754: train_loss -0.7863\n",
      "2025-05-10 22:19:29.586068: val_loss -0.7648\n",
      "2025-05-10 22:19:29.586262: Pseudo dice [np.float32(0.932), np.float32(0.9671), np.float32(0.9843)]\n",
      "2025-05-10 22:19:29.586550: Epoch time: 183.17 s\n",
      "2025-05-10 22:19:30.797503: \n",
      "2025-05-10 22:19:30.797819: Epoch 894\n",
      "2025-05-10 22:19:30.797951: Current learning rate: 0.00133\n",
      "2025-05-10 22:22:33.916472: train_loss -0.7656\n",
      "2025-05-10 22:22:33.917139: val_loss -0.7818\n",
      "2025-05-10 22:22:33.917298: Pseudo dice [np.float32(0.931), np.float32(0.9669), np.float32(0.9834)]\n",
      "2025-05-10 22:22:33.917432: Epoch time: 183.12 s\n",
      "2025-05-10 22:22:35.226024: \n",
      "2025-05-10 22:22:35.226443: Epoch 895\n",
      "2025-05-10 22:22:35.226602: Current learning rate: 0.00132\n",
      "\n",
      "Uploading nnUNet_results to projet-statapp-segmedic/diffusion/nnunet_dataset/nnUNet_results...\n"
     ]
    },
    {
     "name": "stderr",
     "output_type": "stream",
     "text": [
      "Upload nnUNet_results: 100%|██████████| 76/76 [00:21<00:00,  3.51it/s]\n"
     ]
    },
    {
     "name": "stdout",
     "output_type": "stream",
     "text": [
      "upload done\n",
      "2025-05-10 22:25:38.256548: train_loss -0.7523\n",
      "2025-05-10 22:25:38.257292: val_loss -0.8115\n",
      "2025-05-10 22:25:38.257522: Pseudo dice [np.float32(0.9324), np.float32(0.9668), np.float32(0.9813)]\n",
      "2025-05-10 22:25:38.257755: Epoch time: 183.03 s\n",
      "2025-05-10 22:25:39.460385: \n",
      "2025-05-10 22:25:39.460912: Epoch 896\n",
      "2025-05-10 22:25:39.461281: Current learning rate: 0.0013\n",
      "2025-05-10 22:28:42.466542: train_loss -0.7793\n",
      "2025-05-10 22:28:42.466865: val_loss -0.8083\n",
      "2025-05-10 22:28:42.466986: Pseudo dice [np.float32(0.9338), np.float32(0.9669), np.float32(0.9805)]\n",
      "2025-05-10 22:28:42.467127: Epoch time: 183.01 s\n",
      "2025-05-10 22:28:43.685192: \n",
      "2025-05-10 22:28:43.685478: Epoch 897\n",
      "2025-05-10 22:28:43.685619: Current learning rate: 0.00129\n",
      "\n",
      "Uploading nnUNet_results to projet-statapp-segmedic/diffusion/nnunet_dataset/nnUNet_results...\n"
     ]
    },
    {
     "name": "stderr",
     "output_type": "stream",
     "text": [
      "Upload nnUNet_results: 100%|██████████| 76/76 [00:27<00:00,  2.75it/s]\n"
     ]
    },
    {
     "name": "stdout",
     "output_type": "stream",
     "text": [
      "upload done\n",
      "2025-05-10 22:31:46.678751: train_loss -0.7699\n",
      "2025-05-10 22:31:46.679101: val_loss -0.8318\n",
      "2025-05-10 22:31:46.679215: Pseudo dice [np.float32(0.9345), np.float32(0.9676), np.float32(0.9787)]\n",
      "2025-05-10 22:31:46.679335: Epoch time: 183.0 s\n",
      "2025-05-10 22:31:48.436928: \n",
      "2025-05-10 22:31:48.437311: Epoch 898\n",
      "2025-05-10 22:31:48.437480: Current learning rate: 0.00128\n",
      "2025-05-10 22:34:51.582116: train_loss -0.7849\n",
      "2025-05-10 22:34:51.582457: val_loss -0.7789\n",
      "2025-05-10 22:34:51.582614: Pseudo dice [np.float32(0.9309), np.float32(0.9671), np.float32(0.9826)]\n",
      "2025-05-10 22:34:51.582780: Epoch time: 183.15 s\n",
      "2025-05-10 22:34:52.876779: \n",
      "2025-05-10 22:34:52.877166: Epoch 899\n",
      "2025-05-10 22:34:52.877301: Current learning rate: 0.00127\n",
      "\n",
      "Uploading nnUNet_results to projet-statapp-segmedic/diffusion/nnunet_dataset/nnUNet_results...\n"
     ]
    },
    {
     "name": "stderr",
     "output_type": "stream",
     "text": [
      "Upload nnUNet_results: 100%|██████████| 76/76 [00:30<00:00,  2.53it/s]\n"
     ]
    },
    {
     "name": "stdout",
     "output_type": "stream",
     "text": [
      "upload done\n",
      "2025-05-10 22:37:56.285815: train_loss -0.7888\n",
      "2025-05-10 22:37:56.286204: val_loss -0.8278\n",
      "2025-05-10 22:37:56.286323: Pseudo dice [np.float32(0.9407), np.float32(0.9685), np.float32(0.9822)]\n",
      "2025-05-10 22:37:56.286452: Epoch time: 183.41 s\n",
      "2025-05-10 22:37:58.733711: \n",
      "2025-05-10 22:37:58.734170: Epoch 900\n",
      "2025-05-10 22:37:58.734330: Current learning rate: 0.00126\n",
      "\n",
      "Uploading nnUNet_results to projet-statapp-segmedic/diffusion/nnunet_dataset/nnUNet_results...\n"
     ]
    },
    {
     "name": "stderr",
     "output_type": "stream",
     "text": [
      "Upload nnUNet_results:  58%|█████▊    | 44/76 [00:27<00:12,  2.60it/s]"
     ]
    },
    {
     "name": "stdout",
     "output_type": "stream",
     "text": [
      "2025-05-10 22:41:02.446923: train_loss -0.7711\n",
      "2025-05-10 22:41:02.447520: val_loss -0.8028\n",
      "2025-05-10 22:41:02.447645: Pseudo dice [np.float32(0.9312), np.float32(0.9655), np.float32(0.9813)]\n",
      "2025-05-10 22:41:02.447780: Epoch time: 183.72 s\n",
      "2025-05-10 22:41:03.747748: \n",
      "2025-05-10 22:41:03.748173: Epoch 901\n",
      "2025-05-10 22:41:03.748503: Current learning rate: 0.00125\n"
     ]
    },
    {
     "name": "stderr",
     "output_type": "stream",
     "text": [
      "Upload nnUNet_results: 100%|██████████| 76/76 [00:37<00:00,  2.04it/s]\n"
     ]
    },
    {
     "name": "stdout",
     "output_type": "stream",
     "text": [
      "upload done\n",
      "2025-05-10 22:44:07.366445: train_loss -0.7737\n",
      "2025-05-10 22:44:07.366795: val_loss -0.821\n",
      "2025-05-10 22:44:07.366910: Pseudo dice [np.float32(0.9374), np.float32(0.968), np.float32(0.9829)]\n",
      "2025-05-10 22:44:07.367052: Epoch time: 183.62 s\n",
      "2025-05-10 22:44:08.624206: \n",
      "2025-05-10 22:44:08.624526: Epoch 902\n",
      "2025-05-10 22:44:08.624658: Current learning rate: 0.00124\n",
      "\n",
      "Uploading nnUNet_results to projet-statapp-segmedic/diffusion/nnunet_dataset/nnUNet_results...\n"
     ]
    },
    {
     "name": "stderr",
     "output_type": "stream",
     "text": [
      "Upload nnUNet_results: 100%|██████████| 76/76 [00:18<00:00,  4.21it/s]\n"
     ]
    },
    {
     "name": "stdout",
     "output_type": "stream",
     "text": [
      "upload done\n",
      "2025-05-10 22:47:12.119086: train_loss -0.7848\n",
      "2025-05-10 22:47:12.119509: val_loss -0.7852\n",
      "2025-05-10 22:47:12.119630: Pseudo dice [np.float32(0.9331), np.float32(0.9688), np.float32(0.9808)]\n",
      "2025-05-10 22:47:12.119826: Epoch time: 183.5 s\n",
      "2025-05-10 22:47:13.390214: \n",
      "2025-05-10 22:47:13.390676: Epoch 903\n",
      "2025-05-10 22:47:13.390940: Current learning rate: 0.00122\n",
      "2025-05-10 22:50:16.806989: train_loss -0.8015\n",
      "2025-05-10 22:50:16.807455: val_loss -0.7824\n",
      "2025-05-10 22:50:16.807650: Pseudo dice [np.float32(0.9363), np.float32(0.9681), np.float32(0.9837)]\n",
      "2025-05-10 22:50:16.807778: Epoch time: 183.42 s\n",
      "2025-05-10 22:50:18.051758: \n",
      "2025-05-10 22:50:18.053678: Epoch 904\n",
      "2025-05-10 22:50:18.054215: Current learning rate: 0.00121\n",
      "\n",
      "Uploading nnUNet_results to projet-statapp-segmedic/diffusion/nnunet_dataset/nnUNet_results...\n"
     ]
    },
    {
     "name": "stderr",
     "output_type": "stream",
     "text": [
      "Upload nnUNet_results: 100%|██████████| 76/76 [00:25<00:00,  3.04it/s]\n"
     ]
    },
    {
     "name": "stdout",
     "output_type": "stream",
     "text": [
      "upload done\n",
      "2025-05-10 22:53:21.453636: train_loss -0.7839\n",
      "2025-05-10 22:53:21.454262: val_loss -0.8255\n",
      "2025-05-10 22:53:21.454385: Pseudo dice [np.float32(0.9352), np.float32(0.9666), np.float32(0.9804)]\n",
      "2025-05-10 22:53:21.454521: Epoch time: 183.4 s\n",
      "2025-05-10 22:53:22.691242: \n",
      "2025-05-10 22:53:22.691626: Epoch 905\n",
      "2025-05-10 22:53:22.691922: Current learning rate: 0.0012\n",
      "2025-05-10 22:56:26.265317: train_loss -0.7828\n",
      "2025-05-10 22:56:26.265914: val_loss -0.7653\n",
      "2025-05-10 22:56:26.266033: Pseudo dice [np.float32(0.9359), np.float32(0.9686), np.float32(0.9799)]\n",
      "2025-05-10 22:56:26.266168: Epoch time: 183.58 s\n",
      "2025-05-10 22:56:27.520042: \n",
      "2025-05-10 22:56:27.520563: Epoch 906\n",
      "2025-05-10 22:56:27.520702: Current learning rate: 0.00119\n",
      "\n",
      "Uploading nnUNet_results to projet-statapp-segmedic/diffusion/nnunet_dataset/nnUNet_results...\n"
     ]
    },
    {
     "name": "stderr",
     "output_type": "stream",
     "text": [
      "Upload nnUNet_results: 100%|██████████| 76/76 [00:23<00:00,  3.26it/s]\n"
     ]
    },
    {
     "name": "stdout",
     "output_type": "stream",
     "text": [
      "upload done\n",
      "2025-05-10 22:59:30.968987: train_loss -0.7707\n",
      "2025-05-10 22:59:30.969492: val_loss -0.7796\n",
      "2025-05-10 22:59:30.969609: Pseudo dice [np.float32(0.9324), np.float32(0.9687), np.float32(0.9795)]\n",
      "2025-05-10 22:59:30.969741: Epoch time: 183.45 s\n",
      "2025-05-10 22:59:32.218744: \n",
      "2025-05-10 22:59:32.219198: Epoch 907\n",
      "2025-05-10 22:59:32.219409: Current learning rate: 0.00118\n",
      "\n",
      "Uploading nnUNet_results to projet-statapp-segmedic/diffusion/nnunet_dataset/nnUNet_results...\n"
     ]
    },
    {
     "name": "stderr",
     "output_type": "stream",
     "text": [
      "Upload nnUNet_results:  55%|█████▌    | 42/76 [00:17<00:39,  1.16s/it]"
     ]
    },
    {
     "name": "stdout",
     "output_type": "stream",
     "text": [
      "2025-05-10 23:02:35.913546: train_loss -0.7615\n",
      "2025-05-10 23:02:35.914179: val_loss -0.7829\n",
      "2025-05-10 23:02:35.914306: Pseudo dice [np.float32(0.9364), np.float32(0.9685), np.float32(0.9829)]\n",
      "2025-05-10 23:02:35.914440: Epoch time: 183.7 s\n"
     ]
    },
    {
     "name": "stderr",
     "output_type": "stream",
     "text": [
      "Upload nnUNet_results:  58%|█████▊    | 44/76 [00:18<00:28,  1.11it/s]"
     ]
    },
    {
     "name": "stdout",
     "output_type": "stream",
     "text": [
      "2025-05-10 23:02:37.155641: \n",
      "2025-05-10 23:02:37.155982: Epoch 908\n",
      "2025-05-10 23:02:37.156117: Current learning rate: 0.00117\n"
     ]
    },
    {
     "name": "stderr",
     "output_type": "stream",
     "text": [
      "Upload nnUNet_results: 100%|██████████| 76/76 [00:32<00:00,  2.33it/s]\n"
     ]
    },
    {
     "name": "stdout",
     "output_type": "stream",
     "text": [
      "upload done\n",
      "2025-05-10 23:05:40.617762: train_loss -0.7555\n",
      "2025-05-10 23:05:40.618357: val_loss -0.7785\n",
      "2025-05-10 23:05:40.618478: Pseudo dice [np.float32(0.9371), np.float32(0.9682), np.float32(0.9807)]\n",
      "2025-05-10 23:05:40.618608: Epoch time: 183.46 s\n",
      "2025-05-10 23:05:41.855494: \n",
      "2025-05-10 23:05:41.856018: Epoch 909\n",
      "2025-05-10 23:05:41.856188: Current learning rate: 0.00116\n",
      "\n",
      "Uploading nnUNet_results to projet-statapp-segmedic/diffusion/nnunet_dataset/nnUNet_results...\n"
     ]
    },
    {
     "name": "stderr",
     "output_type": "stream",
     "text": [
      "Upload nnUNet_results: 100%|██████████| 76/76 [00:15<00:00,  4.87it/s]\n"
     ]
    },
    {
     "name": "stdout",
     "output_type": "stream",
     "text": [
      "upload done\n",
      "2025-05-10 23:08:45.213876: train_loss -0.7707\n",
      "2025-05-10 23:08:45.214527: val_loss -0.7914\n",
      "2025-05-10 23:08:45.214645: Pseudo dice [np.float32(0.9345), np.float32(0.968), np.float32(0.9828)]\n",
      "2025-05-10 23:08:45.214773: Epoch time: 183.36 s\n",
      "2025-05-10 23:08:46.468655: \n",
      "2025-05-10 23:08:46.469108: Epoch 910\n",
      "2025-05-10 23:08:46.469319: Current learning rate: 0.00115\n",
      "2025-05-10 23:11:49.873315: train_loss -0.7817\n",
      "2025-05-10 23:11:49.873829: val_loss -0.8022\n",
      "2025-05-10 23:11:49.873941: Pseudo dice [np.float32(0.9368), np.float32(0.9671), np.float32(0.9835)]\n",
      "2025-05-10 23:11:49.874068: Epoch time: 183.41 s\n",
      "2025-05-10 23:11:49.874172: Yayy! New best EMA pseudo Dice: 0.9614999890327454\n",
      "2025-05-10 23:11:52.420084: \n",
      "2025-05-10 23:11:52.420458: Epoch 911\n",
      "2025-05-10 23:11:52.420594: Current learning rate: 0.00113\n",
      "\n",
      "Uploading nnUNet_results to projet-statapp-segmedic/diffusion/nnunet_dataset/nnUNet_results...\n"
     ]
    },
    {
     "name": "stderr",
     "output_type": "stream",
     "text": [
      "Upload nnUNet_results: 100%|██████████| 76/76 [00:15<00:00,  4.88it/s]\n"
     ]
    },
    {
     "name": "stdout",
     "output_type": "stream",
     "text": [
      "upload done\n",
      "2025-05-10 23:14:55.784009: train_loss -0.7915\n",
      "2025-05-10 23:14:55.784356: val_loss -0.8066\n",
      "2025-05-10 23:14:55.784479: Pseudo dice [np.float32(0.9385), np.float32(0.9669), np.float32(0.9835)]\n",
      "2025-05-10 23:14:55.784604: Epoch time: 183.37 s\n",
      "2025-05-10 23:14:55.784685: Yayy! New best EMA pseudo Dice: 0.9617000222206116\n",
      "2025-05-10 23:14:57.782203: \n",
      "2025-05-10 23:14:57.782578: Epoch 912\n",
      "2025-05-10 23:14:57.782841: Current learning rate: 0.00112\n",
      "2025-05-10 23:18:01.600384: train_loss -0.7914\n",
      "2025-05-10 23:18:01.600918: val_loss -0.7534\n",
      "2025-05-10 23:18:01.601038: Pseudo dice [np.float32(0.927), np.float32(0.9681), np.float32(0.9818)]\n",
      "2025-05-10 23:18:01.601167: Epoch time: 183.82 s\n",
      "2025-05-10 23:18:02.827467: \n",
      "2025-05-10 23:18:02.827995: Epoch 913\n",
      "2025-05-10 23:18:02.828154: Current learning rate: 0.00111\n",
      "\n",
      "Uploading nnUNet_results to projet-statapp-segmedic/diffusion/nnunet_dataset/nnUNet_results...\n"
     ]
    },
    {
     "name": "stderr",
     "output_type": "stream",
     "text": [
      "Upload nnUNet_results: 100%|██████████| 76/76 [00:22<00:00,  3.35it/s]\n"
     ]
    },
    {
     "name": "stdout",
     "output_type": "stream",
     "text": [
      "upload done\n",
      "2025-05-10 23:21:06.356200: train_loss -0.7997\n",
      "2025-05-10 23:21:06.356579: val_loss -0.7909\n",
      "2025-05-10 23:21:06.357072: Pseudo dice [np.float32(0.9384), np.float32(0.9677), np.float32(0.9816)]\n",
      "2025-05-10 23:21:06.357212: Epoch time: 183.53 s\n",
      "2025-05-10 23:21:07.654243: \n",
      "2025-05-10 23:21:07.654595: Epoch 914\n",
      "2025-05-10 23:21:07.654784: Current learning rate: 0.0011\n",
      "\n",
      "Uploading nnUNet_results to projet-statapp-segmedic/diffusion/nnunet_dataset/nnUNet_results...\n"
     ]
    },
    {
     "name": "stderr",
     "output_type": "stream",
     "text": [
      "Upload nnUNet_results:  74%|███████▎  | 56/76 [00:25<00:07,  2.74it/s]"
     ]
    },
    {
     "name": "stdout",
     "output_type": "stream",
     "text": [
      "2025-05-10 23:24:11.064906: train_loss -0.7942\n",
      "2025-05-10 23:24:11.065543: val_loss -0.7916\n",
      "2025-05-10 23:24:11.065664: Pseudo dice [np.float32(0.9367), np.float32(0.9665), np.float32(0.9827)]\n",
      "2025-05-10 23:24:11.065794: Epoch time: 183.41 s\n"
     ]
    },
    {
     "name": "stderr",
     "output_type": "stream",
     "text": [
      "Upload nnUNet_results:  76%|███████▋  | 58/76 [00:27<00:09,  1.86it/s]"
     ]
    },
    {
     "name": "stdout",
     "output_type": "stream",
     "text": [
      "2025-05-10 23:24:12.310283: \n",
      "2025-05-10 23:24:12.310656: Epoch 915\n",
      "2025-05-10 23:24:12.310805: Current learning rate: 0.00109\n"
     ]
    },
    {
     "name": "stderr",
     "output_type": "stream",
     "text": [
      "Upload nnUNet_results: 100%|██████████| 76/76 [00:35<00:00,  2.14it/s]\n"
     ]
    },
    {
     "name": "stdout",
     "output_type": "stream",
     "text": [
      "upload done\n",
      "2025-05-10 23:27:15.609229: train_loss -0.7695\n",
      "2025-05-10 23:27:15.609799: val_loss -0.794\n",
      "2025-05-10 23:27:15.610073: Pseudo dice [np.float32(0.9392), np.float32(0.9683), np.float32(0.9836)]\n",
      "2025-05-10 23:27:15.610269: Epoch time: 183.3 s\n",
      "2025-05-10 23:27:15.610412: Yayy! New best EMA pseudo Dice: 0.9617999792098999\n",
      "2025-05-10 23:27:17.689212: \n",
      "2025-05-10 23:27:17.689668: Epoch 916\n",
      "2025-05-10 23:27:17.689842: Current learning rate: 0.00108\n",
      "\n",
      "Uploading nnUNet_results to projet-statapp-segmedic/diffusion/nnunet_dataset/nnUNet_results...\n"
     ]
    },
    {
     "name": "stderr",
     "output_type": "stream",
     "text": [
      "Upload nnUNet_results: 100%|██████████| 76/76 [00:34<00:00,  2.23it/s]\n"
     ]
    },
    {
     "name": "stdout",
     "output_type": "stream",
     "text": [
      "upload done\n",
      "2025-05-10 23:30:21.288548: train_loss -0.785\n",
      "2025-05-10 23:30:21.288987: val_loss -0.7826\n",
      "2025-05-10 23:30:21.289115: Pseudo dice [np.float32(0.9352), np.float32(0.9703), np.float32(0.9831)]\n",
      "2025-05-10 23:30:21.289410: Epoch time: 183.6 s\n",
      "2025-05-10 23:30:21.289537: Yayy! New best EMA pseudo Dice: 0.961899995803833\n",
      "2025-05-10 23:30:23.383031: \n",
      "2025-05-10 23:30:23.383375: Epoch 917\n",
      "2025-05-10 23:30:23.383665: Current learning rate: 0.00106\n",
      "2025-05-10 23:33:26.949749: train_loss -0.7889\n",
      "2025-05-10 23:33:26.950203: val_loss -0.7737\n",
      "2025-05-10 23:33:26.950315: Pseudo dice [np.float32(0.9379), np.float32(0.9692), np.float32(0.9842)]\n",
      "2025-05-10 23:33:26.950497: Epoch time: 183.57 s\n",
      "2025-05-10 23:33:26.950735: Yayy! New best EMA pseudo Dice: 0.9621000289916992\n",
      "2025-05-10 23:33:29.100833: \n",
      "2025-05-10 23:33:29.101162: Epoch 918\n",
      "2025-05-10 23:33:29.101298: Current learning rate: 0.00105\n",
      "\n",
      "Uploading nnUNet_results to projet-statapp-segmedic/diffusion/nnunet_dataset/nnUNet_results...\n"
     ]
    },
    {
     "name": "stderr",
     "output_type": "stream",
     "text": [
      "Upload nnUNet_results: 100%|██████████| 76/76 [00:32<00:00,  2.34it/s]\n"
     ]
    },
    {
     "name": "stdout",
     "output_type": "stream",
     "text": [
      "upload done\n",
      "2025-05-10 23:36:32.487687: train_loss -0.775\n",
      "2025-05-10 23:36:32.488166: val_loss -0.7989\n",
      "2025-05-10 23:36:32.488306: Pseudo dice [np.float32(0.9402), np.float32(0.9701), np.float32(0.9826)]\n",
      "2025-05-10 23:36:32.488495: Epoch time: 183.39 s\n",
      "2025-05-10 23:36:32.488585: Yayy! New best EMA pseudo Dice: 0.9623000025749207\n",
      "2025-05-10 23:36:34.684074: \n",
      "2025-05-10 23:36:34.684385: Epoch 919\n",
      "2025-05-10 23:36:34.684519: Current learning rate: 0.00104\n",
      "2025-05-10 23:39:37.397952: train_loss -0.7705\n",
      "2025-05-10 23:39:37.398362: val_loss -0.8\n",
      "2025-05-10 23:39:37.398483: Pseudo dice [np.float32(0.9393), np.float32(0.9692), np.float32(0.9821)]\n",
      "2025-05-10 23:39:37.398607: Epoch time: 182.72 s\n",
      "2025-05-10 23:39:37.398974: Yayy! New best EMA pseudo Dice: 0.9624000191688538\n",
      "2025-05-10 23:39:39.697907: \n",
      "2025-05-10 23:39:39.698210: Epoch 920\n",
      "2025-05-10 23:39:39.698345: Current learning rate: 0.00103\n",
      "\n",
      "Uploading nnUNet_results to projet-statapp-segmedic/diffusion/nnunet_dataset/nnUNet_results...\n"
     ]
    },
    {
     "name": "stderr",
     "output_type": "stream",
     "text": [
      "Upload nnUNet_results: 100%|██████████| 76/76 [00:19<00:00,  3.87it/s]\n"
     ]
    },
    {
     "name": "stdout",
     "output_type": "stream",
     "text": [
      "upload done\n",
      "2025-05-10 23:42:42.438962: train_loss -0.7579\n",
      "2025-05-10 23:42:42.439275: val_loss -0.7928\n",
      "2025-05-10 23:42:42.439628: Pseudo dice [np.float32(0.9398), np.float32(0.969), np.float32(0.9774)]\n",
      "2025-05-10 23:42:42.439855: Epoch time: 182.74 s\n",
      "2025-05-10 23:42:43.682853: \n",
      "2025-05-10 23:42:43.683321: Epoch 921\n",
      "2025-05-10 23:42:43.683602: Current learning rate: 0.00102\n",
      "\n",
      "Uploading nnUNet_results to projet-statapp-segmedic/diffusion/nnunet_dataset/nnUNet_results...\n"
     ]
    },
    {
     "name": "stderr",
     "output_type": "stream",
     "text": [
      "Upload nnUNet_results:   9%|▉         | 7/76 [00:00<00:01, 49.90it/s]"
     ]
    },
    {
     "name": "stdout",
     "output_type": "stream",
     "text": [
      "2025-05-10 23:45:46.800684: train_loss -0.7897\n",
      "2025-05-10 23:45:46.803029: val_loss -0.7786\n",
      "2025-05-10 23:45:46.803267: Pseudo dice [np.float32(0.9356), np.float32(0.969), np.float32(0.9815)]\n",
      "2025-05-10 23:45:46.803437: Epoch time: 183.12 s\n"
     ]
    },
    {
     "name": "stderr",
     "output_type": "stream",
     "text": [
      "Upload nnUNet_results:  16%|█▌        | 12/76 [00:01<00:08,  7.69it/s]"
     ]
    },
    {
     "name": "stdout",
     "output_type": "stream",
     "text": [
      "2025-05-10 23:45:48.540243: \n",
      "2025-05-10 23:45:48.540534: Epoch 922\n",
      "2025-05-10 23:45:48.540805: Current learning rate: 0.00101\n"
     ]
    },
    {
     "name": "stderr",
     "output_type": "stream",
     "text": [
      "Upload nnUNet_results: 100%|██████████| 76/76 [00:23<00:00,  3.28it/s]\n"
     ]
    },
    {
     "name": "stdout",
     "output_type": "stream",
     "text": [
      "upload done\n",
      "2025-05-10 23:48:51.259194: train_loss -0.7959\n",
      "2025-05-10 23:48:51.259622: val_loss -0.8151\n",
      "2025-05-10 23:48:51.259734: Pseudo dice [np.float32(0.9374), np.float32(0.9662), np.float32(0.9822)]\n",
      "2025-05-10 23:48:51.259856: Epoch time: 182.72 s\n",
      "2025-05-10 23:48:52.496531: \n",
      "2025-05-10 23:48:52.496986: Epoch 923\n",
      "2025-05-10 23:48:52.497160: Current learning rate: 0.001\n",
      "\n",
      "Uploading nnUNet_results to projet-statapp-segmedic/diffusion/nnunet_dataset/nnUNet_results...\n"
     ]
    },
    {
     "name": "stderr",
     "output_type": "stream",
     "text": [
      "Upload nnUNet_results: 100%|██████████| 76/76 [00:31<00:00,  2.45it/s]\n"
     ]
    },
    {
     "name": "stdout",
     "output_type": "stream",
     "text": [
      "upload done\n",
      "2025-05-10 23:51:55.352697: train_loss -0.7843\n",
      "2025-05-10 23:51:55.353125: val_loss -0.7564\n",
      "2025-05-10 23:51:55.353242: Pseudo dice [np.float32(0.941), np.float32(0.9687), np.float32(0.9819)]\n",
      "2025-05-10 23:51:55.353368: Epoch time: 182.86 s\n",
      "2025-05-10 23:51:55.353451: Yayy! New best EMA pseudo Dice: 0.9624999761581421\n",
      "2025-05-10 23:51:57.371266: \n",
      "2025-05-10 23:51:57.371773: Epoch 924\n",
      "2025-05-10 23:51:57.371908: Current learning rate: 0.00098\n",
      "2025-05-10 23:55:00.303618: train_loss -0.7845\n",
      "2025-05-10 23:55:00.303919: val_loss -0.7721\n",
      "2025-05-10 23:55:00.304030: Pseudo dice [np.float32(0.9401), np.float32(0.9688), np.float32(0.9807)]\n",
      "2025-05-10 23:55:00.304154: Epoch time: 182.93 s\n",
      "2025-05-10 23:55:00.304237: Yayy! New best EMA pseudo Dice: 0.9624999761581421\n",
      "2025-05-10 23:55:02.372243: \n",
      "2025-05-10 23:55:02.372679: Epoch 925\n",
      "2025-05-10 23:55:02.372841: Current learning rate: 0.00097\n",
      "\n",
      "Uploading nnUNet_results to projet-statapp-segmedic/diffusion/nnunet_dataset/nnUNet_results...\n"
     ]
    },
    {
     "name": "stderr",
     "output_type": "stream",
     "text": [
      "Upload nnUNet_results: 100%|██████████| 76/76 [00:31<00:00,  2.42it/s]\n"
     ]
    },
    {
     "name": "stdout",
     "output_type": "stream",
     "text": [
      "upload done\n",
      "2025-05-10 23:58:05.604478: train_loss -0.7786\n",
      "2025-05-10 23:58:05.604887: val_loss -0.78\n",
      "2025-05-10 23:58:05.605001: Pseudo dice [np.float32(0.9331), np.float32(0.9675), np.float32(0.9822)]\n",
      "2025-05-10 23:58:05.605131: Epoch time: 183.23 s\n",
      "2025-05-10 23:58:06.870418: \n",
      "2025-05-10 23:58:06.870812: Epoch 926\n",
      "2025-05-10 23:58:06.870972: Current learning rate: 0.00096\n",
      "2025-05-11 00:01:09.907357: train_loss -0.7659\n",
      "2025-05-11 00:01:09.907730: val_loss -0.7709\n",
      "2025-05-11 00:01:09.907863: Pseudo dice [np.float32(0.9391), np.float32(0.9698), np.float32(0.982)]\n",
      "2025-05-11 00:01:09.908077: Epoch time: 183.04 s\n",
      "2025-05-11 00:01:11.120961: \n",
      "2025-05-11 00:01:11.121330: Epoch 927\n",
      "2025-05-11 00:01:11.121488: Current learning rate: 0.00095\n",
      "\n",
      "Uploading nnUNet_results to projet-statapp-segmedic/diffusion/nnunet_dataset/nnUNet_results...\n"
     ]
    },
    {
     "name": "stderr",
     "output_type": "stream",
     "text": [
      "Upload nnUNet_results: 100%|██████████| 76/76 [00:36<00:00,  2.10it/s]\n"
     ]
    },
    {
     "name": "stdout",
     "output_type": "stream",
     "text": [
      "upload done\n",
      "2025-05-11 00:04:14.941679: train_loss -0.7814\n",
      "2025-05-11 00:04:14.942335: val_loss -0.7536\n",
      "2025-05-11 00:04:14.942558: Pseudo dice [np.float32(0.9299), np.float32(0.9684), np.float32(0.982)]\n",
      "2025-05-11 00:04:14.942784: Epoch time: 183.82 s\n",
      "2025-05-11 00:04:16.239153: \n",
      "2025-05-11 00:04:16.239708: Epoch 928\n",
      "2025-05-11 00:04:16.239909: Current learning rate: 0.00094\n",
      "2025-05-11 00:07:19.972355: train_loss -0.7833\n",
      "2025-05-11 00:07:19.972982: val_loss -0.7637\n",
      "2025-05-11 00:07:19.973136: Pseudo dice [np.float32(0.9315), np.float32(0.9693), np.float32(0.9841)]\n",
      "2025-05-11 00:07:19.973277: Epoch time: 183.73 s\n",
      "2025-05-11 00:07:21.263679: \n",
      "2025-05-11 00:07:21.264131: Epoch 929\n",
      "2025-05-11 00:07:21.264266: Current learning rate: 0.00092\n",
      "\n",
      "Uploading nnUNet_results to projet-statapp-segmedic/diffusion/nnunet_dataset/nnUNet_results...\n"
     ]
    },
    {
     "name": "stderr",
     "output_type": "stream",
     "text": [
      "Upload nnUNet_results: 100%|██████████| 76/76 [00:30<00:00,  2.50it/s]\n"
     ]
    },
    {
     "name": "stdout",
     "output_type": "stream",
     "text": [
      "upload done\n",
      "2025-05-11 00:10:24.869539: train_loss -0.774\n",
      "2025-05-11 00:10:24.870122: val_loss -0.7857\n",
      "2025-05-11 00:10:24.870259: Pseudo dice [np.float32(0.9384), np.float32(0.968), np.float32(0.9815)]\n",
      "2025-05-11 00:10:24.870392: Epoch time: 183.61 s\n",
      "2025-05-11 00:10:26.102702: \n",
      "2025-05-11 00:10:26.103080: Epoch 930\n",
      "2025-05-11 00:10:26.103296: Current learning rate: 0.00091\n",
      "\n",
      "Uploading nnUNet_results to projet-statapp-segmedic/diffusion/nnunet_dataset/nnUNet_results...\n"
     ]
    },
    {
     "name": "stderr",
     "output_type": "stream",
     "text": [
      "Upload nnUNet_results:  30%|███       | 23/76 [00:10<00:48,  1.10it/s]"
     ]
    },
    {
     "name": "stdout",
     "output_type": "stream",
     "text": [
      "2025-05-11 00:13:29.666791: train_loss -0.797\n",
      "2025-05-11 00:13:29.667145: val_loss -0.7466\n",
      "2025-05-11 00:13:29.667270: Pseudo dice [np.float32(0.9353), np.float32(0.9681), np.float32(0.984)]\n",
      "2025-05-11 00:13:29.667445: Epoch time: 183.57 s\n"
     ]
    },
    {
     "name": "stderr",
     "output_type": "stream",
     "text": [
      "Upload nnUNet_results:  39%|███▉      | 30/76 [00:12<00:11,  3.99it/s]"
     ]
    },
    {
     "name": "stdout",
     "output_type": "stream",
     "text": [
      "2025-05-11 00:13:30.923685: \n",
      "2025-05-11 00:13:30.924037: Epoch 931\n",
      "2025-05-11 00:13:30.924352: Current learning rate: 0.0009\n"
     ]
    },
    {
     "name": "stderr",
     "output_type": "stream",
     "text": [
      "Upload nnUNet_results: 100%|██████████| 76/76 [00:34<00:00,  2.21it/s]\n"
     ]
    },
    {
     "name": "stdout",
     "output_type": "stream",
     "text": [
      "upload done\n",
      "2025-05-11 00:16:34.496063: train_loss -0.8019\n",
      "2025-05-11 00:16:34.496442: val_loss -0.7752\n",
      "2025-05-11 00:16:34.496625: Pseudo dice [np.float32(0.9358), np.float32(0.9681), np.float32(0.9848)]\n",
      "2025-05-11 00:16:34.496827: Epoch time: 183.57 s\n",
      "2025-05-11 00:16:35.678905: \n",
      "2025-05-11 00:16:35.679226: Epoch 932\n",
      "2025-05-11 00:16:35.679385: Current learning rate: 0.00089\n",
      "\n",
      "Uploading nnUNet_results to projet-statapp-segmedic/diffusion/nnunet_dataset/nnUNet_results...\n"
     ]
    },
    {
     "name": "stderr",
     "output_type": "stream",
     "text": [
      "Upload nnUNet_results: 100%|██████████| 76/76 [00:19<00:00,  3.88it/s]\n"
     ]
    },
    {
     "name": "stdout",
     "output_type": "stream",
     "text": [
      "upload done\n",
      "2025-05-11 00:19:38.994694: train_loss -0.7836\n",
      "2025-05-11 00:19:38.995115: val_loss -0.7616\n",
      "2025-05-11 00:19:38.995241: Pseudo dice [np.float32(0.9436), np.float32(0.9699), np.float32(0.9831)]\n",
      "2025-05-11 00:19:38.995363: Epoch time: 183.32 s\n",
      "2025-05-11 00:19:38.995444: Yayy! New best EMA pseudo Dice: 0.9625999927520752\n",
      "2025-05-11 00:19:41.029990: \n",
      "2025-05-11 00:19:41.030295: Epoch 933\n",
      "2025-05-11 00:19:41.030429: Current learning rate: 0.00088\n",
      "2025-05-11 00:22:44.320593: train_loss -0.7855\n",
      "2025-05-11 00:22:44.321020: val_loss -0.7939\n",
      "2025-05-11 00:22:44.321299: Pseudo dice [np.float32(0.938), np.float32(0.969), np.float32(0.9839)]\n",
      "2025-05-11 00:22:44.321441: Epoch time: 183.29 s\n",
      "2025-05-11 00:22:44.321534: Yayy! New best EMA pseudo Dice: 0.9627000093460083\n",
      "2025-05-11 00:22:46.246375: \n",
      "2025-05-11 00:22:46.246746: Epoch 934\n",
      "2025-05-11 00:22:46.246877: Current learning rate: 0.00087\n",
      "\n",
      "Uploading nnUNet_results to projet-statapp-segmedic/diffusion/nnunet_dataset/nnUNet_results...\n"
     ]
    },
    {
     "name": "stderr",
     "output_type": "stream",
     "text": [
      "Upload nnUNet_results: 100%|██████████| 76/76 [00:21<00:00,  3.59it/s]\n"
     ]
    },
    {
     "name": "stdout",
     "output_type": "stream",
     "text": [
      "upload done\n",
      "2025-05-11 00:25:50.022354: train_loss -0.7766\n",
      "2025-05-11 00:25:50.022957: val_loss -0.8256\n",
      "2025-05-11 00:25:50.023160: Pseudo dice [np.float32(0.9382), np.float32(0.9698), np.float32(0.9841)]\n",
      "2025-05-11 00:25:50.023374: Epoch time: 183.78 s\n",
      "2025-05-11 00:25:50.023529: Yayy! New best EMA pseudo Dice: 0.9628999829292297\n",
      "2025-05-11 00:25:52.746423: \n",
      "2025-05-11 00:25:52.746852: Epoch 935\n",
      "2025-05-11 00:25:52.747069: Current learning rate: 0.00085\n",
      "2025-05-11 00:28:56.298302: train_loss -0.7756\n",
      "2025-05-11 00:28:56.298712: val_loss -0.8217\n",
      "2025-05-11 00:28:56.298826: Pseudo dice [np.float32(0.9388), np.float32(0.9694), np.float32(0.9811)]\n",
      "2025-05-11 00:28:56.298969: Epoch time: 183.55 s\n",
      "2025-05-11 00:28:56.299052: Yayy! New best EMA pseudo Dice: 0.9628999829292297\n",
      "2025-05-11 00:28:58.285467: \n",
      "2025-05-11 00:28:58.285870: Epoch 936\n",
      "2025-05-11 00:28:58.286189: Current learning rate: 0.00084\n",
      "\n",
      "Uploading nnUNet_results to projet-statapp-segmedic/diffusion/nnunet_dataset/nnUNet_results...\n"
     ]
    },
    {
     "name": "stderr",
     "output_type": "stream",
     "text": [
      "Upload nnUNet_results: 100%|██████████| 76/76 [00:15<00:00,  4.96it/s]\n"
     ]
    },
    {
     "name": "stdout",
     "output_type": "stream",
     "text": [
      "upload done\n",
      "2025-05-11 00:32:01.383101: train_loss -0.7661\n",
      "2025-05-11 00:32:01.383564: val_loss -0.7856\n",
      "2025-05-11 00:32:01.383773: Pseudo dice [np.float32(0.9387), np.float32(0.967), np.float32(0.9815)]\n",
      "2025-05-11 00:32:01.383902: Epoch time: 183.1 s\n",
      "2025-05-11 00:32:02.656329: \n",
      "2025-05-11 00:32:02.656689: Epoch 937\n",
      "2025-05-11 00:32:02.656826: Current learning rate: 0.00083\n",
      "\n",
      "Uploading nnUNet_results to projet-statapp-segmedic/diffusion/nnunet_dataset/nnUNet_results...\n"
     ]
    },
    {
     "name": "stderr",
     "output_type": "stream",
     "text": [
      "Upload nnUNet_results: 100%|██████████| 76/76 [00:15<00:00,  5.05it/s]\n"
     ]
    },
    {
     "name": "stdout",
     "output_type": "stream",
     "text": [
      "upload done\n",
      "2025-05-11 00:35:06.028835: train_loss -0.7789\n",
      "2025-05-11 00:35:06.029213: val_loss -0.7518\n",
      "2025-05-11 00:35:06.029328: Pseudo dice [np.float32(0.9425), np.float32(0.9697), np.float32(0.9837)]\n",
      "2025-05-11 00:35:06.029458: Epoch time: 183.37 s\n",
      "2025-05-11 00:35:06.029539: Yayy! New best EMA pseudo Dice: 0.963100016117096\n",
      "2025-05-11 00:35:07.942039: \n",
      "2025-05-11 00:35:07.942538: Epoch 938\n",
      "2025-05-11 00:35:07.942674: Current learning rate: 0.00082\n",
      "2025-05-11 00:38:11.024710: train_loss -0.7823\n",
      "2025-05-11 00:38:11.025058: val_loss -0.7826\n",
      "2025-05-11 00:38:11.025269: Pseudo dice [np.float32(0.9388), np.float32(0.9695), np.float32(0.9828)]\n",
      "2025-05-11 00:38:11.025580: Epoch time: 183.08 s\n",
      "2025-05-11 00:38:11.025721: Yayy! New best EMA pseudo Dice: 0.9631999731063843\n",
      "2025-05-11 00:38:12.947190: \n",
      "2025-05-11 00:38:12.947660: Epoch 939\n",
      "2025-05-11 00:38:12.947792: Current learning rate: 0.00081\n",
      "\n",
      "Uploading nnUNet_results to projet-statapp-segmedic/diffusion/nnunet_dataset/nnUNet_results...\n"
     ]
    },
    {
     "name": "stderr",
     "output_type": "stream",
     "text": [
      "Upload nnUNet_results: 100%|██████████| 76/76 [00:14<00:00,  5.21it/s]\n"
     ]
    },
    {
     "name": "stdout",
     "output_type": "stream",
     "text": [
      "upload done\n",
      "2025-05-11 00:41:16.270486: train_loss -0.7672\n",
      "2025-05-11 00:41:16.270849: val_loss -0.8029\n",
      "2025-05-11 00:41:16.270962: Pseudo dice [np.float32(0.9401), np.float32(0.9693), np.float32(0.9848)]\n",
      "2025-05-11 00:41:16.271087: Epoch time: 183.32 s\n",
      "2025-05-11 00:41:16.271169: Yayy! New best EMA pseudo Dice: 0.9632999897003174\n",
      "2025-05-11 00:41:18.206564: \n",
      "2025-05-11 00:41:18.206982: Epoch 940\n",
      "2025-05-11 00:41:18.207133: Current learning rate: 0.00079\n",
      "2025-05-11 00:44:21.424462: train_loss -0.7745\n",
      "2025-05-11 00:44:21.424847: val_loss -0.8032\n",
      "2025-05-11 00:44:21.424991: Pseudo dice [np.float32(0.9402), np.float32(0.968), np.float32(0.9838)]\n",
      "2025-05-11 00:44:21.425125: Epoch time: 183.22 s\n",
      "2025-05-11 00:44:21.425207: Yayy! New best EMA pseudo Dice: 0.9634000062942505\n",
      "2025-05-11 00:44:23.328604: \n",
      "2025-05-11 00:44:23.329076: Epoch 941\n",
      "2025-05-11 00:44:23.329211: Current learning rate: 0.00078\n",
      "\n",
      "Uploading nnUNet_results to projet-statapp-segmedic/diffusion/nnunet_dataset/nnUNet_results...\n"
     ]
    },
    {
     "name": "stderr",
     "output_type": "stream",
     "text": [
      "Upload nnUNet_results: 100%|██████████| 76/76 [00:15<00:00,  5.00it/s]\n"
     ]
    },
    {
     "name": "stdout",
     "output_type": "stream",
     "text": [
      "upload done\n",
      "2025-05-11 00:47:26.592942: train_loss -0.7656\n",
      "2025-05-11 00:47:26.595090: val_loss -0.8181\n",
      "2025-05-11 00:47:26.595224: Pseudo dice [np.float32(0.9416), np.float32(0.968), np.float32(0.9806)]\n",
      "2025-05-11 00:47:26.595489: Epoch time: 183.27 s\n",
      "2025-05-11 00:47:26.595867: Yayy! New best EMA pseudo Dice: 0.9634000062942505\n",
      "2025-05-11 00:47:28.591915: \n",
      "2025-05-11 00:47:28.592411: Epoch 942\n",
      "2025-05-11 00:47:28.592549: Current learning rate: 0.00077\n",
      "2025-05-11 00:50:31.963188: train_loss -0.7556\n",
      "2025-05-11 00:50:31.963506: val_loss -0.7769\n",
      "2025-05-11 00:50:31.963620: Pseudo dice [np.float32(0.9374), np.float32(0.9695), np.float32(0.9854)]\n",
      "2025-05-11 00:50:31.963747: Epoch time: 183.37 s\n",
      "2025-05-11 00:50:31.963831: Yayy! New best EMA pseudo Dice: 0.9635000228881836\n",
      "2025-05-11 00:50:33.953722: \n",
      "2025-05-11 00:50:33.954119: Epoch 943\n",
      "2025-05-11 00:50:33.954252: Current learning rate: 0.00076\n",
      "\n",
      "Uploading nnUNet_results to projet-statapp-segmedic/diffusion/nnunet_dataset/nnUNet_results...\n"
     ]
    },
    {
     "name": "stderr",
     "output_type": "stream",
     "text": [
      "Upload nnUNet_results: 100%|██████████| 76/76 [00:15<00:00,  4.99it/s]\n"
     ]
    },
    {
     "name": "stdout",
     "output_type": "stream",
     "text": [
      "upload done\n",
      "2025-05-11 00:53:37.424552: train_loss -0.7846\n",
      "2025-05-11 00:53:37.424982: val_loss -0.7443\n",
      "2025-05-11 00:53:37.425101: Pseudo dice [np.float32(0.9389), np.float32(0.9698), np.float32(0.9839)]\n",
      "2025-05-11 00:53:37.425228: Epoch time: 183.47 s\n",
      "2025-05-11 00:53:37.425311: Yayy! New best EMA pseudo Dice: 0.9635000228881836\n",
      "2025-05-11 00:53:39.387621: \n",
      "2025-05-11 00:53:39.387987: Epoch 944\n",
      "2025-05-11 00:53:39.388320: Current learning rate: 0.00075\n",
      "\n",
      "Uploading nnUNet_results to projet-statapp-segmedic/diffusion/nnunet_dataset/nnUNet_results...\n"
     ]
    },
    {
     "name": "stderr",
     "output_type": "stream",
     "text": [
      "Upload nnUNet_results: 100%|██████████| 76/76 [00:26<00:00,  2.86it/s]\n"
     ]
    },
    {
     "name": "stdout",
     "output_type": "stream",
     "text": [
      "upload done\n",
      "2025-05-11 00:56:43.521688: train_loss -0.789\n",
      "2025-05-11 00:56:43.522146: val_loss -0.7307\n",
      "2025-05-11 00:56:43.522273: Pseudo dice [np.float32(0.9341), np.float32(0.97), np.float32(0.9817)]\n",
      "2025-05-11 00:56:43.522404: Epoch time: 184.14 s\n",
      "2025-05-11 00:56:44.729263: \n",
      "2025-05-11 00:56:44.729661: Epoch 945\n",
      "2025-05-11 00:56:44.729793: Current learning rate: 0.00074\n",
      "2025-05-11 00:59:48.855358: train_loss -0.7848\n",
      "2025-05-11 00:59:48.858039: val_loss -0.7897\n",
      "2025-05-11 00:59:48.858304: Pseudo dice [np.float32(0.943), np.float32(0.9696), np.float32(0.9834)]\n",
      "2025-05-11 00:59:48.858424: Epoch time: 184.13 s\n",
      "2025-05-11 00:59:48.858499: Yayy! New best EMA pseudo Dice: 0.9635999798774719\n",
      "2025-05-11 00:59:51.387991: \n",
      "2025-05-11 00:59:51.388477: Epoch 946\n",
      "2025-05-11 00:59:51.388688: Current learning rate: 0.00072\n",
      "\n",
      "Uploading nnUNet_results to projet-statapp-segmedic/diffusion/nnunet_dataset/nnUNet_results...\n"
     ]
    },
    {
     "name": "stderr",
     "output_type": "stream",
     "text": [
      "Upload nnUNet_results: 100%|██████████| 76/76 [00:24<00:00,  3.11it/s]\n"
     ]
    },
    {
     "name": "stdout",
     "output_type": "stream",
     "text": [
      "upload done\n",
      "2025-05-11 01:02:55.429506: train_loss -0.7685\n",
      "2025-05-11 01:02:55.430076: val_loss -0.7992\n",
      "2025-05-11 01:02:55.430199: Pseudo dice [np.float32(0.9402), np.float32(0.9689), np.float32(0.984)]\n",
      "2025-05-11 01:02:55.430333: Epoch time: 184.04 s\n",
      "2025-05-11 01:02:55.430418: Yayy! New best EMA pseudo Dice: 0.963699996471405\n",
      "2025-05-11 01:02:57.336005: \n",
      "2025-05-11 01:02:57.336448: Epoch 947\n",
      "2025-05-11 01:02:57.336733: Current learning rate: 0.00071\n",
      "2025-05-11 01:06:00.909875: train_loss -0.806\n",
      "2025-05-11 01:06:00.910357: val_loss -0.8239\n",
      "2025-05-11 01:06:00.910592: Pseudo dice [np.float32(0.9432), np.float32(0.9671), np.float32(0.9834)]\n",
      "2025-05-11 01:06:00.910721: Epoch time: 183.58 s\n",
      "2025-05-11 01:06:00.910804: Yayy! New best EMA pseudo Dice: 0.963699996471405\n",
      "2025-05-11 01:06:02.792500: \n",
      "2025-05-11 01:06:02.792848: Epoch 948\n",
      "2025-05-11 01:06:02.792979: Current learning rate: 0.0007\n",
      "\n",
      "Uploading nnUNet_results to projet-statapp-segmedic/diffusion/nnunet_dataset/nnUNet_results...\n"
     ]
    },
    {
     "name": "stderr",
     "output_type": "stream",
     "text": [
      "Upload nnUNet_results: 100%|██████████| 76/76 [00:28<00:00,  2.68it/s]\n"
     ]
    },
    {
     "name": "stdout",
     "output_type": "stream",
     "text": [
      "upload done\n",
      "2025-05-11 01:09:05.966607: train_loss -0.7802\n",
      "2025-05-11 01:09:05.967014: val_loss -0.7844\n",
      "2025-05-11 01:09:05.967132: Pseudo dice [np.float32(0.9409), np.float32(0.9697), np.float32(0.9845)]\n",
      "2025-05-11 01:09:05.967259: Epoch time: 183.18 s\n",
      "2025-05-11 01:09:05.967340: Yayy! New best EMA pseudo Dice: 0.9639000296592712\n",
      "2025-05-11 01:09:07.862085: \n",
      "2025-05-11 01:09:07.862442: Epoch 949\n",
      "2025-05-11 01:09:07.862669: Current learning rate: 0.00069\n",
      "\n",
      "Uploading nnUNet_results to projet-statapp-segmedic/diffusion/nnunet_dataset/nnUNet_results...\n"
     ]
    },
    {
     "name": "stderr",
     "output_type": "stream",
     "text": [
      "Upload nnUNet_results:  14%|█▍        | 11/76 [00:00<00:03, 17.47it/s]"
     ]
    },
    {
     "name": "stdout",
     "output_type": "stream",
     "text": [
      "2025-05-11 01:12:11.117003: train_loss -0.7942\n",
      "2025-05-11 01:12:11.117306: val_loss -0.8248\n",
      "2025-05-11 01:12:11.117430: Pseudo dice [np.float32(0.942), np.float32(0.9692), np.float32(0.9825)]\n",
      "2025-05-11 01:12:11.117549: Epoch time: 183.26 s\n",
      "2025-05-11 01:12:11.785794: Yayy! New best EMA pseudo Dice: 0.9639000296592712\n"
     ]
    },
    {
     "name": "stderr",
     "output_type": "stream",
     "text": [
      "Upload nnUNet_results:  17%|█▋        | 13/76 [00:04<00:34,  1.84it/s]"
     ]
    },
    {
     "name": "stdout",
     "output_type": "stream",
     "text": [
      "2025-05-11 01:12:13.709125: \n",
      "2025-05-11 01:12:13.709471: Epoch 950\n",
      "2025-05-11 01:12:13.709681: Current learning rate: 0.00067\n"
     ]
    },
    {
     "name": "stderr",
     "output_type": "stream",
     "text": [
      "Upload nnUNet_results: 100%|██████████| 76/76 [00:27<00:00,  2.78it/s]\n"
     ]
    },
    {
     "name": "stdout",
     "output_type": "stream",
     "text": [
      "upload done\n",
      "2025-05-11 01:15:17.080971: train_loss -0.8003\n",
      "2025-05-11 01:15:17.081541: val_loss -0.7771\n",
      "2025-05-11 01:15:17.081664: Pseudo dice [np.float32(0.9397), np.float32(0.9674), np.float32(0.9856)]\n",
      "2025-05-11 01:15:17.081806: Epoch time: 183.37 s\n",
      "2025-05-11 01:15:17.081885: Yayy! New best EMA pseudo Dice: 0.9639999866485596\n",
      "2025-05-11 01:15:19.087444: \n",
      "2025-05-11 01:15:19.088002: Epoch 951\n",
      "2025-05-11 01:15:19.088166: Current learning rate: 0.00066\n",
      "\n",
      "Uploading nnUNet_results to projet-statapp-segmedic/diffusion/nnunet_dataset/nnUNet_results...\n"
     ]
    },
    {
     "name": "stderr",
     "output_type": "stream",
     "text": [
      "Upload nnUNet_results: 100%|██████████| 76/76 [00:26<00:00,  2.83it/s]\n"
     ]
    },
    {
     "name": "stdout",
     "output_type": "stream",
     "text": [
      "upload done\n",
      "2025-05-11 01:18:22.336022: train_loss -0.7832\n",
      "2025-05-11 01:18:22.336533: val_loss -0.7583\n",
      "2025-05-11 01:18:22.336650: Pseudo dice [np.float32(0.9432), np.float32(0.97), np.float32(0.9834)]\n",
      "2025-05-11 01:18:22.336777: Epoch time: 183.25 s\n",
      "2025-05-11 01:18:22.336858: Yayy! New best EMA pseudo Dice: 0.9641000032424927\n",
      "2025-05-11 01:18:24.208270: \n",
      "2025-05-11 01:18:24.208753: Epoch 952\n",
      "2025-05-11 01:18:24.208997: Current learning rate: 0.00065\n",
      "2025-05-11 01:21:27.378708: train_loss -0.7813\n",
      "2025-05-11 01:21:27.379299: val_loss -0.7706\n",
      "2025-05-11 01:21:27.379644: Pseudo dice [np.float32(0.9371), np.float32(0.9702), np.float32(0.9839)]\n",
      "2025-05-11 01:21:27.379825: Epoch time: 183.17 s\n",
      "2025-05-11 01:21:28.690535: \n",
      "2025-05-11 01:21:28.690893: Epoch 953\n",
      "2025-05-11 01:21:28.691025: Current learning rate: 0.00064\n",
      "\n",
      "Uploading nnUNet_results to projet-statapp-segmedic/diffusion/nnunet_dataset/nnUNet_results...\n"
     ]
    },
    {
     "name": "stderr",
     "output_type": "stream",
     "text": [
      "Upload nnUNet_results: 100%|██████████| 76/76 [00:32<00:00,  2.33it/s]\n"
     ]
    },
    {
     "name": "stdout",
     "output_type": "stream",
     "text": [
      "upload done\n",
      "2025-05-11 01:24:32.031341: train_loss -0.7834\n",
      "2025-05-11 01:24:32.031641: val_loss -0.7928\n",
      "2025-05-11 01:24:32.031755: Pseudo dice [np.float32(0.9417), np.float32(0.9676), np.float32(0.9824)]\n",
      "2025-05-11 01:24:32.031980: Epoch time: 183.34 s\n",
      "2025-05-11 01:24:33.229776: \n",
      "2025-05-11 01:24:33.230115: Epoch 954\n",
      "2025-05-11 01:24:33.230442: Current learning rate: 0.00063\n",
      "2025-05-11 01:27:36.511913: train_loss -0.7832\n",
      "2025-05-11 01:27:36.512458: val_loss -0.8076\n",
      "2025-05-11 01:27:36.512594: Pseudo dice [np.float32(0.9426), np.float32(0.9695), np.float32(0.9838)]\n",
      "2025-05-11 01:27:36.512741: Epoch time: 183.28 s\n",
      "2025-05-11 01:27:36.512844: Yayy! New best EMA pseudo Dice: 0.9642000198364258\n",
      "2025-05-11 01:27:38.459216: \n",
      "2025-05-11 01:27:38.459676: Epoch 955\n",
      "2025-05-11 01:27:38.459856: Current learning rate: 0.00061\n",
      "\n",
      "Uploading nnUNet_results to projet-statapp-segmedic/diffusion/nnunet_dataset/nnUNet_results...\n"
     ]
    },
    {
     "name": "stderr",
     "output_type": "stream",
     "text": [
      "Upload nnUNet_results: 100%|██████████| 76/76 [00:33<00:00,  2.27it/s]\n"
     ]
    },
    {
     "name": "stdout",
     "output_type": "stream",
     "text": [
      "upload done\n",
      "2025-05-11 01:30:42.206847: train_loss -0.7969\n",
      "2025-05-11 01:30:42.207232: val_loss -0.7811\n",
      "2025-05-11 01:30:42.207350: Pseudo dice [np.float32(0.9427), np.float32(0.9685), np.float32(0.9786)]\n",
      "2025-05-11 01:30:42.207485: Epoch time: 183.75 s\n",
      "2025-05-11 01:30:43.447712: \n",
      "2025-05-11 01:30:43.448215: Epoch 956\n",
      "2025-05-11 01:30:43.448369: Current learning rate: 0.0006\n",
      "2025-05-11 01:33:46.655549: train_loss -0.7773\n",
      "2025-05-11 01:33:46.656450: val_loss -0.8194\n",
      "2025-05-11 01:33:46.656677: Pseudo dice [np.float32(0.9418), np.float32(0.9696), np.float32(0.9829)]\n",
      "2025-05-11 01:33:46.657081: Epoch time: 183.21 s\n",
      "2025-05-11 01:33:48.472847: \n",
      "2025-05-11 01:33:48.473261: Epoch 957\n",
      "2025-05-11 01:33:48.473428: Current learning rate: 0.00059\n",
      "\n",
      "Uploading nnUNet_results to projet-statapp-segmedic/diffusion/nnunet_dataset/nnUNet_results...\n"
     ]
    },
    {
     "name": "stderr",
     "output_type": "stream",
     "text": [
      "Upload nnUNet_results: 100%|██████████| 76/76 [00:28<00:00,  2.71it/s]\n"
     ]
    },
    {
     "name": "stdout",
     "output_type": "stream",
     "text": [
      "upload done\n",
      "2025-05-11 01:36:51.724728: train_loss -0.7801\n",
      "2025-05-11 01:36:51.725298: val_loss -0.7866\n",
      "2025-05-11 01:36:51.725465: Pseudo dice [np.float32(0.9438), np.float32(0.9694), np.float32(0.9835)]\n",
      "2025-05-11 01:36:51.725644: Epoch time: 183.25 s\n",
      "2025-05-11 01:36:51.725763: Yayy! New best EMA pseudo Dice: 0.9642999768257141\n",
      "2025-05-11 01:36:53.782730: \n",
      "2025-05-11 01:36:53.783150: Epoch 958\n",
      "2025-05-11 01:36:53.783308: Current learning rate: 0.00058\n",
      "\n",
      "Uploading nnUNet_results to projet-statapp-segmedic/diffusion/nnunet_dataset/nnUNet_results...\n"
     ]
    },
    {
     "name": "stderr",
     "output_type": "stream",
     "text": [
      "Upload nnUNet_results:  89%|████████▉ | 68/76 [00:19<00:01,  4.18it/s]"
     ]
    },
    {
     "name": "stdout",
     "output_type": "stream",
     "text": [
      "2025-05-11 01:39:57.097537: train_loss -0.8022\n",
      "2025-05-11 01:39:57.097898: val_loss -0.7774\n",
      "2025-05-11 01:39:57.098017: Pseudo dice [np.float32(0.9435), np.float32(0.97), np.float32(0.9837)]\n",
      "2025-05-11 01:39:57.098179: Epoch time: 183.32 s\n",
      "2025-05-11 01:39:57.098413: Yayy! New best EMA pseudo Dice: 0.9643999934196472\n"
     ]
    },
    {
     "name": "stderr",
     "output_type": "stream",
     "text": [
      "Upload nnUNet_results: 100%|██████████| 76/76 [00:21<00:00,  3.49it/s]\n"
     ]
    },
    {
     "name": "stdout",
     "output_type": "stream",
     "text": [
      "upload done\n",
      "2025-05-11 01:39:59.125533: \n",
      "2025-05-11 01:39:59.126038: Epoch 959\n",
      "2025-05-11 01:39:59.126364: Current learning rate: 0.00056\n",
      "2025-05-11 01:43:02.422005: train_loss -0.8096\n",
      "2025-05-11 01:43:02.422521: val_loss -0.8205\n",
      "2025-05-11 01:43:02.422658: Pseudo dice [np.float32(0.943), np.float32(0.9699), np.float32(0.9844)]\n",
      "2025-05-11 01:43:02.422786: Epoch time: 183.3 s\n",
      "2025-05-11 01:43:02.422871: Yayy! New best EMA pseudo Dice: 0.9646000266075134\n",
      "2025-05-11 01:43:04.456946: \n",
      "2025-05-11 01:43:04.457380: Epoch 960\n",
      "2025-05-11 01:43:04.457516: Current learning rate: 0.00055\n",
      "\n",
      "Uploading nnUNet_results to projet-statapp-segmedic/diffusion/nnunet_dataset/nnUNet_results...\n"
     ]
    },
    {
     "name": "stderr",
     "output_type": "stream",
     "text": [
      "Upload nnUNet_results: 100%|██████████| 76/76 [00:19<00:00,  3.93it/s]\n"
     ]
    },
    {
     "name": "stdout",
     "output_type": "stream",
     "text": [
      "upload done\n",
      "2025-05-11 01:46:07.498302: train_loss -0.7871\n",
      "2025-05-11 01:46:07.498704: val_loss -0.7865\n",
      "2025-05-11 01:46:07.498847: Pseudo dice [np.float32(0.9381), np.float32(0.9697), np.float32(0.9816)]\n",
      "2025-05-11 01:46:07.498979: Epoch time: 183.04 s\n",
      "2025-05-11 01:46:08.740952: \n",
      "2025-05-11 01:46:08.741328: Epoch 961\n",
      "2025-05-11 01:46:08.741562: Current learning rate: 0.00054\n",
      "2025-05-11 01:49:11.969810: train_loss -0.7685\n",
      "2025-05-11 01:49:11.970253: val_loss -0.7849\n",
      "2025-05-11 01:49:11.970443: Pseudo dice [np.float32(0.9429), np.float32(0.9679), np.float32(0.9822)]\n",
      "2025-05-11 01:49:11.970645: Epoch time: 183.23 s\n",
      "2025-05-11 01:49:13.218344: \n",
      "2025-05-11 01:49:13.218849: Epoch 962\n",
      "2025-05-11 01:49:13.219088: Current learning rate: 0.00053\n",
      "\n",
      "Uploading nnUNet_results to projet-statapp-segmedic/diffusion/nnunet_dataset/nnUNet_results...\n"
     ]
    },
    {
     "name": "stderr",
     "output_type": "stream",
     "text": [
      "Upload nnUNet_results: 100%|██████████| 76/76 [00:28<00:00,  2.62it/s]\n"
     ]
    },
    {
     "name": "stdout",
     "output_type": "stream",
     "text": [
      "upload done\n",
      "2025-05-11 01:52:16.515633: train_loss -0.7887\n",
      "2025-05-11 01:52:16.516241: val_loss -0.8096\n",
      "2025-05-11 01:52:16.516582: Pseudo dice [np.float32(0.943), np.float32(0.9695), np.float32(0.9827)]\n",
      "2025-05-11 01:52:16.516770: Epoch time: 183.3 s\n",
      "2025-05-11 01:52:17.767912: \n",
      "2025-05-11 01:52:17.768482: Epoch 963\n",
      "2025-05-11 01:52:17.768693: Current learning rate: 0.00051\n",
      "2025-05-11 01:55:21.166106: train_loss -0.7849\n",
      "2025-05-11 01:55:21.166499: val_loss -0.7939\n",
      "2025-05-11 01:55:21.166622: Pseudo dice [np.float32(0.942), np.float32(0.9691), np.float32(0.9822)]\n",
      "2025-05-11 01:55:21.166813: Epoch time: 183.4 s\n",
      "2025-05-11 01:55:22.412874: \n",
      "2025-05-11 01:55:22.413152: Epoch 964\n",
      "2025-05-11 01:55:22.413283: Current learning rate: 0.0005\n",
      "\n",
      "Uploading nnUNet_results to projet-statapp-segmedic/diffusion/nnunet_dataset/nnUNet_results...\n"
     ]
    },
    {
     "name": "stderr",
     "output_type": "stream",
     "text": [
      "Upload nnUNet_results: 100%|██████████| 76/76 [00:33<00:00,  2.29it/s]\n"
     ]
    },
    {
     "name": "stdout",
     "output_type": "stream",
     "text": [
      "upload done\n",
      "2025-05-11 01:58:26.104741: train_loss -0.7605\n",
      "2025-05-11 01:58:26.105259: val_loss -0.7973\n",
      "2025-05-11 01:58:26.105435: Pseudo dice [np.float32(0.9416), np.float32(0.9708), np.float32(0.9829)]\n",
      "2025-05-11 01:58:26.105613: Epoch time: 183.69 s\n",
      "2025-05-11 01:58:27.374780: \n",
      "2025-05-11 01:58:27.375100: Epoch 965\n",
      "2025-05-11 01:58:27.375261: Current learning rate: 0.00049\n",
      "\n",
      "Uploading nnUNet_results to projet-statapp-segmedic/diffusion/nnunet_dataset/nnUNet_results...\n"
     ]
    },
    {
     "name": "stderr",
     "output_type": "stream",
     "text": [
      "Upload nnUNet_results:  45%|████▍     | 34/76 [00:09<00:10,  3.90it/s]"
     ]
    },
    {
     "name": "stdout",
     "output_type": "stream",
     "text": [
      "2025-05-11 02:01:30.517999: train_loss -0.7663\n",
      "2025-05-11 02:01:30.520563: val_loss -0.8127\n",
      "2025-05-11 02:01:30.520862: Pseudo dice [np.float32(0.9411), np.float32(0.9691), np.float32(0.9824)]\n",
      "2025-05-11 02:01:30.521139: Epoch time: 183.15 s\n"
     ]
    },
    {
     "name": "stderr",
     "output_type": "stream",
     "text": [
      "Upload nnUNet_results:  49%|████▊     | 37/76 [00:11<00:12,  3.02it/s]"
     ]
    },
    {
     "name": "stdout",
     "output_type": "stream",
     "text": [
      "2025-05-11 02:01:31.779079: \n",
      "2025-05-11 02:01:31.779505: Epoch 966\n",
      "2025-05-11 02:01:31.779788: Current learning rate: 0.00048\n"
     ]
    },
    {
     "name": "stderr",
     "output_type": "stream",
     "text": [
      "Upload nnUNet_results: 100%|██████████| 76/76 [00:27<00:00,  2.80it/s]\n"
     ]
    },
    {
     "name": "stdout",
     "output_type": "stream",
     "text": [
      "upload done\n",
      "2025-05-11 02:04:34.742687: train_loss -0.8115\n",
      "2025-05-11 02:04:34.743323: val_loss -0.8021\n",
      "2025-05-11 02:04:34.743504: Pseudo dice [np.float32(0.9441), np.float32(0.9694), np.float32(0.9837)]\n",
      "2025-05-11 02:04:34.743706: Epoch time: 182.97 s\n",
      "2025-05-11 02:04:34.743830: Yayy! New best EMA pseudo Dice: 0.9646000266075134\n",
      "2025-05-11 02:04:36.658588: \n",
      "2025-05-11 02:04:36.659279: Epoch 967\n",
      "2025-05-11 02:04:36.659659: Current learning rate: 0.00046\n",
      "\n",
      "Uploading nnUNet_results to projet-statapp-segmedic/diffusion/nnunet_dataset/nnUNet_results...\n"
     ]
    },
    {
     "name": "stderr",
     "output_type": "stream",
     "text": [
      "Upload nnUNet_results: 100%|██████████| 76/76 [00:28<00:00,  2.65it/s]\n"
     ]
    },
    {
     "name": "stdout",
     "output_type": "stream",
     "text": [
      "upload done\n",
      "2025-05-11 02:07:39.609607: train_loss -0.7684\n",
      "2025-05-11 02:07:39.609928: val_loss -0.7905\n",
      "2025-05-11 02:07:39.610139: Pseudo dice [np.float32(0.9425), np.float32(0.9693), np.float32(0.9828)]\n",
      "2025-05-11 02:07:39.610279: Epoch time: 182.95 s\n",
      "2025-05-11 02:07:39.610358: Yayy! New best EMA pseudo Dice: 0.9646999835968018\n",
      "2025-05-11 02:07:41.623248: \n",
      "2025-05-11 02:07:41.623590: Epoch 968\n",
      "2025-05-11 02:07:41.623754: Current learning rate: 0.00045\n",
      "2025-05-11 02:10:45.086438: train_loss -0.7873\n",
      "2025-05-11 02:10:45.087023: val_loss -0.7726\n",
      "2025-05-11 02:10:45.087321: Pseudo dice [np.float32(0.9403), np.float32(0.9715), np.float32(0.9838)]\n",
      "2025-05-11 02:10:45.087452: Epoch time: 183.47 s\n",
      "2025-05-11 02:10:45.087537: Yayy! New best EMA pseudo Dice: 0.9646999835968018\n",
      "2025-05-11 02:10:47.101753: \n",
      "2025-05-11 02:10:47.102204: Epoch 969\n",
      "2025-05-11 02:10:47.102388: Current learning rate: 0.00044\n",
      "\n",
      "Uploading nnUNet_results to projet-statapp-segmedic/diffusion/nnunet_dataset/nnUNet_results...\n"
     ]
    },
    {
     "name": "stderr",
     "output_type": "stream",
     "text": [
      "Upload nnUNet_results: 100%|██████████| 76/76 [00:21<00:00,  3.50it/s]\n"
     ]
    },
    {
     "name": "stdout",
     "output_type": "stream",
     "text": [
      "upload done\n",
      "2025-05-11 02:13:50.372989: train_loss -0.7742\n",
      "2025-05-11 02:13:50.374763: val_loss -0.7715\n",
      "2025-05-11 02:13:50.374903: Pseudo dice [np.float32(0.9417), np.float32(0.9697), np.float32(0.9842)]\n",
      "2025-05-11 02:13:50.375017: Epoch time: 183.27 s\n",
      "2025-05-11 02:13:50.375101: Yayy! New best EMA pseudo Dice: 0.9648000001907349\n",
      "2025-05-11 02:13:52.330479: \n",
      "2025-05-11 02:13:52.330957: Epoch 970\n",
      "2025-05-11 02:13:52.331272: Current learning rate: 0.00043\n",
      "2025-05-11 02:16:55.785809: train_loss -0.7687\n",
      "2025-05-11 02:16:55.786375: val_loss -0.8085\n",
      "2025-05-11 02:16:55.786500: Pseudo dice [np.float32(0.9439), np.float32(0.9683), np.float32(0.9848)]\n",
      "2025-05-11 02:16:55.786643: Epoch time: 183.46 s\n",
      "2025-05-11 02:16:55.786726: Yayy! New best EMA pseudo Dice: 0.9648000001907349\n",
      "2025-05-11 02:16:57.722824: \n",
      "2025-05-11 02:16:57.723143: Epoch 971\n",
      "2025-05-11 02:16:57.723399: Current learning rate: 0.00041\n",
      "\n",
      "Uploading nnUNet_results to projet-statapp-segmedic/diffusion/nnunet_dataset/nnUNet_results...\n"
     ]
    },
    {
     "name": "stderr",
     "output_type": "stream",
     "text": [
      "Upload nnUNet_results: 100%|██████████| 76/76 [00:15<00:00,  4.88it/s]\n"
     ]
    },
    {
     "name": "stdout",
     "output_type": "stream",
     "text": [
      "upload done\n",
      "2025-05-11 02:20:01.493335: train_loss -0.7906\n",
      "2025-05-11 02:20:01.493850: val_loss -0.8169\n",
      "2025-05-11 02:20:01.494009: Pseudo dice [np.float32(0.9444), np.float32(0.9677), np.float32(0.9832)]\n",
      "2025-05-11 02:20:01.494146: Epoch time: 183.77 s\n",
      "2025-05-11 02:20:01.494230: Yayy! New best EMA pseudo Dice: 0.964900016784668\n",
      "2025-05-11 02:20:03.482561: \n",
      "2025-05-11 02:20:03.482944: Epoch 972\n",
      "2025-05-11 02:20:03.483237: Current learning rate: 0.0004\n",
      "\n",
      "Uploading nnUNet_results to projet-statapp-segmedic/diffusion/nnunet_dataset/nnUNet_results...\n"
     ]
    },
    {
     "name": "stderr",
     "output_type": "stream",
     "text": [
      "Upload nnUNet_results:  88%|████████▊ | 67/76 [00:13<00:01,  5.66it/s]"
     ]
    },
    {
     "name": "stdout",
     "output_type": "stream",
     "text": [
      "2025-05-11 02:23:07.585509: train_loss -0.7647\n",
      "2025-05-11 02:23:07.586196: val_loss -0.8088\n",
      "2025-05-11 02:23:07.586318: Pseudo dice [np.float32(0.9444), np.float32(0.9691), np.float32(0.9817)]\n",
      "2025-05-11 02:23:07.586444: Epoch time: 184.1 s\n",
      "2025-05-11 02:23:07.586526: Yayy! New best EMA pseudo Dice: 0.964900016784668\n"
     ]
    },
    {
     "name": "stderr",
     "output_type": "stream",
     "text": [
      "Upload nnUNet_results: 100%|██████████| 76/76 [00:15<00:00,  4.82it/s]\n"
     ]
    },
    {
     "name": "stdout",
     "output_type": "stream",
     "text": [
      "upload done\n",
      "2025-05-11 02:23:10.675961: \n",
      "2025-05-11 02:23:10.676415: Epoch 973\n",
      "2025-05-11 02:23:10.676561: Current learning rate: 0.00039\n",
      "2025-05-11 02:26:15.132770: train_loss -0.7937\n",
      "2025-05-11 02:26:15.133325: val_loss -0.8146\n",
      "2025-05-11 02:26:15.133440: Pseudo dice [np.float32(0.94), np.float32(0.9696), np.float32(0.9838)]\n",
      "2025-05-11 02:26:15.133568: Epoch time: 184.46 s\n",
      "2025-05-11 02:26:16.440849: \n",
      "2025-05-11 02:26:16.441244: Epoch 974\n",
      "2025-05-11 02:26:16.441525: Current learning rate: 0.00037\n",
      "\n",
      "Uploading nnUNet_results to projet-statapp-segmedic/diffusion/nnunet_dataset/nnUNet_results...\n"
     ]
    },
    {
     "name": "stderr",
     "output_type": "stream",
     "text": [
      "Upload nnUNet_results: 100%|██████████| 76/76 [00:15<00:00,  5.00it/s]\n"
     ]
    },
    {
     "name": "stdout",
     "output_type": "stream",
     "text": [
      "upload done\n",
      "2025-05-11 02:29:19.790811: train_loss -0.7979\n",
      "2025-05-11 02:29:19.791130: val_loss -0.7991\n",
      "2025-05-11 02:29:19.791243: Pseudo dice [np.float32(0.9455), np.float32(0.9711), np.float32(0.9818)]\n",
      "2025-05-11 02:29:19.791365: Epoch time: 183.35 s\n",
      "2025-05-11 02:29:19.791451: Yayy! New best EMA pseudo Dice: 0.9649999737739563\n",
      "2025-05-11 02:29:21.721485: \n",
      "2025-05-11 02:29:21.721825: Epoch 975\n",
      "2025-05-11 02:29:21.721976: Current learning rate: 0.00036\n",
      "2025-05-11 02:32:24.382982: train_loss -0.7728\n",
      "2025-05-11 02:32:24.383356: val_loss -0.8012\n",
      "2025-05-11 02:32:24.383499: Pseudo dice [np.float32(0.9462), np.float32(0.9696), np.float32(0.9857)]\n",
      "2025-05-11 02:32:24.383626: Epoch time: 182.66 s\n",
      "2025-05-11 02:32:24.383707: Yayy! New best EMA pseudo Dice: 0.9652000069618225\n",
      "2025-05-11 02:32:26.472479: \n",
      "2025-05-11 02:32:26.472818: Epoch 976\n",
      "2025-05-11 02:32:26.473028: Current learning rate: 0.00035\n",
      "\n",
      "Uploading nnUNet_results to projet-statapp-segmedic/diffusion/nnunet_dataset/nnUNet_results...\n"
     ]
    },
    {
     "name": "stderr",
     "output_type": "stream",
     "text": [
      "Upload nnUNet_results: 100%|██████████| 76/76 [00:20<00:00,  3.78it/s]\n"
     ]
    },
    {
     "name": "stdout",
     "output_type": "stream",
     "text": [
      "upload done\n",
      "2025-05-11 02:35:28.951685: train_loss -0.7898\n",
      "2025-05-11 02:35:28.952175: val_loss -0.7197\n",
      "2025-05-11 02:35:28.952335: Pseudo dice [np.float32(0.9423), np.float32(0.97), np.float32(0.9855)]\n",
      "2025-05-11 02:35:28.952471: Epoch time: 182.48 s\n",
      "2025-05-11 02:35:28.952642: Yayy! New best EMA pseudo Dice: 0.9653000235557556\n",
      "2025-05-11 02:35:30.880028: \n",
      "2025-05-11 02:35:30.880364: Epoch 977\n",
      "2025-05-11 02:35:30.880503: Current learning rate: 0.00034\n",
      "2025-05-11 02:38:33.524722: train_loss -0.7901\n",
      "2025-05-11 02:38:33.525090: val_loss -0.8223\n",
      "2025-05-11 02:38:33.525209: Pseudo dice [np.float32(0.941), np.float32(0.9687), np.float32(0.9817)]\n",
      "2025-05-11 02:38:33.525340: Epoch time: 182.65 s\n",
      "2025-05-11 02:38:34.721997: \n",
      "2025-05-11 02:38:34.722372: Epoch 978\n",
      "2025-05-11 02:38:34.722533: Current learning rate: 0.00032\n",
      "\n",
      "Uploading nnUNet_results to projet-statapp-segmedic/diffusion/nnunet_dataset/nnUNet_results...\n"
     ]
    },
    {
     "name": "stderr",
     "output_type": "stream",
     "text": [
      "Upload nnUNet_results: 100%|██████████| 76/76 [00:22<00:00,  3.31it/s]\n"
     ]
    },
    {
     "name": "stdout",
     "output_type": "stream",
     "text": [
      "upload done\n",
      "2025-05-11 02:41:37.143603: train_loss -0.7846\n",
      "2025-05-11 02:41:37.144178: val_loss -0.8019\n",
      "2025-05-11 02:41:37.144365: Pseudo dice [np.float32(0.9434), np.float32(0.9695), np.float32(0.9844)]\n",
      "2025-05-11 02:41:37.144548: Epoch time: 182.42 s\n",
      "2025-05-11 02:41:38.502663: \n",
      "2025-05-11 02:41:38.503111: Epoch 979\n",
      "2025-05-11 02:41:38.503349: Current learning rate: 0.00031\n",
      "\n",
      "Uploading nnUNet_results to projet-statapp-segmedic/diffusion/nnunet_dataset/nnUNet_results...\n"
     ]
    },
    {
     "name": "stderr",
     "output_type": "stream",
     "text": [
      "Upload nnUNet_results: 100%|██████████| 76/76 [00:16<00:00,  4.63it/s]\n"
     ]
    },
    {
     "name": "stdout",
     "output_type": "stream",
     "text": [
      "upload done\n",
      "2025-05-11 02:44:41.334137: train_loss -0.7816\n",
      "2025-05-11 02:44:41.334813: val_loss -0.7904\n",
      "2025-05-11 02:44:41.335023: Pseudo dice [np.float32(0.944), np.float32(0.9701), np.float32(0.982)]\n",
      "2025-05-11 02:44:41.335236: Epoch time: 182.83 s\n",
      "2025-05-11 02:44:42.582918: \n",
      "2025-05-11 02:44:42.583266: Epoch 980\n",
      "2025-05-11 02:44:42.583408: Current learning rate: 0.0003\n",
      "2025-05-11 02:47:44.878876: train_loss -0.7885\n",
      "2025-05-11 02:47:44.879547: val_loss -0.8017\n",
      "2025-05-11 02:47:44.879719: Pseudo dice [np.float32(0.9444), np.float32(0.9693), np.float32(0.983)]\n",
      "2025-05-11 02:47:44.879908: Epoch time: 182.3 s\n",
      "2025-05-11 02:47:46.140258: \n",
      "2025-05-11 02:47:46.140694: Epoch 981\n",
      "2025-05-11 02:47:46.140825: Current learning rate: 0.00028\n",
      "\n",
      "Uploading nnUNet_results to projet-statapp-segmedic/diffusion/nnunet_dataset/nnUNet_results...\n"
     ]
    },
    {
     "name": "stderr",
     "output_type": "stream",
     "text": [
      "Upload nnUNet_results: 100%|██████████| 76/76 [00:18<00:00,  4.11it/s]\n"
     ]
    },
    {
     "name": "stdout",
     "output_type": "stream",
     "text": [
      "upload done\n",
      "2025-05-11 02:50:48.484285: train_loss -0.8057\n",
      "2025-05-11 02:50:48.484611: val_loss -0.7995\n",
      "2025-05-11 02:50:48.484724: Pseudo dice [np.float32(0.9414), np.float32(0.9699), np.float32(0.9843)]\n",
      "2025-05-11 02:50:48.484847: Epoch time: 182.35 s\n",
      "2025-05-11 02:50:49.776265: \n",
      "2025-05-11 02:50:49.777746: Epoch 982\n",
      "2025-05-11 02:50:49.777903: Current learning rate: 0.00027\n",
      "2025-05-11 02:53:52.784570: train_loss -0.7897\n",
      "2025-05-11 02:53:52.785088: val_loss -0.7751\n",
      "2025-05-11 02:53:52.785221: Pseudo dice [np.float32(0.9454), np.float32(0.9677), np.float32(0.9841)]\n",
      "2025-05-11 02:53:52.785349: Epoch time: 183.01 s\n",
      "2025-05-11 02:53:52.785433: Yayy! New best EMA pseudo Dice: 0.9653000235557556\n",
      "2025-05-11 02:53:54.749190: \n",
      "2025-05-11 02:53:54.749688: Epoch 983\n",
      "2025-05-11 02:53:54.749828: Current learning rate: 0.00026\n",
      "\n",
      "Uploading nnUNet_results to projet-statapp-segmedic/diffusion/nnunet_dataset/nnUNet_results...\n"
     ]
    },
    {
     "name": "stderr",
     "output_type": "stream",
     "text": [
      "Upload nnUNet_results: 100%|██████████| 76/76 [00:17<00:00,  4.45it/s]\n"
     ]
    },
    {
     "name": "stdout",
     "output_type": "stream",
     "text": [
      "upload done\n",
      "2025-05-11 02:56:57.798076: train_loss -0.8056\n",
      "2025-05-11 02:56:57.798482: val_loss -0.8085\n",
      "2025-05-11 02:56:57.798617: Pseudo dice [np.float32(0.9422), np.float32(0.9702), np.float32(0.974)]\n",
      "2025-05-11 02:56:57.798746: Epoch time: 183.05 s\n",
      "2025-05-11 02:56:59.048643: \n",
      "2025-05-11 02:56:59.049019: Epoch 984\n",
      "2025-05-11 02:56:59.049228: Current learning rate: 0.00024\n",
      "\n",
      "Uploading nnUNet_results to projet-statapp-segmedic/diffusion/nnunet_dataset/nnUNet_results...\n"
     ]
    },
    {
     "name": "stderr",
     "output_type": "stream",
     "text": [
      "Upload nnUNet_results:  16%|█▌        | 12/76 [00:01<00:12,  5.13it/s]"
     ]
    },
    {
     "name": "stdout",
     "output_type": "stream",
     "text": [
      "2025-05-11 03:00:02.053515: train_loss -0.7732\n",
      "2025-05-11 03:00:02.054020: val_loss -0.7751\n",
      "2025-05-11 03:00:02.054161: Pseudo dice [np.float32(0.9418), np.float32(0.9701), np.float32(0.9838)]\n",
      "2025-05-11 03:00:02.054293: Epoch time: 183.01 s\n"
     ]
    },
    {
     "name": "stderr",
     "output_type": "stream",
     "text": [
      "Upload nnUNet_results:  22%|██▏       | 17/76 [00:04<00:16,  3.53it/s]"
     ]
    },
    {
     "name": "stdout",
     "output_type": "stream",
     "text": [
      "2025-05-11 03:00:03.732617: \n",
      "2025-05-11 03:00:03.733013: Epoch 985\n",
      "2025-05-11 03:00:03.733145: Current learning rate: 0.00023\n"
     ]
    },
    {
     "name": "stderr",
     "output_type": "stream",
     "text": [
      "Upload nnUNet_results: 100%|██████████| 76/76 [00:29<00:00,  2.54it/s]\n"
     ]
    },
    {
     "name": "stdout",
     "output_type": "stream",
     "text": [
      "upload done\n",
      "2025-05-11 03:03:06.923799: train_loss -0.7975\n",
      "2025-05-11 03:03:06.924259: val_loss -0.8251\n",
      "2025-05-11 03:03:06.924410: Pseudo dice [np.float32(0.9437), np.float32(0.9697), np.float32(0.982)]\n",
      "2025-05-11 03:03:06.924540: Epoch time: 183.19 s\n",
      "2025-05-11 03:03:08.500599: \n",
      "2025-05-11 03:03:08.500955: Epoch 986\n",
      "2025-05-11 03:03:08.501167: Current learning rate: 0.00021\n",
      "\n",
      "Uploading nnUNet_results to projet-statapp-segmedic/diffusion/nnunet_dataset/nnUNet_results...\n"
     ]
    },
    {
     "name": "stderr",
     "output_type": "stream",
     "text": [
      "Upload nnUNet_results: 100%|██████████| 76/76 [00:29<00:00,  2.58it/s]\n"
     ]
    },
    {
     "name": "stdout",
     "output_type": "stream",
     "text": [
      "upload done\n",
      "2025-05-11 03:06:11.841493: train_loss -0.7806\n",
      "2025-05-11 03:06:11.841804: val_loss -0.8265\n",
      "2025-05-11 03:06:11.841916: Pseudo dice [np.float32(0.9433), np.float32(0.9699), np.float32(0.9818)]\n",
      "2025-05-11 03:06:11.842042: Epoch time: 183.34 s\n",
      "2025-05-11 03:06:13.161795: \n",
      "2025-05-11 03:06:13.162300: Epoch 987\n",
      "2025-05-11 03:06:13.162434: Current learning rate: 0.0002\n",
      "2025-05-11 03:09:16.348835: train_loss -0.7755\n",
      "2025-05-11 03:09:16.349196: val_loss -0.8176\n",
      "2025-05-11 03:09:16.349314: Pseudo dice [np.float32(0.9419), np.float32(0.9692), np.float32(0.9839)]\n",
      "2025-05-11 03:09:16.349459: Epoch time: 183.19 s\n",
      "2025-05-11 03:09:17.703530: \n",
      "2025-05-11 03:09:17.703870: Epoch 988\n",
      "2025-05-11 03:09:17.704036: Current learning rate: 0.00019\n",
      "\n",
      "Uploading nnUNet_results to projet-statapp-segmedic/diffusion/nnunet_dataset/nnUNet_results...\n"
     ]
    },
    {
     "name": "stderr",
     "output_type": "stream",
     "text": [
      "Upload nnUNet_results: 100%|██████████| 76/76 [00:33<00:00,  2.28it/s]\n"
     ]
    },
    {
     "name": "stdout",
     "output_type": "stream",
     "text": [
      "upload done\n",
      "2025-05-11 03:12:20.437634: train_loss -0.8016\n",
      "2025-05-11 03:12:20.438052: val_loss -0.761\n",
      "2025-05-11 03:12:20.438172: Pseudo dice [np.float32(0.9399), np.float32(0.9705), np.float32(0.9856)]\n",
      "2025-05-11 03:12:20.438406: Epoch time: 182.74 s\n",
      "2025-05-11 03:12:21.802443: \n",
      "2025-05-11 03:12:21.802717: Epoch 989\n",
      "2025-05-11 03:12:21.802868: Current learning rate: 0.00017\n",
      "2025-05-11 03:15:24.309058: train_loss -0.7947\n",
      "2025-05-11 03:15:24.309383: val_loss -0.8245\n",
      "2025-05-11 03:15:24.309549: Pseudo dice [np.float32(0.9449), np.float32(0.9698), np.float32(0.9835)]\n",
      "2025-05-11 03:15:24.309731: Epoch time: 182.51 s\n",
      "2025-05-11 03:15:25.607253: \n",
      "2025-05-11 03:15:25.607712: Epoch 990\n",
      "2025-05-11 03:15:25.607884: Current learning rate: 0.00016\n",
      "\n",
      "Uploading nnUNet_results to projet-statapp-segmedic/diffusion/nnunet_dataset/nnUNet_results...\n"
     ]
    },
    {
     "name": "stderr",
     "output_type": "stream",
     "text": [
      "Upload nnUNet_results: 100%|██████████| 76/76 [00:28<00:00,  2.66it/s]\n"
     ]
    },
    {
     "name": "stdout",
     "output_type": "stream",
     "text": [
      "upload done\n",
      "2025-05-11 03:18:28.267350: train_loss -0.7743\n",
      "2025-05-11 03:18:28.268015: val_loss -0.7584\n",
      "2025-05-11 03:18:28.268135: Pseudo dice [np.float32(0.9407), np.float32(0.9689), np.float32(0.9844)]\n",
      "2025-05-11 03:18:28.268265: Epoch time: 182.66 s\n",
      "2025-05-11 03:18:29.888200: \n",
      "2025-05-11 03:18:29.888645: Epoch 991\n",
      "2025-05-11 03:18:29.888778: Current learning rate: 0.00014\n",
      "2025-05-11 03:21:32.591310: train_loss -0.7888\n",
      "2025-05-11 03:21:32.592047: val_loss -0.8033\n",
      "2025-05-11 03:21:32.592299: Pseudo dice [np.float32(0.9444), np.float32(0.9696), np.float32(0.9856)]\n",
      "2025-05-11 03:21:32.592570: Epoch time: 182.7 s\n",
      "2025-05-11 03:21:34.993998: \n",
      "2025-05-11 03:21:34.994424: Epoch 992\n",
      "2025-05-11 03:21:34.994648: Current learning rate: 0.00013\n",
      "\n",
      "Uploading nnUNet_results to projet-statapp-segmedic/diffusion/nnunet_dataset/nnUNet_results...\n"
     ]
    },
    {
     "name": "stderr",
     "output_type": "stream",
     "text": [
      "Upload nnUNet_results: 100%|██████████| 76/76 [00:42<00:00,  1.81it/s]\n"
     ]
    },
    {
     "name": "stdout",
     "output_type": "stream",
     "text": [
      "upload done\n",
      "2025-05-11 03:24:37.504110: train_loss -0.8095\n",
      "2025-05-11 03:24:37.504622: val_loss -0.8265\n",
      "2025-05-11 03:24:37.504834: Pseudo dice [np.float32(0.9416), np.float32(0.9697), np.float32(0.9847)]\n",
      "2025-05-11 03:24:37.504965: Epoch time: 182.51 s\n",
      "2025-05-11 03:24:38.840988: \n",
      "2025-05-11 03:24:38.841527: Epoch 993\n",
      "2025-05-11 03:24:38.841662: Current learning rate: 0.00011\n",
      "2025-05-11 03:27:41.319373: train_loss -0.7871\n",
      "2025-05-11 03:27:41.319867: val_loss -0.7561\n",
      "2025-05-11 03:27:41.319988: Pseudo dice [np.float32(0.9415), np.float32(0.9697), np.float32(0.9856)]\n",
      "2025-05-11 03:27:41.320133: Epoch time: 182.48 s\n",
      "2025-05-11 03:27:42.643168: \n",
      "2025-05-11 03:27:42.643743: Epoch 994\n",
      "2025-05-11 03:27:42.643925: Current learning rate: 0.0001\n",
      "\n",
      "Uploading nnUNet_results to projet-statapp-segmedic/diffusion/nnunet_dataset/nnUNet_results...\n"
     ]
    },
    {
     "name": "stderr",
     "output_type": "stream",
     "text": [
      "Upload nnUNet_results: 100%|██████████| 76/76 [00:29<00:00,  2.56it/s]\n"
     ]
    },
    {
     "name": "stdout",
     "output_type": "stream",
     "text": [
      "upload done\n",
      "2025-05-11 03:30:41.684403: train_loss -0.8035\n",
      "2025-05-11 03:30:41.684743: val_loss -0.8193\n",
      "2025-05-11 03:30:41.684913: Pseudo dice [np.float32(0.9406), np.float32(0.9698), np.float32(0.9843)]\n",
      "2025-05-11 03:30:41.685184: Epoch time: 179.04 s\n",
      "2025-05-11 03:30:42.985287: \n",
      "2025-05-11 03:30:42.985669: Epoch 995\n",
      "2025-05-11 03:30:42.985882: Current learning rate: 8e-05\n",
      "\n",
      "Uploading nnUNet_results to projet-statapp-segmedic/diffusion/nnunet_dataset/nnUNet_results...\n"
     ]
    },
    {
     "name": "stderr",
     "output_type": "stream",
     "text": [
      "Upload nnUNet_results:  96%|█████████▌| 73/76 [00:28<00:01,  2.03it/s]"
     ]
    },
    {
     "name": "stdout",
     "output_type": "stream",
     "text": [
      "2025-05-11 03:33:41.351238: train_loss -0.799\n",
      "2025-05-11 03:33:41.351816: val_loss -0.8133\n",
      "2025-05-11 03:33:41.351934: Pseudo dice [np.float32(0.9461), np.float32(0.969), np.float32(0.9842)]\n",
      "2025-05-11 03:33:41.352114: Epoch time: 178.37 s\n",
      "2025-05-11 03:33:41.352239: Yayy! New best EMA pseudo Dice: 0.965399980545044\n"
     ]
    },
    {
     "name": "stderr",
     "output_type": "stream",
     "text": [
      "Upload nnUNet_results: 100%|██████████| 76/76 [00:30<00:00,  2.51it/s]\n"
     ]
    },
    {
     "name": "stdout",
     "output_type": "stream",
     "text": [
      "upload done\n",
      "2025-05-11 03:33:43.639133: \n",
      "2025-05-11 03:33:43.639469: Epoch 996\n",
      "2025-05-11 03:33:43.639608: Current learning rate: 7e-05\n",
      "2025-05-11 03:36:42.109064: train_loss -0.8034\n",
      "2025-05-11 03:36:42.109550: val_loss -0.8253\n",
      "2025-05-11 03:36:42.109688: Pseudo dice [np.float32(0.9458), np.float32(0.9689), np.float32(0.983)]\n",
      "2025-05-11 03:36:42.109820: Epoch time: 178.47 s\n",
      "2025-05-11 03:36:42.109904: Yayy! New best EMA pseudo Dice: 0.965399980545044\n",
      "2025-05-11 03:36:44.124803: \n",
      "2025-05-11 03:36:44.125155: Epoch 997\n",
      "2025-05-11 03:36:44.125290: Current learning rate: 5e-05\n",
      "\n",
      "Uploading nnUNet_results to projet-statapp-segmedic/diffusion/nnunet_dataset/nnUNet_results...\n"
     ]
    },
    {
     "name": "stderr",
     "output_type": "stream",
     "text": [
      "Upload nnUNet_results: 100%|██████████| 76/76 [00:28<00:00,  2.62it/s]\n"
     ]
    },
    {
     "name": "stdout",
     "output_type": "stream",
     "text": [
      "upload done\n",
      "2025-05-11 03:39:42.154738: train_loss -0.7852\n",
      "2025-05-11 03:39:42.155228: val_loss -0.7554\n",
      "2025-05-11 03:39:42.155353: Pseudo dice [np.float32(0.9434), np.float32(0.9706), np.float32(0.9844)]\n",
      "2025-05-11 03:39:42.155485: Epoch time: 178.03 s\n",
      "2025-05-11 03:39:42.155568: Yayy! New best EMA pseudo Dice: 0.965499997138977\n",
      "2025-05-11 03:39:44.281032: \n",
      "2025-05-11 03:39:44.281570: Epoch 998\n",
      "2025-05-11 03:39:44.281722: Current learning rate: 4e-05\n",
      "2025-05-11 03:42:42.296116: train_loss -0.7988\n",
      "2025-05-11 03:42:42.296737: val_loss -0.8098\n",
      "2025-05-11 03:42:42.296918: Pseudo dice [np.float32(0.9437), np.float32(0.9673), np.float32(0.9854)]\n",
      "2025-05-11 03:42:42.297105: Epoch time: 178.02 s\n",
      "2025-05-11 03:42:43.739543: \n",
      "2025-05-11 03:42:43.740042: Epoch 999\n",
      "2025-05-11 03:42:43.740235: Current learning rate: 2e-05\n",
      "\n",
      "Uploading nnUNet_results to projet-statapp-segmedic/diffusion/nnunet_dataset/nnUNet_results...\n"
     ]
    },
    {
     "name": "stderr",
     "output_type": "stream",
     "text": [
      "Upload nnUNet_results: 100%|██████████| 76/76 [00:29<00:00,  2.54it/s]\n"
     ]
    },
    {
     "name": "stdout",
     "output_type": "stream",
     "text": [
      "upload done\n",
      "2025-05-11 03:45:41.655503: train_loss -0.7929\n",
      "2025-05-11 03:45:41.655970: val_loss -0.7785\n",
      "2025-05-11 03:45:41.656178: Pseudo dice [np.float32(0.9426), np.float32(0.9686), np.float32(0.9841)]\n",
      "2025-05-11 03:45:41.656362: Epoch time: 177.92 s\n",
      "2025-05-11 03:45:43.804539: Training done.\n",
      "2025-05-11 03:45:43.842704: predicting UKCHLL_001\n",
      "2025-05-11 03:45:46.335364: UKCHLL_001, shape torch.Size([1, 953, 512, 512]), rank 0\n"
     ]
    },
    {
     "name": "stderr",
     "output_type": "stream",
     "text": [
      "W0511 03:45:52.713000 167931 site-packages/torch/_inductor/utils.py:1250] [0/2] Not enough SMs to use max_autotune_gemm mode\n"
     ]
    },
    {
     "name": "stdout",
     "output_type": "stream",
     "text": [
      "\n",
      "Uploading nnUNet_results to projet-statapp-segmedic/diffusion/nnunet_dataset/nnUNet_results...\n"
     ]
    },
    {
     "name": "stderr",
     "output_type": "stream",
     "text": [
      "Upload nnUNet_results: 100%|██████████| 77/77 [00:18<00:00,  4.14it/s]\n"
     ]
    },
    {
     "name": "stdout",
     "output_type": "stream",
     "text": [
      "upload done\n",
      "\n",
      "Uploading nnUNet_results to projet-statapp-segmedic/diffusion/nnunet_dataset/nnUNet_results...\n"
     ]
    },
    {
     "name": "stderr",
     "output_type": "stream",
     "text": [
      "Upload nnUNet_results: 100%|██████████| 77/77 [00:16<00:00,  4.78it/s]\n"
     ]
    },
    {
     "name": "stdout",
     "output_type": "stream",
     "text": [
      "upload done\n",
      "2025-05-11 03:56:22.411115: predicting UKCHLL_002\n",
      "2025-05-11 03:56:23.721975: UKCHLL_002, shape torch.Size([1, 807, 519, 519]), rank 0\n",
      "\n",
      "Uploading nnUNet_results to projet-statapp-segmedic/diffusion/nnunet_dataset/nnUNet_results...\n"
     ]
    },
    {
     "name": "stderr",
     "output_type": "stream",
     "text": [
      "Upload nnUNet_results: 100%|██████████| 80/80 [00:26<00:00,  3.05it/s]\n"
     ]
    },
    {
     "name": "stdout",
     "output_type": "stream",
     "text": [
      "upload done\n",
      "2025-05-11 04:05:27.265238: predicting UKCHLL_009\n",
      "2025-05-11 04:05:28.203899: UKCHLL_009, shape torch.Size([1, 579, 519, 519]), rank 0\n",
      "\n",
      "Uploading nnUNet_results to projet-statapp-segmedic/diffusion/nnunet_dataset/nnUNet_results...\n"
     ]
    },
    {
     "name": "stderr",
     "output_type": "stream",
     "text": [
      "Upload nnUNet_results: 100%|██████████| 80/80 [00:23<00:00,  3.38it/s]\n"
     ]
    },
    {
     "name": "stdout",
     "output_type": "stream",
     "text": [
      "upload done\n",
      "\n",
      "Uploading nnUNet_results to projet-statapp-segmedic/diffusion/nnunet_dataset/nnUNet_results...\n"
     ]
    },
    {
     "name": "stderr",
     "output_type": "stream",
     "text": [
      "Upload nnUNet_results: 100%|██████████| 83/83 [00:32<00:00,  2.59it/s]\n"
     ]
    },
    {
     "name": "stdout",
     "output_type": "stream",
     "text": [
      "upload done\n",
      "2025-05-11 04:12:13.414633: predicting UKCHLL_011\n",
      "2025-05-11 04:12:14.880692: UKCHLL_011, shape torch.Size([1, 925, 503, 503]), rank 0\n",
      "\n",
      "Uploading nnUNet_results to projet-statapp-segmedic/diffusion/nnunet_dataset/nnUNet_results...\n"
     ]
    },
    {
     "name": "stderr",
     "output_type": "stream",
     "text": [
      "Upload nnUNet_results: 100%|██████████| 86/86 [00:59<00:00,  1.46it/s]\n"
     ]
    },
    {
     "name": "stdout",
     "output_type": "stream",
     "text": [
      "upload done\n",
      "2025-05-11 04:20:16.233798: predicting UKCHLL_015\n",
      "2025-05-11 04:20:17.849786: UKCHLL_015, shape torch.Size([1, 1010, 497, 497]), rank 0\n",
      "\n",
      "Uploading nnUNet_results to projet-statapp-segmedic/diffusion/nnunet_dataset/nnUNet_results...\n"
     ]
    },
    {
     "name": "stderr",
     "output_type": "stream",
     "text": [
      "Upload nnUNet_results:  92%|█████████▏| 80/87 [00:36<00:05,  1.22it/s]"
     ]
    },
    {
     "name": "stdout",
     "output_type": "stream",
     "text": [
      "Erreur lors de l'upload de /tmp/nnunet/nnUNet_results/Dataset001_Annot1/nnUNetTrainer__nnUNetPlans__3d_fullres/fold_all/validation/UKCHLL_011.npz → projet-statapp-segmedic/diffusion/nnunet_dataset/nnUNet_results/Dataset001_Annot1/nnUNetTrainer__nnUNetPlans__3d_fullres/fold_all/validation/UKCHLL_011.npz: [Errno 22] Your proposed upload is smaller than the minimum allowed object size.\n"
     ]
    },
    {
     "name": "stderr",
     "output_type": "stream",
     "text": [
      "Upload nnUNet_results: 100%|██████████| 87/87 [01:03<00:00,  1.37it/s]\n"
     ]
    },
    {
     "name": "stdout",
     "output_type": "stream",
     "text": [
      "upload done\n",
      "\n",
      "Uploading nnUNet_results to projet-statapp-segmedic/diffusion/nnunet_dataset/nnUNet_results...\n"
     ]
    },
    {
     "name": "stderr",
     "output_type": "stream",
     "text": [
      "Upload nnUNet_results:  63%|██████▎   | 56/89 [00:30<00:09,  3.31it/s]"
     ]
    },
    {
     "name": "stdout",
     "output_type": "stream",
     "text": [
      "2025-05-11 04:29:12.955046: predicting UKCHLL_017\n"
     ]
    },
    {
     "name": "stderr",
     "output_type": "stream",
     "text": [
      "Upload nnUNet_results:  64%|██████▍   | 57/89 [00:33<00:24,  1.30it/s]"
     ]
    },
    {
     "name": "stdout",
     "output_type": "stream",
     "text": [
      "2025-05-11 04:29:14.573256: UKCHLL_017, shape torch.Size([1, 959, 518, 518]), rank 0\n"
     ]
    },
    {
     "name": "stderr",
     "output_type": "stream",
     "text": [
      "Upload nnUNet_results: 100%|██████████| 89/89 [01:12<00:00,  1.22it/s]\n"
     ]
    },
    {
     "name": "stdout",
     "output_type": "stream",
     "text": [
      "upload done\n",
      "\n",
      "Uploading nnUNet_results to projet-statapp-segmedic/diffusion/nnunet_dataset/nnUNet_results...\n"
     ]
    },
    {
     "name": "stderr",
     "output_type": "stream",
     "text": [
      "Upload nnUNet_results: 100%|██████████| 92/92 [01:10<00:00,  1.30it/s]\n"
     ]
    },
    {
     "name": "stdout",
     "output_type": "stream",
     "text": [
      "upload done\n",
      "2025-05-11 04:39:23.963046: predicting UKCHLL_021\n",
      "2025-05-11 04:39:25.363104: UKCHLL_021, shape torch.Size([1, 891, 519, 519]), rank 0\n",
      "\n",
      "Uploading nnUNet_results to projet-statapp-segmedic/diffusion/nnunet_dataset/nnUNet_results...\n"
     ]
    },
    {
     "name": "stderr",
     "output_type": "stream",
     "text": [
      "Upload nnUNet_results: 100%|██████████| 93/93 [01:01<00:00,  1.50it/s]\n"
     ]
    },
    {
     "name": "stdout",
     "output_type": "stream",
     "text": [
      "upload done\n",
      "\n",
      "Uploading nnUNet_results to projet-statapp-segmedic/diffusion/nnunet_dataset/nnUNet_results...\n"
     ]
    },
    {
     "name": "stderr",
     "output_type": "stream",
     "text": [
      "Upload nnUNet_results: 100%|██████████| 95/95 [01:20<00:00,  1.18it/s]\n"
     ]
    },
    {
     "name": "stdout",
     "output_type": "stream",
     "text": [
      "upload done\n",
      "2025-05-11 04:49:33.259534: predicting UKCHLL_023\n",
      "2025-05-11 04:49:35.102206: UKCHLL_023, shape torch.Size([1, 1021, 519, 519]), rank 0\n",
      "\n",
      "Uploading nnUNet_results to projet-statapp-segmedic/diffusion/nnunet_dataset/nnUNet_results...\n"
     ]
    },
    {
     "name": "stderr",
     "output_type": "stream",
     "text": [
      "Upload nnUNet_results: 100%|██████████| 98/98 [01:37<00:00,  1.00it/s]\n"
     ]
    },
    {
     "name": "stdout",
     "output_type": "stream",
     "text": [
      "upload done\n",
      "\n",
      "Uploading nnUNet_results to projet-statapp-segmedic/diffusion/nnunet_dataset/nnUNet_results...\n"
     ]
    },
    {
     "name": "stderr",
     "output_type": "stream",
     "text": [
      "Upload nnUNet_results:  83%|████████▎ | 81/98 [00:38<00:51,  3.05s/it]"
     ]
    },
    {
     "name": "stdout",
     "output_type": "stream",
     "text": [
      "2025-05-11 05:00:50.753790: predicting UKCHLL_031\n"
     ]
    },
    {
     "name": "stderr",
     "output_type": "stream",
     "text": [
      "Upload nnUNet_results:  84%|████████▎ | 82/98 [00:45<01:06,  4.18s/it]"
     ]
    },
    {
     "name": "stdout",
     "output_type": "stream",
     "text": [
      "2025-05-11 05:00:51.773758: UKCHLL_031, shape torch.Size([1, 607, 512, 512]), rank 0\n"
     ]
    },
    {
     "name": "stderr",
     "output_type": "stream",
     "text": [
      "Upload nnUNet_results: 100%|██████████| 98/98 [01:31<00:00,  1.07it/s]\n"
     ]
    },
    {
     "name": "stdout",
     "output_type": "stream",
     "text": [
      "upload done\n",
      "\n",
      "Uploading nnUNet_results to projet-statapp-segmedic/diffusion/nnunet_dataset/nnUNet_results...\n"
     ]
    },
    {
     "name": "stderr",
     "output_type": "stream",
     "text": [
      "Upload nnUNet_results:  83%|████████▎ | 84/101 [00:49<01:14,  4.36s/it]"
     ]
    },
    {
     "name": "stdout",
     "output_type": "stream",
     "text": [
      "2025-05-11 05:07:36.646922: predicting UKCHLL_034\n",
      "2025-05-11 05:07:38.181593: UKCHLL_034, shape torch.Size([1, 933, 519, 519]), rank 0\n"
     ]
    },
    {
     "name": "stderr",
     "output_type": "stream",
     "text": [
      "Upload nnUNet_results: 100%|██████████| 101/101 [01:41<00:00,  1.00s/it]\n"
     ]
    },
    {
     "name": "stdout",
     "output_type": "stream",
     "text": [
      "upload done\n",
      "\n",
      "Uploading nnUNet_results to projet-statapp-segmedic/diffusion/nnunet_dataset/nnUNet_results...\n"
     ]
    },
    {
     "name": "stderr",
     "output_type": "stream",
     "text": [
      "Upload nnUNet_results: 100%|██████████| 104/104 [01:28<00:00,  1.18it/s]\n"
     ]
    },
    {
     "name": "stdout",
     "output_type": "stream",
     "text": [
      "upload done\n",
      "2025-05-11 05:17:45.238420: predicting UKCHLL_035\n",
      "2025-05-11 05:17:46.586894: UKCHLL_035, shape torch.Size([1, 1010, 476, 476]), rank 0\n",
      "\n",
      "Uploading nnUNet_results to projet-statapp-segmedic/diffusion/nnunet_dataset/nnUNet_results...\n"
     ]
    },
    {
     "name": "stderr",
     "output_type": "stream",
     "text": [
      "Upload nnUNet_results: 100%|██████████| 105/105 [01:24<00:00,  1.25it/s]\n"
     ]
    },
    {
     "name": "stdout",
     "output_type": "stream",
     "text": [
      "upload done\n",
      "\n",
      "Uploading nnUNet_results to projet-statapp-segmedic/diffusion/nnunet_dataset/nnUNet_results...\n"
     ]
    },
    {
     "name": "stderr",
     "output_type": "stream",
     "text": [
      "Upload nnUNet_results:  77%|███████▋  | 82/107 [00:23<00:31,  1.28s/it]"
     ]
    },
    {
     "name": "stdout",
     "output_type": "stream",
     "text": [
      "2025-05-11 05:26:40.559367: predicting UKCHLL_037\n",
      "2025-05-11 05:26:41.327415: UKCHLL_037, shape torch.Size([1, 654, 436, 436]), rank 0\n"
     ]
    },
    {
     "name": "stderr",
     "output_type": "stream",
     "text": [
      "Upload nnUNet_results: 100%|██████████| 107/107 [01:26<00:00,  1.24it/s]\n"
     ]
    },
    {
     "name": "stdout",
     "output_type": "stream",
     "text": [
      "upload done\n",
      "2025-05-11 05:30:46.678913: predicting UKCHLL_038\n",
      "2025-05-11 05:30:47.955392: UKCHLL_038, shape torch.Size([1, 963, 452, 452]), rank 0\n",
      "\n",
      "Uploading nnUNet_results to projet-statapp-segmedic/diffusion/nnunet_dataset/nnUNet_results...\n"
     ]
    },
    {
     "name": "stderr",
     "output_type": "stream",
     "text": [
      "Upload nnUNet_results: 100%|██████████| 111/111 [01:42<00:00,  1.08it/s]\n"
     ]
    },
    {
     "name": "stdout",
     "output_type": "stream",
     "text": [
      "upload done\n",
      "\n",
      "Uploading nnUNet_results to projet-statapp-segmedic/diffusion/nnunet_dataset/nnUNet_results...\n"
     ]
    },
    {
     "name": "stderr",
     "output_type": "stream",
     "text": [
      "Upload nnUNet_results:  71%|███████   | 80/113 [00:16<00:05,  6.11it/s]"
     ]
    },
    {
     "name": "stdout",
     "output_type": "stream",
     "text": [
      "2025-05-11 05:39:42.563922: predicting UKCHLL_039\n",
      "2025-05-11 05:39:44.273620: UKCHLL_039, shape torch.Size([1, 998, 506, 506]), rank 0\n"
     ]
    },
    {
     "name": "stderr",
     "output_type": "stream",
     "text": [
      "Upload nnUNet_results: 100%|██████████| 113/113 [01:48<00:00,  1.04it/s]\n"
     ]
    },
    {
     "name": "stdout",
     "output_type": "stream",
     "text": [
      "upload done\n",
      "\n",
      "Uploading nnUNet_results to projet-statapp-segmedic/diffusion/nnunet_dataset/nnUNet_results...\n"
     ]
    },
    {
     "name": "stderr",
     "output_type": "stream",
     "text": [
      "Upload nnUNet_results: 100%|██████████| 116/116 [02:49<00:00,  1.46s/it]\n"
     ]
    },
    {
     "name": "stdout",
     "output_type": "stream",
     "text": [
      "upload done\n",
      "2025-05-11 05:50:59.274022: predicting UKCHLL_041\n",
      "2025-05-11 05:51:00.697896: UKCHLL_041, shape torch.Size([1, 618, 519, 519]), rank 0\n",
      "\n",
      "Uploading nnUNet_results to projet-statapp-segmedic/diffusion/nnunet_dataset/nnUNet_results...\n"
     ]
    },
    {
     "name": "stderr",
     "output_type": "stream",
     "text": [
      "Upload nnUNet_results: 100%|██████████| 117/117 [02:54<00:00,  1.49s/it]\n"
     ]
    },
    {
     "name": "stdout",
     "output_type": "stream",
     "text": [
      "upload done\n",
      "2025-05-11 05:57:45.798354: predicting UKCHLL_042\n",
      "2025-05-11 05:57:47.767659: UKCHLL_042, shape torch.Size([1, 1036, 515, 515]), rank 0\n",
      "\n",
      "Uploading nnUNet_results to projet-statapp-segmedic/diffusion/nnunet_dataset/nnUNet_results...\n"
     ]
    },
    {
     "name": "stderr",
     "output_type": "stream",
     "text": [
      "Upload nnUNet_results: 100%|██████████| 122/122 [02:13<00:00,  1.09s/it]\n"
     ]
    },
    {
     "name": "stdout",
     "output_type": "stream",
     "text": [
      "upload done\n",
      "2025-05-11 06:09:02.815450: predicting UKCHLL_043\n",
      "2025-05-11 06:09:03.823657: UKCHLL_043, shape torch.Size([1, 605, 479, 479]), rank 0\n",
      "\n",
      "Uploading nnUNet_results to projet-statapp-segmedic/diffusion/nnunet_dataset/nnUNet_results...\n"
     ]
    },
    {
     "name": "stderr",
     "output_type": "stream",
     "text": [
      "Upload nnUNet_results: 100%|██████████| 122/122 [02:48<00:00,  1.38s/it]\n"
     ]
    },
    {
     "name": "stdout",
     "output_type": "stream",
     "text": [
      "upload done\n",
      "2025-05-11 06:14:24.707649: predicting UKCHLL_045\n",
      "2025-05-11 06:14:26.836455: UKCHLL_045, shape torch.Size([1, 1017, 519, 519]), rank 0\n",
      "\n",
      "Uploading nnUNet_results to projet-statapp-segmedic/diffusion/nnunet_dataset/nnUNet_results...\n"
     ]
    },
    {
     "name": "stderr",
     "output_type": "stream",
     "text": [
      "Upload nnUNet_results: 100%|██████████| 126/126 [02:55<00:00,  1.40s/it]\n"
     ]
    },
    {
     "name": "stdout",
     "output_type": "stream",
     "text": [
      "upload done\n",
      "\n",
      "Uploading nnUNet_results to projet-statapp-segmedic/diffusion/nnunet_dataset/nnUNet_results...\n"
     ]
    },
    {
     "name": "stderr",
     "output_type": "stream",
     "text": [
      "Upload nnUNet_results:  69%|██████▉   | 88/128 [00:43<01:46,  2.66s/it]"
     ]
    },
    {
     "name": "stdout",
     "output_type": "stream",
     "text": [
      "2025-05-11 06:25:42.652166: predicting UKCHLL_046\n"
     ]
    },
    {
     "name": "stderr",
     "output_type": "stream",
     "text": [
      "Upload nnUNet_results:  70%|███████   | 90/128 [00:52<02:03,  3.26s/it]"
     ]
    },
    {
     "name": "stdout",
     "output_type": "stream",
     "text": [
      "2025-05-11 06:25:45.485651: UKCHLL_046, shape torch.Size([1, 1073, 498, 498]), rank 0\n"
     ]
    },
    {
     "name": "stderr",
     "output_type": "stream",
     "text": [
      "Upload nnUNet_results: 100%|██████████| 128/128 [03:16<00:00,  1.53s/it]\n"
     ]
    },
    {
     "name": "stdout",
     "output_type": "stream",
     "text": [
      "upload done\n",
      "\n",
      "Uploading nnUNet_results to projet-statapp-segmedic/diffusion/nnunet_dataset/nnUNet_results...\n"
     ]
    },
    {
     "name": "stderr",
     "output_type": "stream",
     "text": [
      "Upload nnUNet_results:  87%|████████▋ | 114/131 [02:24<00:38,  2.28s/it]"
     ]
    },
    {
     "name": "stdout",
     "output_type": "stream",
     "text": [
      "2025-05-11 06:35:33.620513: predicting UKCHLL_048\n",
      "2025-05-11 06:35:36.170025: UKCHLL_048, shape torch.Size([1, 887, 435, 435]), rank 0\n"
     ]
    },
    {
     "name": "stderr",
     "output_type": "stream",
     "text": [
      "Upload nnUNet_results: 100%|██████████| 131/131 [03:31<00:00,  1.61s/it]\n"
     ]
    },
    {
     "name": "stdout",
     "output_type": "stream",
     "text": [
      "upload done\n",
      "\n",
      "Uploading nnUNet_results to projet-statapp-segmedic/diffusion/nnunet_dataset/nnUNet_results...\n"
     ]
    },
    {
     "name": "stderr",
     "output_type": "stream",
     "text": [
      "Upload nnUNet_results:  94%|█████████▍| 126/134 [04:53<01:09,  8.69s/it]"
     ]
    },
    {
     "name": "stdout",
     "output_type": "stream",
     "text": [
      "2025-05-11 06:46:40.548998: Validation complete\n",
      "2025-05-11 06:46:40.549329: Mean Validation Dice:  0.9682236590376764\n"
     ]
    },
    {
     "name": "stderr",
     "output_type": "stream",
     "text": [
      "Upload nnUNet_results: 100%|██████████| 134/134 [05:05<00:00,  2.28s/it]\n"
     ]
    },
    {
     "name": "stdout",
     "output_type": "stream",
     "text": [
      "upload done\n",
      "[Trainer] Training complete.\n",
      "[Main] All done.\n"
     ]
    },
    {
     "name": "stdout",
     "output_type": "stream",
     "text": [
      "\n",
      "Uploading nnUNet_results to projet-statapp-segmedic/diffusion/nnunet_dataset/nnUNet_results...\n"
     ]
    },
    {
     "name": "stderr",
     "output_type": "stream",
     "text": [
      "Upload nnUNet_results: 100%|██████████| 138/138 [04:05<00:00,  1.78s/it]\n"
     ]
    },
    {
     "name": "stdout",
     "output_type": "stream",
     "text": [
      "upload done\n",
      "\n",
      "Uploading nnUNet_results to projet-statapp-segmedic/diffusion/nnunet_dataset/nnUNet_results...\n"
     ]
    },
    {
     "name": "stderr",
     "output_type": "stream",
     "text": [
      "Upload nnUNet_results:  78%|███████▊  | 108/138 [02:09<01:29,  2.97s/it]"
     ]
    }
   ],
   "source": [
    "# Code to train and upload nnU-Net\n",
    "\n",
    "dataset=input(\"Enter one among: Dataset001_Annot1, Dataset002_Annot2, Dataset003_Annot3\")\n",
    "\n",
    "# Upload function with time interval \n",
    "# IDEA: upload as soon as the content of temp/results changes\n",
    "def sync_results_to_s3():\n",
    "    print(\"[Uploader] Starting S3 sync thread.\")\n",
    "\n",
    "    while True:\n",
    "        \n",
    "        upload_to_s3('nnUNet_results')\n",
    "        print(\"upload done\")\n",
    "\n",
    "        time.sleep(300)\n",
    "\n",
    "\n",
    "# Training function\n",
    "def run_training():\n",
    "    print(\"[Trainer] Launching nnUNet training...\")\n",
    "    command = [\n",
    "        \"nnUNetv2_train\",\n",
    "        f\"{dataset}\",  # Dataset ID\n",
    "        \"3d_fullres\",  # Plan\n",
    "        \"all\",  # Fold            \n",
    "        \"--npz\",\n",
    "        \"--c\"\n",
    "    ]\n",
    "    subprocess.run(command)\n",
    "    print(\"[Trainer] Training complete.\")\n",
    "\n",
    "\n",
    "# Threads\n",
    "uploader_thread = threading.Thread(target=sync_results_to_s3, daemon=True)\n",
    "trainer_thread = threading.Thread(target=run_training)\n",
    "\n",
    "uploader_thread.start()\n",
    "trainer_thread.start()\n",
    "\n",
    "trainer_thread.join()\n",
    "print(\"[Main] All done.\")"
   ]
  },
  {
   "cell_type": "code",
   "execution_count": 9,
   "id": "ecfb1510",
   "metadata": {},
   "outputs": [
    {
     "name": "stdout",
     "output_type": "stream",
     "text": [
      "\n",
      "Uploading nnUNet_results to projet-statapp-segmedic/diffusion/nnunet_dataset/nnUNet_results...\n"
     ]
    },
    {
     "name": "stderr",
     "output_type": "stream",
     "text": [
      "Upload nnUNet_results: 100%|██████████| 138/138 [04:31<00:00,  1.97s/it]"
     ]
    },
    {
     "name": "stdout",
     "output_type": "stream",
     "text": [
      "upload done\n"
     ]
    },
    {
     "name": "stderr",
     "output_type": "stream",
     "text": [
      "\n"
     ]
    }
   ],
   "source": [
    "upload_to_s3('nnUNet_results')\n",
    "print(\"upload done\")"
   ]
  }
 ],
 "metadata": {
  "kernelspec": {
   "display_name": "Python 3",
   "language": "python",
   "name": "python3"
  },
  "language_info": {
   "codemirror_mode": {
    "name": "ipython",
    "version": 3
   },
   "file_extension": ".py",
   "mimetype": "text/x-python",
   "name": "python",
   "nbconvert_exporter": "python",
   "pygments_lexer": "ipython3",
   "version": "3.12.9"
  }
 },
 "nbformat": 4,
 "nbformat_minor": 5
}

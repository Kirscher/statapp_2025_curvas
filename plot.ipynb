{
 "cells": [
  {
   "cell_type": "code",
   "id": "a40c51c2-3382-4e8b-bc14-09e6df6807fc",
   "metadata": {
    "ExecuteTime": {
     "end_time": "2025-05-17T09:54:01.475826Z",
     "start_time": "2025-05-17T09:54:00.882882Z"
    }
   },
   "source": [
    "import pandas as pd\n",
    "\n",
    "df = pd.read_csv(\"metrics.csv\")"
   ],
   "outputs": [],
   "execution_count": 1
  },
  {
   "cell_type": "code",
   "id": "c2129c6e-b565-459f-af3a-a948b90603ac",
   "metadata": {
    "ExecuteTime": {
     "end_time": "2025-05-17T09:54:01.538328Z",
     "start_time": "2025-05-17T09:54:01.512619Z"
    }
   },
   "source": "df.head()",
   "outputs": [
    {
     "data": {
      "text/plain": [
       "                         CT  DICE_panc  DICE_kidn  DICE_livr  CONF_panc  \\\n",
       "0            ensemble_anno3   0.848202   0.980637   0.964536   0.962211   \n",
       "1              ensemble_all   0.896408   0.979192   0.970718   0.971881   \n",
       "2            ensemble_anno1   0.875454   0.968423   0.961976   0.966369   \n",
       "3            ensemble_anno2   0.943948   0.981796   0.977081   0.987064   \n",
       "4  anno3_init445566_foldall   0.847489   0.980800   0.978574   0.970964   \n",
       "\n",
       "   CONF_kidn  CONF_livr  Entropy_GT  Entropy_Pred  Hausdorff_1  ...  \\\n",
       "0   0.994686   0.976608    0.330484      0.328703    28.178006  ...   \n",
       "1   0.991845   0.983543    0.330484      0.327702    23.280893  ...   \n",
       "2   0.985955   0.985578    0.330484      0.323390    17.549929  ...   \n",
       "3   0.994893   0.988442    0.330484      0.330600    26.248809  ...   \n",
       "4   0.994357   0.990379    0.330484      0.331306    21.794495  ...   \n",
       "\n",
       "   EAURC_kidn  EAURC_livr    CRPS_panc     CRPS_kidn     CRPS_livr  NCC_GT1-2  \\\n",
       "0    0.101876    0.021122  4897.276393  21028.398400  95290.595493   0.979107   \n",
       "1    0.111341    0.018298  2796.080487   2320.094887  63029.720669   0.979107   \n",
       "2    0.132543    0.021263  8227.224718  22170.494557  78148.515817   0.979107   \n",
       "3    0.118888    0.018298  2234.973704   4690.604776  20936.826625   0.979107   \n",
       "4    0.114061    0.026088  2796.080487   6156.354727   9032.805466   0.979107   \n",
       "\n",
       "   NCC_GT1-3  NCC_GT2-3  NCC_mean  Patient_ID  \n",
       "0   0.976647   0.989421  0.981725   UKCHLL003  \n",
       "1   0.976647   0.989421  0.981725   UKCHLL003  \n",
       "2   0.976647   0.989421  0.981725   UKCHLL003  \n",
       "3   0.976647   0.989421  0.981725   UKCHLL003  \n",
       "4   0.976647   0.989421  0.981725   UKCHLL003  \n",
       "\n",
       "[5 rows x 35 columns]"
      ],
      "text/html": [
       "<div>\n",
       "<style scoped>\n",
       "    .dataframe tbody tr th:only-of-type {\n",
       "        vertical-align: middle;\n",
       "    }\n",
       "\n",
       "    .dataframe tbody tr th {\n",
       "        vertical-align: top;\n",
       "    }\n",
       "\n",
       "    .dataframe thead th {\n",
       "        text-align: right;\n",
       "    }\n",
       "</style>\n",
       "<table border=\"1\" class=\"dataframe\">\n",
       "  <thead>\n",
       "    <tr style=\"text-align: right;\">\n",
       "      <th></th>\n",
       "      <th>CT</th>\n",
       "      <th>DICE_panc</th>\n",
       "      <th>DICE_kidn</th>\n",
       "      <th>DICE_livr</th>\n",
       "      <th>CONF_panc</th>\n",
       "      <th>CONF_kidn</th>\n",
       "      <th>CONF_livr</th>\n",
       "      <th>Entropy_GT</th>\n",
       "      <th>Entropy_Pred</th>\n",
       "      <th>Hausdorff_1</th>\n",
       "      <th>...</th>\n",
       "      <th>EAURC_kidn</th>\n",
       "      <th>EAURC_livr</th>\n",
       "      <th>CRPS_panc</th>\n",
       "      <th>CRPS_kidn</th>\n",
       "      <th>CRPS_livr</th>\n",
       "      <th>NCC_GT1-2</th>\n",
       "      <th>NCC_GT1-3</th>\n",
       "      <th>NCC_GT2-3</th>\n",
       "      <th>NCC_mean</th>\n",
       "      <th>Patient_ID</th>\n",
       "    </tr>\n",
       "  </thead>\n",
       "  <tbody>\n",
       "    <tr>\n",
       "      <th>0</th>\n",
       "      <td>ensemble_anno3</td>\n",
       "      <td>0.848202</td>\n",
       "      <td>0.980637</td>\n",
       "      <td>0.964536</td>\n",
       "      <td>0.962211</td>\n",
       "      <td>0.994686</td>\n",
       "      <td>0.976608</td>\n",
       "      <td>0.330484</td>\n",
       "      <td>0.328703</td>\n",
       "      <td>28.178006</td>\n",
       "      <td>...</td>\n",
       "      <td>0.101876</td>\n",
       "      <td>0.021122</td>\n",
       "      <td>4897.276393</td>\n",
       "      <td>21028.398400</td>\n",
       "      <td>95290.595493</td>\n",
       "      <td>0.979107</td>\n",
       "      <td>0.976647</td>\n",
       "      <td>0.989421</td>\n",
       "      <td>0.981725</td>\n",
       "      <td>UKCHLL003</td>\n",
       "    </tr>\n",
       "    <tr>\n",
       "      <th>1</th>\n",
       "      <td>ensemble_all</td>\n",
       "      <td>0.896408</td>\n",
       "      <td>0.979192</td>\n",
       "      <td>0.970718</td>\n",
       "      <td>0.971881</td>\n",
       "      <td>0.991845</td>\n",
       "      <td>0.983543</td>\n",
       "      <td>0.330484</td>\n",
       "      <td>0.327702</td>\n",
       "      <td>23.280893</td>\n",
       "      <td>...</td>\n",
       "      <td>0.111341</td>\n",
       "      <td>0.018298</td>\n",
       "      <td>2796.080487</td>\n",
       "      <td>2320.094887</td>\n",
       "      <td>63029.720669</td>\n",
       "      <td>0.979107</td>\n",
       "      <td>0.976647</td>\n",
       "      <td>0.989421</td>\n",
       "      <td>0.981725</td>\n",
       "      <td>UKCHLL003</td>\n",
       "    </tr>\n",
       "    <tr>\n",
       "      <th>2</th>\n",
       "      <td>ensemble_anno1</td>\n",
       "      <td>0.875454</td>\n",
       "      <td>0.968423</td>\n",
       "      <td>0.961976</td>\n",
       "      <td>0.966369</td>\n",
       "      <td>0.985955</td>\n",
       "      <td>0.985578</td>\n",
       "      <td>0.330484</td>\n",
       "      <td>0.323390</td>\n",
       "      <td>17.549929</td>\n",
       "      <td>...</td>\n",
       "      <td>0.132543</td>\n",
       "      <td>0.021263</td>\n",
       "      <td>8227.224718</td>\n",
       "      <td>22170.494557</td>\n",
       "      <td>78148.515817</td>\n",
       "      <td>0.979107</td>\n",
       "      <td>0.976647</td>\n",
       "      <td>0.989421</td>\n",
       "      <td>0.981725</td>\n",
       "      <td>UKCHLL003</td>\n",
       "    </tr>\n",
       "    <tr>\n",
       "      <th>3</th>\n",
       "      <td>ensemble_anno2</td>\n",
       "      <td>0.943948</td>\n",
       "      <td>0.981796</td>\n",
       "      <td>0.977081</td>\n",
       "      <td>0.987064</td>\n",
       "      <td>0.994893</td>\n",
       "      <td>0.988442</td>\n",
       "      <td>0.330484</td>\n",
       "      <td>0.330600</td>\n",
       "      <td>26.248809</td>\n",
       "      <td>...</td>\n",
       "      <td>0.118888</td>\n",
       "      <td>0.018298</td>\n",
       "      <td>2234.973704</td>\n",
       "      <td>4690.604776</td>\n",
       "      <td>20936.826625</td>\n",
       "      <td>0.979107</td>\n",
       "      <td>0.976647</td>\n",
       "      <td>0.989421</td>\n",
       "      <td>0.981725</td>\n",
       "      <td>UKCHLL003</td>\n",
       "    </tr>\n",
       "    <tr>\n",
       "      <th>4</th>\n",
       "      <td>anno3_init445566_foldall</td>\n",
       "      <td>0.847489</td>\n",
       "      <td>0.980800</td>\n",
       "      <td>0.978574</td>\n",
       "      <td>0.970964</td>\n",
       "      <td>0.994357</td>\n",
       "      <td>0.990379</td>\n",
       "      <td>0.330484</td>\n",
       "      <td>0.331306</td>\n",
       "      <td>21.794495</td>\n",
       "      <td>...</td>\n",
       "      <td>0.114061</td>\n",
       "      <td>0.026088</td>\n",
       "      <td>2796.080487</td>\n",
       "      <td>6156.354727</td>\n",
       "      <td>9032.805466</td>\n",
       "      <td>0.979107</td>\n",
       "      <td>0.976647</td>\n",
       "      <td>0.989421</td>\n",
       "      <td>0.981725</td>\n",
       "      <td>UKCHLL003</td>\n",
       "    </tr>\n",
       "  </tbody>\n",
       "</table>\n",
       "<p>5 rows × 35 columns</p>\n",
       "</div>"
      ]
     },
     "execution_count": 2,
     "metadata": {},
     "output_type": "execute_result"
    }
   ],
   "execution_count": 2
  },
  {
   "cell_type": "code",
   "id": "bf87b993-fc30-4783-ab87-f23c727f4248",
   "metadata": {
    "ExecuteTime": {
     "end_time": "2025-05-17T09:54:02.566050Z",
     "start_time": "2025-05-17T09:54:02.562865Z"
    }
   },
   "source": [
    "df.CT.unique()"
   ],
   "outputs": [
    {
     "data": {
      "text/plain": [
       "array(['ensemble_anno3', 'ensemble_all', 'ensemble_anno1',\n",
       "       'ensemble_anno2', 'anno3_init445566_foldall',\n",
       "       'anno2_init112233_foldall', 'anno1_init112233_foldall',\n",
       "       'anno1_init778899_foldall', 'anno2_init445566_foldall',\n",
       "       'anno3_init778899_foldall', 'anno1_init445566_foldall',\n",
       "       'anno3_init112233_foldall', 'anno2_init778899_foldall'],\n",
       "      dtype=object)"
      ]
     },
     "execution_count": 3,
     "metadata": {},
     "output_type": "execute_result"
    }
   ],
   "execution_count": 3
  },
  {
   "cell_type": "code",
   "id": "4e55685d-d284-4bc0-ade5-b21109b279cf",
   "metadata": {
    "ExecuteTime": {
     "end_time": "2025-05-17T09:54:55.213307Z",
     "start_time": "2025-05-17T09:54:28.917861Z"
    }
   },
   "source": [
    "!pip install plotly"
   ],
   "outputs": [
    {
     "name": "stdout",
     "output_type": "stream",
     "text": [
      "Collecting plotly\n",
      "  Downloading plotly-6.1.0-py3-none-any.whl.metadata (6.9 kB)\n",
      "Collecting narwhals>=1.15.1 (from plotly)\n",
      "  Downloading narwhals-1.39.1-py3-none-any.whl.metadata (11 kB)\n",
      "Requirement already satisfied: packaging in c:\\users\\concordance\\pycharmprojects\\statapp_2025_curvas\\.venv\\lib\\site-packages (from plotly) (25.0)\n",
      "Downloading plotly-6.1.0-py3-none-any.whl (16.1 MB)\n",
      "   ---------------------------------------- 0.0/16.1 MB ? eta -:--:--\n",
      "   ----- ---------------------------------- 2.4/16.1 MB 11.9 MB/s eta 0:00:02\n",
      "   ------------ --------------------------- 5.0/16.1 MB 11.8 MB/s eta 0:00:01\n",
      "   ----------------- ---------------------- 7.1/16.1 MB 11.6 MB/s eta 0:00:01\n",
      "   ----------------------- ---------------- 9.4/16.1 MB 11.5 MB/s eta 0:00:01\n",
      "   ----------------------------- ---------- 11.8/16.1 MB 11.5 MB/s eta 0:00:01\n",
      "   ----------------------------------- ---- 14.4/16.1 MB 11.5 MB/s eta 0:00:01\n",
      "   ---------------------------------------- 16.1/16.1 MB 11.4 MB/s eta 0:00:00\n",
      "Downloading narwhals-1.39.1-py3-none-any.whl (355 kB)\n",
      "Installing collected packages: narwhals, plotly\n",
      "\n",
      "   ---------------------------------------- 0/2 [narwhals]\n",
      "   ---------------------------------------- 0/2 [narwhals]\n",
      "   -------------------- ------------------- 1/2 [plotly]\n",
      "   -------------------- ------------------- 1/2 [plotly]\n",
      "   -------------------- ------------------- 1/2 [plotly]\n",
      "   -------------------- ------------------- 1/2 [plotly]\n",
      "   -------------------- ------------------- 1/2 [plotly]\n",
      "   -------------------- ------------------- 1/2 [plotly]\n",
      "   -------------------- ------------------- 1/2 [plotly]\n",
      "   -------------------- ------------------- 1/2 [plotly]\n",
      "   -------------------- ------------------- 1/2 [plotly]\n",
      "   -------------------- ------------------- 1/2 [plotly]\n",
      "   -------------------- ------------------- 1/2 [plotly]\n",
      "   -------------------- ------------------- 1/2 [plotly]\n",
      "   -------------------- ------------------- 1/2 [plotly]\n",
      "   -------------------- ------------------- 1/2 [plotly]\n",
      "   -------------------- ------------------- 1/2 [plotly]\n",
      "   -------------------- ------------------- 1/2 [plotly]\n",
      "   -------------------- ------------------- 1/2 [plotly]\n",
      "   -------------------- ------------------- 1/2 [plotly]\n",
      "   -------------------- ------------------- 1/2 [plotly]\n",
      "   -------------------- ------------------- 1/2 [plotly]\n",
      "   -------------------- ------------------- 1/2 [plotly]\n",
      "   -------------------- ------------------- 1/2 [plotly]\n",
      "   -------------------- ------------------- 1/2 [plotly]\n",
      "   -------------------- ------------------- 1/2 [plotly]\n",
      "   -------------------- ------------------- 1/2 [plotly]\n",
      "   -------------------- ------------------- 1/2 [plotly]\n",
      "   -------------------- ------------------- 1/2 [plotly]\n",
      "   -------------------- ------------------- 1/2 [plotly]\n",
      "   -------------------- ------------------- 1/2 [plotly]\n",
      "   -------------------- ------------------- 1/2 [plotly]\n",
      "   -------------------- ------------------- 1/2 [plotly]\n",
      "   -------------------- ------------------- 1/2 [plotly]\n",
      "   -------------------- ------------------- 1/2 [plotly]\n",
      "   -------------------- ------------------- 1/2 [plotly]\n",
      "   -------------------- ------------------- 1/2 [plotly]\n",
      "   -------------------- ------------------- 1/2 [plotly]\n",
      "   -------------------- ------------------- 1/2 [plotly]\n",
      "   -------------------- ------------------- 1/2 [plotly]\n",
      "   -------------------- ------------------- 1/2 [plotly]\n",
      "   -------------------- ------------------- 1/2 [plotly]\n",
      "   -------------------- ------------------- 1/2 [plotly]\n",
      "   -------------------- ------------------- 1/2 [plotly]\n",
      "   -------------------- ------------------- 1/2 [plotly]\n",
      "   -------------------- ------------------- 1/2 [plotly]\n",
      "   -------------------- ------------------- 1/2 [plotly]\n",
      "   -------------------- ------------------- 1/2 [plotly]\n",
      "   -------------------- ------------------- 1/2 [plotly]\n",
      "   -------------------- ------------------- 1/2 [plotly]\n",
      "   -------------------- ------------------- 1/2 [plotly]\n",
      "   -------------------- ------------------- 1/2 [plotly]\n",
      "   -------------------- ------------------- 1/2 [plotly]\n",
      "   -------------------- ------------------- 1/2 [plotly]\n",
      "   -------------------- ------------------- 1/2 [plotly]\n",
      "   -------------------- ------------------- 1/2 [plotly]\n",
      "   -------------------- ------------------- 1/2 [plotly]\n",
      "   -------------------- ------------------- 1/2 [plotly]\n",
      "   -------------------- ------------------- 1/2 [plotly]\n",
      "   -------------------- ------------------- 1/2 [plotly]\n",
      "   -------------------- ------------------- 1/2 [plotly]\n",
      "   -------------------- ------------------- 1/2 [plotly]\n",
      "   -------------------- ------------------- 1/2 [plotly]\n",
      "   -------------------- ------------------- 1/2 [plotly]\n",
      "   -------------------- ------------------- 1/2 [plotly]\n",
      "   -------------------- ------------------- 1/2 [plotly]\n",
      "   -------------------- ------------------- 1/2 [plotly]\n",
      "   -------------------- ------------------- 1/2 [plotly]\n",
      "   -------------------- ------------------- 1/2 [plotly]\n",
      "   -------------------- ------------------- 1/2 [plotly]\n",
      "   -------------------- ------------------- 1/2 [plotly]\n",
      "   -------------------- ------------------- 1/2 [plotly]\n",
      "   -------------------- ------------------- 1/2 [plotly]\n",
      "   -------------------- ------------------- 1/2 [plotly]\n",
      "   -------------------- ------------------- 1/2 [plotly]\n",
      "   -------------------- ------------------- 1/2 [plotly]\n",
      "   -------------------- ------------------- 1/2 [plotly]\n",
      "   -------------------- ------------------- 1/2 [plotly]\n",
      "   -------------------- ------------------- 1/2 [plotly]\n",
      "   -------------------- ------------------- 1/2 [plotly]\n",
      "   -------------------- ------------------- 1/2 [plotly]\n",
      "   -------------------- ------------------- 1/2 [plotly]\n",
      "   -------------------- ------------------- 1/2 [plotly]\n",
      "   -------------------- ------------------- 1/2 [plotly]\n",
      "   -------------------- ------------------- 1/2 [plotly]\n",
      "   -------------------- ------------------- 1/2 [plotly]\n",
      "   -------------------- ------------------- 1/2 [plotly]\n",
      "   -------------------- ------------------- 1/2 [plotly]\n",
      "   -------------------- ------------------- 1/2 [plotly]\n",
      "   -------------------- ------------------- 1/2 [plotly]\n",
      "   -------------------- ------------------- 1/2 [plotly]\n",
      "   -------------------- ------------------- 1/2 [plotly]\n",
      "   -------------------- ------------------- 1/2 [plotly]\n",
      "   -------------------- ------------------- 1/2 [plotly]\n",
      "   -------------------- ------------------- 1/2 [plotly]\n",
      "   -------------------- ------------------- 1/2 [plotly]\n",
      "   -------------------- ------------------- 1/2 [plotly]\n",
      "   -------------------- ------------------- 1/2 [plotly]\n",
      "   -------------------- ------------------- 1/2 [plotly]\n",
      "   -------------------- ------------------- 1/2 [plotly]\n",
      "   -------------------- ------------------- 1/2 [plotly]\n",
      "   -------------------- ------------------- 1/2 [plotly]\n",
      "   -------------------- ------------------- 1/2 [plotly]\n",
      "   -------------------- ------------------- 1/2 [plotly]\n",
      "   -------------------- ------------------- 1/2 [plotly]\n",
      "   -------------------- ------------------- 1/2 [plotly]\n",
      "   -------------------- ------------------- 1/2 [plotly]\n",
      "   -------------------- ------------------- 1/2 [plotly]\n",
      "   -------------------- ------------------- 1/2 [plotly]\n",
      "   -------------------- ------------------- 1/2 [plotly]\n",
      "   -------------------- ------------------- 1/2 [plotly]\n",
      "   -------------------- ------------------- 1/2 [plotly]\n",
      "   -------------------- ------------------- 1/2 [plotly]\n",
      "   -------------------- ------------------- 1/2 [plotly]\n",
      "   -------------------- ------------------- 1/2 [plotly]\n",
      "   -------------------- ------------------- 1/2 [plotly]\n",
      "   -------------------- ------------------- 1/2 [plotly]\n",
      "   -------------------- ------------------- 1/2 [plotly]\n",
      "   -------------------- ------------------- 1/2 [plotly]\n",
      "   -------------------- ------------------- 1/2 [plotly]\n",
      "   -------------------- ------------------- 1/2 [plotly]\n",
      "   -------------------- ------------------- 1/2 [plotly]\n",
      "   -------------------- ------------------- 1/2 [plotly]\n",
      "   -------------------- ------------------- 1/2 [plotly]\n",
      "   -------------------- ------------------- 1/2 [plotly]\n",
      "   -------------------- ------------------- 1/2 [plotly]\n",
      "   -------------------- ------------------- 1/2 [plotly]\n",
      "   -------------------- ------------------- 1/2 [plotly]\n",
      "   -------------------- ------------------- 1/2 [plotly]\n",
      "   -------------------- ------------------- 1/2 [plotly]\n",
      "   -------------------- ------------------- 1/2 [plotly]\n",
      "   -------------------- ------------------- 1/2 [plotly]\n",
      "   -------------------- ------------------- 1/2 [plotly]\n",
      "   -------------------- ------------------- 1/2 [plotly]\n",
      "   -------------------- ------------------- 1/2 [plotly]\n",
      "   -------------------- ------------------- 1/2 [plotly]\n",
      "   ---------------------------------------- 2/2 [plotly]\n",
      "\n",
      "Successfully installed narwhals-1.39.1 plotly-6.1.0\n"
     ]
    }
   ],
   "execution_count": 4
  },
  {
   "metadata": {},
   "cell_type": "code",
   "outputs": [],
   "execution_count": null,
   "source": [
    "import pandas as pd\n",
    "import plotly.express as px"
   ],
   "id": "f1edff8b7be4c69b"
  },
  {
   "cell_type": "code",
   "execution_count": 24,
   "id": "a93c90fb-4051-46dc-9c7a-8c68afd18f0c",
   "metadata": {},
   "outputs": [
    {
     "data": {
      "application/vnd.plotly.v1+json": {
       "config": {
        "plotlyServerURL": "https://plot.ly"
       },
       "data": [
        {
         "alignmentgroup": "True",
         "box": {
          "visible": true
         },
         "hovertemplate": "CT=%{x}<br>DICE_panc=%{y}<extra></extra>",
         "legendgroup": "",
         "marker": {
          "color": "#636efa"
         },
         "name": "",
         "offsetgroup": "",
         "orientation": "v",
         "scalegroup": "True",
         "showlegend": false,
         "type": "violin",
         "x": [
          "ensemble_anno3",
          "ensemble_all",
          "ensemble_anno1",
          "ensemble_anno2",
          "anno3_init445566_foldall",
          "anno2_init112233_foldall",
          "anno1_init112233_foldall",
          "anno1_init778899_foldall",
          "anno2_init445566_foldall",
          "anno3_init778899_foldall",
          "anno1_init445566_foldall",
          "anno3_init112233_foldall",
          "anno2_init778899_foldall",
          "ensemble_anno3",
          "ensemble_all",
          "ensemble_anno1",
          "ensemble_anno2",
          "anno3_init445566_foldall",
          "anno2_init112233_foldall",
          "anno1_init112233_foldall",
          "anno1_init778899_foldall",
          "anno2_init445566_foldall",
          "anno3_init778899_foldall",
          "anno1_init445566_foldall",
          "anno3_init112233_foldall",
          "anno2_init778899_foldall",
          "ensemble_anno3",
          "ensemble_anno2",
          "ensemble_anno1",
          "ensemble_all",
          "anno1_init112233_foldall",
          "anno2_init445566_foldall",
          "anno3_init778899_foldall",
          "anno1_init778899_foldall",
          "anno3_init112233_foldall",
          "anno2_init778899_foldall",
          "anno3_init445566_foldall",
          "anno1_init445566_foldall",
          "anno2_init112233_foldall",
          "ensemble_anno3",
          "ensemble_all",
          "ensemble_anno1",
          "ensemble_anno2",
          "anno3_init445566_foldall",
          "anno2_init112233_foldall",
          "anno1_init112233_foldall",
          "anno1_init778899_foldall",
          "anno2_init445566_foldall",
          "anno3_init778899_foldall",
          "anno1_init445566_foldall",
          "anno3_init112233_foldall",
          "anno2_init778899_foldall",
          "ensemble_anno1",
          "ensemble_anno3",
          "ensemble_anno2",
          "ensemble_all",
          "anno1_init112233_foldall",
          "anno1_init778899_foldall",
          "anno1_init445566_foldall",
          "anno2_init778899_foldall",
          "anno2_init112233_foldall",
          "anno2_init445566_foldall",
          "anno3_init778899_foldall",
          "anno3_init112233_foldall",
          "anno3_init445566_foldall",
          "ensemble_anno3",
          "ensemble_all",
          "ensemble_anno1",
          "ensemble_anno2",
          "anno3_init445566_foldall",
          "anno2_init112233_foldall",
          "anno1_init112233_foldall",
          "anno1_init778899_foldall",
          "anno2_init445566_foldall",
          "anno3_init778899_foldall",
          "anno1_init445566_foldall",
          "anno3_init112233_foldall",
          "anno2_init778899_foldall",
          "ensemble_anno3",
          "ensemble_all",
          "ensemble_anno2",
          "ensemble_anno1",
          "anno3_init778899_foldall",
          "anno3_init112233_foldall",
          "anno2_init778899_foldall",
          "anno2_init445566_foldall",
          "anno1_init112233_foldall",
          "anno3_init445566_foldall",
          "anno1_init778899_foldall",
          "anno2_init112233_foldall",
          "anno1_init445566_foldall",
          "ensemble_anno3",
          "ensemble_all",
          "ensemble_anno2",
          "ensemble_anno1",
          "anno2_init112233_foldall",
          "anno3_init112233_foldall",
          "anno2_init778899_foldall",
          "anno3_init445566_foldall",
          "anno1_init778899_foldall",
          "anno1_init112233_foldall",
          "anno1_init445566_foldall",
          "anno2_init445566_foldall",
          "anno3_init778899_foldall",
          "ensemble_anno1",
          "ensemble_anno2",
          "ensemble_all",
          "ensemble_anno3",
          "anno3_init445566_foldall",
          "anno2_init778899_foldall",
          "anno2_init445566_foldall",
          "anno1_init445566_foldall",
          "anno1_init112233_foldall",
          "anno3_init778899_foldall",
          "anno1_init778899_foldall",
          "anno2_init112233_foldall",
          "anno3_init112233_foldall",
          "ensemble_anno3",
          "ensemble_all",
          "ensemble_anno2",
          "ensemble_anno1",
          "anno2_init112233_foldall",
          "anno3_init112233_foldall",
          "anno2_init778899_foldall",
          "anno3_init445566_foldall",
          "anno1_init778899_foldall",
          "anno1_init112233_foldall",
          "anno1_init445566_foldall",
          "anno2_init445566_foldall",
          "anno3_init778899_foldall",
          "ensemble_anno1",
          "ensemble_all",
          "ensemble_anno2",
          "ensemble_anno3",
          "anno3_init778899_foldall",
          "anno1_init778899_foldall",
          "anno2_init778899_foldall",
          "anno1_init112233_foldall",
          "anno2_init112233_foldall",
          "anno2_init445566_foldall",
          "anno3_init445566_foldall",
          "anno3_init112233_foldall",
          "anno1_init445566_foldall",
          "ensemble_all",
          "ensemble_anno2",
          "ensemble_anno1",
          "ensemble_anno3",
          "anno2_init445566_foldall",
          "anno3_init112233_foldall",
          "anno2_init112233_foldall",
          "anno1_init778899_foldall",
          "anno3_init445566_foldall",
          "anno1_init112233_foldall",
          "anno3_init778899_foldall",
          "anno1_init445566_foldall",
          "anno2_init778899_foldall",
          "ensemble_anno3",
          "ensemble_all",
          "ensemble_anno2",
          "ensemble_anno1",
          "anno1_init445566_foldall",
          "anno2_init778899_foldall",
          "anno3_init112233_foldall",
          "anno2_init445566_foldall",
          "anno2_init112233_foldall",
          "anno1_init112233_foldall",
          "anno3_init445566_foldall",
          "anno1_init778899_foldall",
          "anno3_init778899_foldall",
          "ensemble_anno1",
          "ensemble_anno2",
          "ensemble_all",
          "ensemble_anno3",
          "anno3_init112233_foldall",
          "anno2_init445566_foldall",
          "anno1_init112233_foldall",
          "anno1_init778899_foldall",
          "anno2_init778899_foldall",
          "anno3_init445566_foldall",
          "anno1_init445566_foldall",
          "anno2_init112233_foldall",
          "anno3_init778899_foldall",
          "ensemble_anno1",
          "ensemble_anno2",
          "ensemble_all",
          "ensemble_anno3",
          "anno2_init778899_foldall",
          "anno2_init112233_foldall",
          "anno1_init112233_foldall",
          "anno1_init778899_foldall",
          "anno2_init445566_foldall",
          "anno3_init445566_foldall",
          "anno3_init778899_foldall",
          "anno1_init445566_foldall",
          "anno3_init112233_foldall",
          "ensemble_anno3",
          "ensemble_all",
          "ensemble_anno2",
          "ensemble_anno1",
          "anno2_init112233_foldall",
          "anno3_init112233_foldall",
          "anno2_init778899_foldall",
          "anno3_init445566_foldall",
          "anno1_init778899_foldall",
          "anno1_init112233_foldall",
          "anno1_init445566_foldall",
          "anno2_init445566_foldall",
          "anno3_init778899_foldall",
          "ensemble_anno3",
          "ensemble_all",
          "ensemble_anno1",
          "ensemble_anno2",
          "anno3_init445566_foldall",
          "anno2_init112233_foldall",
          "anno1_init112233_foldall",
          "anno1_init778899_foldall",
          "anno2_init445566_foldall",
          "anno3_init778899_foldall",
          "anno1_init445566_foldall",
          "anno3_init112233_foldall",
          "anno2_init778899_foldall",
          "ensemble_anno3",
          "ensemble_all",
          "ensemble_anno1",
          "ensemble_anno2",
          "anno2_init445566_foldall",
          "anno2_init778899_foldall",
          "anno2_init112233_foldall",
          "anno3_init778899_foldall",
          "anno3_init112233_foldall",
          "anno1_init445566_foldall",
          "anno1_init112233_foldall",
          "anno1_init778899_foldall",
          "anno3_init445566_foldall",
          "ensemble_anno3",
          "ensemble_all",
          "ensemble_anno2",
          "ensemble_anno1",
          "anno2_init112233_foldall",
          "anno3_init112233_foldall",
          "anno2_init778899_foldall",
          "anno3_init445566_foldall",
          "anno1_init778899_foldall",
          "anno1_init112233_foldall",
          "anno1_init445566_foldall",
          "anno2_init445566_foldall",
          "anno3_init778899_foldall",
          "ensemble_anno3",
          "ensemble_all",
          "ensemble_anno1",
          "ensemble_anno2",
          "anno3_init445566_foldall",
          "anno2_init112233_foldall",
          "anno1_init112233_foldall",
          "anno1_init778899_foldall",
          "anno2_init445566_foldall",
          "anno3_init778899_foldall",
          "anno1_init445566_foldall",
          "anno3_init112233_foldall",
          "anno2_init778899_foldall",
          "ensemble_anno3",
          "ensemble_all",
          "ensemble_anno2",
          "ensemble_anno1",
          "anno2_init112233_foldall",
          "anno3_init112233_foldall",
          "anno2_init778899_foldall",
          "anno3_init445566_foldall",
          "anno1_init778899_foldall",
          "anno1_init112233_foldall",
          "anno1_init445566_foldall",
          "anno2_init445566_foldall",
          "anno3_init778899_foldall",
          "ensemble_anno1",
          "ensemble_anno2",
          "ensemble_all",
          "ensemble_anno3",
          "anno3_init445566_foldall",
          "anno2_init778899_foldall",
          "anno2_init445566_foldall",
          "anno1_init445566_foldall",
          "anno1_init112233_foldall",
          "anno3_init778899_foldall",
          "anno1_init778899_foldall",
          "anno2_init112233_foldall",
          "anno3_init112233_foldall",
          "ensemble_anno3",
          "ensemble_all",
          "ensemble_anno1",
          "ensemble_anno2",
          "anno3_init445566_foldall",
          "anno2_init112233_foldall",
          "anno1_init112233_foldall",
          "anno1_init778899_foldall",
          "anno2_init445566_foldall",
          "anno3_init778899_foldall",
          "anno1_init445566_foldall",
          "anno3_init112233_foldall",
          "anno2_init778899_foldall",
          "ensemble_anno3",
          "ensemble_all",
          "ensemble_anno1",
          "ensemble_anno2",
          "anno3_init445566_foldall",
          "anno2_init112233_foldall",
          "anno1_init112233_foldall",
          "anno1_init778899_foldall",
          "anno2_init445566_foldall",
          "anno3_init778899_foldall",
          "anno1_init445566_foldall",
          "anno3_init112233_foldall",
          "anno2_init778899_foldall",
          "ensemble_anno3",
          "ensemble_all",
          "ensemble_anno2",
          "ensemble_anno1",
          "anno2_init112233_foldall",
          "anno3_init112233_foldall",
          "anno2_init778899_foldall",
          "anno3_init445566_foldall",
          "anno1_init778899_foldall",
          "anno1_init112233_foldall",
          "anno1_init445566_foldall",
          "anno2_init445566_foldall",
          "anno3_init778899_foldall",
          "ensemble_anno3",
          "ensemble_all",
          "ensemble_anno2",
          "ensemble_anno1",
          "anno1_init445566_foldall",
          "anno2_init778899_foldall",
          "anno3_init112233_foldall",
          "anno2_init445566_foldall",
          "anno2_init112233_foldall",
          "anno1_init112233_foldall",
          "anno3_init445566_foldall",
          "anno1_init778899_foldall",
          "anno3_init778899_foldall",
          "ensemble_all",
          "ensemble_anno3",
          "ensemble_anno1",
          "ensemble_anno2",
          "anno1_init778899_foldall",
          "anno2_init112233_foldall",
          "anno2_init445566_foldall",
          "anno3_init778899_foldall",
          "anno1_init112233_foldall",
          "anno3_init112233_foldall",
          "anno1_init445566_foldall",
          "anno2_init778899_foldall",
          "anno3_init445566_foldall",
          "ensemble_anno3",
          "ensemble_all",
          "ensemble_anno2",
          "ensemble_anno1",
          "anno2_init112233_foldall",
          "anno3_init112233_foldall",
          "anno2_init778899_foldall",
          "anno3_init445566_foldall",
          "anno1_init778899_foldall",
          "anno1_init112233_foldall",
          "anno1_init445566_foldall",
          "anno2_init445566_foldall",
          "anno3_init778899_foldall",
          "ensemble_anno1",
          "ensemble_anno2",
          "ensemble_all",
          "ensemble_anno3",
          "anno3_init445566_foldall",
          "anno2_init778899_foldall",
          "anno2_init445566_foldall",
          "anno1_init445566_foldall",
          "anno1_init112233_foldall",
          "anno3_init778899_foldall",
          "anno1_init778899_foldall",
          "anno2_init112233_foldall",
          "anno3_init112233_foldall",
          "ensemble_anno1",
          "ensemble_anno3",
          "ensemble_anno2",
          "ensemble_all",
          "anno1_init112233_foldall",
          "anno1_init778899_foldall",
          "anno1_init445566_foldall",
          "anno2_init778899_foldall",
          "anno2_init112233_foldall",
          "anno2_init445566_foldall",
          "anno3_init778899_foldall",
          "anno3_init112233_foldall",
          "anno3_init445566_foldall",
          "ensemble_anno1",
          "ensemble_anno2",
          "ensemble_all",
          "ensemble_anno3",
          "anno3_init112233_foldall",
          "anno2_init445566_foldall",
          "anno1_init112233_foldall",
          "anno1_init778899_foldall",
          "anno2_init778899_foldall",
          "anno3_init445566_foldall",
          "anno1_init445566_foldall",
          "anno2_init112233_foldall",
          "anno3_init778899_foldall",
          "ensemble_anno3",
          "ensemble_all",
          "ensemble_anno2",
          "ensemble_anno1",
          "anno3_init778899_foldall",
          "anno3_init112233_foldall",
          "anno2_init778899_foldall",
          "anno2_init445566_foldall",
          "anno1_init112233_foldall",
          "anno3_init445566_foldall",
          "anno1_init778899_foldall",
          "anno2_init112233_foldall",
          "anno1_init445566_foldall",
          "ensemble_anno3",
          "ensemble_all",
          "ensemble_anno1",
          "ensemble_anno2",
          "anno3_init445566_foldall",
          "anno2_init112233_foldall",
          "anno1_init112233_foldall",
          "anno1_init778899_foldall",
          "anno2_init445566_foldall",
          "anno3_init778899_foldall",
          "anno1_init445566_foldall",
          "anno3_init112233_foldall",
          "anno2_init778899_foldall",
          "ensemble_anno3",
          "ensemble_all",
          "ensemble_anno1",
          "ensemble_anno2",
          "anno3_init445566_foldall",
          "anno2_init112233_foldall",
          "anno1_init112233_foldall",
          "anno1_init778899_foldall",
          "anno2_init445566_foldall",
          "anno3_init778899_foldall",
          "anno1_init445566_foldall",
          "anno3_init112233_foldall",
          "anno2_init778899_foldall",
          "ensemble_anno1",
          "ensemble_anno2",
          "ensemble_all",
          "ensemble_anno3",
          "anno3_init445566_foldall",
          "anno2_init778899_foldall",
          "anno2_init445566_foldall",
          "anno1_init445566_foldall",
          "anno1_init112233_foldall",
          "anno3_init778899_foldall",
          "anno1_init778899_foldall",
          "anno2_init112233_foldall",
          "anno3_init112233_foldall",
          "ensemble_anno1",
          "ensemble_anno2",
          "ensemble_all",
          "ensemble_anno3",
          "anno3_init445566_foldall",
          "anno2_init778899_foldall",
          "anno2_init445566_foldall",
          "anno1_init445566_foldall",
          "anno1_init112233_foldall",
          "anno3_init778899_foldall",
          "anno1_init778899_foldall",
          "anno2_init112233_foldall",
          "anno3_init112233_foldall",
          "ensemble_anno3",
          "ensemble_all",
          "ensemble_anno1",
          "ensemble_anno2",
          "anno3_init445566_foldall",
          "anno2_init112233_foldall",
          "anno1_init112233_foldall",
          "anno1_init778899_foldall",
          "anno2_init445566_foldall",
          "anno3_init778899_foldall",
          "anno1_init445566_foldall",
          "anno3_init112233_foldall",
          "anno2_init778899_foldall",
          "ensemble_anno1",
          "ensemble_anno3",
          "ensemble_anno2",
          "ensemble_all",
          "anno1_init112233_foldall",
          "anno1_init778899_foldall",
          "anno1_init445566_foldall",
          "anno2_init778899_foldall",
          "anno2_init112233_foldall",
          "anno2_init445566_foldall",
          "anno3_init778899_foldall",
          "anno3_init112233_foldall",
          "anno3_init445566_foldall",
          "ensemble_anno3",
          "ensemble_all",
          "ensemble_anno1",
          "ensemble_anno2",
          "anno3_init445566_foldall",
          "anno2_init112233_foldall",
          "anno1_init112233_foldall",
          "anno1_init778899_foldall",
          "anno2_init445566_foldall",
          "anno3_init778899_foldall",
          "anno1_init445566_foldall",
          "anno3_init112233_foldall",
          "anno2_init778899_foldall",
          "ensemble_anno1",
          "ensemble_anno2",
          "ensemble_all",
          "ensemble_anno3",
          "anno2_init778899_foldall",
          "anno2_init112233_foldall",
          "anno1_init112233_foldall",
          "anno1_init778899_foldall",
          "anno2_init445566_foldall",
          "anno3_init445566_foldall",
          "anno3_init778899_foldall",
          "anno1_init445566_foldall",
          "anno3_init112233_foldall",
          "ensemble_anno3",
          "ensemble_all",
          "ensemble_anno2",
          "ensemble_anno1",
          "anno2_init112233_foldall",
          "anno3_init112233_foldall",
          "anno2_init778899_foldall",
          "anno3_init445566_foldall",
          "anno1_init778899_foldall",
          "anno1_init112233_foldall",
          "anno1_init445566_foldall",
          "anno2_init445566_foldall",
          "anno3_init778899_foldall",
          "ensemble_anno1",
          "ensemble_anno2",
          "ensemble_all",
          "ensemble_anno3",
          "anno3_init445566_foldall",
          "anno2_init778899_foldall",
          "anno2_init445566_foldall",
          "anno1_init445566_foldall",
          "anno1_init112233_foldall",
          "anno3_init778899_foldall",
          "anno1_init778899_foldall",
          "anno2_init112233_foldall",
          "anno3_init112233_foldall",
          "ensemble_anno1",
          "ensemble_all",
          "ensemble_anno2",
          "ensemble_anno3",
          "anno3_init778899_foldall",
          "anno1_init778899_foldall",
          "anno2_init778899_foldall",
          "anno1_init112233_foldall",
          "anno2_init112233_foldall",
          "anno2_init445566_foldall",
          "anno3_init445566_foldall",
          "anno3_init112233_foldall",
          "anno1_init445566_foldall",
          "anno3_init778899_foldall",
          "anno1_init112233_foldall",
          "anno2_init445566_foldall",
          "anno2_init112233_foldall",
          "anno1_init778899_foldall",
          "anno1_init445566_foldall",
          "anno3_init112233_foldall",
          "anno2_init778899_foldall",
          "anno3_init445566_foldall"
         ],
         "x0": " ",
         "xaxis": "x",
         "y": {
          "bdata": "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",
          "dtype": "f8"
         },
         "y0": " ",
         "yaxis": "y"
        }
       ],
       "layout": {
        "legend": {
         "tracegroupgap": 0
        },
        "margin": {
         "t": 60
        },
        "template": {
         "data": {
          "bar": [
           {
            "error_x": {
             "color": "#2a3f5f"
            },
            "error_y": {
             "color": "#2a3f5f"
            },
            "marker": {
             "line": {
              "color": "#E5ECF6",
              "width": 0.5
             },
             "pattern": {
              "fillmode": "overlay",
              "size": 10,
              "solidity": 0.2
             }
            },
            "type": "bar"
           }
          ],
          "barpolar": [
           {
            "marker": {
             "line": {
              "color": "#E5ECF6",
              "width": 0.5
             },
             "pattern": {
              "fillmode": "overlay",
              "size": 10,
              "solidity": 0.2
             }
            },
            "type": "barpolar"
           }
          ],
          "carpet": [
           {
            "aaxis": {
             "endlinecolor": "#2a3f5f",
             "gridcolor": "white",
             "linecolor": "white",
             "minorgridcolor": "white",
             "startlinecolor": "#2a3f5f"
            },
            "baxis": {
             "endlinecolor": "#2a3f5f",
             "gridcolor": "white",
             "linecolor": "white",
             "minorgridcolor": "white",
             "startlinecolor": "#2a3f5f"
            },
            "type": "carpet"
           }
          ],
          "choropleth": [
           {
            "colorbar": {
             "outlinewidth": 0,
             "ticks": ""
            },
            "type": "choropleth"
           }
          ],
          "contour": [
           {
            "colorbar": {
             "outlinewidth": 0,
             "ticks": ""
            },
            "colorscale": [
             [
              0,
              "#0d0887"
             ],
             [
              0.1111111111111111,
              "#46039f"
             ],
             [
              0.2222222222222222,
              "#7201a8"
             ],
             [
              0.3333333333333333,
              "#9c179e"
             ],
             [
              0.4444444444444444,
              "#bd3786"
             ],
             [
              0.5555555555555556,
              "#d8576b"
             ],
             [
              0.6666666666666666,
              "#ed7953"
             ],
             [
              0.7777777777777778,
              "#fb9f3a"
             ],
             [
              0.8888888888888888,
              "#fdca26"
             ],
             [
              1,
              "#f0f921"
             ]
            ],
            "type": "contour"
           }
          ],
          "contourcarpet": [
           {
            "colorbar": {
             "outlinewidth": 0,
             "ticks": ""
            },
            "type": "contourcarpet"
           }
          ],
          "heatmap": [
           {
            "colorbar": {
             "outlinewidth": 0,
             "ticks": ""
            },
            "colorscale": [
             [
              0,
              "#0d0887"
             ],
             [
              0.1111111111111111,
              "#46039f"
             ],
             [
              0.2222222222222222,
              "#7201a8"
             ],
             [
              0.3333333333333333,
              "#9c179e"
             ],
             [
              0.4444444444444444,
              "#bd3786"
             ],
             [
              0.5555555555555556,
              "#d8576b"
             ],
             [
              0.6666666666666666,
              "#ed7953"
             ],
             [
              0.7777777777777778,
              "#fb9f3a"
             ],
             [
              0.8888888888888888,
              "#fdca26"
             ],
             [
              1,
              "#f0f921"
             ]
            ],
            "type": "heatmap"
           }
          ],
          "histogram": [
           {
            "marker": {
             "pattern": {
              "fillmode": "overlay",
              "size": 10,
              "solidity": 0.2
             }
            },
            "type": "histogram"
           }
          ],
          "histogram2d": [
           {
            "colorbar": {
             "outlinewidth": 0,
             "ticks": ""
            },
            "colorscale": [
             [
              0,
              "#0d0887"
             ],
             [
              0.1111111111111111,
              "#46039f"
             ],
             [
              0.2222222222222222,
              "#7201a8"
             ],
             [
              0.3333333333333333,
              "#9c179e"
             ],
             [
              0.4444444444444444,
              "#bd3786"
             ],
             [
              0.5555555555555556,
              "#d8576b"
             ],
             [
              0.6666666666666666,
              "#ed7953"
             ],
             [
              0.7777777777777778,
              "#fb9f3a"
             ],
             [
              0.8888888888888888,
              "#fdca26"
             ],
             [
              1,
              "#f0f921"
             ]
            ],
            "type": "histogram2d"
           }
          ],
          "histogram2dcontour": [
           {
            "colorbar": {
             "outlinewidth": 0,
             "ticks": ""
            },
            "colorscale": [
             [
              0,
              "#0d0887"
             ],
             [
              0.1111111111111111,
              "#46039f"
             ],
             [
              0.2222222222222222,
              "#7201a8"
             ],
             [
              0.3333333333333333,
              "#9c179e"
             ],
             [
              0.4444444444444444,
              "#bd3786"
             ],
             [
              0.5555555555555556,
              "#d8576b"
             ],
             [
              0.6666666666666666,
              "#ed7953"
             ],
             [
              0.7777777777777778,
              "#fb9f3a"
             ],
             [
              0.8888888888888888,
              "#fdca26"
             ],
             [
              1,
              "#f0f921"
             ]
            ],
            "type": "histogram2dcontour"
           }
          ],
          "mesh3d": [
           {
            "colorbar": {
             "outlinewidth": 0,
             "ticks": ""
            },
            "type": "mesh3d"
           }
          ],
          "parcoords": [
           {
            "line": {
             "colorbar": {
              "outlinewidth": 0,
              "ticks": ""
             }
            },
            "type": "parcoords"
           }
          ],
          "pie": [
           {
            "automargin": true,
            "type": "pie"
           }
          ],
          "scatter": [
           {
            "fillpattern": {
             "fillmode": "overlay",
             "size": 10,
             "solidity": 0.2
            },
            "type": "scatter"
           }
          ],
          "scatter3d": [
           {
            "line": {
             "colorbar": {
              "outlinewidth": 0,
              "ticks": ""
             }
            },
            "marker": {
             "colorbar": {
              "outlinewidth": 0,
              "ticks": ""
             }
            },
            "type": "scatter3d"
           }
          ],
          "scattercarpet": [
           {
            "marker": {
             "colorbar": {
              "outlinewidth": 0,
              "ticks": ""
             }
            },
            "type": "scattercarpet"
           }
          ],
          "scattergeo": [
           {
            "marker": {
             "colorbar": {
              "outlinewidth": 0,
              "ticks": ""
             }
            },
            "type": "scattergeo"
           }
          ],
          "scattergl": [
           {
            "marker": {
             "colorbar": {
              "outlinewidth": 0,
              "ticks": ""
             }
            },
            "type": "scattergl"
           }
          ],
          "scattermap": [
           {
            "marker": {
             "colorbar": {
              "outlinewidth": 0,
              "ticks": ""
             }
            },
            "type": "scattermap"
           }
          ],
          "scattermapbox": [
           {
            "marker": {
             "colorbar": {
              "outlinewidth": 0,
              "ticks": ""
             }
            },
            "type": "scattermapbox"
           }
          ],
          "scatterpolar": [
           {
            "marker": {
             "colorbar": {
              "outlinewidth": 0,
              "ticks": ""
             }
            },
            "type": "scatterpolar"
           }
          ],
          "scatterpolargl": [
           {
            "marker": {
             "colorbar": {
              "outlinewidth": 0,
              "ticks": ""
             }
            },
            "type": "scatterpolargl"
           }
          ],
          "scatterternary": [
           {
            "marker": {
             "colorbar": {
              "outlinewidth": 0,
              "ticks": ""
             }
            },
            "type": "scatterternary"
           }
          ],
          "surface": [
           {
            "colorbar": {
             "outlinewidth": 0,
             "ticks": ""
            },
            "colorscale": [
             [
              0,
              "#0d0887"
             ],
             [
              0.1111111111111111,
              "#46039f"
             ],
             [
              0.2222222222222222,
              "#7201a8"
             ],
             [
              0.3333333333333333,
              "#9c179e"
             ],
             [
              0.4444444444444444,
              "#bd3786"
             ],
             [
              0.5555555555555556,
              "#d8576b"
             ],
             [
              0.6666666666666666,
              "#ed7953"
             ],
             [
              0.7777777777777778,
              "#fb9f3a"
             ],
             [
              0.8888888888888888,
              "#fdca26"
             ],
             [
              1,
              "#f0f921"
             ]
            ],
            "type": "surface"
           }
          ],
          "table": [
           {
            "cells": {
             "fill": {
              "color": "#EBF0F8"
             },
             "line": {
              "color": "white"
             }
            },
            "header": {
             "fill": {
              "color": "#C8D4E3"
             },
             "line": {
              "color": "white"
             }
            },
            "type": "table"
           }
          ]
         },
         "layout": {
          "annotationdefaults": {
           "arrowcolor": "#2a3f5f",
           "arrowhead": 0,
           "arrowwidth": 1
          },
          "autotypenumbers": "strict",
          "coloraxis": {
           "colorbar": {
            "outlinewidth": 0,
            "ticks": ""
           }
          },
          "colorscale": {
           "diverging": [
            [
             0,
             "#8e0152"
            ],
            [
             0.1,
             "#c51b7d"
            ],
            [
             0.2,
             "#de77ae"
            ],
            [
             0.3,
             "#f1b6da"
            ],
            [
             0.4,
             "#fde0ef"
            ],
            [
             0.5,
             "#f7f7f7"
            ],
            [
             0.6,
             "#e6f5d0"
            ],
            [
             0.7,
             "#b8e186"
            ],
            [
             0.8,
             "#7fbc41"
            ],
            [
             0.9,
             "#4d9221"
            ],
            [
             1,
             "#276419"
            ]
           ],
           "sequential": [
            [
             0,
             "#0d0887"
            ],
            [
             0.1111111111111111,
             "#46039f"
            ],
            [
             0.2222222222222222,
             "#7201a8"
            ],
            [
             0.3333333333333333,
             "#9c179e"
            ],
            [
             0.4444444444444444,
             "#bd3786"
            ],
            [
             0.5555555555555556,
             "#d8576b"
            ],
            [
             0.6666666666666666,
             "#ed7953"
            ],
            [
             0.7777777777777778,
             "#fb9f3a"
            ],
            [
             0.8888888888888888,
             "#fdca26"
            ],
            [
             1,
             "#f0f921"
            ]
           ],
           "sequentialminus": [
            [
             0,
             "#0d0887"
            ],
            [
             0.1111111111111111,
             "#46039f"
            ],
            [
             0.2222222222222222,
             "#7201a8"
            ],
            [
             0.3333333333333333,
             "#9c179e"
            ],
            [
             0.4444444444444444,
             "#bd3786"
            ],
            [
             0.5555555555555556,
             "#d8576b"
            ],
            [
             0.6666666666666666,
             "#ed7953"
            ],
            [
             0.7777777777777778,
             "#fb9f3a"
            ],
            [
             0.8888888888888888,
             "#fdca26"
            ],
            [
             1,
             "#f0f921"
            ]
           ]
          },
          "colorway": [
           "#636efa",
           "#EF553B",
           "#00cc96",
           "#ab63fa",
           "#FFA15A",
           "#19d3f3",
           "#FF6692",
           "#B6E880",
           "#FF97FF",
           "#FECB52"
          ],
          "font": {
           "color": "#2a3f5f"
          },
          "geo": {
           "bgcolor": "white",
           "lakecolor": "white",
           "landcolor": "#E5ECF6",
           "showlakes": true,
           "showland": true,
           "subunitcolor": "white"
          },
          "hoverlabel": {
           "align": "left"
          },
          "hovermode": "closest",
          "mapbox": {
           "style": "light"
          },
          "paper_bgcolor": "white",
          "plot_bgcolor": "#E5ECF6",
          "polar": {
           "angularaxis": {
            "gridcolor": "white",
            "linecolor": "white",
            "ticks": ""
           },
           "bgcolor": "#E5ECF6",
           "radialaxis": {
            "gridcolor": "white",
            "linecolor": "white",
            "ticks": ""
           }
          },
          "scene": {
           "xaxis": {
            "backgroundcolor": "#E5ECF6",
            "gridcolor": "white",
            "gridwidth": 2,
            "linecolor": "white",
            "showbackground": true,
            "ticks": "",
            "zerolinecolor": "white"
           },
           "yaxis": {
            "backgroundcolor": "#E5ECF6",
            "gridcolor": "white",
            "gridwidth": 2,
            "linecolor": "white",
            "showbackground": true,
            "ticks": "",
            "zerolinecolor": "white"
           },
           "zaxis": {
            "backgroundcolor": "#E5ECF6",
            "gridcolor": "white",
            "gridwidth": 2,
            "linecolor": "white",
            "showbackground": true,
            "ticks": "",
            "zerolinecolor": "white"
           }
          },
          "shapedefaults": {
           "line": {
            "color": "#2a3f5f"
           }
          },
          "ternary": {
           "aaxis": {
            "gridcolor": "white",
            "linecolor": "white",
            "ticks": ""
           },
           "baxis": {
            "gridcolor": "white",
            "linecolor": "white",
            "ticks": ""
           },
           "bgcolor": "#E5ECF6",
           "caxis": {
            "gridcolor": "white",
            "linecolor": "white",
            "ticks": ""
           }
          },
          "title": {
           "x": 0.05
          },
          "xaxis": {
           "automargin": true,
           "gridcolor": "white",
           "linecolor": "white",
           "ticks": "",
           "title": {
            "standoff": 15
           },
           "zerolinecolor": "white",
           "zerolinewidth": 2
          },
          "yaxis": {
           "automargin": true,
           "gridcolor": "white",
           "linecolor": "white",
           "ticks": "",
           "title": {
            "standoff": 15
           },
           "zerolinecolor": "white",
           "zerolinewidth": 2
          }
         }
        },
        "violinmode": "group",
        "xaxis": {
         "anchor": "y",
         "categoryarray": [
          "anno2_init445566_foldall",
          "anno2_init112233_foldall",
          "ensemble_anno2",
          "anno3_init445566_foldall",
          "ensemble_all",
          "anno1_init112233_foldall",
          "anno1_init778899_foldall",
          "ensemble_anno1",
          "anno3_init778899_foldall",
          "anno1_init445566_foldall",
          "ensemble_anno3",
          "anno2_init778899_foldall",
          "anno3_init112233_foldall"
         ],
         "categoryorder": "array",
         "domain": [
          0,
          1
         ],
         "title": {
          "text": "Model"
         }
        },
        "yaxis": {
         "anchor": "x",
         "domain": [
          0,
          1
         ],
         "title": {
          "text": "DICE_panc"
         }
        }
       }
      },
      "image/png": "[encoded data removed]"
     },
     "metadata": {},
     "output_type": "display_data"
    }
   ],
   "source": [
    "ordered_ct = df.groupby(\"CT\")[\"DICE_panc\"].mean().sort_values(ascending=False).index\n",
    "\n",
    "fig = px.violin(df, \n",
    "                x=\"CT\", \n",
    "                y=\"DICE_panc\", \n",
    "                category_orders={\"CT\": ordered_ct},  # tri personnalisé\n",
    "                box=True,\n",
    "               )\n",
    "\n",
    "fig.update_layout(xaxis_title=\"Model\",\n",
    "                  yaxis_title=\"DICE_panc\")\n",
    "fig.show()"
   ]
  },
  {
   "cell_type": "code",
   "execution_count": 34,
   "id": "98908b15-9629-481f-8bfa-cf6b52d6faa8",
   "metadata": {},
   "outputs": [
    {
     "data": {
      "application/vnd.plotly.v1+json": {
       "config": {
        "plotlyServerURL": "https://plot.ly"
       },
       "data": [
        {
         "alignmentgroup": "True",
         "box": {
          "visible": true
         },
         "hovertemplate": "Group=Ensemble Anno<br>CT=%{x}<br>DICE_panc=%{y}<extra></extra>",
         "legendgroup": "Ensemble Anno",
         "marker": {
          "color": "#636efa"
         },
         "name": "Ensemble Anno",
         "offsetgroup": "Ensemble Anno",
         "orientation": "v",
         "points": "all",
         "scalegroup": "True",
         "showlegend": true,
         "type": "violin",
         "x": [
          "ensemble_anno3",
          "ensemble_anno1",
          "ensemble_anno2",
          "ensemble_anno3",
          "ensemble_anno1",
          "ensemble_anno2",
          "ensemble_anno3",
          "ensemble_anno2",
          "ensemble_anno1",
          "ensemble_anno3",
          "ensemble_anno1",
          "ensemble_anno2",
          "ensemble_anno1",
          "ensemble_anno3",
          "ensemble_anno2",
          "ensemble_anno3",
          "ensemble_anno1",
          "ensemble_anno2",
          "ensemble_anno3",
          "ensemble_anno2",
          "ensemble_anno1",
          "ensemble_anno3",
          "ensemble_anno2",
          "ensemble_anno1",
          "ensemble_anno1",
          "ensemble_anno2",
          "ensemble_anno3",
          "ensemble_anno3",
          "ensemble_anno2",
          "ensemble_anno1",
          "ensemble_anno1",
          "ensemble_anno2",
          "ensemble_anno3",
          "ensemble_anno2",
          "ensemble_anno1",
          "ensemble_anno3",
          "ensemble_anno3",
          "ensemble_anno2",
          "ensemble_anno1",
          "ensemble_anno1",
          "ensemble_anno2",
          "ensemble_anno3",
          "ensemble_anno1",
          "ensemble_anno2",
          "ensemble_anno3",
          "ensemble_anno3",
          "ensemble_anno2",
          "ensemble_anno1",
          "ensemble_anno3",
          "ensemble_anno1",
          "ensemble_anno2",
          "ensemble_anno3",
          "ensemble_anno1",
          "ensemble_anno2",
          "ensemble_anno3",
          "ensemble_anno2",
          "ensemble_anno1",
          "ensemble_anno3",
          "ensemble_anno1",
          "ensemble_anno2",
          "ensemble_anno3",
          "ensemble_anno2",
          "ensemble_anno1",
          "ensemble_anno1",
          "ensemble_anno2",
          "ensemble_anno3",
          "ensemble_anno3",
          "ensemble_anno1",
          "ensemble_anno2",
          "ensemble_anno3",
          "ensemble_anno1",
          "ensemble_anno2",
          "ensemble_anno3",
          "ensemble_anno2",
          "ensemble_anno1",
          "ensemble_anno3",
          "ensemble_anno2",
          "ensemble_anno1",
          "ensemble_anno3",
          "ensemble_anno1",
          "ensemble_anno2",
          "ensemble_anno3",
          "ensemble_anno2",
          "ensemble_anno1",
          "ensemble_anno1",
          "ensemble_anno2",
          "ensemble_anno3",
          "ensemble_anno1",
          "ensemble_anno3",
          "ensemble_anno2",
          "ensemble_anno1",
          "ensemble_anno2",
          "ensemble_anno3",
          "ensemble_anno3",
          "ensemble_anno2",
          "ensemble_anno1",
          "ensemble_anno3",
          "ensemble_anno1",
          "ensemble_anno2",
          "ensemble_anno3",
          "ensemble_anno1",
          "ensemble_anno2",
          "ensemble_anno1",
          "ensemble_anno2",
          "ensemble_anno3",
          "ensemble_anno1",
          "ensemble_anno2",
          "ensemble_anno3",
          "ensemble_anno3",
          "ensemble_anno1",
          "ensemble_anno2",
          "ensemble_anno1",
          "ensemble_anno3",
          "ensemble_anno2",
          "ensemble_anno3",
          "ensemble_anno1",
          "ensemble_anno2",
          "ensemble_anno1",
          "ensemble_anno2",
          "ensemble_anno3",
          "ensemble_anno3",
          "ensemble_anno2",
          "ensemble_anno1",
          "ensemble_anno1",
          "ensemble_anno2",
          "ensemble_anno3",
          "ensemble_anno1",
          "ensemble_anno2",
          "ensemble_anno3"
         ],
         "x0": " ",
         "xaxis": "x",
         "y": {
          "bdata": "AAAAIHgk6z8AAAAAuQPsPwAAAEDTNO4/AAAAgFAc5D8AAABAVJ/lPwAAACALu+M/AAAAQHlf6z8AAABAwOXtPwAAAOCgs+w/AAAAINKG5T8AAAAAPJrhPwAAAIBVcug/AAAAAJ0a6j8AAACgvwnpPwAAACAtG+o/AAAAwGvf7D8AAACAVIvsPwAAAOB2V+0/AQAA4KCQ7j8BAAAAraDuPwAAAEBOx+4/AAAAgNlh7D////+fQOLtPwAAAEBhfOw/AAAAABxD6z8AAABAYgHsPwAAAIAVaus/AAAAQDyR4j8AAACAhG/kPwAAAOAfM+M/AAAAgBeE6z8AAACgt6PuPwAAAIAe+es/////v95l7z8BAABAKeruP////78Tzu4/AAAAILo55z8AAABAxVHqPwAAAECYZeo/AAAAoJ566T8AAABA5v7oPwAAAEA8/+c/AAAAIO+l6D8AAADgPZvqPwAAAIDEquk/AAAAwKsI7D8AAACAmaPsPwAAAOBtyeo/AAAAoI+u7D////8fbS7tPwAAAEDOw+w/AAAAoODh7D8AAABAnI3tPwAAAGAf1u0/AAAAAOv15T8AAAAgoTHmPwAAAED8tOY/AAAA4FdS7D////9/hxPtPwAAACBSLe0/AAAAwOU+5z8AAAAArPrnPwAAAGCdmug/AAAAwO1o7j/////fFYzuPwAAAACFbu4/AAAAwMLt6j8AAAAA5uvqPwAAACAUu+k/AAAAIIzR7j8BAACgFFfuPwAAAOD9Xu4//////x3a7j8BAADAQ5nuP////58PF+8/AAAAoNuc4j8AAADAusnjPwAAAMBIm+A/AAAAIFgV7D8AAADgekPrP////19EDO0/AAAAABaM6z8AAABgWHntPwEAAADWTO0/AAAAIL1V4T8AAACgHarkPwAAAGCeBeI/AAAAAAAAAAAAAAAAAAAAAAAAAAAAAAAAAAAAYOTv7D8BAABgLw/uPwAAACAKVuw/////H2ev7j8AAAAgjWPuP////19vTu4/AAAAgGeb7j//////lXPuPwEAAMDNmu4/AQAAgHpj7T8AAABAFq3tP////1+wTu0/////3wka7j8AAADAPZLuPwAAAIDeUu4/AAAA4DQM7j8AAADA6OvtP////58DaO4/AAAAwAw+5T8AAABAqOblPwAAAKAtUuY/AQAAwMfX7T8BAAAgZq7tP////5+Xze0/////f75r7T8BAACAxf/sPwAAAGDd1+0/AAAA4DFm0T////8f2/3NP/7//x//os8/AAAAoOJd7j8BAADAVZnuP////39z8O4/AAAAoOx15T8AAADgZG3mPwAAACDeMeQ/AAAA4Mxw6z8AAABAk9/sPwAAAMDyIuo/",
          "dtype": "f8"
         },
         "y0": " ",
         "yaxis": "y"
        },
        {
         "alignmentgroup": "True",
         "box": {
          "visible": true
         },
         "hovertemplate": "Group=Ensemble All<br>CT=%{x}<br>DICE_panc=%{y}<extra></extra>",
         "legendgroup": "Ensemble All",
         "marker": {
          "color": "#EF553B"
         },
         "name": "Ensemble All",
         "offsetgroup": "Ensemble All",
         "orientation": "v",
         "points": "all",
         "scalegroup": "True",
         "showlegend": true,
         "type": "violin",
         "x": [
          "ensemble_all",
          "ensemble_all",
          "ensemble_all",
          "ensemble_all",
          "ensemble_all",
          "ensemble_all",
          "ensemble_all",
          "ensemble_all",
          "ensemble_all",
          "ensemble_all",
          "ensemble_all",
          "ensemble_all",
          "ensemble_all",
          "ensemble_all",
          "ensemble_all",
          "ensemble_all",
          "ensemble_all",
          "ensemble_all",
          "ensemble_all",
          "ensemble_all",
          "ensemble_all",
          "ensemble_all",
          "ensemble_all",
          "ensemble_all",
          "ensemble_all",
          "ensemble_all",
          "ensemble_all",
          "ensemble_all",
          "ensemble_all",
          "ensemble_all",
          "ensemble_all",
          "ensemble_all",
          "ensemble_all",
          "ensemble_all",
          "ensemble_all",
          "ensemble_all",
          "ensemble_all",
          "ensemble_all",
          "ensemble_all",
          "ensemble_all",
          "ensemble_all",
          "ensemble_all",
          "ensemble_all"
         ],
         "x0": " ",
         "xaxis": "x",
         "y": {
          "bdata": "AAAAYGCv7D8AAAAgLLHkPwAAAIA3wOw/AAAAYCHM5T8AAACAPtzpPwAAAGBpCe0/AAAAAEzl7j////8f9RXtPwAAAEBzsus/AAAAAAf34z8AAABA3b7sP////x8yCO8/AAAA4PxT6T8AAADAkpnoPwAAAIAhs+k/AAAAoOrh6z////+/BwjtPwAAACDK5O0/AAAAoENS5j8AAACgOAPtPwAAAEArIOg/AAAA4Oia7j8AAADg557qPwAAAIBgsO4/AAAAwHQO7z8AAAAA6VriPwAAAIAkWew/AQAAwFfx7D8AAABAA/7iPwAAAAAAAAAAAQAAQPQx7T8AAABg34/uPwAAAMDyuO4/////v8S67T8AAABAj37uPwAAACC+TO4/AAAAQAf35T8AAADAr/ztPwEAAIDNeu0/AAAAwLMe0D8AAAAgR7ruPwAAACD3f+U/AAAAQLWT6z8=",
          "dtype": "f8"
         },
         "y0": " ",
         "yaxis": "y"
        },
        {
         "alignmentgroup": "True",
         "box": {
          "visible": true
         },
         "hovertemplate": "Group=Indiv Init<br>CT=%{x}<br>DICE_panc=%{y}<extra></extra>",
         "legendgroup": "Indiv Init",
         "marker": {
          "color": "#00cc96"
         },
         "name": "Indiv Init",
         "offsetgroup": "Indiv Init",
         "orientation": "v",
         "points": "all",
         "scalegroup": "True",
         "showlegend": true,
         "type": "violin",
         "x": [
          "anno3_init445566_foldall",
          "anno2_init112233_foldall",
          "anno1_init112233_foldall",
          "anno1_init778899_foldall",
          "anno2_init445566_foldall",
          "anno3_init778899_foldall",
          "anno1_init445566_foldall",
          "anno3_init112233_foldall",
          "anno2_init778899_foldall",
          "anno3_init445566_foldall",
          "anno2_init112233_foldall",
          "anno1_init112233_foldall",
          "anno1_init778899_foldall",
          "anno2_init445566_foldall",
          "anno3_init778899_foldall",
          "anno1_init445566_foldall",
          "anno3_init112233_foldall",
          "anno2_init778899_foldall",
          "anno1_init112233_foldall",
          "anno2_init445566_foldall",
          "anno3_init778899_foldall",
          "anno1_init778899_foldall",
          "anno3_init112233_foldall",
          "anno2_init778899_foldall",
          "anno3_init445566_foldall",
          "anno1_init445566_foldall",
          "anno2_init112233_foldall",
          "anno3_init445566_foldall",
          "anno2_init112233_foldall",
          "anno1_init112233_foldall",
          "anno1_init778899_foldall",
          "anno2_init445566_foldall",
          "anno3_init778899_foldall",
          "anno1_init445566_foldall",
          "anno3_init112233_foldall",
          "anno2_init778899_foldall",
          "anno1_init112233_foldall",
          "anno1_init778899_foldall",
          "anno1_init445566_foldall",
          "anno2_init778899_foldall",
          "anno2_init112233_foldall",
          "anno2_init445566_foldall",
          "anno3_init778899_foldall",
          "anno3_init112233_foldall",
          "anno3_init445566_foldall",
          "anno3_init445566_foldall",
          "anno2_init112233_foldall",
          "anno1_init112233_foldall",
          "anno1_init778899_foldall",
          "anno2_init445566_foldall",
          "anno3_init778899_foldall",
          "anno1_init445566_foldall",
          "anno3_init112233_foldall",
          "anno2_init778899_foldall",
          "anno3_init778899_foldall",
          "anno3_init112233_foldall",
          "anno2_init778899_foldall",
          "anno2_init445566_foldall",
          "anno1_init112233_foldall",
          "anno3_init445566_foldall",
          "anno1_init778899_foldall",
          "anno2_init112233_foldall",
          "anno1_init445566_foldall",
          "anno2_init112233_foldall",
          "anno3_init112233_foldall",
          "anno2_init778899_foldall",
          "anno3_init445566_foldall",
          "anno1_init778899_foldall",
          "anno1_init112233_foldall",
          "anno1_init445566_foldall",
          "anno2_init445566_foldall",
          "anno3_init778899_foldall",
          "anno3_init445566_foldall",
          "anno2_init778899_foldall",
          "anno2_init445566_foldall",
          "anno1_init445566_foldall",
          "anno1_init112233_foldall",
          "anno3_init778899_foldall",
          "anno1_init778899_foldall",
          "anno2_init112233_foldall",
          "anno3_init112233_foldall",
          "anno2_init112233_foldall",
          "anno3_init112233_foldall",
          "anno2_init778899_foldall",
          "anno3_init445566_foldall",
          "anno1_init778899_foldall",
          "anno1_init112233_foldall",
          "anno1_init445566_foldall",
          "anno2_init445566_foldall",
          "anno3_init778899_foldall",
          "anno3_init778899_foldall",
          "anno1_init778899_foldall",
          "anno2_init778899_foldall",
          "anno1_init112233_foldall",
          "anno2_init112233_foldall",
          "anno2_init445566_foldall",
          "anno3_init445566_foldall",
          "anno3_init112233_foldall",
          "anno1_init445566_foldall",
          "anno2_init445566_foldall",
          "anno3_init112233_foldall",
          "anno2_init112233_foldall",
          "anno1_init778899_foldall",
          "anno3_init445566_foldall",
          "anno1_init112233_foldall",
          "anno3_init778899_foldall",
          "anno1_init445566_foldall",
          "anno2_init778899_foldall",
          "anno1_init445566_foldall",
          "anno2_init778899_foldall",
          "anno3_init112233_foldall",
          "anno2_init445566_foldall",
          "anno2_init112233_foldall",
          "anno1_init112233_foldall",
          "anno3_init445566_foldall",
          "anno1_init778899_foldall",
          "anno3_init778899_foldall",
          "anno3_init112233_foldall",
          "anno2_init445566_foldall",
          "anno1_init112233_foldall",
          "anno1_init778899_foldall",
          "anno2_init778899_foldall",
          "anno3_init445566_foldall",
          "anno1_init445566_foldall",
          "anno2_init112233_foldall",
          "anno3_init778899_foldall",
          "anno2_init778899_foldall",
          "anno2_init112233_foldall",
          "anno1_init112233_foldall",
          "anno1_init778899_foldall",
          "anno2_init445566_foldall",
          "anno3_init445566_foldall",
          "anno3_init778899_foldall",
          "anno1_init445566_foldall",
          "anno3_init112233_foldall",
          "anno2_init112233_foldall",
          "anno3_init112233_foldall",
          "anno2_init778899_foldall",
          "anno3_init445566_foldall",
          "anno1_init778899_foldall",
          "anno1_init112233_foldall",
          "anno1_init445566_foldall",
          "anno2_init445566_foldall",
          "anno3_init778899_foldall",
          "anno3_init445566_foldall",
          "anno2_init112233_foldall",
          "anno1_init112233_foldall",
          "anno1_init778899_foldall",
          "anno2_init445566_foldall",
          "anno3_init778899_foldall",
          "anno1_init445566_foldall",
          "anno3_init112233_foldall",
          "anno2_init778899_foldall",
          "anno2_init445566_foldall",
          "anno2_init778899_foldall",
          "anno2_init112233_foldall",
          "anno3_init778899_foldall",
          "anno3_init112233_foldall",
          "anno1_init445566_foldall",
          "anno1_init112233_foldall",
          "anno1_init778899_foldall",
          "anno3_init445566_foldall",
          "anno2_init112233_foldall",
          "anno3_init112233_foldall",
          "anno2_init778899_foldall",
          "anno3_init445566_foldall",
          "anno1_init778899_foldall",
          "anno1_init112233_foldall",
          "anno1_init445566_foldall",
          "anno2_init445566_foldall",
          "anno3_init778899_foldall",
          "anno3_init445566_foldall",
          "anno2_init112233_foldall",
          "anno1_init112233_foldall",
          "anno1_init778899_foldall",
          "anno2_init445566_foldall",
          "anno3_init778899_foldall",
          "anno1_init445566_foldall",
          "anno3_init112233_foldall",
          "anno2_init778899_foldall",
          "anno2_init112233_foldall",
          "anno3_init112233_foldall",
          "anno2_init778899_foldall",
          "anno3_init445566_foldall",
          "anno1_init778899_foldall",
          "anno1_init112233_foldall",
          "anno1_init445566_foldall",
          "anno2_init445566_foldall",
          "anno3_init778899_foldall",
          "anno3_init445566_foldall",
          "anno2_init778899_foldall",
          "anno2_init445566_foldall",
          "anno1_init445566_foldall",
          "anno1_init112233_foldall",
          "anno3_init778899_foldall",
          "anno1_init778899_foldall",
          "anno2_init112233_foldall",
          "anno3_init112233_foldall",
          "anno3_init445566_foldall",
          "anno2_init112233_foldall",
          "anno1_init112233_foldall",
          "anno1_init778899_foldall",
          "anno2_init445566_foldall",
          "anno3_init778899_foldall",
          "anno1_init445566_foldall",
          "anno3_init112233_foldall",
          "anno2_init778899_foldall",
          "anno3_init445566_foldall",
          "anno2_init112233_foldall",
          "anno1_init112233_foldall",
          "anno1_init778899_foldall",
          "anno2_init445566_foldall",
          "anno3_init778899_foldall",
          "anno1_init445566_foldall",
          "anno3_init112233_foldall",
          "anno2_init778899_foldall",
          "anno2_init112233_foldall",
          "anno3_init112233_foldall",
          "anno2_init778899_foldall",
          "anno3_init445566_foldall",
          "anno1_init778899_foldall",
          "anno1_init112233_foldall",
          "anno1_init445566_foldall",
          "anno2_init445566_foldall",
          "anno3_init778899_foldall",
          "anno1_init445566_foldall",
          "anno2_init778899_foldall",
          "anno3_init112233_foldall",
          "anno2_init445566_foldall",
          "anno2_init112233_foldall",
          "anno1_init112233_foldall",
          "anno3_init445566_foldall",
          "anno1_init778899_foldall",
          "anno3_init778899_foldall",
          "anno1_init778899_foldall",
          "anno2_init112233_foldall",
          "anno2_init445566_foldall",
          "anno3_init778899_foldall",
          "anno1_init112233_foldall",
          "anno3_init112233_foldall",
          "anno1_init445566_foldall",
          "anno2_init778899_foldall",
          "anno3_init445566_foldall",
          "anno2_init112233_foldall",
          "anno3_init112233_foldall",
          "anno2_init778899_foldall",
          "anno3_init445566_foldall",
          "anno1_init778899_foldall",
          "anno1_init112233_foldall",
          "anno1_init445566_foldall",
          "anno2_init445566_foldall",
          "anno3_init778899_foldall",
          "anno3_init445566_foldall",
          "anno2_init778899_foldall",
          "anno2_init445566_foldall",
          "anno1_init445566_foldall",
          "anno1_init112233_foldall",
          "anno3_init778899_foldall",
          "anno1_init778899_foldall",
          "anno2_init112233_foldall",
          "anno3_init112233_foldall",
          "anno1_init112233_foldall",
          "anno1_init778899_foldall",
          "anno1_init445566_foldall",
          "anno2_init778899_foldall",
          "anno2_init112233_foldall",
          "anno2_init445566_foldall",
          "anno3_init778899_foldall",
          "anno3_init112233_foldall",
          "anno3_init445566_foldall",
          "anno3_init112233_foldall",
          "anno2_init445566_foldall",
          "anno1_init112233_foldall",
          "anno1_init778899_foldall",
          "anno2_init778899_foldall",
          "anno3_init445566_foldall",
          "anno1_init445566_foldall",
          "anno2_init112233_foldall",
          "anno3_init778899_foldall",
          "anno3_init778899_foldall",
          "anno3_init112233_foldall",
          "anno2_init778899_foldall",
          "anno2_init445566_foldall",
          "anno1_init112233_foldall",
          "anno3_init445566_foldall",
          "anno1_init778899_foldall",
          "anno2_init112233_foldall",
          "anno1_init445566_foldall",
          "anno3_init445566_foldall",
          "anno2_init112233_foldall",
          "anno1_init112233_foldall",
          "anno1_init778899_foldall",
          "anno2_init445566_foldall",
          "anno3_init778899_foldall",
          "anno1_init445566_foldall",
          "anno3_init112233_foldall",
          "anno2_init778899_foldall",
          "anno3_init445566_foldall",
          "anno2_init112233_foldall",
          "anno1_init112233_foldall",
          "anno1_init778899_foldall",
          "anno2_init445566_foldall",
          "anno3_init778899_foldall",
          "anno1_init445566_foldall",
          "anno3_init112233_foldall",
          "anno2_init778899_foldall",
          "anno3_init445566_foldall",
          "anno2_init778899_foldall",
          "anno2_init445566_foldall",
          "anno1_init445566_foldall",
          "anno1_init112233_foldall",
          "anno3_init778899_foldall",
          "anno1_init778899_foldall",
          "anno2_init112233_foldall",
          "anno3_init112233_foldall",
          "anno3_init445566_foldall",
          "anno2_init778899_foldall",
          "anno2_init445566_foldall",
          "anno1_init445566_foldall",
          "anno1_init112233_foldall",
          "anno3_init778899_foldall",
          "anno1_init778899_foldall",
          "anno2_init112233_foldall",
          "anno3_init112233_foldall",
          "anno3_init445566_foldall",
          "anno2_init112233_foldall",
          "anno1_init112233_foldall",
          "anno1_init778899_foldall",
          "anno2_init445566_foldall",
          "anno3_init778899_foldall",
          "anno1_init445566_foldall",
          "anno3_init112233_foldall",
          "anno2_init778899_foldall",
          "anno1_init112233_foldall",
          "anno1_init778899_foldall",
          "anno1_init445566_foldall",
          "anno2_init778899_foldall",
          "anno2_init112233_foldall",
          "anno2_init445566_foldall",
          "anno3_init778899_foldall",
          "anno3_init112233_foldall",
          "anno3_init445566_foldall",
          "anno3_init445566_foldall",
          "anno2_init112233_foldall",
          "anno1_init112233_foldall",
          "anno1_init778899_foldall",
          "anno2_init445566_foldall",
          "anno3_init778899_foldall",
          "anno1_init445566_foldall",
          "anno3_init112233_foldall",
          "anno2_init778899_foldall",
          "anno2_init778899_foldall",
          "anno2_init112233_foldall",
          "anno1_init112233_foldall",
          "anno1_init778899_foldall",
          "anno2_init445566_foldall",
          "anno3_init445566_foldall",
          "anno3_init778899_foldall",
          "anno1_init445566_foldall",
          "anno3_init112233_foldall",
          "anno2_init112233_foldall",
          "anno3_init112233_foldall",
          "anno2_init778899_foldall",
          "anno3_init445566_foldall",
          "anno1_init778899_foldall",
          "anno1_init112233_foldall",
          "anno1_init445566_foldall",
          "anno2_init445566_foldall",
          "anno3_init778899_foldall",
          "anno3_init445566_foldall",
          "anno2_init778899_foldall",
          "anno2_init445566_foldall",
          "anno1_init445566_foldall",
          "anno1_init112233_foldall",
          "anno3_init778899_foldall",
          "anno1_init778899_foldall",
          "anno2_init112233_foldall",
          "anno3_init112233_foldall",
          "anno3_init778899_foldall",
          "anno1_init778899_foldall",
          "anno2_init778899_foldall",
          "anno1_init112233_foldall",
          "anno2_init112233_foldall",
          "anno2_init445566_foldall",
          "anno3_init445566_foldall",
          "anno3_init112233_foldall",
          "anno1_init445566_foldall",
          "anno3_init778899_foldall",
          "anno1_init112233_foldall",
          "anno2_init445566_foldall",
          "anno2_init112233_foldall",
          "anno1_init778899_foldall",
          "anno1_init445566_foldall",
          "anno3_init112233_foldall",
          "anno2_init778899_foldall",
          "anno3_init445566_foldall"
         ],
         "x0": " ",
         "xaxis": "x",
         "y": {
          "bdata": "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",
          "dtype": "f8"
         },
         "y0": " ",
         "yaxis": "y"
        }
       ],
       "layout": {
        "legend": {
         "title": {
          "text": "Group"
         },
         "tracegroupgap": 0
        },
        "margin": {
         "t": 60
        },
        "template": {
         "data": {
          "bar": [
           {
            "error_x": {
             "color": "#2a3f5f"
            },
            "error_y": {
             "color": "#2a3f5f"
            },
            "marker": {
             "line": {
              "color": "#E5ECF6",
              "width": 0.5
             },
             "pattern": {
              "fillmode": "overlay",
              "size": 10,
              "solidity": 0.2
             }
            },
            "type": "bar"
           }
          ],
          "barpolar": [
           {
            "marker": {
             "line": {
              "color": "#E5ECF6",
              "width": 0.5
             },
             "pattern": {
              "fillmode": "overlay",
              "size": 10,
              "solidity": 0.2
             }
            },
            "type": "barpolar"
           }
          ],
          "carpet": [
           {
            "aaxis": {
             "endlinecolor": "#2a3f5f",
             "gridcolor": "white",
             "linecolor": "white",
             "minorgridcolor": "white",
             "startlinecolor": "#2a3f5f"
            },
            "baxis": {
             "endlinecolor": "#2a3f5f",
             "gridcolor": "white",
             "linecolor": "white",
             "minorgridcolor": "white",
             "startlinecolor": "#2a3f5f"
            },
            "type": "carpet"
           }
          ],
          "choropleth": [
           {
            "colorbar": {
             "outlinewidth": 0,
             "ticks": ""
            },
            "type": "choropleth"
           }
          ],
          "contour": [
           {
            "colorbar": {
             "outlinewidth": 0,
             "ticks": ""
            },
            "colorscale": [
             [
              0,
              "#0d0887"
             ],
             [
              0.1111111111111111,
              "#46039f"
             ],
             [
              0.2222222222222222,
              "#7201a8"
             ],
             [
              0.3333333333333333,
              "#9c179e"
             ],
             [
              0.4444444444444444,
              "#bd3786"
             ],
             [
              0.5555555555555556,
              "#d8576b"
             ],
             [
              0.6666666666666666,
              "#ed7953"
             ],
             [
              0.7777777777777778,
              "#fb9f3a"
             ],
             [
              0.8888888888888888,
              "#fdca26"
             ],
             [
              1,
              "#f0f921"
             ]
            ],
            "type": "contour"
           }
          ],
          "contourcarpet": [
           {
            "colorbar": {
             "outlinewidth": 0,
             "ticks": ""
            },
            "type": "contourcarpet"
           }
          ],
          "heatmap": [
           {
            "colorbar": {
             "outlinewidth": 0,
             "ticks": ""
            },
            "colorscale": [
             [
              0,
              "#0d0887"
             ],
             [
              0.1111111111111111,
              "#46039f"
             ],
             [
              0.2222222222222222,
              "#7201a8"
             ],
             [
              0.3333333333333333,
              "#9c179e"
             ],
             [
              0.4444444444444444,
              "#bd3786"
             ],
             [
              0.5555555555555556,
              "#d8576b"
             ],
             [
              0.6666666666666666,
              "#ed7953"
             ],
             [
              0.7777777777777778,
              "#fb9f3a"
             ],
             [
              0.8888888888888888,
              "#fdca26"
             ],
             [
              1,
              "#f0f921"
             ]
            ],
            "type": "heatmap"
           }
          ],
          "histogram": [
           {
            "marker": {
             "pattern": {
              "fillmode": "overlay",
              "size": 10,
              "solidity": 0.2
             }
            },
            "type": "histogram"
           }
          ],
          "histogram2d": [
           {
            "colorbar": {
             "outlinewidth": 0,
             "ticks": ""
            },
            "colorscale": [
             [
              0,
              "#0d0887"
             ],
             [
              0.1111111111111111,
              "#46039f"
             ],
             [
              0.2222222222222222,
              "#7201a8"
             ],
             [
              0.3333333333333333,
              "#9c179e"
             ],
             [
              0.4444444444444444,
              "#bd3786"
             ],
             [
              0.5555555555555556,
              "#d8576b"
             ],
             [
              0.6666666666666666,
              "#ed7953"
             ],
             [
              0.7777777777777778,
              "#fb9f3a"
             ],
             [
              0.8888888888888888,
              "#fdca26"
             ],
             [
              1,
              "#f0f921"
             ]
            ],
            "type": "histogram2d"
           }
          ],
          "histogram2dcontour": [
           {
            "colorbar": {
             "outlinewidth": 0,
             "ticks": ""
            },
            "colorscale": [
             [
              0,
              "#0d0887"
             ],
             [
              0.1111111111111111,
              "#46039f"
             ],
             [
              0.2222222222222222,
              "#7201a8"
             ],
             [
              0.3333333333333333,
              "#9c179e"
             ],
             [
              0.4444444444444444,
              "#bd3786"
             ],
             [
              0.5555555555555556,
              "#d8576b"
             ],
             [
              0.6666666666666666,
              "#ed7953"
             ],
             [
              0.7777777777777778,
              "#fb9f3a"
             ],
             [
              0.8888888888888888,
              "#fdca26"
             ],
             [
              1,
              "#f0f921"
             ]
            ],
            "type": "histogram2dcontour"
           }
          ],
          "mesh3d": [
           {
            "colorbar": {
             "outlinewidth": 0,
             "ticks": ""
            },
            "type": "mesh3d"
           }
          ],
          "parcoords": [
           {
            "line": {
             "colorbar": {
              "outlinewidth": 0,
              "ticks": ""
             }
            },
            "type": "parcoords"
           }
          ],
          "pie": [
           {
            "automargin": true,
            "type": "pie"
           }
          ],
          "scatter": [
           {
            "fillpattern": {
             "fillmode": "overlay",
             "size": 10,
             "solidity": 0.2
            },
            "type": "scatter"
           }
          ],
          "scatter3d": [
           {
            "line": {
             "colorbar": {
              "outlinewidth": 0,
              "ticks": ""
             }
            },
            "marker": {
             "colorbar": {
              "outlinewidth": 0,
              "ticks": ""
             }
            },
            "type": "scatter3d"
           }
          ],
          "scattercarpet": [
           {
            "marker": {
             "colorbar": {
              "outlinewidth": 0,
              "ticks": ""
             }
            },
            "type": "scattercarpet"
           }
          ],
          "scattergeo": [
           {
            "marker": {
             "colorbar": {
              "outlinewidth": 0,
              "ticks": ""
             }
            },
            "type": "scattergeo"
           }
          ],
          "scattergl": [
           {
            "marker": {
             "colorbar": {
              "outlinewidth": 0,
              "ticks": ""
             }
            },
            "type": "scattergl"
           }
          ],
          "scattermap": [
           {
            "marker": {
             "colorbar": {
              "outlinewidth": 0,
              "ticks": ""
             }
            },
            "type": "scattermap"
           }
          ],
          "scattermapbox": [
           {
            "marker": {
             "colorbar": {
              "outlinewidth": 0,
              "ticks": ""
             }
            },
            "type": "scattermapbox"
           }
          ],
          "scatterpolar": [
           {
            "marker": {
             "colorbar": {
              "outlinewidth": 0,
              "ticks": ""
             }
            },
            "type": "scatterpolar"
           }
          ],
          "scatterpolargl": [
           {
            "marker": {
             "colorbar": {
              "outlinewidth": 0,
              "ticks": ""
             }
            },
            "type": "scatterpolargl"
           }
          ],
          "scatterternary": [
           {
            "marker": {
             "colorbar": {
              "outlinewidth": 0,
              "ticks": ""
             }
            },
            "type": "scatterternary"
           }
          ],
          "surface": [
           {
            "colorbar": {
             "outlinewidth": 0,
             "ticks": ""
            },
            "colorscale": [
             [
              0,
              "#0d0887"
             ],
             [
              0.1111111111111111,
              "#46039f"
             ],
             [
              0.2222222222222222,
              "#7201a8"
             ],
             [
              0.3333333333333333,
              "#9c179e"
             ],
             [
              0.4444444444444444,
              "#bd3786"
             ],
             [
              0.5555555555555556,
              "#d8576b"
             ],
             [
              0.6666666666666666,
              "#ed7953"
             ],
             [
              0.7777777777777778,
              "#fb9f3a"
             ],
             [
              0.8888888888888888,
              "#fdca26"
             ],
             [
              1,
              "#f0f921"
             ]
            ],
            "type": "surface"
           }
          ],
          "table": [
           {
            "cells": {
             "fill": {
              "color": "#EBF0F8"
             },
             "line": {
              "color": "white"
             }
            },
            "header": {
             "fill": {
              "color": "#C8D4E3"
             },
             "line": {
              "color": "white"
             }
            },
            "type": "table"
           }
          ]
         },
         "layout": {
          "annotationdefaults": {
           "arrowcolor": "#2a3f5f",
           "arrowhead": 0,
           "arrowwidth": 1
          },
          "autotypenumbers": "strict",
          "coloraxis": {
           "colorbar": {
            "outlinewidth": 0,
            "ticks": ""
           }
          },
          "colorscale": {
           "diverging": [
            [
             0,
             "#8e0152"
            ],
            [
             0.1,
             "#c51b7d"
            ],
            [
             0.2,
             "#de77ae"
            ],
            [
             0.3,
             "#f1b6da"
            ],
            [
             0.4,
             "#fde0ef"
            ],
            [
             0.5,
             "#f7f7f7"
            ],
            [
             0.6,
             "#e6f5d0"
            ],
            [
             0.7,
             "#b8e186"
            ],
            [
             0.8,
             "#7fbc41"
            ],
            [
             0.9,
             "#4d9221"
            ],
            [
             1,
             "#276419"
            ]
           ],
           "sequential": [
            [
             0,
             "#0d0887"
            ],
            [
             0.1111111111111111,
             "#46039f"
            ],
            [
             0.2222222222222222,
             "#7201a8"
            ],
            [
             0.3333333333333333,
             "#9c179e"
            ],
            [
             0.4444444444444444,
             "#bd3786"
            ],
            [
             0.5555555555555556,
             "#d8576b"
            ],
            [
             0.6666666666666666,
             "#ed7953"
            ],
            [
             0.7777777777777778,
             "#fb9f3a"
            ],
            [
             0.8888888888888888,
             "#fdca26"
            ],
            [
             1,
             "#f0f921"
            ]
           ],
           "sequentialminus": [
            [
             0,
             "#0d0887"
            ],
            [
             0.1111111111111111,
             "#46039f"
            ],
            [
             0.2222222222222222,
             "#7201a8"
            ],
            [
             0.3333333333333333,
             "#9c179e"
            ],
            [
             0.4444444444444444,
             "#bd3786"
            ],
            [
             0.5555555555555556,
             "#d8576b"
            ],
            [
             0.6666666666666666,
             "#ed7953"
            ],
            [
             0.7777777777777778,
             "#fb9f3a"
            ],
            [
             0.8888888888888888,
             "#fdca26"
            ],
            [
             1,
             "#f0f921"
            ]
           ]
          },
          "colorway": [
           "#636efa",
           "#EF553B",
           "#00cc96",
           "#ab63fa",
           "#FFA15A",
           "#19d3f3",
           "#FF6692",
           "#B6E880",
           "#FF97FF",
           "#FECB52"
          ],
          "font": {
           "color": "#2a3f5f"
          },
          "geo": {
           "bgcolor": "white",
           "lakecolor": "white",
           "landcolor": "#E5ECF6",
           "showlakes": true,
           "showland": true,
           "subunitcolor": "white"
          },
          "hoverlabel": {
           "align": "left"
          },
          "hovermode": "closest",
          "mapbox": {
           "style": "light"
          },
          "paper_bgcolor": "white",
          "plot_bgcolor": "#E5ECF6",
          "polar": {
           "angularaxis": {
            "gridcolor": "white",
            "linecolor": "white",
            "ticks": ""
           },
           "bgcolor": "#E5ECF6",
           "radialaxis": {
            "gridcolor": "white",
            "linecolor": "white",
            "ticks": ""
           }
          },
          "scene": {
           "xaxis": {
            "backgroundcolor": "#E5ECF6",
            "gridcolor": "white",
            "gridwidth": 2,
            "linecolor": "white",
            "showbackground": true,
            "ticks": "",
            "zerolinecolor": "white"
           },
           "yaxis": {
            "backgroundcolor": "#E5ECF6",
            "gridcolor": "white",
            "gridwidth": 2,
            "linecolor": "white",
            "showbackground": true,
            "ticks": "",
            "zerolinecolor": "white"
           },
           "zaxis": {
            "backgroundcolor": "#E5ECF6",
            "gridcolor": "white",
            "gridwidth": 2,
            "linecolor": "white",
            "showbackground": true,
            "ticks": "",
            "zerolinecolor": "white"
           }
          },
          "shapedefaults": {
           "line": {
            "color": "#2a3f5f"
           }
          },
          "ternary": {
           "aaxis": {
            "gridcolor": "white",
            "linecolor": "white",
            "ticks": ""
           },
           "baxis": {
            "gridcolor": "white",
            "linecolor": "white",
            "ticks": ""
           },
           "bgcolor": "#E5ECF6",
           "caxis": {
            "gridcolor": "white",
            "linecolor": "white",
            "ticks": ""
           }
          },
          "title": {
           "x": 0.05
          },
          "xaxis": {
           "automargin": true,
           "gridcolor": "white",
           "linecolor": "white",
           "ticks": "",
           "title": {
            "standoff": 15
           },
           "zerolinecolor": "white",
           "zerolinewidth": 2
          },
          "yaxis": {
           "automargin": true,
           "gridcolor": "white",
           "linecolor": "white",
           "ticks": "",
           "title": {
            "standoff": 15
           },
           "zerolinecolor": "white",
           "zerolinewidth": 2
          }
         }
        },
        "title": {
         "text": "DICE_panc by Individual (Grouped and Sorted)"
        },
        "violinmode": "group",
        "xaxis": {
         "anchor": "y",
         "categoryarray": [
          "ensemble_all",
          "ensemble_anno2",
          "ensemble_anno1",
          "ensemble_anno3",
          "anno2_init445566_foldall",
          "anno2_init112233_foldall",
          "anno3_init445566_foldall",
          "anno1_init112233_foldall",
          "anno1_init778899_foldall",
          "anno3_init778899_foldall",
          "anno1_init445566_foldall",
          "anno2_init778899_foldall",
          "anno3_init112233_foldall"
         ],
         "categoryorder": "array",
         "domain": [
          0,
          1
         ],
         "title": {
          "text": "Individual (CT)"
         }
        },
        "yaxis": {
         "anchor": "x",
         "domain": [
          0,
          1
         ],
         "title": {
          "text": "DICE_panc"
         }
        }
       }
      },
      "image/png": "[encoded data removed]"
     },
     "metadata": {},
     "output_type": "display_data"
    }
   ],
   "source": [
    "import pandas as pd\n",
    "import plotly.express as px\n",
    "\n",
    "# Créer une copie de df pour ne pas modifier l'original\n",
    "df_plot = df.copy()\n",
    "\n",
    "# Définir les groupes\n",
    "def assign_group(ct):\n",
    "    if ct == 'ensemble_all':\n",
    "        return 'Ensemble All'\n",
    "    elif ct.startswith('ensemble_anno'):\n",
    "        return 'Ensemble Anno'\n",
    "    else:\n",
    "        return 'Indiv Init'\n",
    "\n",
    "# Ajouter la colonne Group\n",
    "df_plot[\"Group\"] = df_plot[\"CT\"].apply(assign_group)\n",
    "\n",
    "# Trier les CT par groupe puis par moyenne DICE_panc\n",
    "ordered_ct = (\n",
    "    df_plot.groupby([\"Group\", \"CT\"])[\"DICE_panc\"]\n",
    "    .mean()\n",
    "    .reset_index()\n",
    "    .sort_values(by=[\"Group\", \"DICE_panc\"], ascending=[True, False])\n",
    ")[\"CT\"].tolist()\n",
    "\n",
    "# Tracer le graphique\n",
    "fig = px.violin(df_plot, \n",
    "                x=\"CT\", \n",
    "                y=\"DICE_panc\", \n",
    "                color=\"Group\", \n",
    "                category_orders={\"CT\": ordered_ct},\n",
    "                box=True, \n",
    "                points=\"all\"\n",
    "               )\n",
    "\n",
    "fig.update_layout(title=\"DICE_panc by Individual (Grouped and Sorted)\",\n",
    "                  xaxis_title=\"Individual (CT)\",\n",
    "                  yaxis_title=\"DICE_panc\")\n",
    "fig.show()\n"
   ]
  },
  {
   "cell_type": "code",
   "execution_count": 58,
   "id": "808179b8-e794-4eff-9fc0-96f23be1a069",
   "metadata": {},
   "outputs": [
    {
     "data": {
      "application/vnd.plotly.v1+json": {
       "config": {
        "plotlyServerURL": "https://plot.ly"
       },
       "data": [
        {
         "alignmentgroup": "True",
         "box": {
          "visible": true
         },
         "hovertemplate": "Group=%{x}<br>ECE_1=%{y}<extra></extra>",
         "legendgroup": "Indiv Init",
         "marker": {
          "color": "#636efa"
         },
         "name": "Indiv Init",
         "offsetgroup": "Indiv Init",
         "orientation": "v",
         "points": "all",
         "scalegroup": "True",
         "showlegend": true,
         "type": "violin",
         "x": [
          "Indiv Init",
          "Indiv Init",
          "Indiv Init",
          "Indiv Init",
          "Indiv Init",
          "Indiv Init",
          "Indiv Init",
          "Indiv Init",
          "Indiv Init",
          "Indiv Init",
          "Indiv Init",
          "Indiv Init",
          "Indiv Init",
          "Indiv Init",
          "Indiv Init",
          "Indiv Init",
          "Indiv Init",
          "Indiv Init",
          "Indiv Init",
          "Indiv Init",
          "Indiv Init",
          "Indiv Init",
          "Indiv Init",
          "Indiv Init",
          "Indiv Init",
          "Indiv Init",
          "Indiv Init",
          "Indiv Init",
          "Indiv Init",
          "Indiv Init",
          "Indiv Init",
          "Indiv Init",
          "Indiv Init",
          "Indiv Init",
          "Indiv Init",
          "Indiv Init",
          "Indiv Init",
          "Indiv Init",
          "Indiv Init",
          "Indiv Init",
          "Indiv Init",
          "Indiv Init",
          "Indiv Init",
          "Indiv Init",
          "Indiv Init",
          "Indiv Init",
          "Indiv Init",
          "Indiv Init",
          "Indiv Init",
          "Indiv Init",
          "Indiv Init",
          "Indiv Init",
          "Indiv Init",
          "Indiv Init",
          "Indiv Init",
          "Indiv Init",
          "Indiv Init",
          "Indiv Init",
          "Indiv Init",
          "Indiv Init",
          "Indiv Init",
          "Indiv Init",
          "Indiv Init",
          "Indiv Init",
          "Indiv Init",
          "Indiv Init",
          "Indiv Init",
          "Indiv Init",
          "Indiv Init",
          "Indiv Init",
          "Indiv Init",
          "Indiv Init",
          "Indiv Init",
          "Indiv Init",
          "Indiv Init",
          "Indiv Init",
          "Indiv Init",
          "Indiv Init",
          "Indiv Init",
          "Indiv Init",
          "Indiv Init",
          "Indiv Init",
          "Indiv Init",
          "Indiv Init",
          "Indiv Init",
          "Indiv Init",
          "Indiv Init",
          "Indiv Init",
          "Indiv Init",
          "Indiv Init",
          "Indiv Init",
          "Indiv Init",
          "Indiv Init",
          "Indiv Init",
          "Indiv Init",
          "Indiv Init",
          "Indiv Init",
          "Indiv Init",
          "Indiv Init",
          "Indiv Init",
          "Indiv Init",
          "Indiv Init",
          "Indiv Init",
          "Indiv Init",
          "Indiv Init",
          "Indiv Init",
          "Indiv Init",
          "Indiv Init",
          "Indiv Init",
          "Indiv Init",
          "Indiv Init",
          "Indiv Init",
          "Indiv Init",
          "Indiv Init",
          "Indiv Init",
          "Indiv Init",
          "Indiv Init",
          "Indiv Init",
          "Indiv Init",
          "Indiv Init",
          "Indiv Init",
          "Indiv Init",
          "Indiv Init",
          "Indiv Init",
          "Indiv Init",
          "Indiv Init",
          "Indiv Init",
          "Indiv Init",
          "Indiv Init",
          "Indiv Init",
          "Indiv Init",
          "Indiv Init",
          "Indiv Init",
          "Indiv Init",
          "Indiv Init",
          "Indiv Init",
          "Indiv Init",
          "Indiv Init",
          "Indiv Init",
          "Indiv Init",
          "Indiv Init",
          "Indiv Init",
          "Indiv Init",
          "Indiv Init",
          "Indiv Init",
          "Indiv Init",
          "Indiv Init",
          "Indiv Init",
          "Indiv Init",
          "Indiv Init",
          "Indiv Init",
          "Indiv Init",
          "Indiv Init",
          "Indiv Init",
          "Indiv Init",
          "Indiv Init",
          "Indiv Init",
          "Indiv Init",
          "Indiv Init",
          "Indiv Init",
          "Indiv Init",
          "Indiv Init",
          "Indiv Init",
          "Indiv Init",
          "Indiv Init",
          "Indiv Init",
          "Indiv Init",
          "Indiv Init",
          "Indiv Init",
          "Indiv Init",
          "Indiv Init",
          "Indiv Init",
          "Indiv Init",
          "Indiv Init",
          "Indiv Init",
          "Indiv Init",
          "Indiv Init",
          "Indiv Init",
          "Indiv Init",
          "Indiv Init",
          "Indiv Init",
          "Indiv Init",
          "Indiv Init",
          "Indiv Init",
          "Indiv Init",
          "Indiv Init",
          "Indiv Init",
          "Indiv Init",
          "Indiv Init",
          "Indiv Init",
          "Indiv Init",
          "Indiv Init",
          "Indiv Init",
          "Indiv Init",
          "Indiv Init",
          "Indiv Init",
          "Indiv Init",
          "Indiv Init",
          "Indiv Init",
          "Indiv Init",
          "Indiv Init",
          "Indiv Init",
          "Indiv Init",
          "Indiv Init",
          "Indiv Init",
          "Indiv Init",
          "Indiv Init",
          "Indiv Init",
          "Indiv Init",
          "Indiv Init",
          "Indiv Init",
          "Indiv Init",
          "Indiv Init",
          "Indiv Init",
          "Indiv Init",
          "Indiv Init",
          "Indiv Init",
          "Indiv Init",
          "Indiv Init",
          "Indiv Init",
          "Indiv Init",
          "Indiv Init",
          "Indiv Init",
          "Indiv Init",
          "Indiv Init",
          "Indiv Init",
          "Indiv Init",
          "Indiv Init",
          "Indiv Init",
          "Indiv Init",
          "Indiv Init",
          "Indiv Init",
          "Indiv Init",
          "Indiv Init",
          "Indiv Init",
          "Indiv Init",
          "Indiv Init",
          "Indiv Init",
          "Indiv Init",
          "Indiv Init",
          "Indiv Init",
          "Indiv Init",
          "Indiv Init",
          "Indiv Init",
          "Indiv Init",
          "Indiv Init",
          "Indiv Init",
          "Indiv Init",
          "Indiv Init",
          "Indiv Init",
          "Indiv Init",
          "Indiv Init",
          "Indiv Init",
          "Indiv Init",
          "Indiv Init",
          "Indiv Init",
          "Indiv Init",
          "Indiv Init",
          "Indiv Init",
          "Indiv Init",
          "Indiv Init",
          "Indiv Init",
          "Indiv Init",
          "Indiv Init",
          "Indiv Init",
          "Indiv Init",
          "Indiv Init",
          "Indiv Init",
          "Indiv Init",
          "Indiv Init",
          "Indiv Init",
          "Indiv Init",
          "Indiv Init",
          "Indiv Init",
          "Indiv Init",
          "Indiv Init",
          "Indiv Init",
          "Indiv Init",
          "Indiv Init",
          "Indiv Init",
          "Indiv Init",
          "Indiv Init",
          "Indiv Init",
          "Indiv Init",
          "Indiv Init",
          "Indiv Init",
          "Indiv Init",
          "Indiv Init",
          "Indiv Init",
          "Indiv Init",
          "Indiv Init",
          "Indiv Init",
          "Indiv Init",
          "Indiv Init",
          "Indiv Init",
          "Indiv Init",
          "Indiv Init",
          "Indiv Init",
          "Indiv Init",
          "Indiv Init",
          "Indiv Init",
          "Indiv Init",
          "Indiv Init",
          "Indiv Init",
          "Indiv Init",
          "Indiv Init",
          "Indiv Init",
          "Indiv Init",
          "Indiv Init",
          "Indiv Init",
          "Indiv Init",
          "Indiv Init",
          "Indiv Init",
          "Indiv Init",
          "Indiv Init",
          "Indiv Init",
          "Indiv Init",
          "Indiv Init",
          "Indiv Init",
          "Indiv Init",
          "Indiv Init",
          "Indiv Init",
          "Indiv Init",
          "Indiv Init",
          "Indiv Init",
          "Indiv Init",
          "Indiv Init",
          "Indiv Init",
          "Indiv Init",
          "Indiv Init",
          "Indiv Init",
          "Indiv Init",
          "Indiv Init",
          "Indiv Init",
          "Indiv Init",
          "Indiv Init",
          "Indiv Init",
          "Indiv Init",
          "Indiv Init",
          "Indiv Init",
          "Indiv Init",
          "Indiv Init",
          "Indiv Init",
          "Indiv Init",
          "Indiv Init",
          "Indiv Init",
          "Indiv Init",
          "Indiv Init",
          "Indiv Init",
          "Indiv Init",
          "Indiv Init",
          "Indiv Init",
          "Indiv Init",
          "Indiv Init",
          "Indiv Init",
          "Indiv Init",
          "Indiv Init",
          "Indiv Init",
          "Indiv Init",
          "Indiv Init",
          "Indiv Init",
          "Indiv Init",
          "Indiv Init",
          "Indiv Init",
          "Indiv Init",
          "Indiv Init",
          "Indiv Init",
          "Indiv Init",
          "Indiv Init",
          "Indiv Init",
          "Indiv Init",
          "Indiv Init",
          "Indiv Init",
          "Indiv Init",
          "Indiv Init",
          "Indiv Init",
          "Indiv Init",
          "Indiv Init",
          "Indiv Init",
          "Indiv Init",
          "Indiv Init",
          "Indiv Init",
          "Indiv Init",
          "Indiv Init",
          "Indiv Init",
          "Indiv Init",
          "Indiv Init",
          "Indiv Init",
          "Indiv Init",
          "Indiv Init",
          "Indiv Init",
          "Indiv Init",
          "Indiv Init",
          "Indiv Init",
          "Indiv Init",
          "Indiv Init"
         ],
         "x0": " ",
         "xaxis": "x",
         "y": {
          "bdata": "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",
          "dtype": "f8"
         },
         "y0": " ",
         "yaxis": "y"
        },
        {
         "alignmentgroup": "True",
         "box": {
          "visible": true
         },
         "hovertemplate": "Group=%{x}<br>ECE_1=%{y}<extra></extra>",
         "legendgroup": "Ensemble Anno",
         "marker": {
          "color": "#EF553B"
         },
         "name": "Ensemble Anno",
         "offsetgroup": "Ensemble Anno",
         "orientation": "v",
         "points": "all",
         "scalegroup": "True",
         "showlegend": true,
         "type": "violin",
         "x": [
          "Ensemble Anno",
          "Ensemble Anno",
          "Ensemble Anno",
          "Ensemble Anno",
          "Ensemble Anno",
          "Ensemble Anno",
          "Ensemble Anno",
          "Ensemble Anno",
          "Ensemble Anno",
          "Ensemble Anno",
          "Ensemble Anno",
          "Ensemble Anno",
          "Ensemble Anno",
          "Ensemble Anno",
          "Ensemble Anno",
          "Ensemble Anno",
          "Ensemble Anno",
          "Ensemble Anno",
          "Ensemble Anno",
          "Ensemble Anno",
          "Ensemble Anno",
          "Ensemble Anno",
          "Ensemble Anno",
          "Ensemble Anno",
          "Ensemble Anno",
          "Ensemble Anno",
          "Ensemble Anno",
          "Ensemble Anno",
          "Ensemble Anno",
          "Ensemble Anno",
          "Ensemble Anno",
          "Ensemble Anno",
          "Ensemble Anno",
          "Ensemble Anno",
          "Ensemble Anno",
          "Ensemble Anno",
          "Ensemble Anno",
          "Ensemble Anno",
          "Ensemble Anno",
          "Ensemble Anno",
          "Ensemble Anno",
          "Ensemble Anno",
          "Ensemble Anno",
          "Ensemble Anno",
          "Ensemble Anno",
          "Ensemble Anno",
          "Ensemble Anno",
          "Ensemble Anno",
          "Ensemble Anno",
          "Ensemble Anno",
          "Ensemble Anno",
          "Ensemble Anno",
          "Ensemble Anno",
          "Ensemble Anno",
          "Ensemble Anno",
          "Ensemble Anno",
          "Ensemble Anno",
          "Ensemble Anno",
          "Ensemble Anno",
          "Ensemble Anno",
          "Ensemble Anno",
          "Ensemble Anno",
          "Ensemble Anno",
          "Ensemble Anno",
          "Ensemble Anno",
          "Ensemble Anno",
          "Ensemble Anno",
          "Ensemble Anno",
          "Ensemble Anno",
          "Ensemble Anno",
          "Ensemble Anno",
          "Ensemble Anno",
          "Ensemble Anno",
          "Ensemble Anno",
          "Ensemble Anno",
          "Ensemble Anno",
          "Ensemble Anno",
          "Ensemble Anno",
          "Ensemble Anno",
          "Ensemble Anno",
          "Ensemble Anno",
          "Ensemble Anno",
          "Ensemble Anno",
          "Ensemble Anno",
          "Ensemble Anno",
          "Ensemble Anno",
          "Ensemble Anno",
          "Ensemble Anno",
          "Ensemble Anno",
          "Ensemble Anno",
          "Ensemble Anno",
          "Ensemble Anno",
          "Ensemble Anno",
          "Ensemble Anno",
          "Ensemble Anno",
          "Ensemble Anno",
          "Ensemble Anno",
          "Ensemble Anno",
          "Ensemble Anno",
          "Ensemble Anno",
          "Ensemble Anno",
          "Ensemble Anno",
          "Ensemble Anno",
          "Ensemble Anno",
          "Ensemble Anno",
          "Ensemble Anno",
          "Ensemble Anno",
          "Ensemble Anno",
          "Ensemble Anno",
          "Ensemble Anno",
          "Ensemble Anno",
          "Ensemble Anno",
          "Ensemble Anno",
          "Ensemble Anno",
          "Ensemble Anno",
          "Ensemble Anno",
          "Ensemble Anno",
          "Ensemble Anno",
          "Ensemble Anno",
          "Ensemble Anno",
          "Ensemble Anno",
          "Ensemble Anno",
          "Ensemble Anno",
          "Ensemble Anno",
          "Ensemble Anno",
          "Ensemble Anno",
          "Ensemble Anno",
          "Ensemble Anno",
          "Ensemble Anno"
         ],
         "x0": " ",
         "xaxis": "x",
         "y": {
          "bdata": "Iv//n6uzWz9R////iAplP7z//58mbWg/yP//P1LgaT9///+/CCBqP+H//9/RpnE/Qf//vyYQaT8o//9/DCllP/j//x8Y+WE/3P//v/u/YT/D//+fKi1gPzP//5/lX2E/h///H0IzbD8i///ftxpnP5P//58Dem0/v///fxyYYT+Y////4eZiP+D//3+ELWM/j///X1brcz+3//8/aRhmP3b//x+2cmE/ev7/v8bzVj+G/v+/sExcP6X9//+rvk8/C///X01bXz+J///fd5xiP3P//9+Xh1U/8P//XxOdeT/1//9fGj55P/j//99IUXY/6v//HxxcYD90//8/rbJdP7T+/z8wnk0/ZP7/P7ZqWT9d////FbxgP+n8/1/sfko/4P//v1sHcj/v///fpIGHP5X///9R42I/j///v+TUYz/v//+f/ltvP07//9/wsmk/0f//v/3RcT8n///fD9BlP4H+/9+ZyVs/vP7/nySwWj+G//8/PTRkP8L///9Wzmg/xf//P3HYVD8r//8/mMdiPy///x8Q01c/uf//vxBqcD8g//+/NJhkP6n//795NnI/Gv//HzmwUj8x//8/QpFhP7v//x+YYV0/mf7/H5e5WD8p///fVUFlP5T//z+e2mQ/Q/7/f6+hXD/E//9/sQxlP5///7+Y32Y/W///n35wYD+Z//+f/jdxPzb//18cmWs/UP//n9kYXD/7//8/ShdgP0r//3+pe2U/Wv//PySEZj+Z////P95dP0n//39TZm0/xP//Hw8+cT/g//8fvYVzP7P//9815mU/6P//f61GSz8w//+/hgpWP+3+/7/O5VY/kf//v2NkZD+1//9/S4VwP8///7818Gw/bv7/X5/lWj8q//8fCYJhP+///98KA10/iv//vwq/aD/1////k6ZtPyz//78mk2o/tf7//2GmXD9r//8ff5ZYP9P//9+x4GA/NP//f957Zz+7//+fNhFuP0n//39HI2s/x///354NYz+8///fnO5oP9b//7+3D2E/sv//P27qYD/U////YG5fP0D//z+87WQ/Rf//H0nuUz/g//+fmGRdP2v//19CO2I/bP//v8CwZT/w//+/WHRyP6b//z+UVW4/pv///zJJWT+z//8fyG5iP5z+/9/VVF4/yf//X3MqZz8j//+/nwJtP+///383aGI/V/7/H8+QVD/+/////k9gP0T//180XWM/+v//Hx3qZz8l//9/N+RhP6P//9+ecm4/pP//P58YfD+X//9fGtt+P/r//9/TA5A/x///X/hLcz9S//9/gbBlP1r//78sbmQ/Jv//f1C6YD+R//8/hBRTP8T8/78k6Es/XP//P9SvWT/0/v9/RP5eP6L+/38651Y/",
          "dtype": "f8"
         },
         "y0": " ",
         "yaxis": "y"
        },
        {
         "alignmentgroup": "True",
         "box": {
          "visible": true
         },
         "hovertemplate": "Group=%{x}<br>ECE_1=%{y}<extra></extra>",
         "legendgroup": "Ensemble All",
         "marker": {
          "color": "#00cc96"
         },
         "name": "Ensemble All",
         "offsetgroup": "Ensemble All",
         "orientation": "v",
         "points": "all",
         "scalegroup": "True",
         "showlegend": true,
         "type": "violin",
         "x": [
          "Ensemble All",
          "Ensemble All",
          "Ensemble All",
          "Ensemble All",
          "Ensemble All",
          "Ensemble All",
          "Ensemble All",
          "Ensemble All",
          "Ensemble All",
          "Ensemble All",
          "Ensemble All",
          "Ensemble All",
          "Ensemble All",
          "Ensemble All",
          "Ensemble All",
          "Ensemble All",
          "Ensemble All",
          "Ensemble All",
          "Ensemble All",
          "Ensemble All",
          "Ensemble All",
          "Ensemble All",
          "Ensemble All",
          "Ensemble All",
          "Ensemble All",
          "Ensemble All",
          "Ensemble All",
          "Ensemble All",
          "Ensemble All",
          "Ensemble All",
          "Ensemble All",
          "Ensemble All",
          "Ensemble All",
          "Ensemble All",
          "Ensemble All",
          "Ensemble All",
          "Ensemble All",
          "Ensemble All",
          "Ensemble All",
          "Ensemble All",
          "Ensemble All",
          "Ensemble All",
          "Ensemble All"
         ],
         "x0": " ",
         "xaxis": "x",
         "y": {
          "bdata": "1P7/n9iZRz9V//9fj0FpP2v////s/2I/Ff//35cUVT9O/v9fTOVdPy///58kYFI/Uf7/X5fnXz8S/v9/PvxKP0T//z9lJ1E/Uv//f8pybD/c/v8f1Z9PP8D+/z+AME8/zf//f4Ffcj/g////LiBlP5f//5/tU2A/1///P4/9XT/6//+/UZFLP+X//38Nv2g/mf7//1VnVD8B//8/qQFcP6D+/98IkVw/vP//36BPZT9x/v//KjJYP8L//39CAWE/s///n6Odaz84/v8fwgFIP17//19D7WM/B///X9l+Sz97//+f7fdlP9X//z+W71M/W///X/yrZj+9/v+f/GVdP+v+/z83iFs/D///n2clUj9N////ls5nP4v//z+NZ1Y/0P//v6fMUD+p/v8fMg5VPyL///+OMmM/wf//ny3ucD9o//9/OKtjP2D9/98GXUE/m/z/X3+eRT8=",
          "dtype": "f8"
         },
         "y0": " ",
         "yaxis": "y"
        }
       ],
       "layout": {
        "legend": {
         "title": {
          "text": "Group"
         },
         "tracegroupgap": 0
        },
        "margin": {
         "t": 60
        },
        "template": {
         "data": {
          "bar": [
           {
            "error_x": {
             "color": "#2a3f5f"
            },
            "error_y": {
             "color": "#2a3f5f"
            },
            "marker": {
             "line": {
              "color": "#E5ECF6",
              "width": 0.5
             },
             "pattern": {
              "fillmode": "overlay",
              "size": 10,
              "solidity": 0.2
             }
            },
            "type": "bar"
           }
          ],
          "barpolar": [
           {
            "marker": {
             "line": {
              "color": "#E5ECF6",
              "width": 0.5
             },
             "pattern": {
              "fillmode": "overlay",
              "size": 10,
              "solidity": 0.2
             }
            },
            "type": "barpolar"
           }
          ],
          "carpet": [
           {
            "aaxis": {
             "endlinecolor": "#2a3f5f",
             "gridcolor": "white",
             "linecolor": "white",
             "minorgridcolor": "white",
             "startlinecolor": "#2a3f5f"
            },
            "baxis": {
             "endlinecolor": "#2a3f5f",
             "gridcolor": "white",
             "linecolor": "white",
             "minorgridcolor": "white",
             "startlinecolor": "#2a3f5f"
            },
            "type": "carpet"
           }
          ],
          "choropleth": [
           {
            "colorbar": {
             "outlinewidth": 0,
             "ticks": ""
            },
            "type": "choropleth"
           }
          ],
          "contour": [
           {
            "colorbar": {
             "outlinewidth": 0,
             "ticks": ""
            },
            "colorscale": [
             [
              0,
              "#0d0887"
             ],
             [
              0.1111111111111111,
              "#46039f"
             ],
             [
              0.2222222222222222,
              "#7201a8"
             ],
             [
              0.3333333333333333,
              "#9c179e"
             ],
             [
              0.4444444444444444,
              "#bd3786"
             ],
             [
              0.5555555555555556,
              "#d8576b"
             ],
             [
              0.6666666666666666,
              "#ed7953"
             ],
             [
              0.7777777777777778,
              "#fb9f3a"
             ],
             [
              0.8888888888888888,
              "#fdca26"
             ],
             [
              1,
              "#f0f921"
             ]
            ],
            "type": "contour"
           }
          ],
          "contourcarpet": [
           {
            "colorbar": {
             "outlinewidth": 0,
             "ticks": ""
            },
            "type": "contourcarpet"
           }
          ],
          "heatmap": [
           {
            "colorbar": {
             "outlinewidth": 0,
             "ticks": ""
            },
            "colorscale": [
             [
              0,
              "#0d0887"
             ],
             [
              0.1111111111111111,
              "#46039f"
             ],
             [
              0.2222222222222222,
              "#7201a8"
             ],
             [
              0.3333333333333333,
              "#9c179e"
             ],
             [
              0.4444444444444444,
              "#bd3786"
             ],
             [
              0.5555555555555556,
              "#d8576b"
             ],
             [
              0.6666666666666666,
              "#ed7953"
             ],
             [
              0.7777777777777778,
              "#fb9f3a"
             ],
             [
              0.8888888888888888,
              "#fdca26"
             ],
             [
              1,
              "#f0f921"
             ]
            ],
            "type": "heatmap"
           }
          ],
          "histogram": [
           {
            "marker": {
             "pattern": {
              "fillmode": "overlay",
              "size": 10,
              "solidity": 0.2
             }
            },
            "type": "histogram"
           }
          ],
          "histogram2d": [
           {
            "colorbar": {
             "outlinewidth": 0,
             "ticks": ""
            },
            "colorscale": [
             [
              0,
              "#0d0887"
             ],
             [
              0.1111111111111111,
              "#46039f"
             ],
             [
              0.2222222222222222,
              "#7201a8"
             ],
             [
              0.3333333333333333,
              "#9c179e"
             ],
             [
              0.4444444444444444,
              "#bd3786"
             ],
             [
              0.5555555555555556,
              "#d8576b"
             ],
             [
              0.6666666666666666,
              "#ed7953"
             ],
             [
              0.7777777777777778,
              "#fb9f3a"
             ],
             [
              0.8888888888888888,
              "#fdca26"
             ],
             [
              1,
              "#f0f921"
             ]
            ],
            "type": "histogram2d"
           }
          ],
          "histogram2dcontour": [
           {
            "colorbar": {
             "outlinewidth": 0,
             "ticks": ""
            },
            "colorscale": [
             [
              0,
              "#0d0887"
             ],
             [
              0.1111111111111111,
              "#46039f"
             ],
             [
              0.2222222222222222,
              "#7201a8"
             ],
             [
              0.3333333333333333,
              "#9c179e"
             ],
             [
              0.4444444444444444,
              "#bd3786"
             ],
             [
              0.5555555555555556,
              "#d8576b"
             ],
             [
              0.6666666666666666,
              "#ed7953"
             ],
             [
              0.7777777777777778,
              "#fb9f3a"
             ],
             [
              0.8888888888888888,
              "#fdca26"
             ],
             [
              1,
              "#f0f921"
             ]
            ],
            "type": "histogram2dcontour"
           }
          ],
          "mesh3d": [
           {
            "colorbar": {
             "outlinewidth": 0,
             "ticks": ""
            },
            "type": "mesh3d"
           }
          ],
          "parcoords": [
           {
            "line": {
             "colorbar": {
              "outlinewidth": 0,
              "ticks": ""
             }
            },
            "type": "parcoords"
           }
          ],
          "pie": [
           {
            "automargin": true,
            "type": "pie"
           }
          ],
          "scatter": [
           {
            "fillpattern": {
             "fillmode": "overlay",
             "size": 10,
             "solidity": 0.2
            },
            "type": "scatter"
           }
          ],
          "scatter3d": [
           {
            "line": {
             "colorbar": {
              "outlinewidth": 0,
              "ticks": ""
             }
            },
            "marker": {
             "colorbar": {
              "outlinewidth": 0,
              "ticks": ""
             }
            },
            "type": "scatter3d"
           }
          ],
          "scattercarpet": [
           {
            "marker": {
             "colorbar": {
              "outlinewidth": 0,
              "ticks": ""
             }
            },
            "type": "scattercarpet"
           }
          ],
          "scattergeo": [
           {
            "marker": {
             "colorbar": {
              "outlinewidth": 0,
              "ticks": ""
             }
            },
            "type": "scattergeo"
           }
          ],
          "scattergl": [
           {
            "marker": {
             "colorbar": {
              "outlinewidth": 0,
              "ticks": ""
             }
            },
            "type": "scattergl"
           }
          ],
          "scattermap": [
           {
            "marker": {
             "colorbar": {
              "outlinewidth": 0,
              "ticks": ""
             }
            },
            "type": "scattermap"
           }
          ],
          "scattermapbox": [
           {
            "marker": {
             "colorbar": {
              "outlinewidth": 0,
              "ticks": ""
             }
            },
            "type": "scattermapbox"
           }
          ],
          "scatterpolar": [
           {
            "marker": {
             "colorbar": {
              "outlinewidth": 0,
              "ticks": ""
             }
            },
            "type": "scatterpolar"
           }
          ],
          "scatterpolargl": [
           {
            "marker": {
             "colorbar": {
              "outlinewidth": 0,
              "ticks": ""
             }
            },
            "type": "scatterpolargl"
           }
          ],
          "scatterternary": [
           {
            "marker": {
             "colorbar": {
              "outlinewidth": 0,
              "ticks": ""
             }
            },
            "type": "scatterternary"
           }
          ],
          "surface": [
           {
            "colorbar": {
             "outlinewidth": 0,
             "ticks": ""
            },
            "colorscale": [
             [
              0,
              "#0d0887"
             ],
             [
              0.1111111111111111,
              "#46039f"
             ],
             [
              0.2222222222222222,
              "#7201a8"
             ],
             [
              0.3333333333333333,
              "#9c179e"
             ],
             [
              0.4444444444444444,
              "#bd3786"
             ],
             [
              0.5555555555555556,
              "#d8576b"
             ],
             [
              0.6666666666666666,
              "#ed7953"
             ],
             [
              0.7777777777777778,
              "#fb9f3a"
             ],
             [
              0.8888888888888888,
              "#fdca26"
             ],
             [
              1,
              "#f0f921"
             ]
            ],
            "type": "surface"
           }
          ],
          "table": [
           {
            "cells": {
             "fill": {
              "color": "#EBF0F8"
             },
             "line": {
              "color": "white"
             }
            },
            "header": {
             "fill": {
              "color": "#C8D4E3"
             },
             "line": {
              "color": "white"
             }
            },
            "type": "table"
           }
          ]
         },
         "layout": {
          "annotationdefaults": {
           "arrowcolor": "#2a3f5f",
           "arrowhead": 0,
           "arrowwidth": 1
          },
          "autotypenumbers": "strict",
          "coloraxis": {
           "colorbar": {
            "outlinewidth": 0,
            "ticks": ""
           }
          },
          "colorscale": {
           "diverging": [
            [
             0,
             "#8e0152"
            ],
            [
             0.1,
             "#c51b7d"
            ],
            [
             0.2,
             "#de77ae"
            ],
            [
             0.3,
             "#f1b6da"
            ],
            [
             0.4,
             "#fde0ef"
            ],
            [
             0.5,
             "#f7f7f7"
            ],
            [
             0.6,
             "#e6f5d0"
            ],
            [
             0.7,
             "#b8e186"
            ],
            [
             0.8,
             "#7fbc41"
            ],
            [
             0.9,
             "#4d9221"
            ],
            [
             1,
             "#276419"
            ]
           ],
           "sequential": [
            [
             0,
             "#0d0887"
            ],
            [
             0.1111111111111111,
             "#46039f"
            ],
            [
             0.2222222222222222,
             "#7201a8"
            ],
            [
             0.3333333333333333,
             "#9c179e"
            ],
            [
             0.4444444444444444,
             "#bd3786"
            ],
            [
             0.5555555555555556,
             "#d8576b"
            ],
            [
             0.6666666666666666,
             "#ed7953"
            ],
            [
             0.7777777777777778,
             "#fb9f3a"
            ],
            [
             0.8888888888888888,
             "#fdca26"
            ],
            [
             1,
             "#f0f921"
            ]
           ],
           "sequentialminus": [
            [
             0,
             "#0d0887"
            ],
            [
             0.1111111111111111,
             "#46039f"
            ],
            [
             0.2222222222222222,
             "#7201a8"
            ],
            [
             0.3333333333333333,
             "#9c179e"
            ],
            [
             0.4444444444444444,
             "#bd3786"
            ],
            [
             0.5555555555555556,
             "#d8576b"
            ],
            [
             0.6666666666666666,
             "#ed7953"
            ],
            [
             0.7777777777777778,
             "#fb9f3a"
            ],
            [
             0.8888888888888888,
             "#fdca26"
            ],
            [
             1,
             "#f0f921"
            ]
           ]
          },
          "colorway": [
           "#636efa",
           "#EF553B",
           "#00cc96",
           "#ab63fa",
           "#FFA15A",
           "#19d3f3",
           "#FF6692",
           "#B6E880",
           "#FF97FF",
           "#FECB52"
          ],
          "font": {
           "color": "#2a3f5f"
          },
          "geo": {
           "bgcolor": "white",
           "lakecolor": "white",
           "landcolor": "#E5ECF6",
           "showlakes": true,
           "showland": true,
           "subunitcolor": "white"
          },
          "hoverlabel": {
           "align": "left"
          },
          "hovermode": "closest",
          "mapbox": {
           "style": "light"
          },
          "paper_bgcolor": "white",
          "plot_bgcolor": "#E5ECF6",
          "polar": {
           "angularaxis": {
            "gridcolor": "white",
            "linecolor": "white",
            "ticks": ""
           },
           "bgcolor": "#E5ECF6",
           "radialaxis": {
            "gridcolor": "white",
            "linecolor": "white",
            "ticks": ""
           }
          },
          "scene": {
           "xaxis": {
            "backgroundcolor": "#E5ECF6",
            "gridcolor": "white",
            "gridwidth": 2,
            "linecolor": "white",
            "showbackground": true,
            "ticks": "",
            "zerolinecolor": "white"
           },
           "yaxis": {
            "backgroundcolor": "#E5ECF6",
            "gridcolor": "white",
            "gridwidth": 2,
            "linecolor": "white",
            "showbackground": true,
            "ticks": "",
            "zerolinecolor": "white"
           },
           "zaxis": {
            "backgroundcolor": "#E5ECF6",
            "gridcolor": "white",
            "gridwidth": 2,
            "linecolor": "white",
            "showbackground": true,
            "ticks": "",
            "zerolinecolor": "white"
           }
          },
          "shapedefaults": {
           "line": {
            "color": "#2a3f5f"
           }
          },
          "ternary": {
           "aaxis": {
            "gridcolor": "white",
            "linecolor": "white",
            "ticks": ""
           },
           "baxis": {
            "gridcolor": "white",
            "linecolor": "white",
            "ticks": ""
           },
           "bgcolor": "#E5ECF6",
           "caxis": {
            "gridcolor": "white",
            "linecolor": "white",
            "ticks": ""
           }
          },
          "title": {
           "x": 0.05
          },
          "xaxis": {
           "automargin": true,
           "gridcolor": "white",
           "linecolor": "white",
           "ticks": "",
           "title": {
            "standoff": 15
           },
           "zerolinecolor": "white",
           "zerolinewidth": 2
          },
          "yaxis": {
           "automargin": true,
           "gridcolor": "white",
           "linecolor": "white",
           "ticks": "",
           "title": {
            "standoff": 15
           },
           "zerolinecolor": "white",
           "zerolinewidth": 2
          }
         }
        },
        "title": {
         "text": "ECE_1 Distribution by Group (Sorted by Mean)"
        },
        "violinmode": "overlay",
        "xaxis": {
         "anchor": "y",
         "categoryarray": [
          "Indiv Init",
          "Ensemble Anno",
          "Ensemble All"
         ],
         "categoryorder": "array",
         "domain": [
          0,
          1
         ],
         "title": {
          "text": "Group"
         }
        },
        "yaxis": {
         "anchor": "x",
         "domain": [
          0,
          1
         ],
         "title": {
          "text": "ECE_1"
         }
        }
       }
      },
      "image/png": "[encoded data removed]"
     },
     "metadata": {},
     "output_type": "display_data"
    }
   ],
   "source": [
    "\n",
    "\n",
    "# Créer une copie de df\n",
    "df_plot = df.copy()\n",
    "\n",
    "# Attribuer les groupes\n",
    "def assign_group(ct):\n",
    "    if ct == 'ensemble_all':\n",
    "        return 'Ensemble All'\n",
    "    elif ct.startswith('ensemble_anno'):\n",
    "        return 'Ensemble Anno'\n",
    "    else:\n",
    "        return 'Indiv Init'\n",
    "\n",
    "df_plot[\"Group\"] = df_plot[\"CT\"].apply(assign_group)\n",
    "\n",
    "# Calculer la moyenne par groupe et trier\n",
    "ordered_groups = (\n",
    "    df_plot.groupby(\"Group\")[\"ECE_1\"]\n",
    "    .mean()\n",
    "    .sort_values(ascending=False)\n",
    "    .index.tolist()\n",
    ")\n",
    "\n",
    "# Plot avec tri personnalisé\n",
    "fig = px.violin(df_plot, \n",
    "                x=\"Group\", \n",
    "                y=\"ECE_1\", \n",
    "                color=\"Group\", \n",
    "                category_orders={\"Group\": ordered_groups},\n",
    "                box=True, \n",
    "                points=\"all\"\n",
    "               )\n",
    "\n",
    "fig.update_layout(title=\"ECE_1 Distribution by Group (Sorted by Mean)\",\n",
    "                  xaxis_title=\"Group\",\n",
    "                  yaxis_title=\"ECE_1\")\n",
    "fig.show()\n"
   ]
  },
  {
   "cell_type": "code",
   "execution_count": 55,
   "id": "16c7498b-58d7-4107-ae5a-a5644467e131",
   "metadata": {},
   "outputs": [
    {
     "data": {
      "application/vnd.plotly.v1+json": {
       "config": {
        "plotlyServerURL": "https://plot.ly"
       },
       "data": [
        {
         "alignmentgroup": "True",
         "boxpoints": false,
         "hovertemplate": "Group=%{x}<br>DICE_panc=%{y}<extra></extra>",
         "legendgroup": "Ensemble All",
         "marker": {
          "color": "#636efa",
          "size": 3
         },
         "name": "Ensemble All",
         "notched": false,
         "offsetgroup": "Ensemble All",
         "orientation": "v",
         "showlegend": true,
         "type": "box",
         "x": [
          "Ensemble All",
          "Ensemble All",
          "Ensemble All",
          "Ensemble All",
          "Ensemble All",
          "Ensemble All",
          "Ensemble All",
          "Ensemble All",
          "Ensemble All",
          "Ensemble All",
          "Ensemble All",
          "Ensemble All",
          "Ensemble All",
          "Ensemble All",
          "Ensemble All",
          "Ensemble All",
          "Ensemble All",
          "Ensemble All",
          "Ensemble All",
          "Ensemble All",
          "Ensemble All",
          "Ensemble All",
          "Ensemble All",
          "Ensemble All",
          "Ensemble All",
          "Ensemble All",
          "Ensemble All",
          "Ensemble All",
          "Ensemble All",
          "Ensemble All",
          "Ensemble All",
          "Ensemble All",
          "Ensemble All",
          "Ensemble All",
          "Ensemble All",
          "Ensemble All",
          "Ensemble All",
          "Ensemble All",
          "Ensemble All",
          "Ensemble All",
          "Ensemble All",
          "Ensemble All",
          "Ensemble All"
         ],
         "x0": " ",
         "xaxis": "x",
         "y": {
          "bdata": "AAAAYGCv7D8AAAAgLLHkPwAAAIA3wOw/AAAAYCHM5T8AAACAPtzpPwAAAGBpCe0/AAAAAEzl7j////8f9RXtPwAAAEBzsus/AAAAAAf34z8AAABA3b7sP////x8yCO8/AAAA4PxT6T8AAADAkpnoPwAAAIAhs+k/AAAAoOrh6z////+/BwjtPwAAACDK5O0/AAAAoENS5j8AAACgOAPtPwAAAEArIOg/AAAA4Oia7j8AAADg557qPwAAAIBgsO4/AAAAwHQO7z8AAAAA6VriPwAAAIAkWew/AQAAwFfx7D8AAABAA/7iPwAAAAAAAAAAAQAAQPQx7T8AAABg34/uPwAAAMDyuO4/////v8S67T8AAABAj37uPwAAACC+TO4/AAAAQAf35T8AAADAr/ztPwEAAIDNeu0/AAAAwLMe0D8AAAAgR7ruPwAAACD3f+U/AAAAQLWT6z8=",
          "dtype": "f8"
         },
         "y0": " ",
         "yaxis": "y"
        },
        {
         "alignmentgroup": "True",
         "boxpoints": false,
         "hovertemplate": "Group=%{x}<br>DICE_panc=%{y}<extra></extra>",
         "legendgroup": "Ensemble Anno",
         "marker": {
          "color": "#EF553B",
          "size": 3
         },
         "name": "Ensemble Anno",
         "notched": false,
         "offsetgroup": "Ensemble Anno",
         "orientation": "v",
         "showlegend": true,
         "type": "box",
         "x": [
          "Ensemble Anno",
          "Ensemble Anno",
          "Ensemble Anno",
          "Ensemble Anno",
          "Ensemble Anno",
          "Ensemble Anno",
          "Ensemble Anno",
          "Ensemble Anno",
          "Ensemble Anno",
          "Ensemble Anno",
          "Ensemble Anno",
          "Ensemble Anno",
          "Ensemble Anno",
          "Ensemble Anno",
          "Ensemble Anno",
          "Ensemble Anno",
          "Ensemble Anno",
          "Ensemble Anno",
          "Ensemble Anno",
          "Ensemble Anno",
          "Ensemble Anno",
          "Ensemble Anno",
          "Ensemble Anno",
          "Ensemble Anno",
          "Ensemble Anno",
          "Ensemble Anno",
          "Ensemble Anno",
          "Ensemble Anno",
          "Ensemble Anno",
          "Ensemble Anno",
          "Ensemble Anno",
          "Ensemble Anno",
          "Ensemble Anno",
          "Ensemble Anno",
          "Ensemble Anno",
          "Ensemble Anno",
          "Ensemble Anno",
          "Ensemble Anno",
          "Ensemble Anno",
          "Ensemble Anno",
          "Ensemble Anno",
          "Ensemble Anno",
          "Ensemble Anno",
          "Ensemble Anno",
          "Ensemble Anno",
          "Ensemble Anno",
          "Ensemble Anno",
          "Ensemble Anno",
          "Ensemble Anno",
          "Ensemble Anno",
          "Ensemble Anno",
          "Ensemble Anno",
          "Ensemble Anno",
          "Ensemble Anno",
          "Ensemble Anno",
          "Ensemble Anno",
          "Ensemble Anno",
          "Ensemble Anno",
          "Ensemble Anno",
          "Ensemble Anno",
          "Ensemble Anno",
          "Ensemble Anno",
          "Ensemble Anno",
          "Ensemble Anno",
          "Ensemble Anno",
          "Ensemble Anno",
          "Ensemble Anno",
          "Ensemble Anno",
          "Ensemble Anno",
          "Ensemble Anno",
          "Ensemble Anno",
          "Ensemble Anno",
          "Ensemble Anno",
          "Ensemble Anno",
          "Ensemble Anno",
          "Ensemble Anno",
          "Ensemble Anno",
          "Ensemble Anno",
          "Ensemble Anno",
          "Ensemble Anno",
          "Ensemble Anno",
          "Ensemble Anno",
          "Ensemble Anno",
          "Ensemble Anno",
          "Ensemble Anno",
          "Ensemble Anno",
          "Ensemble Anno",
          "Ensemble Anno",
          "Ensemble Anno",
          "Ensemble Anno",
          "Ensemble Anno",
          "Ensemble Anno",
          "Ensemble Anno",
          "Ensemble Anno",
          "Ensemble Anno",
          "Ensemble Anno",
          "Ensemble Anno",
          "Ensemble Anno",
          "Ensemble Anno",
          "Ensemble Anno",
          "Ensemble Anno",
          "Ensemble Anno",
          "Ensemble Anno",
          "Ensemble Anno",
          "Ensemble Anno",
          "Ensemble Anno",
          "Ensemble Anno",
          "Ensemble Anno",
          "Ensemble Anno",
          "Ensemble Anno",
          "Ensemble Anno",
          "Ensemble Anno",
          "Ensemble Anno",
          "Ensemble Anno",
          "Ensemble Anno",
          "Ensemble Anno",
          "Ensemble Anno",
          "Ensemble Anno",
          "Ensemble Anno",
          "Ensemble Anno",
          "Ensemble Anno",
          "Ensemble Anno",
          "Ensemble Anno",
          "Ensemble Anno",
          "Ensemble Anno",
          "Ensemble Anno",
          "Ensemble Anno",
          "Ensemble Anno",
          "Ensemble Anno"
         ],
         "x0": " ",
         "xaxis": "x",
         "y": {
          "bdata": "AAAAIHgk6z8AAAAAuQPsPwAAAEDTNO4/AAAAgFAc5D8AAABAVJ/lPwAAACALu+M/AAAAQHlf6z8AAABAwOXtPwAAAOCgs+w/AAAAINKG5T8AAAAAPJrhPwAAAIBVcug/AAAAAJ0a6j8AAACgvwnpPwAAACAtG+o/AAAAwGvf7D8AAACAVIvsPwAAAOB2V+0/AQAA4KCQ7j8BAAAAraDuPwAAAEBOx+4/AAAAgNlh7D////+fQOLtPwAAAEBhfOw/AAAAABxD6z8AAABAYgHsPwAAAIAVaus/AAAAQDyR4j8AAACAhG/kPwAAAOAfM+M/AAAAgBeE6z8AAACgt6PuPwAAAIAe+es/////v95l7z8BAABAKeruP////78Tzu4/AAAAILo55z8AAABAxVHqPwAAAECYZeo/AAAAoJ566T8AAABA5v7oPwAAAEA8/+c/AAAAIO+l6D8AAADgPZvqPwAAAIDEquk/AAAAwKsI7D8AAACAmaPsPwAAAOBtyeo/AAAAoI+u7D////8fbS7tPwAAAEDOw+w/AAAAoODh7D8AAABAnI3tPwAAAGAf1u0/AAAAAOv15T8AAAAgoTHmPwAAAED8tOY/AAAA4FdS7D////9/hxPtPwAAACBSLe0/AAAAwOU+5z8AAAAArPrnPwAAAGCdmug/AAAAwO1o7j/////fFYzuPwAAAACFbu4/AAAAwMLt6j8AAAAA5uvqPwAAACAUu+k/AAAAIIzR7j8BAACgFFfuPwAAAOD9Xu4//////x3a7j8BAADAQ5nuP////58PF+8/AAAAoNuc4j8AAADAusnjPwAAAMBIm+A/AAAAIFgV7D8AAADgekPrP////19EDO0/AAAAABaM6z8AAABgWHntPwEAAADWTO0/AAAAIL1V4T8AAACgHarkPwAAAGCeBeI/AAAAAAAAAAAAAAAAAAAAAAAAAAAAAAAAAAAAYOTv7D8BAABgLw/uPwAAACAKVuw/////H2ev7j8AAAAgjWPuP////19vTu4/AAAAgGeb7j//////lXPuPwEAAMDNmu4/AQAAgHpj7T8AAABAFq3tP////1+wTu0/////3wka7j8AAADAPZLuPwAAAIDeUu4/AAAA4DQM7j8AAADA6OvtP////58DaO4/AAAAwAw+5T8AAABAqOblPwAAAKAtUuY/AQAAwMfX7T8BAAAgZq7tP////5+Xze0/////f75r7T8BAACAxf/sPwAAAGDd1+0/AAAA4DFm0T////8f2/3NP/7//x//os8/AAAAoOJd7j8BAADAVZnuP////39z8O4/AAAAoOx15T8AAADgZG3mPwAAACDeMeQ/AAAA4Mxw6z8AAABAk9/sPwAAAMDyIuo/",
          "dtype": "f8"
         },
         "y0": " ",
         "yaxis": "y"
        },
        {
         "alignmentgroup": "True",
         "boxpoints": false,
         "hovertemplate": "Group=%{x}<br>DICE_panc=%{y}<extra></extra>",
         "legendgroup": "Indiv Init",
         "marker": {
          "color": "#00cc96",
          "size": 3
         },
         "name": "Indiv Init",
         "notched": false,
         "offsetgroup": "Indiv Init",
         "orientation": "v",
         "showlegend": true,
         "type": "box",
         "x": [
          "Indiv Init",
          "Indiv Init",
          "Indiv Init",
          "Indiv Init",
          "Indiv Init",
          "Indiv Init",
          "Indiv Init",
          "Indiv Init",
          "Indiv Init",
          "Indiv Init",
          "Indiv Init",
          "Indiv Init",
          "Indiv Init",
          "Indiv Init",
          "Indiv Init",
          "Indiv Init",
          "Indiv Init",
          "Indiv Init",
          "Indiv Init",
          "Indiv Init",
          "Indiv Init",
          "Indiv Init",
          "Indiv Init",
          "Indiv Init",
          "Indiv Init",
          "Indiv Init",
          "Indiv Init",
          "Indiv Init",
          "Indiv Init",
          "Indiv Init",
          "Indiv Init",
          "Indiv Init",
          "Indiv Init",
          "Indiv Init",
          "Indiv Init",
          "Indiv Init",
          "Indiv Init",
          "Indiv Init",
          "Indiv Init",
          "Indiv Init",
          "Indiv Init",
          "Indiv Init",
          "Indiv Init",
          "Indiv Init",
          "Indiv Init",
          "Indiv Init",
          "Indiv Init",
          "Indiv Init",
          "Indiv Init",
          "Indiv Init",
          "Indiv Init",
          "Indiv Init",
          "Indiv Init",
          "Indiv Init",
          "Indiv Init",
          "Indiv Init",
          "Indiv Init",
          "Indiv Init",
          "Indiv Init",
          "Indiv Init",
          "Indiv Init",
          "Indiv Init",
          "Indiv Init",
          "Indiv Init",
          "Indiv Init",
          "Indiv Init",
          "Indiv Init",
          "Indiv Init",
          "Indiv Init",
          "Indiv Init",
          "Indiv Init",
          "Indiv Init",
          "Indiv Init",
          "Indiv Init",
          "Indiv Init",
          "Indiv Init",
          "Indiv Init",
          "Indiv Init",
          "Indiv Init",
          "Indiv Init",
          "Indiv Init",
          "Indiv Init",
          "Indiv Init",
          "Indiv Init",
          "Indiv Init",
          "Indiv Init",
          "Indiv Init",
          "Indiv Init",
          "Indiv Init",
          "Indiv Init",
          "Indiv Init",
          "Indiv Init",
          "Indiv Init",
          "Indiv Init",
          "Indiv Init",
          "Indiv Init",
          "Indiv Init",
          "Indiv Init",
          "Indiv Init",
          "Indiv Init",
          "Indiv Init",
          "Indiv Init",
          "Indiv Init",
          "Indiv Init",
          "Indiv Init",
          "Indiv Init",
          "Indiv Init",
          "Indiv Init",
          "Indiv Init",
          "Indiv Init",
          "Indiv Init",
          "Indiv Init",
          "Indiv Init",
          "Indiv Init",
          "Indiv Init",
          "Indiv Init",
          "Indiv Init",
          "Indiv Init",
          "Indiv Init",
          "Indiv Init",
          "Indiv Init",
          "Indiv Init",
          "Indiv Init",
          "Indiv Init",
          "Indiv Init",
          "Indiv Init",
          "Indiv Init",
          "Indiv Init",
          "Indiv Init",
          "Indiv Init",
          "Indiv Init",
          "Indiv Init",
          "Indiv Init",
          "Indiv Init",
          "Indiv Init",
          "Indiv Init",
          "Indiv Init",
          "Indiv Init",
          "Indiv Init",
          "Indiv Init",
          "Indiv Init",
          "Indiv Init",
          "Indiv Init",
          "Indiv Init",
          "Indiv Init",
          "Indiv Init",
          "Indiv Init",
          "Indiv Init",
          "Indiv Init",
          "Indiv Init",
          "Indiv Init",
          "Indiv Init",
          "Indiv Init",
          "Indiv Init",
          "Indiv Init",
          "Indiv Init",
          "Indiv Init",
          "Indiv Init",
          "Indiv Init",
          "Indiv Init",
          "Indiv Init",
          "Indiv Init",
          "Indiv Init",
          "Indiv Init",
          "Indiv Init",
          "Indiv Init",
          "Indiv Init",
          "Indiv Init",
          "Indiv Init",
          "Indiv Init",
          "Indiv Init",
          "Indiv Init",
          "Indiv Init",
          "Indiv Init",
          "Indiv Init",
          "Indiv Init",
          "Indiv Init",
          "Indiv Init",
          "Indiv Init",
          "Indiv Init",
          "Indiv Init",
          "Indiv Init",
          "Indiv Init",
          "Indiv Init",
          "Indiv Init",
          "Indiv Init",
          "Indiv Init",
          "Indiv Init",
          "Indiv Init",
          "Indiv Init",
          "Indiv Init",
          "Indiv Init",
          "Indiv Init",
          "Indiv Init",
          "Indiv Init",
          "Indiv Init",
          "Indiv Init",
          "Indiv Init",
          "Indiv Init",
          "Indiv Init",
          "Indiv Init",
          "Indiv Init",
          "Indiv Init",
          "Indiv Init",
          "Indiv Init",
          "Indiv Init",
          "Indiv Init",
          "Indiv Init",
          "Indiv Init",
          "Indiv Init",
          "Indiv Init",
          "Indiv Init",
          "Indiv Init",
          "Indiv Init",
          "Indiv Init",
          "Indiv Init",
          "Indiv Init",
          "Indiv Init",
          "Indiv Init",
          "Indiv Init",
          "Indiv Init",
          "Indiv Init",
          "Indiv Init",
          "Indiv Init",
          "Indiv Init",
          "Indiv Init",
          "Indiv Init",
          "Indiv Init",
          "Indiv Init",
          "Indiv Init",
          "Indiv Init",
          "Indiv Init",
          "Indiv Init",
          "Indiv Init",
          "Indiv Init",
          "Indiv Init",
          "Indiv Init",
          "Indiv Init",
          "Indiv Init",
          "Indiv Init",
          "Indiv Init",
          "Indiv Init",
          "Indiv Init",
          "Indiv Init",
          "Indiv Init",
          "Indiv Init",
          "Indiv Init",
          "Indiv Init",
          "Indiv Init",
          "Indiv Init",
          "Indiv Init",
          "Indiv Init",
          "Indiv Init",
          "Indiv Init",
          "Indiv Init",
          "Indiv Init",
          "Indiv Init",
          "Indiv Init",
          "Indiv Init",
          "Indiv Init",
          "Indiv Init",
          "Indiv Init",
          "Indiv Init",
          "Indiv Init",
          "Indiv Init",
          "Indiv Init",
          "Indiv Init",
          "Indiv Init",
          "Indiv Init",
          "Indiv Init",
          "Indiv Init",
          "Indiv Init",
          "Indiv Init",
          "Indiv Init",
          "Indiv Init",
          "Indiv Init",
          "Indiv Init",
          "Indiv Init",
          "Indiv Init",
          "Indiv Init",
          "Indiv Init",
          "Indiv Init",
          "Indiv Init",
          "Indiv Init",
          "Indiv Init",
          "Indiv Init",
          "Indiv Init",
          "Indiv Init",
          "Indiv Init",
          "Indiv Init",
          "Indiv Init",
          "Indiv Init",
          "Indiv Init",
          "Indiv Init",
          "Indiv Init",
          "Indiv Init",
          "Indiv Init",
          "Indiv Init",
          "Indiv Init",
          "Indiv Init",
          "Indiv Init",
          "Indiv Init",
          "Indiv Init",
          "Indiv Init",
          "Indiv Init",
          "Indiv Init",
          "Indiv Init",
          "Indiv Init",
          "Indiv Init",
          "Indiv Init",
          "Indiv Init",
          "Indiv Init",
          "Indiv Init",
          "Indiv Init",
          "Indiv Init",
          "Indiv Init",
          "Indiv Init",
          "Indiv Init",
          "Indiv Init",
          "Indiv Init",
          "Indiv Init",
          "Indiv Init",
          "Indiv Init",
          "Indiv Init",
          "Indiv Init",
          "Indiv Init",
          "Indiv Init",
          "Indiv Init",
          "Indiv Init",
          "Indiv Init",
          "Indiv Init",
          "Indiv Init",
          "Indiv Init",
          "Indiv Init",
          "Indiv Init",
          "Indiv Init",
          "Indiv Init",
          "Indiv Init",
          "Indiv Init",
          "Indiv Init",
          "Indiv Init",
          "Indiv Init",
          "Indiv Init",
          "Indiv Init",
          "Indiv Init",
          "Indiv Init",
          "Indiv Init",
          "Indiv Init",
          "Indiv Init",
          "Indiv Init",
          "Indiv Init",
          "Indiv Init",
          "Indiv Init",
          "Indiv Init",
          "Indiv Init",
          "Indiv Init",
          "Indiv Init",
          "Indiv Init",
          "Indiv Init",
          "Indiv Init",
          "Indiv Init",
          "Indiv Init",
          "Indiv Init",
          "Indiv Init",
          "Indiv Init",
          "Indiv Init",
          "Indiv Init",
          "Indiv Init",
          "Indiv Init",
          "Indiv Init",
          "Indiv Init",
          "Indiv Init",
          "Indiv Init",
          "Indiv Init",
          "Indiv Init",
          "Indiv Init",
          "Indiv Init",
          "Indiv Init",
          "Indiv Init",
          "Indiv Init",
          "Indiv Init",
          "Indiv Init",
          "Indiv Init",
          "Indiv Init",
          "Indiv Init",
          "Indiv Init",
          "Indiv Init",
          "Indiv Init",
          "Indiv Init",
          "Indiv Init",
          "Indiv Init",
          "Indiv Init",
          "Indiv Init",
          "Indiv Init",
          "Indiv Init",
          "Indiv Init"
         ],
         "x0": " ",
         "xaxis": "x",
         "y": {
          "bdata": "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",
          "dtype": "f8"
         },
         "y0": " ",
         "yaxis": "y"
        }
       ],
       "layout": {
        "boxmode": "overlay",
        "legend": {
         "title": {
          "text": "Group"
         },
         "tracegroupgap": 0
        },
        "margin": {
         "t": 60
        },
        "showlegend": false,
        "template": {
         "data": {
          "bar": [
           {
            "error_x": {
             "color": "#2a3f5f"
            },
            "error_y": {
             "color": "#2a3f5f"
            },
            "marker": {
             "line": {
              "color": "#E5ECF6",
              "width": 0.5
             },
             "pattern": {
              "fillmode": "overlay",
              "size": 10,
              "solidity": 0.2
             }
            },
            "type": "bar"
           }
          ],
          "barpolar": [
           {
            "marker": {
             "line": {
              "color": "#E5ECF6",
              "width": 0.5
             },
             "pattern": {
              "fillmode": "overlay",
              "size": 10,
              "solidity": 0.2
             }
            },
            "type": "barpolar"
           }
          ],
          "carpet": [
           {
            "aaxis": {
             "endlinecolor": "#2a3f5f",
             "gridcolor": "white",
             "linecolor": "white",
             "minorgridcolor": "white",
             "startlinecolor": "#2a3f5f"
            },
            "baxis": {
             "endlinecolor": "#2a3f5f",
             "gridcolor": "white",
             "linecolor": "white",
             "minorgridcolor": "white",
             "startlinecolor": "#2a3f5f"
            },
            "type": "carpet"
           }
          ],
          "choropleth": [
           {
            "colorbar": {
             "outlinewidth": 0,
             "ticks": ""
            },
            "type": "choropleth"
           }
          ],
          "contour": [
           {
            "colorbar": {
             "outlinewidth": 0,
             "ticks": ""
            },
            "colorscale": [
             [
              0,
              "#0d0887"
             ],
             [
              0.1111111111111111,
              "#46039f"
             ],
             [
              0.2222222222222222,
              "#7201a8"
             ],
             [
              0.3333333333333333,
              "#9c179e"
             ],
             [
              0.4444444444444444,
              "#bd3786"
             ],
             [
              0.5555555555555556,
              "#d8576b"
             ],
             [
              0.6666666666666666,
              "#ed7953"
             ],
             [
              0.7777777777777778,
              "#fb9f3a"
             ],
             [
              0.8888888888888888,
              "#fdca26"
             ],
             [
              1,
              "#f0f921"
             ]
            ],
            "type": "contour"
           }
          ],
          "contourcarpet": [
           {
            "colorbar": {
             "outlinewidth": 0,
             "ticks": ""
            },
            "type": "contourcarpet"
           }
          ],
          "heatmap": [
           {
            "colorbar": {
             "outlinewidth": 0,
             "ticks": ""
            },
            "colorscale": [
             [
              0,
              "#0d0887"
             ],
             [
              0.1111111111111111,
              "#46039f"
             ],
             [
              0.2222222222222222,
              "#7201a8"
             ],
             [
              0.3333333333333333,
              "#9c179e"
             ],
             [
              0.4444444444444444,
              "#bd3786"
             ],
             [
              0.5555555555555556,
              "#d8576b"
             ],
             [
              0.6666666666666666,
              "#ed7953"
             ],
             [
              0.7777777777777778,
              "#fb9f3a"
             ],
             [
              0.8888888888888888,
              "#fdca26"
             ],
             [
              1,
              "#f0f921"
             ]
            ],
            "type": "heatmap"
           }
          ],
          "histogram": [
           {
            "marker": {
             "pattern": {
              "fillmode": "overlay",
              "size": 10,
              "solidity": 0.2
             }
            },
            "type": "histogram"
           }
          ],
          "histogram2d": [
           {
            "colorbar": {
             "outlinewidth": 0,
             "ticks": ""
            },
            "colorscale": [
             [
              0,
              "#0d0887"
             ],
             [
              0.1111111111111111,
              "#46039f"
             ],
             [
              0.2222222222222222,
              "#7201a8"
             ],
             [
              0.3333333333333333,
              "#9c179e"
             ],
             [
              0.4444444444444444,
              "#bd3786"
             ],
             [
              0.5555555555555556,
              "#d8576b"
             ],
             [
              0.6666666666666666,
              "#ed7953"
             ],
             [
              0.7777777777777778,
              "#fb9f3a"
             ],
             [
              0.8888888888888888,
              "#fdca26"
             ],
             [
              1,
              "#f0f921"
             ]
            ],
            "type": "histogram2d"
           }
          ],
          "histogram2dcontour": [
           {
            "colorbar": {
             "outlinewidth": 0,
             "ticks": ""
            },
            "colorscale": [
             [
              0,
              "#0d0887"
             ],
             [
              0.1111111111111111,
              "#46039f"
             ],
             [
              0.2222222222222222,
              "#7201a8"
             ],
             [
              0.3333333333333333,
              "#9c179e"
             ],
             [
              0.4444444444444444,
              "#bd3786"
             ],
             [
              0.5555555555555556,
              "#d8576b"
             ],
             [
              0.6666666666666666,
              "#ed7953"
             ],
             [
              0.7777777777777778,
              "#fb9f3a"
             ],
             [
              0.8888888888888888,
              "#fdca26"
             ],
             [
              1,
              "#f0f921"
             ]
            ],
            "type": "histogram2dcontour"
           }
          ],
          "mesh3d": [
           {
            "colorbar": {
             "outlinewidth": 0,
             "ticks": ""
            },
            "type": "mesh3d"
           }
          ],
          "parcoords": [
           {
            "line": {
             "colorbar": {
              "outlinewidth": 0,
              "ticks": ""
             }
            },
            "type": "parcoords"
           }
          ],
          "pie": [
           {
            "automargin": true,
            "type": "pie"
           }
          ],
          "scatter": [
           {
            "fillpattern": {
             "fillmode": "overlay",
             "size": 10,
             "solidity": 0.2
            },
            "type": "scatter"
           }
          ],
          "scatter3d": [
           {
            "line": {
             "colorbar": {
              "outlinewidth": 0,
              "ticks": ""
             }
            },
            "marker": {
             "colorbar": {
              "outlinewidth": 0,
              "ticks": ""
             }
            },
            "type": "scatter3d"
           }
          ],
          "scattercarpet": [
           {
            "marker": {
             "colorbar": {
              "outlinewidth": 0,
              "ticks": ""
             }
            },
            "type": "scattercarpet"
           }
          ],
          "scattergeo": [
           {
            "marker": {
             "colorbar": {
              "outlinewidth": 0,
              "ticks": ""
             }
            },
            "type": "scattergeo"
           }
          ],
          "scattergl": [
           {
            "marker": {
             "colorbar": {
              "outlinewidth": 0,
              "ticks": ""
             }
            },
            "type": "scattergl"
           }
          ],
          "scattermap": [
           {
            "marker": {
             "colorbar": {
              "outlinewidth": 0,
              "ticks": ""
             }
            },
            "type": "scattermap"
           }
          ],
          "scattermapbox": [
           {
            "marker": {
             "colorbar": {
              "outlinewidth": 0,
              "ticks": ""
             }
            },
            "type": "scattermapbox"
           }
          ],
          "scatterpolar": [
           {
            "marker": {
             "colorbar": {
              "outlinewidth": 0,
              "ticks": ""
             }
            },
            "type": "scatterpolar"
           }
          ],
          "scatterpolargl": [
           {
            "marker": {
             "colorbar": {
              "outlinewidth": 0,
              "ticks": ""
             }
            },
            "type": "scatterpolargl"
           }
          ],
          "scatterternary": [
           {
            "marker": {
             "colorbar": {
              "outlinewidth": 0,
              "ticks": ""
             }
            },
            "type": "scatterternary"
           }
          ],
          "surface": [
           {
            "colorbar": {
             "outlinewidth": 0,
             "ticks": ""
            },
            "colorscale": [
             [
              0,
              "#0d0887"
             ],
             [
              0.1111111111111111,
              "#46039f"
             ],
             [
              0.2222222222222222,
              "#7201a8"
             ],
             [
              0.3333333333333333,
              "#9c179e"
             ],
             [
              0.4444444444444444,
              "#bd3786"
             ],
             [
              0.5555555555555556,
              "#d8576b"
             ],
             [
              0.6666666666666666,
              "#ed7953"
             ],
             [
              0.7777777777777778,
              "#fb9f3a"
             ],
             [
              0.8888888888888888,
              "#fdca26"
             ],
             [
              1,
              "#f0f921"
             ]
            ],
            "type": "surface"
           }
          ],
          "table": [
           {
            "cells": {
             "fill": {
              "color": "#EBF0F8"
             },
             "line": {
              "color": "white"
             }
            },
            "header": {
             "fill": {
              "color": "#C8D4E3"
             },
             "line": {
              "color": "white"
             }
            },
            "type": "table"
           }
          ]
         },
         "layout": {
          "annotationdefaults": {
           "arrowcolor": "#2a3f5f",
           "arrowhead": 0,
           "arrowwidth": 1
          },
          "autotypenumbers": "strict",
          "coloraxis": {
           "colorbar": {
            "outlinewidth": 0,
            "ticks": ""
           }
          },
          "colorscale": {
           "diverging": [
            [
             0,
             "#8e0152"
            ],
            [
             0.1,
             "#c51b7d"
            ],
            [
             0.2,
             "#de77ae"
            ],
            [
             0.3,
             "#f1b6da"
            ],
            [
             0.4,
             "#fde0ef"
            ],
            [
             0.5,
             "#f7f7f7"
            ],
            [
             0.6,
             "#e6f5d0"
            ],
            [
             0.7,
             "#b8e186"
            ],
            [
             0.8,
             "#7fbc41"
            ],
            [
             0.9,
             "#4d9221"
            ],
            [
             1,
             "#276419"
            ]
           ],
           "sequential": [
            [
             0,
             "#0d0887"
            ],
            [
             0.1111111111111111,
             "#46039f"
            ],
            [
             0.2222222222222222,
             "#7201a8"
            ],
            [
             0.3333333333333333,
             "#9c179e"
            ],
            [
             0.4444444444444444,
             "#bd3786"
            ],
            [
             0.5555555555555556,
             "#d8576b"
            ],
            [
             0.6666666666666666,
             "#ed7953"
            ],
            [
             0.7777777777777778,
             "#fb9f3a"
            ],
            [
             0.8888888888888888,
             "#fdca26"
            ],
            [
             1,
             "#f0f921"
            ]
           ],
           "sequentialminus": [
            [
             0,
             "#0d0887"
            ],
            [
             0.1111111111111111,
             "#46039f"
            ],
            [
             0.2222222222222222,
             "#7201a8"
            ],
            [
             0.3333333333333333,
             "#9c179e"
            ],
            [
             0.4444444444444444,
             "#bd3786"
            ],
            [
             0.5555555555555556,
             "#d8576b"
            ],
            [
             0.6666666666666666,
             "#ed7953"
            ],
            [
             0.7777777777777778,
             "#fb9f3a"
            ],
            [
             0.8888888888888888,
             "#fdca26"
            ],
            [
             1,
             "#f0f921"
            ]
           ]
          },
          "colorway": [
           "#636efa",
           "#EF553B",
           "#00cc96",
           "#ab63fa",
           "#FFA15A",
           "#19d3f3",
           "#FF6692",
           "#B6E880",
           "#FF97FF",
           "#FECB52"
          ],
          "font": {
           "color": "#2a3f5f"
          },
          "geo": {
           "bgcolor": "white",
           "lakecolor": "white",
           "landcolor": "#E5ECF6",
           "showlakes": true,
           "showland": true,
           "subunitcolor": "white"
          },
          "hoverlabel": {
           "align": "left"
          },
          "hovermode": "closest",
          "mapbox": {
           "style": "light"
          },
          "paper_bgcolor": "white",
          "plot_bgcolor": "#E5ECF6",
          "polar": {
           "angularaxis": {
            "gridcolor": "white",
            "linecolor": "white",
            "ticks": ""
           },
           "bgcolor": "#E5ECF6",
           "radialaxis": {
            "gridcolor": "white",
            "linecolor": "white",
            "ticks": ""
           }
          },
          "scene": {
           "xaxis": {
            "backgroundcolor": "#E5ECF6",
            "gridcolor": "white",
            "gridwidth": 2,
            "linecolor": "white",
            "showbackground": true,
            "ticks": "",
            "zerolinecolor": "white"
           },
           "yaxis": {
            "backgroundcolor": "#E5ECF6",
            "gridcolor": "white",
            "gridwidth": 2,
            "linecolor": "white",
            "showbackground": true,
            "ticks": "",
            "zerolinecolor": "white"
           },
           "zaxis": {
            "backgroundcolor": "#E5ECF6",
            "gridcolor": "white",
            "gridwidth": 2,
            "linecolor": "white",
            "showbackground": true,
            "ticks": "",
            "zerolinecolor": "white"
           }
          },
          "shapedefaults": {
           "line": {
            "color": "#2a3f5f"
           }
          },
          "ternary": {
           "aaxis": {
            "gridcolor": "white",
            "linecolor": "white",
            "ticks": ""
           },
           "baxis": {
            "gridcolor": "white",
            "linecolor": "white",
            "ticks": ""
           },
           "bgcolor": "#E5ECF6",
           "caxis": {
            "gridcolor": "white",
            "linecolor": "white",
            "ticks": ""
           }
          },
          "title": {
           "x": 0.05
          },
          "xaxis": {
           "automargin": true,
           "gridcolor": "white",
           "linecolor": "white",
           "ticks": "",
           "title": {
            "standoff": 15
           },
           "zerolinecolor": "white",
           "zerolinewidth": 2
          },
          "yaxis": {
           "automargin": true,
           "gridcolor": "white",
           "linecolor": "white",
           "ticks": "",
           "title": {
            "standoff": 15
           },
           "zerolinecolor": "white",
           "zerolinewidth": 2
          }
         }
        },
        "title": {
         "text": "Boxplot of DICE_panc by Group (Focus on Box)"
        },
        "width": 600,
        "xaxis": {
         "anchor": "y",
         "categoryarray": [
          "Ensemble All",
          "Ensemble Anno",
          "Indiv Init"
         ],
         "categoryorder": "array",
         "domain": [
          0,
          1
         ],
         "title": {
          "text": "Group"
         }
        },
        "yaxis": {
         "anchor": "x",
         "domain": [
          0,
          1
         ],
         "title": {
          "text": "DICE_panc"
         }
        }
       }
      },
      "image/png": "[encoded data removed]"
     },
     "metadata": {},
     "output_type": "display_data"
    }
   ],
   "source": [
    "import pandas as pd\n",
    "import plotly.express as px\n",
    "\n",
    "# Création du DataFrame de travail\n",
    "df_plot = df.copy()\n",
    "def assign_group(ct):\n",
    "    if ct == 'ensemble_all':\n",
    "        return 'Ensemble All'\n",
    "    elif ct.startswith('ensemble_anno'):\n",
    "        return 'Ensemble Anno'\n",
    "    else:\n",
    "        return 'Indiv Init'\n",
    "df_plot[\"Group\"] = df_plot[\"CT\"].apply(assign_group)\n",
    "\n",
    "# Tri des groupes par moyenne\n",
    "ordered_groups = (\n",
    "    df_plot.groupby(\"Group\")[\"DICE_panc\"]\n",
    "    .mean()\n",
    "    .sort_values(ascending=False)\n",
    "    .index.tolist()\n",
    ")\n",
    "\n",
    "# Boxplot sans points, trié\n",
    "fig = px.box(df_plot, \n",
    "             x=\"Group\", \n",
    "             y=\"DICE_panc\", \n",
    "             category_orders={\"Group\": ordered_groups},\n",
    "             color=\"Group\", \n",
    "             width=600,\n",
    "             points=False)  # Ne pas afficher les outliers\n",
    "\n",
    "# Affiner le layout pour se concentrer sur les boîtes\n",
    "fig.update_layout(\n",
    "    title=\"Boxplot of DICE_panc by Group (Focus on Box)\",\n",
    "    xaxis_title=\"Group\",\n",
    "    yaxis_title=\"DICE_panc\",\n",
    "    showlegend=False\n",
    ")\n",
    "\n",
    "# Optionnel : réduire les marges verticales\n",
    "fig.update_traces(marker=dict(size=3))\n",
    "\n",
    "fig.show()\n"
   ]
  },
  {
   "cell_type": "code",
   "execution_count": 56,
   "id": "ed720492-5b09-4585-96f7-e2b205b08160",
   "metadata": {},
   "outputs": [
    {
     "data": {
      "text/plain": [
       "Index(['CT', 'DICE_panc', 'DICE_kidn', 'DICE_livr', 'CONF_panc', 'CONF_kidn',\n",
       "       'CONF_livr', 'Entropy_GT', 'Entropy_Pred', 'Hausdorff_1', 'Hausdorff_2',\n",
       "       'Hausdorff_3', 'ECE_1', 'ECE_2', 'ECE_3', 'ACE_1', 'ACE_2', 'ACE_3',\n",
       "       'AUROC_panc', 'AUROC_kidn', 'AUROC_livr', 'AURC_panc', 'AURC_kidn',\n",
       "       'AURC_livr', 'EAURC_panc', 'EAURC_kidn', 'EAURC_livr', 'CRPS_panc',\n",
       "       'CRPS_kidn', 'CRPS_livr', 'NCC_GT1-2', 'NCC_GT1-3', 'NCC_GT2-3',\n",
       "       'NCC_mean', 'Patient_ID'],\n",
       "      dtype='object')"
      ]
     },
     "execution_count": 56,
     "metadata": {},
     "output_type": "execute_result"
    }
   ],
   "source": [
    "df.columns"
   ]
  },
  {
   "cell_type": "code",
   "execution_count": null,
   "id": "07bfa150-33a7-44a3-9698-c5945c0831c2",
   "metadata": {},
   "outputs": [],
   "source": []
  }
 ],
 "metadata": {
  "kernelspec": {
   "display_name": "Python 3 (ipykernel)",
   "language": "python",
   "name": "python3"
  },
  "language_info": {
   "codemirror_mode": {
    "name": "ipython",
    "version": 3
   },
   "file_extension": ".py",
   "mimetype": "text/x-python",
   "name": "python",
   "nbconvert_exporter": "python",
   "pygments_lexer": "ipython3",
   "version": "3.12.9"
  }
 },
 "nbformat": 4,
 "nbformat_minor": 5
}
